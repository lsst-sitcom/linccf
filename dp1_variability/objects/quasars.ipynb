{
 "cells": [
  {
   "cell_type": "code",
   "execution_count": null,
   "id": "a9def868",
   "metadata": {},
   "outputs": [],
   "source": [
    "# from astropy.coordinates import SkyCoord\n",
    "\n",
    "# NAMES = [\"J033227.0-274105\", \"052.696667-27.988028\"]\n",
    "# coords = SkyCoord([SkyCoord.from_name(name) for name in NAMES])\n",
    "# coords\n",
    "# RA, DEC = coords.ra.deg, coords.dec.deg\n",
    "RADEC = [(53.11255, -27.68482), (52.69695, -27.98828)]"
   ]
  },
  {
   "cell_type": "code",
   "execution_count": null,
   "id": "bcb811af",
   "metadata": {},
   "outputs": [],
   "source": [
    "import lsdb\n",
    "\n",
    "rows = []\n",
    "for ra, dec in RADEC:\n",
    "    cat = lsdb.open_catalog(\n",
    "        \"/sdf/data/rubin/user/kostya/hats/dia_object_lc_15k\",\n",
    "        search_filter=lsdb.ConeSearch(ra, dec, radius_arcsec=0.5)\n",
    "    )\n",
    "    df = cat.compute()\n",
    "    assert len(df) == 1, f\"{len(df) = }, {ra = }, {dec = }\"\n",
    "    row = df.iloc[0]\n",
    "    rows.append(row)\n",
    "rows"
   ]
  },
  {
   "cell_type": "code",
   "execution_count": null,
   "id": "ecba4738",
   "metadata": {},
   "outputs": [],
   "source": [
    "lcs = [row[\"diaObjectForcedSource\"].query(\n",
    "    \"~psfFlux_flag\"\n",
    "    \" and ~psfDiffFlux_flag\"\n",
    "    \" and ~pixelFlags_suspect\"\n",
    "    \" and ~pixelFlags_saturated\"\n",
    "    \" and ~pixelFlags_cr\"\n",
    "    \" and ~pixelFlags_bad\"\n",
    ") for row in rows]\n",
    "display(lcs[0])\n",
    "display(lcs[1])"
   ]
  },
  {
   "cell_type": "code",
   "execution_count": null,
   "id": "3922d73e",
   "metadata": {},
   "outputs": [],
   "source": [
    "import matplotlib.pyplot as plt\n",
    "\n",
    "COLORS = {'u': '#0c71ff', 'g': '#49be61', 'r': '#c61c00',\n",
    "          'i': '#ffc200', 'z': '#f341a2', 'y': '#5d0000'}\n",
    "\n",
    "for row, lc in zip(rows, lcs):\n",
    "    plt.figure()\n",
    "    for band in \"ugrizy\":\n",
    "        data = lc.query(\"band == @band and psfMagErr < 0.2\")\n",
    "        plt.errorbar(data[\"midpointMjdTai\"], data[\"psfMag\"], yerr=data[\"psfMagErr\"], label=f\"{band}\", fmt='o', color=COLORS[band])\n",
    "\n",
    "    plt.gca().invert_yaxis()\n",
    "    plt.xlabel(f\"MJD\")\n",
    "    plt.ylabel(\"PSF mag\")\n",
    "    plt.title(f\"diaObjectID {row.diaObjectId}\\nRA=${row.ra:.5f}$, Dec=${row.dec:.5f}$\")\n",
    "    plt.legend(loc='lower right')\n",
    "    plt.savefig(f\"{row.diaObjectId}.pdf\")"
   ]
  },
  {
   "cell_type": "code",
   "execution_count": null,
   "id": "168d697e",
   "metadata": {},
   "outputs": [],
   "source": []
  }
 ],
 "metadata": {
  "kernelspec": {
   "display_name": ".venv",
   "language": "python",
   "name": "python3"
  },
  "language_info": {
   "codemirror_mode": {
    "name": "ipython",
    "version": 3
   },
   "file_extension": ".py",
   "mimetype": "text/x-python",
   "name": "python",
   "nbconvert_exporter": "python",
   "pygments_lexer": "ipython3",
   "version": "3.12.9"
  }
 },
 "nbformat": 4,
 "nbformat_minor": 5
}
