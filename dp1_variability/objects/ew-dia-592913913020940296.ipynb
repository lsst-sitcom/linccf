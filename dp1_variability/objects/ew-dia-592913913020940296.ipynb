{
 "cells": [
  {
   "cell_type": "code",
   "execution_count": null,
   "id": "d93624ab",
   "metadata": {},
   "outputs": [],
   "source": [
    "from pathlib import Path\n",
    "\n",
    "import lsdb\n",
    "import matplotlib.pyplot as plt\n",
    "import numpy as np\n",
    "from gatspy.periodic import LombScargleMultiband"
   ]
  },
  {
   "cell_type": "code",
   "execution_count": null,
   "id": "704b4f75",
   "metadata": {},
   "outputs": [],
   "source": [
    "OID = 592913913020940296"
   ]
  },
  {
   "cell_type": "code",
   "execution_count": null,
   "id": "7b80afca",
   "metadata": {},
   "outputs": [],
   "source": [
    "row = lsdb.open_catalog(\n",
    "    Path(\"../../internal/object_search/periodic_cand\"),\n",
    "    filters=[(\"diaObjectId\", \"==\", OID)],\n",
    ").compute().iloc[0]\n",
    "row"
   ]
  },
  {
   "cell_type": "code",
   "execution_count": null,
   "id": "df0d71dc",
   "metadata": {},
   "outputs": [],
   "source": [
    "lc = row.lc.query(\n",
    "    \"~psfFlux_flag\"\n",
    "    \" and ~pixelFlags_suspect\"\n",
    "    \" and ~pixelFlags_saturated\"\n",
    "    \" and ~pixelFlags_cr\"\n",
    "    \" and ~pixelFlags_bad\"\n",
    ")\n",
    "lc"
   ]
  },
  {
   "cell_type": "code",
   "execution_count": null,
   "id": "2cd7cf5f",
   "metadata": {},
   "outputs": [],
   "source": [
    "COLORS = {'u': '#0c71ff', 'g': '#49be61', 'r': '#c61c00',\n",
    "          'i': '#ffc200', 'z': '#f341a2', 'y': '#5d0000'}\n",
    "\n",
    "period = 2.0 * row.period_0\n",
    "\n",
    "minimum_time = lc[\"helioMjd\"][lc.query(\"band == 'r'\")[\"psfMag\"].idxmax()]\n",
    "phase = (lc.helioMjd - minimum_time) % period / period\n",
    "phase_grid = np.linspace(0, 1, 1000)\n",
    "\n",
    "model = LombScargleMultiband()\n",
    "model.fit(lc.midpointMjdTai, lc.psfMag, lc.psfMagErr, lc.band)\n",
    "\n",
    "mean_model_mag = {\n",
    "    # https://vizier.cds.unistra.fr/viz-bin/VizieR-5?-ref=VIZ68558c46e436&-out.add=.&-source=II/371/des_dr2&-c=059.129953%20-48.785229,eq=ICRS,rs=2&-out.orig=o\n",
    "    \"DECam.Y\": 19.6831,\n",
    "    # https://vizier.cds.unistra.fr/viz-bin/VizieR-5?-ref=VIZ685567dc55ef8&-out.add=.&-source=I/355/gaiadr3&-c=059.12995294496%20-48.78522838562,eq=ICRS,rs=2&-out.orig=o\n",
    "    # Convert to AB mags, table 3 of https://www.aanda.org/articles/aa/pdf/2021/05/aa39587-20.pdf\n",
    "    \"G\": 20.217580 + 25.8010 - 25.6874,\n",
    "    \"BP\": 20.449993 + 25.1040 - 24.7479,\n",
    "    \"RP\": 19.491499 + 25.3540 - 25.3385,\n",
    "}\n",
    "deviations = {\n",
    "    \"DECam.Y\": 0.0186,\n",
    "    \"G\": 0.008947,\n",
    "    \"BP\": 0.131707,\n",
    "    \"RP\": 0.070753,\n",
    "}\n",
    "model_std = {}\n",
    "for band in 'ugrizy':\n",
    "    idx = lc.band == band\n",
    "    if np.sum(idx) == 0:\n",
    "        continue\n",
    "    plt.errorbar(\n",
    "        phase[idx],\n",
    "        lc.psfMag[idx],\n",
    "        yerr=lc.psfMagErr[idx],\n",
    "        fmt='o',\n",
    "        color=COLORS[band],\n",
    "        label=band,\n",
    "    )\n",
    "    mag_model = model.predict(phase_grid * period + minimum_time, band, period=0.5*period)\n",
    "    mean_model_mag[band] = np.mean(mag_model)\n",
    "    deviations[band] = np.std(lc.psfMag[idx] - model.predict(lc.psfMagErr[idx], band, period=period), ddof=1) / np.sqrt(np.sum(idx) - 1)\n",
    "    model_std[band] = np.std(mag_model, ddof=1)\n",
    "    plt.plot(\n",
    "        phase_grid,\n",
    "        mag_model,\n",
    "        color=COLORS[band],\n",
    "        linestyle='--',\n",
    "        # label=f\"{band} RR Lyr model\",\n",
    "    )\n",
    "plt.gca().invert_yaxis()\n",
    "plt.xlabel(\"Phase\")\n",
    "plt.ylabel(\"PSF mag\")\n",
    "plt.xlim([0, 1])\n",
    "plt.title(f\"diaObjectID {OID}\\nRA=${row.ra:.5f}$, Dec=${row.dec:.5f}$, P=${period:.5f}$ d\")\n",
    "plt.legend(loc='lower right')\n",
    "plt.savefig(f\"{OID}.pdf\")"
   ]
  },
  {
   "cell_type": "code",
   "execution_count": null,
   "id": "8710b3be",
   "metadata": {},
   "outputs": [],
   "source": [
    "import numpy as np\n",
    "from astropy import units as u\n",
    "\n",
    "from fit_bb import black_body_magn\n",
    "\n",
    "# Should be -27.05, table 3, https://iopscience.iop.org/article/10.3847/1538-4365/aabfdf/pdf\n",
    "black_body_magn(5778*u.K, \"i\", solid_angle=np.pi*(np.arctan(1.0 * u.Rsun / u.au))**2)"
   ]
  },
  {
   "cell_type": "code",
   "execution_count": null,
   "id": "7e03eedb",
   "metadata": {},
   "outputs": [],
   "source": [
    "from fit_bb import fit_mags\n",
    "\n",
    "BANDS = ['g', 'r', 'i', 'z', 'DECam.Y', 'G', 'BP', 'RP']\n",
    "\n",
    "result = fit_mags(BANDS, [mean_model_mag[b] for b in BANDS], [deviations[b] for b in BANDS])\n",
    "# Print the optimal values with errors, covariance matrix, square root of the sum of sqaured residuals\n",
    "temperature, lg_solid_angle = result.x\n",
    "residual_var = np.sum(result.fun ** 2) / (len(BANDS) - len(result.x))\n",
    "cov = np.linalg.inv(result.jac.T @ result.jac) * residual_var\n",
    "temperature_err, lg_solid_angle_err = np.sqrt(np.diag(cov))\n",
    "print(f\"Optimal temperature: {temperature:.2f} K ± {temperature_err:.2f} K\")\n",
    "print(f\"Optimal log solid angle: {lg_solid_angle:.2f} log(steradian) ± {lg_solid_angle_err:.2f} log(steradian)\")\n",
    "print(f\"Optimal solid angle: {10**lg_solid_angle:.2e} steradian\")\n",
    "print(f\"Square root of the sum of squared residuals: {np.sqrt(result.cost):.2f}\")\n",
    "print(\"Covariance matrix:\")\n",
    "print(cov)"
   ]
  },
  {
   "cell_type": "code",
   "execution_count": null,
   "id": "2cbc3572",
   "metadata": {},
   "outputs": [],
   "source": [
    "# https://en.wikipedia.org/wiki/K-type_main-sequence_star#Spectral_standard_stars\n",
    "r = 0.713 + (0.755 - 0.713) / (4830-4600) * (temperature-4600)\n",
    "d = (r * u.R_sun) / (np.tan(np.sqrt(10**lg_solid_angle * u.steradian / np.pi)))\n",
    "d_pc = d.to(u.pc)\n",
    "d_rel_err = np.hypot(10**lg_solid_angle_err - 1, temperature_err / temperature)\n",
    "print(f\"Distance: {d_pc:.2f} ± {d_pc * d_rel_err:.2f}\")"
   ]
  }
 ],
 "metadata": {
  "kernelspec": {
   "display_name": ".venv",
   "language": "python",
   "name": "python3"
  },
  "language_info": {
   "codemirror_mode": {
    "name": "ipython",
    "version": 3
   },
   "file_extension": ".py",
   "mimetype": "text/x-python",
   "name": "python",
   "nbconvert_exporter": "python",
   "pygments_lexer": "ipython3",
   "version": "3.12.9"
  }
 },
 "nbformat": 4,
 "nbformat_minor": 5
}
