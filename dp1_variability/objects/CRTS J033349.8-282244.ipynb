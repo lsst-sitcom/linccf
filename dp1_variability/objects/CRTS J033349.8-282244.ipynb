{
 "cells": [
  {
   "cell_type": "code",
   "execution_count": null,
   "id": "a9def868",
   "metadata": {},
   "outputs": [],
   "source": [
    "from astropy.coordinates import SkyCoord\n",
    "\n",
    "NAME = \"CRTS J033349.8-282244\"\n",
    "coord = SkyCoord.from_name(NAME)\n",
    "RA, DEC = coord.ra.deg, coord.dec.deg"
   ]
  },
  {
   "cell_type": "code",
   "execution_count": null,
   "id": "bcb811af",
   "metadata": {},
   "outputs": [],
   "source": [
    "import lsdb\n",
    "\n",
    "cat = lsdb.open_catalog(\n",
    "    \"/sdf/data/rubin/user/kostya/hats/dia_object_lc_15k\",\n",
    "    search_filter=lsdb.ConeSearch(RA, DEC, radius_arcsec=0.2)\n",
    ")\n",
    "df = cat.compute()\n",
    "assert len(df) == 1, f\"{len(df) = }\"\n",
    "row = df.iloc[0]\n",
    "row"
   ]
  },
  {
   "cell_type": "code",
   "execution_count": null,
   "id": "ecba4738",
   "metadata": {},
   "outputs": [],
   "source": [
    "lc = row[\"diaObjectForcedSource\"].query(\n",
    "    \"~psfFlux_flag\"\n",
    "    # \" and ~psfDiffFlux_flag\"\n",
    "    \" and ~pixelFlags_suspect\"\n",
    "    \" and ~pixelFlags_saturated\"\n",
    "    \" and ~pixelFlags_cr\"\n",
    "    \" and ~pixelFlags_bad\"\n",
    ")\n",
    "lc"
   ]
  },
  {
   "cell_type": "code",
   "execution_count": null,
   "id": "b7fb41aa",
   "metadata": {},
   "outputs": [],
   "source": [
    "import matplotlib.pyplot as plt\n",
    "\n",
    "COLORS = {'u': '#0c71ff', 'g': '#49be61', 'r': '#c61c00',\n",
    "          'i': '#ffc200', 'z': '#f341a2', 'y': '#5d0000'}\n",
    "\n",
    "for band in \"ugrizy\":\n",
    "    data = lc.query(f\"band == '{band}'\")\n",
    "    plt.errorbar(data[\"midpointMjdTai\"], data[\"psfMag\"], yerr=data[\"psfMagErr\"], label=f\"{band}\", fmt='o', color=COLORS[band])\n",
    "\n",
    "plt.gca().invert_yaxis()\n",
    "plt.xlabel(f\"MJD\")\n",
    "plt.ylabel(\"PSF mag\")\n",
    "plt.title(f\"{NAME}\\ndiaObjectID {row.diaObjectId}\\nRA=${row.ra:.5f}$, Dec=${row.dec:.5f}$\")\n",
    "plt.legend(loc='upper left')\n",
    "plt.savefig(f\"{row.diaObjectId}.pdf\", bbox_inches='tight')"
   ]
  },
  {
   "cell_type": "code",
   "execution_count": null,
   "id": "49d97dac",
   "metadata": {},
   "outputs": [],
   "source": [
    "import numpy as np\n",
    "\n",
    "BEFORE_PEAK_MJD = 60633\n",
    "\n",
    "for band in 'ugrizy':\n",
    "    idx_peak = lc.query(f\"band == '{band}'\")[\"psfMag\"].idxmin()\n",
    "    print(f\"peak {band}-band: MJD = {lc.loc[idx_peak][\"midpointMjdTai\"]:.5f}, mag = {lc.loc[idx_peak][\"psfMag\"]:.3f} ± {lc.loc[idx_peak][\"psfMagErr\"]:.3f}\")\n",
    "\n",
    "    quiescent = lc.query(\"band == @band and midpointMjdTai < @BEFORE_PEAK_MJD\")\n",
    "    quiescent_mag = np.median(quiescent[\"psfMag\"])\n",
    "    print(f\"quiescent {band} mag = {quiescent_mag:.3f}\")"
   ]
  },
  {
   "cell_type": "code",
   "execution_count": null,
   "id": "ee7b3337",
   "metadata": {},
   "outputs": [],
   "source": []
  }
 ],
 "metadata": {
  "kernelspec": {
   "display_name": ".venv",
   "language": "python",
   "name": "python3"
  },
  "language_info": {
   "codemirror_mode": {
    "name": "ipython",
    "version": 3
   },
   "file_extension": ".py",
   "mimetype": "text/x-python",
   "name": "python",
   "nbconvert_exporter": "python",
   "pygments_lexer": "ipython3",
   "version": "3.12.9"
  }
 },
 "nbformat": 4,
 "nbformat_minor": 5
}
