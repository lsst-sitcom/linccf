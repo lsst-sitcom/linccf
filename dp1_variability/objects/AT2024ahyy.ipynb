{
 "cells": [
  {
   "cell_type": "code",
   "execution_count": null,
   "id": "a9def868",
   "metadata": {},
   "outputs": [],
   "source": [
    "import requests\n",
    "\n",
    "NAME = \"AT2024ahyy\"\n",
    "TNS_ID = NAME.removeprefix(\"AT\")\n",
    "tns_data = requests.get(\"https://tns.snad.space/api/v1/object\", params={\"name\": TNS_ID}).json()\n",
    "RA, DEC = tns_data[\"ra\"], tns_data[\"declination\"]"
   ]
  },
  {
   "cell_type": "code",
   "execution_count": null,
   "id": "bcb811af",
   "metadata": {},
   "outputs": [],
   "source": [
    "import lsdb\n",
    "\n",
    "cat = lsdb.open_catalog(\n",
    "    \"/sdf/data/rubin/user/kostya/hats/dia_object_lc_15k\",\n",
    "    search_filter=lsdb.ConeSearch(RA, DEC, radius_arcsec=0.2)\n",
    ")\n",
    "df = cat.compute()\n",
    "assert len(df) == 1, f\"{len(df) = }\"\n",
    "row = df.iloc[0]\n",
    "row"
   ]
  },
  {
   "cell_type": "code",
   "execution_count": null,
   "id": "ecba4738",
   "metadata": {},
   "outputs": [],
   "source": [
    "lc = row[\"diaObjectForcedSource\"].query(\n",
    "    \"~psfFlux_flag\"\n",
    "    \" and ~psfDiffFlux_flag\"\n",
    "    \" and ~pixelFlags_suspect\"\n",
    "    \" and ~pixelFlags_saturated\"\n",
    "    \" and ~pixelFlags_cr\"\n",
    "    \" and ~pixelFlags_bad\"\n",
    ")\n",
    "lc"
   ]
  },
  {
   "cell_type": "code",
   "execution_count": null,
   "id": "b37f68f4",
   "metadata": {},
   "outputs": [],
   "source": [
    "import numpy as np\n",
    "from astropy.time import Time\n",
    "from astropy.units import ABmag, nJy\n",
    "\n",
    "DECAM_BAND = \"i\"\n",
    "DECAM_MAG = 23.171\n",
    "DECAM_MAG_ERR = 0.238\n",
    "DECAM_FLUX = (DECAM_MAG * ABmag).to_value(nJy)\n",
    "DECAM_FLUX_ERR_LOWER = DECAM_FLUX - ((DECAM_MAG + DECAM_MAG_ERR) * ABmag).to_value(nJy)\n",
    "DECAM_FLUX_ERR_UPPER = ((DECAM_MAG - DECAM_MAG_ERR) * ABmag).to_value(nJy) - DECAM_FLUX\n",
    "DECAM_JD = 2460647.3159722\n",
    "DECAM_MJD = Time(DECAM_JD, format=\"jd\").mjd\n",
    "DECAM_NONDET_JD = 2460641.4841435\n",
    "DECAM_NONDET_MJD = Time(DECAM_NONDET_JD, format=\"jd\").mjd\n",
    "\n",
    "NONDET_MJD = np.round(DECAM_NONDET_MJD - 5)\n",
    "NONDET_MJD"
   ]
  },
  {
   "cell_type": "code",
   "execution_count": null,
   "id": "3922d73e",
   "metadata": {},
   "outputs": [],
   "source": [
    "import matplotlib.pyplot as plt\n",
    "\n",
    "COLORS = {'u': '#0c71ff', 'g': '#49be61', 'r': '#c61c00',\n",
    "          'i': '#ffc200', 'z': '#f341a2', 'y': '#5d0000'}\n",
    "\n",
    "for band in \"ugrizy\":\n",
    "    data = lc.query(\"band == @band and psfMagErr < 1\")\n",
    "    plt.errorbar(data[\"midpointMjdTai\"], data[\"psfMag\"], yerr=data[\"psfMagErr\"], label=f\"{band}\", fmt='o', color=COLORS[band])\n",
    "\n",
    "plt.errorbar(\n",
    "    DECAM_MJD, DECAM_MAG, yerr=DECAM_MAG_ERR,\n",
    "    label=f\"DECam {DECAM_BAND}\", fmt=\"s\", color=COLORS[DECAM_BAND], markeredgecolor=\"black\", markersize=8,\n",
    ")\n",
    "\n",
    "plt.gca().invert_yaxis()\n",
    "plt.xlabel(f\"MJD\")\n",
    "plt.ylabel(\"PSF mag\")\n",
    "plt.ylim([None, 19.7,])\n",
    "plt.title(f\"{NAME}\\ndiaObjectID {row.diaObjectId}\\nRA=${row.ra:.5f}$, Dec=${row.dec:.5f}$\")\n",
    "plt.legend(loc='upper left')\n",
    "plt.savefig(f\"{row.diaObjectId}_mag.pdf\", bbox_inches='tight')"
   ]
  },
  {
   "cell_type": "code",
   "execution_count": null,
   "id": "b7fb41aa",
   "metadata": {},
   "outputs": [],
   "source": [
    "import matplotlib.pyplot as plt\n",
    "\n",
    "COLORS = {'u': '#0c71ff', 'g': '#49be61', 'r': '#c61c00',\n",
    "          'i': '#ffc200', 'z': '#f341a2', 'y': '#5d0000'}\n",
    "\n",
    "baseline_flux = {}\n",
    "baseline_fluxerr = {}\n",
    "for band in \"ugrizy\":\n",
    "    data = lc.query(\"band == @band and midpointMjdTai < @NONDET_MJD\")\n",
    "    baseline_flux[band] = np.average(data[\"psfDiffFlux\"], weights=data[\"psfDiffFluxErr\"]**-2)\n",
    "    baseline_fluxerr[band] = np.hypot(\n",
    "        1.0 / np.sqrt(np.mean(data[\"psfDiffFluxErr\"]**-2)),\n",
    "        np.std(data[\"psfDiffFlux\"], ddof=1),\n",
    "    )\n",
    "    print(f\"Baseline {band} flux = {baseline_flux[band]:.0f} ± {baseline_fluxerr[band]:.0f}\")\n",
    "\n",
    "lc[\"adjusted_diaflux\"] = lc[\"psfDiffFlux\"] - np.vectorize(baseline_flux.get)(lc[\"band\"])\n",
    "lc[\"s2n\"] = lc[\"adjusted_diaflux\"] / np.hypot(lc[\"psfDiffFluxErr\"], np.vectorize(baseline_fluxerr.get)(lc[\"band\"]))\n",
    "\n",
    "for band in \"ugrizy\":\n",
    "    data = lc.query(\"band == @band\")\n",
    "    label = f\"{band}${-baseline_flux[band]:+.0f}$ nJy\"\n",
    "    for alpha, d in [(0.1, data.query(\"s2n < 3.0\")), (1.0, data.query(\"s2n >= 3.0\"))]:\n",
    "        plt.errorbar(\n",
    "            d[\"midpointMjdTai\"], d[\"adjusted_diaflux\"], yerr=d[\"psfDiffFluxErr\"],\n",
    "            label=label if alpha == 1.0 else None, fmt='o', color=COLORS[band], alpha=alpha,\n",
    "        )\n",
    "plt.errorbar(\n",
    "    DECAM_MJD, DECAM_FLUX, yerr=[[DECAM_FLUX_ERR_LOWER], [DECAM_FLUX_ERR_UPPER]],\n",
    "    label=f\"DECam {DECAM_BAND}\", fmt=\"s\", color=COLORS[DECAM_BAND], markeredgecolor=\"black\", markersize=8,\n",
    ")\n",
    "\n",
    "plt.xlabel(f\"MJD\")\n",
    "plt.ylabel(\"Adjusted PSF DIA Flux, nJy\")\n",
    "plt.ylim([-2500, 5500])\n",
    "plt.title(f\"{NAME}\\ndiaObjectID {row.diaObjectId}\\nRA=${row.ra:.5f}$, Dec=${row.dec:.5f}$\")\n",
    "plt.legend(loc='upper left')\n",
    "plt.savefig(f\"{row.diaObjectId}_flux.pdf\", bbox_inches='tight')"
   ]
  },
  {
   "cell_type": "code",
   "execution_count": null,
   "id": "2398e73e",
   "metadata": {},
   "outputs": [],
   "source": [
    "lc.query(\"s2n >= 3.0\").shape"
   ]
  },
  {
   "cell_type": "code",
   "execution_count": null,
   "id": "1626b8d1",
   "metadata": {},
   "outputs": [],
   "source": [
    "idx_first_detection = lc.query(\"s2n >= 3.0\")[\"midpointMjdTai\"].idxmin()\n",
    "print(f'First detection: MJD = {lc.loc[idx_first_detection][\"midpointMjdTai\"]:.3f}, band = {lc.loc[idx_first_detection][\"band\"]}, mag = {lc.loc[idx_first_detection][\"psfMag\"]:.2f} ± {lc.loc[idx_first_detection][\"psfMagErr\"]:.2f}')"
   ]
  },
  {
   "cell_type": "code",
   "execution_count": null,
   "id": "b25b744f",
   "metadata": {},
   "outputs": [],
   "source": []
  }
 ],
 "metadata": {
  "kernelspec": {
   "display_name": ".venv",
   "language": "python",
   "name": "python3"
  },
  "language_info": {
   "codemirror_mode": {
    "name": "ipython",
    "version": 3
   },
   "file_extension": ".py",
   "mimetype": "text/x-python",
   "name": "python",
   "nbconvert_exporter": "python",
   "pygments_lexer": "ipython3",
   "version": "3.12.9"
  }
 },
 "nbformat": 4,
 "nbformat_minor": 5
}
