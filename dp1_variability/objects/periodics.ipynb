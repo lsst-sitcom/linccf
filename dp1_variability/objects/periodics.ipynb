{
 "cells": [
  {
   "cell_type": "code",
   "execution_count": null,
   "id": "a9def868",
   "metadata": {},
   "outputs": [],
   "source": [
    "from astropy.coordinates import SkyCoord\n",
    "\n",
    "NAMES = [\n",
    "    \"CRTS J062029.9-250235\",\n",
    "    \"CRTS J035520.3-484728\",\n",
    "    \"Gaia DR3 2912314003686113664\",\n",
    "    \"Gaia DR3 2900262462891972608\",\n",
    "    \"CRTS J061939.7-244148\",\n",
    "]\n",
    "coords = SkyCoord([SkyCoord.from_name(name) for name in NAMES])\n",
    "coords\n",
    "RADEC = list(zip(coords.ra.deg, coords.dec.deg))"
   ]
  },
  {
   "cell_type": "code",
   "execution_count": null,
   "id": "cb2bc3bc",
   "metadata": {},
   "outputs": [],
   "source": [
    "from astropy.coordinates import SkyCoord\n",
    "from astropy.time import Time\n",
    "\n",
    "from approx_light_travel_time import fast_light_travel_time_heliocentric_elliptical\n",
    "\n",
    "def add_helio_mjd(df):\n",
    "    coord = SkyCoord(ra=df[\"diaObjectForcedSource.coord_ra\"], dec=df[\"diaObjectForcedSource.coord_dec\"], unit=\"deg\")\n",
    "    time = Time(df[\"diaObjectForcedSource.midpointMjdTai\"], format=\"mjd\", scale=\"tai\")\n",
    "    helio_time = time + fast_light_travel_time_heliocentric_elliptical(time, coord)\n",
    "    df[\"diaObjectForcedSource.helioMjd\"] = helio_time.mjd\n",
    "    return df"
   ]
  },
  {
   "cell_type": "code",
   "execution_count": null,
   "id": "bcb811af",
   "metadata": {},
   "outputs": [],
   "source": [
    "import lsdb\n",
    "\n",
    "rows = []\n",
    "for ra, dec in RADEC:\n",
    "    cat = lsdb.open_catalog(\n",
    "        \"/sdf/data/rubin/user/kostya/hats/dia_object_lc_15k\",\n",
    "        search_filter=lsdb.ConeSearch(ra, dec, radius_arcsec=0.5),\n",
    "    ).map_partitions(add_helio_mjd)\n",
    "    df = cat.compute()\n",
    "    assert len(df) == 1, f\"{len(df) = }, {ra = }, {dec = }\"\n",
    "    row = df.iloc[0]\n",
    "    rows.append(row)\n",
    "rows"
   ]
  },
  {
   "cell_type": "code",
   "execution_count": null,
   "id": "ecba4738",
   "metadata": {},
   "outputs": [],
   "source": [
    "lcs = [row[\"diaObjectForcedSource\"].query(\n",
    "    \"~psfFlux_flag\"\n",
    "    \" and ~psfDiffFlux_flag\"\n",
    "    \" and ~pixelFlags_suspect\"\n",
    "    \" and ~pixelFlags_saturated\"\n",
    "    \" and ~pixelFlags_cr\"\n",
    "    \" and ~pixelFlags_bad\"\n",
    ") for row in rows]\n",
    "display(lcs[0])\n",
    "display(lcs[1])"
   ]
  },
  {
   "cell_type": "code",
   "execution_count": null,
   "id": "b38efe15",
   "metadata": {},
   "outputs": [],
   "source": [
    "import numpy as np\n",
    "from astropy.timeseries import LombScargleMultiband\n",
    "\n",
    "periods = []\n",
    "\n",
    "for lc in lcs:\n",
    "    model = LombScargleMultiband(bands=lc[\"band\"], t=lc[\"helioMjd\"], y=lc[\"psfMag\"], dy=lc[\"psfMagErr\"])\n",
    "    freq, power = model.autopower(samples_per_peak=1000, nyquist_factor=10, minimum_frequency=1/0.7, maximum_frequency=1/0.1)\n",
    "    periods.append(1.0 / freq[np.argmax(power)])\n",
    "periods"
   ]
  },
  {
   "cell_type": "code",
   "execution_count": null,
   "id": "3922d73e",
   "metadata": {},
   "outputs": [],
   "source": [
    "import matplotlib.pyplot as plt\n",
    "\n",
    "COLORS = {'u': '#0c71ff', 'g': '#49be61', 'r': '#c61c00',\n",
    "          'i': '#ffc200', 'z': '#f341a2', 'y': '#5d0000'}\n",
    "\n",
    "for name, row, lc, period in zip(NAMES, rows, lcs, periods):\n",
    "    minimum_time = lc[\"helioMjd\"][lc.query(\"band == 'r'\")[\"psfMag\"].idxmax()]\n",
    "    lc[\"phase\"] = (lc[\"helioMjd\"] - minimum_time) % period / period\n",
    "\n",
    "    plt.figure()\n",
    "    for band in \"ugrizy\":\n",
    "        data = lc.query(\"band == @band\")\n",
    "        label = band\n",
    "        offset = 0.0\n",
    "        if band == 'u':\n",
    "            offset = -1.0\n",
    "            label = f\"{label}${offset:+.0f}$\"\n",
    "        plt.errorbar(data[\"phase\"], data[\"psfMag\"] + offset, yerr=data[\"psfMagErr\"], label=label, fmt='o', color=COLORS[band])\n",
    "\n",
    "    plt.gca().invert_yaxis()\n",
    "    plt.xlabel(\"phase\")\n",
    "    plt.ylabel(\"PSF mag\")\n",
    "    plt.title(f\"{name}\\ndiaObjectID {row.diaObjectId}\\nRA=${row.ra:.5f}$, Dec=${row.dec:.5f}$, P={period:.5f} d\")\n",
    "    plt.legend(loc='upper right')\n",
    "    plt.savefig(f\"{row.diaObjectId}.pdf\", bbox_inches='tight')"
   ]
  },
  {
   "cell_type": "code",
   "execution_count": null,
   "id": "168d697e",
   "metadata": {},
   "outputs": [],
   "source": []
  }
 ],
 "metadata": {
  "kernelspec": {
   "display_name": ".venv",
   "language": "python",
   "name": "python3"
  },
  "language_info": {
   "codemirror_mode": {
    "name": "ipython",
    "version": 3
   },
   "file_extension": ".py",
   "mimetype": "text/x-python",
   "name": "python",
   "nbconvert_exporter": "python",
   "pygments_lexer": "ipython3",
   "version": "3.12.9"
  }
 },
 "nbformat": 4,
 "nbformat_minor": 5
}
