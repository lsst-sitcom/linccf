{
 "cells": [
  {
   "cell_type": "markdown",
   "metadata": {},
   "source": [
    "# Find outbursts in Rubin DP1\n",
    "\n",
    "This notebook uses [LSDB](https://lsdb.io) to detect transients by fitting single-passband light curves with the Bazin function.\n",
    "It also detects objects which have near-exponential or near-linear light curves."
   ]
  },
  {
   "cell_type": "code",
   "execution_count": null,
   "metadata": {
    "execution": {
     "iopub.execute_input": "2025-01-15T17:14:59.095389Z",
     "iopub.status.busy": "2025-01-15T17:14:59.095060Z",
     "iopub.status.idle": "2025-01-15T17:15:02.733016Z",
     "shell.execute_reply": "2025-01-15T17:15:02.732400Z",
     "shell.execute_reply.started": "2025-01-15T17:14:59.095361Z"
    }
   },
   "outputs": [],
   "source": [
    "# %pip install -U lsdb astropy light-curve"
   ]
  },
  {
   "cell_type": "code",
   "execution_count": null,
   "metadata": {},
   "outputs": [],
   "source": [
    "from pathlib import Path\n",
    "\n",
    "from lsdb import read_hats\n",
    "from nested_pandas import NestedDtype"
   ]
  },
  {
   "cell_type": "code",
   "execution_count": null,
   "metadata": {},
   "outputs": [],
   "source": [
    "BAND = \"g\""
   ]
  },
  {
   "cell_type": "code",
   "execution_count": null,
   "metadata": {},
   "outputs": [],
   "source": [
    "release = 'v29_0_0'\n",
    "hats_path = Path(\"/sdf/data/rubin/shared/lsdb_commissioning/hats\") / release\n",
    "# list dir\n",
    "print(list(map(str, hats_path.iterdir())))\n",
    "\n",
    "dia_object_lc_path = hats_path / \"dia_object_collection\"\n",
    "object_lc_path = hats_path / \"object_collection\"\n",
    "\n",
    "BRIGHTEST_BAND_MAG = 19.5\n",
    "\n",
    "obj = read_hats(\n",
    "    object_lc_path,\n",
    "    columns=[\"objectId\", \"coord_ra\", \"coord_dec\", f\"{BAND}_psfMag\"],\n",
    "    filters=[(f\"{BAND}_psfMag\", \">\", BRIGHTEST_BAND_MAG)],\n",
    ")\n",
    "\n",
    "id_column = \"diaObjectId\"\n",
    "lc_column = \"diaObjectForcedSource\"\n",
    "coord_columns = [\"ra\", \"dec\"]\n",
    "\n",
    "obj_lc = read_hats(\n",
    "    dia_object_lc_path,\n",
    "    columns=[id_column, lc_column] + coord_columns,\n",
    ").map_partitions(\n",
    "    lambda df: df.assign(\n",
    "        lc=df[lc_column].astype(\n",
    "                NestedDtype.from_pandas_arrow_dtype(df.dtypes[lc_column])\n",
    "        ),\n",
    "    ).drop(\n",
    "        columns=[lc_column],\n",
    "    ).rename(columns={id_column: \"id\"}),\n",
    ").crossmatch(  # Select faint objects only\n",
    "    obj,\n",
    "    radius_arcsec=3.0,\n",
    "    n_neighbors=1,\n",
    "    suffixes=(\"\", \"_obj\"),\n",
    ")\n",
    "obj_lc"
   ]
  },
  {
   "cell_type": "markdown",
   "metadata": {},
   "source": [
    "## Start Dask client"
   ]
  },
  {
   "cell_type": "code",
   "execution_count": null,
   "metadata": {
    "execution": {
     "iopub.execute_input": "2025-01-15T22:35:23.102645Z",
     "iopub.status.busy": "2025-01-15T22:35:23.102365Z",
     "iopub.status.idle": "2025-01-15T22:35:28.680608Z",
     "shell.execute_reply": "2025-01-15T22:35:28.679818Z",
     "shell.execute_reply.started": "2025-01-15T22:35:23.102627Z"
    }
   },
   "outputs": [],
   "source": [
    "from dask.distributed import Client\n",
    "\n",
    "# Start with a small client\n",
    "client = Client(n_workers=24, memory_limit=\"16GB\", threads_per_worker=1)\n",
    "client"
   ]
  },
  {
   "cell_type": "markdown",
   "metadata": {},
   "source": [
    "## Filter out \"bad\" detections and select light curves with enough observations"
   ]
  },
  {
   "cell_type": "code",
   "execution_count": null,
   "metadata": {
    "execution": {
     "iopub.execute_input": "2025-01-15T22:37:11.891500Z",
     "iopub.status.busy": "2025-01-15T22:37:11.890552Z",
     "iopub.status.idle": "2025-01-15T22:37:11.929228Z",
     "shell.execute_reply": "2025-01-15T22:37:11.928566Z",
     "shell.execute_reply.started": "2025-01-15T22:37:11.891473Z"
    }
   },
   "outputs": [],
   "source": [
    "import numpy as np\n",
    "import light_curve as licu\n",
    "\n",
    "\n",
    "obj_lc_filtered = obj_lc.dropna(subset=\"lc.psfFlux\").query(\n",
    "    \"~lc.psfDiffFlux_flag\"\n",
    "    \" and ~lc.pixelFlags_suspect\"\n",
    "    \" and ~lc.pixelFlags_saturated\"\n",
    "    \" and ~lc.pixelFlags_cr\"\n",
    "    \" and ~lc.pixelFlags_bad\"\n",
    ").dropna(\n",
    "    subset=\"lc\"\n",
    ")\n",
    "# Additional filtering to keep long events only\n",
    "# obj_lc_filtered = obj_lc_filtered.reduce(\n",
    "#     lambda t, flux, sigma: {\"nights_s2n_le_5\": len(np.unique(np.floor(t[np.abs(flux) >= 5.0 * sigma])))},\n",
    "#     \"lc.midpointMjdTai\",\n",
    "#     \"lc.psfDiffFlux\",\n",
    "#     \"lc.psfDiffFluxErr\",\n",
    "#     meta={\"nights_s2n_le_5\": int},\n",
    "#     append_columns=True,\n",
    "# ).query(\n",
    "#     \"nights_s2n_le_5 >= 10\"\n",
    "# )\n",
    "\n",
    "bazin_fit = licu.BazinFit(algorithm=\"ceres\", ceres_niter=20, ceres_loss_reg=3)\n",
    "bins = licu.Bins(\n",
    "    [\n",
    "        bazin_fit,\n",
    "        licu.ReducedChi2(),\n",
    "        licu.ObservationCount(),\n",
    "    ],\n",
    "    window=1.0,\n",
    "    offset=0.0,\n",
    ")\n",
    "feature_extractor = licu.Extractor(\n",
    "    bins,\n",
    ")\n",
    "feature_names = [n.removeprefix('bins_window1.0_offset0.0_') for n in feature_extractor.names]\n",
    "\n",
    "def extract_features(band, t, y, yerr):\n",
    "    band_idx = band == BAND\n",
    "    del band\n",
    "    t, y, yerr = t, y, yerr = t[band_idx], y[band_idx], yerr[band_idx]\n",
    "\n",
    "    # At least five points with S/N > 3\n",
    "    if np.count_nonzero(np.abs(y / yerr) > 3.0) < 5:\n",
    "        return dict.fromkeys(feature_names, np.nan)\n",
    "\n",
    "    _, sort_index = np.unique(t, return_index=True)\n",
    "    t, y, yerr = t[sort_index], y[sort_index], yerr[sort_index]\n",
    "    \n",
    "    features = feature_extractor(t, y, yerr, fill_value=np.nan)\n",
    "\n",
    "    return dict(zip(feature_names, features))\n",
    "\n",
    "\n",
    "def add_mjd_60000(df):\n",
    "    df[\"lc.mjd_60000\"] = np.asarray(df[\"lc.midpointMjdTai\"] - 60_000.0, dtype=np.float32)\n",
    "    return df\n",
    "\n",
    "\n",
    "candidates = obj_lc_filtered.map_partitions(\n",
    "    add_mjd_60000\n",
    ").reduce(\n",
    "    extract_features,\n",
    "    \"lc.band\",\n",
    "    \"lc.mjd_60000\",\n",
    "    \"lc.psfDiffFlux\",\n",
    "    \"lc.psfDiffFluxErr\",\n",
    "    meta=dict.fromkeys(feature_names, float),\n",
    "    append_columns=True,\n",
    ").query(\n",
    "    \"observation_count >= 8\"\n",
    "    \" and chi2 > 1.0\"\n",
    "    # \" and bazin_fit_reduced_chi2 > 0.8 and bazin_fit_reduced_chi2 < 5.0\"\n",
    "    \" and chi2 / bazin_fit_reduced_chi2 > 3.0\"\n",
    "    \" and bazin_fit_reduced_chi2 < 10.0\"\n",
    "    # \" and bazin_fit_rise_time > 3 and bazin_fit_rise_time < 10\"\n",
    "    # \" and bazin_fit_fall_time < 50 and bazin_fit_fall_time > 1 and bazin_fit_fall_time / bazin_fit_fall_time < 10\"\n",
    ")\n",
    "candidates"
   ]
  },
  {
   "cell_type": "markdown",
   "metadata": {},
   "source": [
    "## Plotting a few Candidates"
   ]
  },
  {
   "cell_type": "code",
   "execution_count": null,
   "metadata": {
    "execution": {
     "iopub.execute_input": "2025-01-15T22:37:43.851006Z",
     "iopub.status.busy": "2025-01-15T22:37:43.850746Z",
     "iopub.status.idle": "2025-01-15T22:39:16.475719Z",
     "shell.execute_reply": "2025-01-15T22:39:16.474929Z",
     "shell.execute_reply.started": "2025-01-15T22:37:43.850984Z"
    }
   },
   "outputs": [],
   "source": [
    "cand_subset = candidates.compute()\n",
    "cand_subset.to_parquet(f\"transient-candidates-{release}.parquet\")\n",
    "cand_subset"
   ]
  },
  {
   "cell_type": "code",
   "execution_count": null,
   "metadata": {
    "execution": {
     "iopub.execute_input": "2025-01-15T22:44:17.331076Z",
     "iopub.status.busy": "2025-01-15T22:44:17.330178Z",
     "iopub.status.idle": "2025-01-15T22:44:17.499441Z",
     "shell.execute_reply": "2025-01-15T22:44:17.498875Z",
     "shell.execute_reply.started": "2025-01-15T22:44:17.331050Z"
    }
   },
   "outputs": [],
   "source": [
    "import matplotlib.pyplot as plt\n",
    "\n",
    "COLORS = {'u': '#0c71ff', 'g': '#49be61', 'r': '#c61c00',\n",
    "          'i': '#ffc200', 'z': '#f341a2', 'y': '#5d0000'}\n",
    "BANDS = list(COLORS)\n",
    "\n",
    "FOLDED = True\n",
    "\n",
    "cand_path = Path(\"transient-candidates\")\n",
    "cand_path.mkdir(exist_ok=True, parents=True)\n",
    "\n",
    "for healpix29, cand in cand_subset.iloc[:20].iterrows():\n",
    "    fig, ax_mjd = plt.subplots(1, 1, figsize=(7, 5), sharey=True)\n",
    "    for b in 'grizy':\n",
    "        idx = (cand.lc[\"band\"] == b) & (np.abs(cand.lc[\"psfDiffFlux\"] / cand.lc[\"psfDiffFluxErr\"]) > 3.0)\n",
    "        ax_mjd.errorbar(\n",
    "            cand.lc[\"mjd_60000\"][idx],\n",
    "            y=cand.lc[\"psfDiffFlux\"][idx],\n",
    "            yerr=cand.lc[\"psfDiffFluxErr\"][idx],\n",
    "            fmt=\"o\",\n",
    "            color=COLORS[b],\n",
    "            label=b,\n",
    "            alpha=0.3,\n",
    "        )\n",
    "    t_ = np.linspace(cand.lc[\"mjd_60000\"].min(), cand.lc[\"mjd_60000\"].max(), 1000)\n",
    "    bazin_params = np.asarray(cand[bazin_fit.names], dtype=t_.dtype)\n",
    "    # print(dict(zip(bazin_fit.names, bazin_params)))\n",
    "    plt.plot(t_, bazin_fit.model(t_, bazin_params), ls='-', color=COLORS[BAND], \n",
    "             label=f'{BAND}-band Bazin fit Χ²/ddof={cand[\"bazin_fit_reduced_chi2\"]:.2f}')\n",
    "    ax_mjd.plot()\n",
    "    \n",
    "    fig.suptitle(\n",
    "        f\"OID: {cand.id}, RA: {cand[coord_columns[0]]:.5f}, Dec: {cand[coord_columns[1]]:.5f}\"\n",
    "    )\n",
    "    ax_mjd.set_ylabel(\"diff Flux, nJy\")\n",
    "\n",
    "    ax_mjd.set_xlabel(\"MJD - 60000\")\n",
    "    ax_mjd.set_xlim(np.min(cand.lc[\"mjd_60000\"])-1, np.max(cand.lc[\"mjd_60000\"])+1)\n",
    "    \n",
    "    ax_mjd.plot(ax_mjd.get_xlim(), [0, 0], color='k', linestyle='--', alpha=0.5)\n",
    "    ax_mjd.legend()#loc='upper left')\n",
    "    ax_mjd.grid()\n",
    "    \n",
    "    plt.savefig(cand_path / f\"{release}-{cand.id}.pdf\")\n",
    "\n",
    "    print(cand.id)"
   ]
  }
 ],
 "metadata": {
  "kernelspec": {
   "display_name": ".venv",
   "language": "python",
   "name": "python3"
  },
  "language_info": {
   "codemirror_mode": {
    "name": "ipython",
    "version": 3
   },
   "file_extension": ".py",
   "mimetype": "text/x-python",
   "name": "python",
   "nbconvert_exporter": "python",
   "pygments_lexer": "ipython3",
   "version": "3.12.9"
  }
 },
 "nbformat": 4,
 "nbformat_minor": 4
}
