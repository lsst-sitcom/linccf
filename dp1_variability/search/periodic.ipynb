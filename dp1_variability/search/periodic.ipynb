{
 "cells": [
  {
   "cell_type": "markdown",
   "metadata": {},
   "source": [
    "# Find periodic variables in ComCam data"
   ]
  },
  {
   "cell_type": "code",
   "execution_count": null,
   "metadata": {
    "execution": {
     "iopub.execute_input": "2025-01-15T17:14:59.095389Z",
     "iopub.status.busy": "2025-01-15T17:14:59.095060Z",
     "iopub.status.idle": "2025-01-15T17:15:02.733016Z",
     "shell.execute_reply": "2025-01-15T17:15:02.732400Z",
     "shell.execute_reply.started": "2025-01-15T17:14:59.095361Z"
    }
   },
   "outputs": [],
   "source": [
    "    # %pip install lsdb dask nested-dask astropy light-curve gatspy astroml"
   ]
  },
  {
   "cell_type": "code",
   "execution_count": null,
   "metadata": {
    "execution": {
     "iopub.execute_input": "2025-01-15T18:29:24.147190Z",
     "iopub.status.busy": "2025-01-15T18:29:24.146873Z",
     "iopub.status.idle": "2025-01-15T18:29:28.905226Z",
     "shell.execute_reply": "2025-01-15T18:29:28.904715Z",
     "shell.execute_reply.started": "2025-01-15T18:29:24.147170Z"
    }
   },
   "outputs": [],
   "source": [
    "import lsdb\n",
    "lsdb.__version__"
   ]
  },
  {
   "cell_type": "markdown",
   "metadata": {},
   "source": [
    "## Start Dask client"
   ]
  },
  {
   "cell_type": "code",
   "execution_count": null,
   "metadata": {
    "execution": {
     "iopub.execute_input": "2025-01-15T22:35:23.102645Z",
     "iopub.status.busy": "2025-01-15T22:35:23.102365Z",
     "iopub.status.idle": "2025-01-15T22:35:28.680608Z",
     "shell.execute_reply": "2025-01-15T22:35:28.679818Z",
     "shell.execute_reply.started": "2025-01-15T22:35:23.102627Z"
    }
   },
   "outputs": [],
   "source": [
    "import dask_jobqueue\n",
    "from dask.distributed import Client"
   ]
  },
  {
   "cell_type": "markdown",
   "metadata": {},
   "source": [
    "## Loading the catalog"
   ]
  },
  {
   "cell_type": "code",
   "execution_count": null,
   "metadata": {},
   "outputs": [],
   "source": [
    "CATALOG_TYPE = \"dia_object\" # object or diaObject\n"
   ]
  },
  {
   "cell_type": "code",
   "execution_count": null,
   "metadata": {},
   "outputs": [],
   "source": [
    "from pathlib import Path\n",
    "\n",
    "release = 'v29_0_0'\n",
    "catalog_path = Path(f\"/sdf/data/rubin/user/kostya/hats/{CATALOG_TYPE}_lc\")\n",
    "catalog_path"
   ]
  },
  {
   "cell_type": "code",
   "execution_count": null,
   "metadata": {},
   "outputs": [],
   "source": [
    "# Load the Forced Source + MJD Table\n",
    "from lsdb import read_hats\n",
    "from nested_pandas import NestedDtype\n",
    "\n",
    "\n",
    "BRIGHTEST_R_MAG = 21.5\n",
    "\n",
    "if CATALOG_TYPE == \"object\":\n",
    "    # Load the object table\n",
    "    kwargs = dict(filters = [(\"r_psfMag\", \">\", BRIGHTEST_R_MAG)])\n",
    "    lc_column = \"objectForcedSource\"\n",
    "    coord_columns = [\"coord_ra\", \"coord_dec\"]\n",
    "    id_column = \"objectId\"\n",
    "    phot_column = \"psfMag\"\n",
    "    err_column = \"psfMagErr\"\n",
    "    flux_column = \"psfFlux\"\n",
    "    fluxerr_column = \"psfFluxErr\"\n",
    "elif CATALOG_TYPE == \"dia_object\":\n",
    "    # Cannot pass empty filters because of \n",
    "    # https://github.com/astronomy-commons/lsdb/issues/739\n",
    "    kwargs = dict()\n",
    "    lc_column = \"diaObjectForcedSource\"\n",
    "    coord_columns = [\"ra\", \"dec\"]\n",
    "    id_column = \"diaObjectId\"\n",
    "    flux_column = phot_column = \"psfDiffFlux\"\n",
    "    fluxerr_column = err_column = \"psfDiffFluxErr\"\n",
    "else:\n",
    "    raise ValueError(f\"Unknown catalog type: {CATALOG_TYPE}\")\n",
    "\n",
    "obj_lc = read_hats(\n",
    "    catalog_path,\n",
    "    # columns=[id_column, lc_column] + coord_columns,\n",
    "    columns=\"all\",\n",
    "    **kwargs,\n",
    ").map_partitions(\n",
    "    lambda df: df.rename(columns={lc_column: \"lc\"}),\n",
    ")\n",
    "obj_lc"
   ]
  },
  {
   "cell_type": "code",
   "execution_count": null,
   "metadata": {},
   "outputs": [],
   "source": [
    "obj_lc.dtypes[\"lc\"].__str__()"
   ]
  },
  {
   "cell_type": "markdown",
   "metadata": {},
   "source": [
    "## Filter out \"bad\" detections and select light curves with enough observations"
   ]
  },
  {
   "cell_type": "code",
   "execution_count": null,
   "metadata": {
    "execution": {
     "iopub.execute_input": "2025-01-15T22:37:11.891500Z",
     "iopub.status.busy": "2025-01-15T22:37:11.890552Z",
     "iopub.status.idle": "2025-01-15T22:37:11.929228Z",
     "shell.execute_reply": "2025-01-15T22:37:11.928566Z",
     "shell.execute_reply.started": "2025-01-15T22:37:11.891473Z"
    }
   },
   "outputs": [],
   "source": [
    "import numpy as np\n",
    "import light_curve as licu\n",
    "\n",
    "if CATALOG_TYPE == \"object\":\n",
    "    query = (\n",
    "        \"lc.psfMagErr < 0.3\"\n",
    "        \" and ~lc.psfFlux_flag\"\n",
    "    )\n",
    "elif CATALOG_TYPE == \"dia_object\":\n",
    "    query = (\n",
    "        \"abs(lc.psfDiffFlux) > 3.0 * lc.psfDiffFluxErr\"\n",
    "        \" and ~lc.psfDiffFlux_flag\"\n",
    "    )\n",
    "else:\n",
    "    raise ValueError(f\"Unknown catalog type: {CATALOG_TYPE}\")\n",
    "query += (\n",
    "    \" and ~lc.pixelFlags_suspect\"\n",
    "    \" and ~lc.pixelFlags_saturated\"\n",
    "    \" and ~lc.pixelFlags_cr\"\n",
    "    \" and ~lc.pixelFlags_bad\"\n",
    ")\n",
    "\n",
    "filtered_lc = obj_lc.dropna(subset=\"lc.psfFlux\").query(query).dropna(subset=\"lc\")\n",
    "\n",
    "MIN_NOBS = 50\n",
    "MIN_NOBS_BAND = 30\n",
    "MIN_RCHI2 = 2\n",
    "\n",
    "if CATALOG_TYPE == \"object\":\n",
    "    MIN_AMPLITUDE = 0.05\n",
    "else:\n",
    "    MIN_AMPLITUDE = 10.0\n",
    "\n",
    "BANDS = 'ugrizy'\n",
    "SCAN_BANDS = \"griz\"\n",
    "\n",
    "feature_extractor = licu.Extractor(\n",
    "    licu.ObservationCount(),\n",
    "    licu.InterPercentileRange(0.05),\n",
    "    licu.ReducedChi2(),\n",
    ")\n",
    "\n",
    "def extract_features(band, t, y, yerr):\n",
    "    y, yerr = np.asarray(y, dtype=float), np.asarray(yerr, dtype=float)\n",
    "\n",
    "    nobs = len(band)\n",
    "\n",
    "    band_idx = band == 'r'\n",
    "    del band\n",
    "    t, y, yerr = t, y, yerr = t[band_idx], y[band_idx], yerr[band_idx]\n",
    "\n",
    "    _, sort_index = np.unique(t, return_index=True)\n",
    "    t, y, yerr = t[sort_index], y[sort_index], yerr[sort_index]\n",
    "    \n",
    "    nobs_r, amplitude_r, rchi2_r = feature_extractor(t, y, yerr, fill_value=np.nan)\n",
    "\n",
    "    return {'nobs': nobs, 'nobs_r': nobs_r, 'amplitude_r': amplitude_r, 'rchi2_r': rchi2_r}\n",
    "\n",
    "\n",
    "lc_w_features = filtered_lc.reduce(\n",
    "    extract_features,\n",
    "    \"lc.band\",\n",
    "    \"lc.midpointMjdTai\",\n",
    "    f\"lc.{phot_column}\",\n",
    "    f\"lc.{err_column}\",\n",
    "    meta=dict.fromkeys(['nobs', 'nobs_r', 'amplitude_r', 'rchi2_r'], float),\n",
    "    append_columns=True,\n",
    ").query(f\"nobs >= {MIN_NOBS} and nobs_r >= {MIN_NOBS_BAND} and amplitude_r > {MIN_AMPLITUDE} and rchi2_r >= {MIN_RCHI2}\")"
   ]
  },
  {
   "cell_type": "markdown",
   "metadata": {},
   "source": [
    "### Add heliocentric times"
   ]
  },
  {
   "cell_type": "code",
   "execution_count": null,
   "metadata": {},
   "outputs": [],
   "source": [
    "from astropy.coordinates import SkyCoord\n",
    "from astropy.time import Time\n",
    "\n",
    "from approx_light_travel_time import fast_light_travel_time_heliocentric_elliptical\n",
    "\n",
    "def add_helio_mjd(df):\n",
    "    coord = SkyCoord(ra=df[\"lc.coord_ra\"], dec=df[\"lc.coord_dec\"], unit=\"deg\")\n",
    "    time = Time(df[\"lc.midpointMjdTai\"], format=\"mjd\", scale=\"tai\")\n",
    "    helio_time = time + fast_light_travel_time_heliocentric_elliptical(time, coord)\n",
    "    df[\"lc.helioMjd\"] = helio_time.mjd\n",
    "    return df\n",
    "\n",
    "\n",
    "lc_helio = lc_w_features.map_partitions(add_helio_mjd)"
   ]
  },
  {
   "cell_type": "markdown",
   "metadata": {},
   "source": [
    "## Running Lomb-Scargle\n",
    "Use light-curve package or astropy"
   ]
  },
  {
   "cell_type": "code",
   "execution_count": null,
   "metadata": {
    "execution": {
     "iopub.execute_input": "2025-01-15T22:37:20.018296Z",
     "iopub.status.busy": "2025-01-15T22:37:20.017614Z",
     "iopub.status.idle": "2025-01-15T22:37:20.745404Z",
     "shell.execute_reply": "2025-01-15T22:37:20.744673Z",
     "shell.execute_reply.started": "2025-01-15T22:37:20.018272Z"
    }
   },
   "outputs": [],
   "source": [
    "from astropy.timeseries import LombScargle\n",
    "reduced_chi2_extractor = licu.ReducedChi2()\n",
    "\n",
    "MAX_PERIOD = 1  # days\n",
    "MIN_PERIOD = 5 / 60 / 24\n",
    "BAD_PERIODS = np.array([1/3, 0.25, 0.5, 2/3, 1, 2, 29.5])\n",
    "BAD_PERIOD_REL_RANGE = 10 / 365.2422\n",
    "\n",
    "def filter_periods(periods):\n",
    "    periods = np.asarray(periods)\n",
    "    return (\n",
    "        np.all(np.abs(periods[:, None]/BAD_PERIODS - 1.0) > BAD_PERIOD_REL_RANGE, axis=1)\n",
    "        & (periods >= MIN_PERIOD) \n",
    "        & (periods <= MAX_PERIOD)\n",
    "    )\n",
    "\n",
    "\n",
    "FREQS = np.linspace(1 / 0.5, 1 / (5 / (60 * 24)), 300_000)  # 5 minutes to 12 hours\n",
    "\n",
    "def extract_period_single_band(band, t, flux, fluxerr, single_band, **kwargs):\n",
    "    del kwargs  # unused\n",
    "\n",
    "    band_idx = band == single_band\n",
    "    del band\n",
    "    t, flux, fluxerr = t[band_idx], flux[band_idx], fluxerr[band_idx]\n",
    "    t = np.asarray(t - 60_000.0, dtype=np.float32)\n",
    "\n",
    "    n = len(t)\n",
    "\n",
    "    if n < MIN_NOBS_BAND:\n",
    "        return {f\"{single_band}_period_0\": 1e9, f\"{single_band}_period_s_to_n_0\": 0.0, f\"{single_band}_period_0_false_alarm_prob\": 1.0}\n",
    "\n",
    "    ls = LombScargle(t, flux, fluxerr)\n",
    "    power = ls.power(FREQS)\n",
    "    \n",
    "    freq_idx = filter_periods(1 / FREQS)\n",
    "    freq, power = FREQS[freq_idx], power[freq_idx]\n",
    "    \n",
    "    if len(freq) == 0:\n",
    "        return {\"period_0\": 0.0, \"period_s_to_n_0\": 0.0}\n",
    "\n",
    "    idx_period = np.argmax(power)\n",
    "    period = 1 / freq[idx_period]\n",
    "    s2n = (power[idx_period] - np.mean(power)) / np.std(power, ddof=1)\n",
    "    period_0_false_alarm_prob = ls.false_alarm_probability(power[idx_period])\n",
    "\n",
    "    return {f\"{single_band}_period_0\": period, f\"{single_band}_period_s_to_n_0\": s2n, f\"{single_band}_period_0_false_alarm_prob\": period_0_false_alarm_prob}\n",
    "\n",
    "\n",
    "tmp_cat = lc_helio\n",
    "for single_band in SCAN_BANDS:\n",
    "    tmp_cat = tmp_cat.reduce(\n",
    "        extract_period_single_band,\n",
    "        \"lc.band\",\n",
    "        \"lc.helioMjd\",\n",
    "        f\"lc.{phot_column}\",\n",
    "        f\"lc.{err_column}\",\n",
    "        single_band=single_band,\n",
    "        meta={f\"{single_band}_period_0\": float, f\"{single_band}_period_s_to_n_0\": float, f\"{single_band}_period_0_false_alarm_prob\": float},\n",
    "        append_columns=True,\n",
    "    )\n",
    "lc_w_periods = tmp_cat\n",
    "lc_w_periods"
   ]
  },
  {
   "cell_type": "markdown",
   "metadata": {},
   "source": [
    "## Periodic Candidate Selection"
   ]
  },
  {
   "cell_type": "code",
   "execution_count": null,
   "metadata": {},
   "outputs": [],
   "source": [
    "import pandas as pd\n",
    "\n",
    "def select_best_period_per_row(row):\n",
    "    # Function to use in .apply(axis=1) which would output best band, best period and best prob\n",
    "    period_diff = {}\n",
    "    for i_first_band in range(len(SCAN_BANDS)):\n",
    "        for i_second_band in range(i_first_band + 1, len(SCAN_BANDS)):\n",
    "            first_band = SCAN_BANDS[i_first_band]\n",
    "            second_band = SCAN_BANDS[i_second_band]\n",
    "            period_diff_multiplier = np.inf\n",
    "            for multiplier in [0.25, 0.5, 1.0, 2.0, 4.0]:\n",
    "                period_diff_multiplier = min(period_diff_multiplier, np.abs(row[f\"{first_band}_period_0\"] - multiplier * row[f\"{second_band}_period_0\"]) / row[f\"{first_band}_period_0\"])\n",
    "            period_diff[f\"{first_band}{second_band}\"] = period_diff_multiplier\n",
    "    best_pair = min(period_diff, key=period_diff.get)\n",
    "    min_rel_period_diff = period_diff[best_pair]\n",
    "    first_band, second_band = best_pair\n",
    "    first_band_prob = row[f\"{first_band}_period_0_false_alarm_prob\"]\n",
    "    second_band_prob = row[f\"{second_band}_period_0_false_alarm_prob\"]\n",
    "    if first_band_prob < second_band_prob:\n",
    "        best_band = first_band\n",
    "        best_period = row[f\"{first_band}_period_0\"]\n",
    "        best_prob = first_band_prob\n",
    "    else:\n",
    "        best_band = second_band\n",
    "        best_period = row[f\"{second_band}_period_0\"]\n",
    "        best_prob = second_band_prob\n",
    "    return pd.Series({\n",
    "        \"best_period_band\": best_band,\n",
    "        \"period_0\": best_period,\n",
    "        \"period_0_false_alarm_prob\": best_prob,\n",
    "        \"min_rel_period_diff\": min_rel_period_diff,\n",
    "    })\n",
    "\n",
    "\n",
    "def select_best_period(df):\n",
    "    if len(df) == 0:\n",
    "        return pd.concat(\n",
    "            [\n",
    "                df,\n",
    "                pd.DataFrame({\n",
    "                    \"best_period_band\": pd.Series(dtype=\"str\"),\n",
    "                    \"period_0\": pd.Series(dtype=\"float\"),\n",
    "                    \"period_0_false_alarm_prob\": pd.Series(dtype=\"float\"),\n",
    "                    \"min_rel_period_diff\": pd.Series(dtype=\"float\"),\n",
    "                })\n",
    "            ],\n",
    "            axis=1\n",
    "        )\n",
    "    return df.join(df.apply(select_best_period_per_row, axis=1))\n",
    "\n",
    "\n",
    "lc_period_cand = lc_w_periods.map_partitions(select_best_period)\n",
    "lc_period_cand"
   ]
  },
  {
   "cell_type": "markdown",
   "metadata": {},
   "source": [
    "## Run the pipeline"
   ]
  },
  {
   "cell_type": "code",
   "execution_count": null,
   "metadata": {
    "execution": {
     "iopub.execute_input": "2025-01-15T22:37:43.851006Z",
     "iopub.status.busy": "2025-01-15T22:37:43.850746Z",
     "iopub.status.idle": "2025-01-15T22:39:16.475719Z",
     "shell.execute_reply": "2025-01-15T22:39:16.474929Z",
     "shell.execute_reply.started": "2025-01-15T22:37:43.850984Z"
    }
   },
   "outputs": [],
   "source": [
    "%%time\n",
    "\n",
    "with dask_jobqueue.SLURMCluster(\n",
    "    processes=1,\n",
    "    queue=\"roma\",\n",
    "    account=\"rubin:commissioning\",\n",
    "    cores=2,\n",
    "    memory=\"8GB\",\n",
    "    walltime=\"01:00:00\",\n",
    ") as cluster:\n",
    "    cluster.adapt(maximum_jobs=200)\n",
    "    with Client(cluster) as client:\n",
    "        display(client)\n",
    "        lc_period_cand.to_hats(\"periodic_cand\", overwrite=True)"
   ]
  },
  {
   "cell_type": "code",
   "execution_count": null,
   "metadata": {},
   "outputs": [],
   "source": [
    "from gatspy.periodic import RRLyraeTemplateModelerMultiband\n",
    "\n",
    "\n",
    "def rchi2_rrlyr(t, mag, magerr, band, period, extra_sigma=0.1):\n",
    "    model = RRLyraeTemplateModelerMultiband()\n",
    "    model.fit(t, mag, magerr, band)\n",
    "    mag_model = model.predict(t, band, period=period)\n",
    "    rchi2 = np.sum((mag - mag_model) ** 2 / (magerr ** 2 + extra_sigma ** 2)) / (len(t) - 1)\n",
    "    return {\"rchi2_rrlyr\": rchi2}\n",
    "\n",
    "cand_cat = lsdb.read_hats(\"periodic_cand\")\n",
    "cand_cat = cand_cat.query(\n",
    "   \"log10(period_0_false_alarm_prob) < -10\"\n",
    "   \" and min_rel_period_diff < 0.001\"\n",
    "#    \" and (period_0 > 0.251 or period_0 < 0.249)\"\n",
    "   \" and 31.4 - 2.5 * log10(r_psfFluxMax) > 22 and 31.4 - 2.5 * log10(abs(r_psfFluxMin)) > 22\"\n",
    ")\n",
    "cand_cat = cand_cat.reduce(\n",
    "    rchi2_rrlyr,\n",
    "    \"lc.helioMjd\",\n",
    "    \"lc.psfMag\",\n",
    "    \"lc.psfMagErr\",\n",
    "    \"lc.band\",\n",
    "    \"period_0\",\n",
    "    meta={\"rchi2_rrlyr\": float},\n",
    "    append_columns=True,\n",
    ")\n",
    "# cand_cat = cand_cat.query(\"rchi2_rrlyr < 2.0\")\n",
    "\n",
    "with dask_jobqueue.SLURMCluster(\n",
    "    processes=1,\n",
    "    queue=\"roma\",\n",
    "    account=\"rubin:commissioning\",\n",
    "    cores=1,\n",
    "    memory=\"4GB\",\n",
    "    walltime=\"00:20:00\",\n",
    ") as cluster:\n",
    "    cluster.adapt(maximum_jobs=50)\n",
    "    with Client(cluster) as client:\n",
    "        display(client)\n",
    "        cand_subset = cand_cat.compute()\n",
    "cand_subset"
   ]
  },
  {
   "cell_type": "code",
   "execution_count": null,
   "metadata": {},
   "outputs": [],
   "source": [
    "rr_cand = cand_subset.sort_values(\"rchi2_rrlyr\")\n",
    "rr_cand"
   ]
  },
  {
   "cell_type": "markdown",
   "metadata": {},
   "source": [
    "## Plotting a few Phase-Folded Candidates"
   ]
  },
  {
   "cell_type": "code",
   "execution_count": null,
   "metadata": {
    "execution": {
     "iopub.execute_input": "2025-01-15T22:44:17.331076Z",
     "iopub.status.busy": "2025-01-15T22:44:17.330178Z",
     "iopub.status.idle": "2025-01-15T22:44:17.499441Z",
     "shell.execute_reply": "2025-01-15T22:44:17.498875Z",
     "shell.execute_reply.started": "2025-01-15T22:44:17.331050Z"
    }
   },
   "outputs": [],
   "source": [
    "import matplotlib.pyplot as plt\n",
    "\n",
    "COLORS = {'u': '#0c71ff', 'g': '#49be61', 'r': '#c61c00',\n",
    "          'i': '#ffc200', 'z': '#f341a2', 'y': '#5d0000'}\n",
    "\n",
    "FOLDED = True\n",
    "\n",
    "fig_path = Path(\"periodic_cand\")\n",
    "fig_path.mkdir(exist_ok=True, parents=True)\n",
    "\n",
    "for healpix29, cand in rr_cand.iloc[:200].iterrows():\n",
    "    phase = cand.lc[\"helioMjd\"] % cand[\"period_0\"] / cand[\"period_0\"]\n",
    "    phot = cand.lc[phot_column]\n",
    "    err = cand.lc[err_column]\n",
    "    fig, (ax_mjd, ax_phase) = plt.subplots(1, 2, figsize=(12, 4), sharey=True)\n",
    "    all_delta_mag = []\n",
    "    for b in BANDS:\n",
    "        idx = (cand.lc[\"band\"] == b)\n",
    "        errorbar_kwargs = dict(\n",
    "            y=phot[idx],\n",
    "            yerr=err[idx],\n",
    "            fmt=\"o\",\n",
    "            color=COLORS[b],\n",
    "            label=f'{b}', # $- {mean_band_mag:.2f}$',\n",
    "            alpha=0.3,\n",
    "        )\n",
    "        ax_mjd.errorbar(cand.lc[\"helioMjd\"][idx], **errorbar_kwargs)\n",
    "        ax_phase.errorbar(phase[idx], **errorbar_kwargs)\n",
    "    fig.suptitle(\n",
    "        f\"OID: {cand[id_column]}, RA: {cand[coord_columns[0]]:.5f}, Dec: {cand[coord_columns[1]]:.5f}\"\n",
    "        rf\"\\nPeriod: {cand['period_0']:.5f}$\\,$d, L—S lg(F-P): {np.log10(cand['period_0_false_alarm_prob']):.1f}\"\n",
    "    )\n",
    "\n",
    "    ax_mjd.set_xlabel(\"MJD\")\n",
    "    ax_mjd.set_xlim(np.min(cand.lc[\"helioMjd\"])-1, np.max(cand.lc[\"helioMjd\"])+1)\n",
    "    ax_phase.set_xlabel(\"Phase\")\n",
    "    ax_phase.set_xlim(0, 1)\n",
    "    \n",
    "    max_abs_ylim = max(np.abs(plt.ylim()))\n",
    "    ax_mjd.plot(ax_mjd.get_xlim(), [0, 0], color='k', linestyle='--', alpha=0.5)\n",
    "    ax_phase.plot(ax_phase.get_xlim(), [0, 0], color='k', linestyle='--', alpha=0.5)\n",
    "    ax_mjd.legend(loc='upper left')\n",
    "    ax_mjd.grid()\n",
    "    ax_phase.grid()\n",
    "    \n",
    "    plt.savefig(fig_path / f\"{release}-{cand[id_column]}.pdf\")\n",
    "\n",
    "    print(cand[id_column], cand[coord_columns[0]], cand[coord_columns[1]], cand[\"period_0\"])"
   ]
  },
  {
   "cell_type": "code",
   "execution_count": null,
   "metadata": {},
   "outputs": [],
   "source": []
  }
 ],
 "metadata": {
  "kernelspec": {
   "display_name": ".venv",
   "language": "python",
   "name": "python3"
  },
  "language_info": {
   "codemirror_mode": {
    "name": "ipython",
    "version": 3
   },
   "file_extension": ".py",
   "mimetype": "text/x-python",
   "name": "python",
   "nbconvert_exporter": "python",
   "pygments_lexer": "ipython3",
   "version": "3.12.9"
  }
 },
 "nbformat": 4,
 "nbformat_minor": 4
}
