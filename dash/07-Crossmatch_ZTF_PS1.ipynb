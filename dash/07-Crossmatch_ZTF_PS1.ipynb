{
 "cells": [
  {
   "cell_type": "markdown",
   "metadata": {},
   "source": [
    "# Crossmatch with ZTF and PanSTARRS\n",
    "\n",
    "Crossmatch the ComCam data with ZTF and PanSTARRS and store the results as HATS catalogs on disk."
   ]
  },
  {
   "cell_type": "code",
   "execution_count": 1,
   "metadata": {},
   "outputs": [],
   "source": [
    "import os\n",
    "import lsdb\n",
    "import tempfile\n",
    "\n",
    "from hats.io import paths\n",
    "from dask.distributed import Client\n",
    "from nested_pandas import NestedDtype\n",
    "from upath import UPath"
   ]
  },
  {
   "cell_type": "code",
   "execution_count": 2,
   "metadata": {},
   "outputs": [],
   "source": [
    "DRP_VERSION = os.environ[\"DRP_VERSION\"]\n",
    "print(f\"DRP_VERSION: {DRP_VERSION}\")\n",
    "base_output_dir = UPath(f\"/sdf/data/rubin/shared/lsdb_commissioning\")\n",
    "hats_dir = base_output_dir / \"hats\" / DRP_VERSION"
   ]
  },
  {
   "cell_type": "code",
   "execution_count": 3,
   "metadata": {},
   "outputs": [],
   "source": [
    "tmp_path = tempfile.TemporaryDirectory()\n",
    "tmp_dir = tmp_path.name\n",
    "client = Client(n_workers=4, threads_per_worker=1, local_directory=tmp_dir)"
   ]
  },
  {
   "cell_type": "markdown",
   "metadata": {},
   "source": [
    "Let\"s load the nested Rubin catalogs:"
   ]
  },
  {
   "cell_type": "code",
   "execution_count": 4,
   "metadata": {},
   "outputs": [],
   "source": [
    "dia_object_lc = lsdb.read_hats(hats_dir / \"dia_object_lc\").map_partitions(\n",
    "    lambda df: df.assign(\n",
    "        **{\n",
    "            lc_column: df[lc_column].astype(\n",
    "                NestedDtype.from_pandas_arrow_dtype(df.dtypes[lc_column])\n",
    "            )\n",
    "            for lc_column in [\"diaSource\", \"diaObjectForcedSource\"]\n",
    "        }\n",
    "    )\n",
    ")\n",
    "dia_object_lc"
   ]
  },
  {
   "cell_type": "code",
   "execution_count": 5,
   "metadata": {},
   "outputs": [],
   "source": [
    "object_lc = lsdb.read_hats(hats_dir / \"object_lc\").map_partitions(\n",
    "    lambda df: df.assign(\n",
    "        **{\n",
    "            \"objectForcedSource\": df[\"objectForcedSource\"].astype(\n",
    "                NestedDtype.from_pandas_arrow_dtype(df.dtypes[\"objectForcedSource\"])\n",
    "            )\n",
    "        }\n",
    "    )\n",
    ")\n",
    "object_lc"
   ]
  },
  {
   "cell_type": "markdown",
   "metadata": {},
   "source": [
    "### Crossmatch with ZTF"
   ]
  },
  {
   "cell_type": "code",
   "execution_count": null,
   "metadata": {},
   "outputs": [],
   "source": [
    "ztf_xmatch_radius_arcsec = 0.2"
   ]
  },
  {
   "cell_type": "markdown",
   "metadata": {},
   "source": [
    "Let\"s load ZTF DR22 with nested list lightcurves:"
   ]
  },
  {
   "cell_type": "code",
   "execution_count": null,
   "metadata": {},
   "outputs": [],
   "source": [
    "ztf_dr22_lc = lsdb.read_hats(\n",
    "    \"https://data.lsdb.io/hats/ztf_dr22/ztf_lc\",\n",
    "    margin_cache=\"https://data.lsdb.io/hats/ztf_dr22/ztf_lc_10arcs\",\n",
    ")"
   ]
  },
  {
   "cell_type": "code",
   "execution_count": null,
   "metadata": {},
   "outputs": [],
   "source": [
    "ztf_list_columns = [\"hmjd\", \"mag\", \"magerr\", \"catflags\", \"clrcoeff\"]\n",
    "\n",
    "nested_ztf = ztf_dr22_lc.nest_lists(\n",
    "    base_columns=[col for col in ztf_dr22_lc.columns if col not in ztf_list_columns],\n",
    "    list_columns=ztf_list_columns,\n",
    "    name=\"ztf_lc\",\n",
    ")\n",
    "nested_ztf"
   ]
  },
  {
   "cell_type": "markdown",
   "metadata": {},
   "source": [
    "ZTF DR22 filters are specified in a base column (`filterid`). For the crossmatch to be accurate we need to flatten the nested sources and repack them to get light curves for all the bands."
   ]
  },
  {
   "cell_type": "code",
   "execution_count": null,
   "metadata": {},
   "outputs": [],
   "source": [
    "def convert_to_flat(df, nested):\n",
    "    index_name = df.index.name\n",
    "    df = df.reset_index(drop=False)\n",
    "    flat = df[nested].nest.to_flat()\n",
    "    del df[nested]\n",
    "    df = df.join(flat, how=\"inner\")\n",
    "    df = df.set_index(index_name)\n",
    "    return df\n",
    "\n",
    "\n",
    "ztf = nested_ztf.map_partitions(convert_to_flat, nested=\"ztf_lc\")"
   ]
  },
  {
   "cell_type": "code",
   "execution_count": null,
   "metadata": {},
   "outputs": [],
   "source": [
    "HIVE_COLUMNS = {paths.PARTITION_ORDER, paths.PARTITION_DIR, paths.PARTITION_PIXEL}\n",
    "original_ztf_cols = [\n",
    "    f\"{col}_ztf\" for col in ztf_dr22_lc.columns if col not in HIVE_COLUMNS\n",
    "]"
   ]
  },
  {
   "cell_type": "code",
   "execution_count": null,
   "metadata": {},
   "outputs": [],
   "source": [
    "def crossmatch_with_ztf(catalog, object_column):\n",
    "    dist_column = \"lsst_ztf_sep\"\n",
    "    matched = catalog.crossmatch(\n",
    "        ztf,\n",
    "        radius_arcsec=ztf_xmatch_radius_arcsec,\n",
    "        n_neighbors=20,\n",
    "        suffixes=(\"\", \"_ztf\"),\n",
    "    )\n",
    "    matched._ddf = matched._ddf.rename(columns={\"_dist_arcsec\": dist_column})\n",
    "    # Repack light curves with `join_nested` based on the Rubin object ID\n",
    "    lsst_lc_x_ztf = catalog.join_nested(\n",
    "        matched[original_ztf_cols + [object_column, dist_column]],\n",
    "        nested_column_name=\"ztf_lc\",\n",
    "        left_on=object_column,\n",
    "        right_on=object_column,\n",
    "    )\n",
    "    return lsst_lc_x_ztf"
   ]
  },
  {
   "cell_type": "code",
   "execution_count": null,
   "metadata": {},
   "outputs": [],
   "source": [
    "for catalog, object_column in zip(\n",
    "    [object_lc, dia_object_lc], [\"objectId\", \"diaObjectId\"]\n",
    "):\n",
    "    catalog_name = f\"{catalog.name}_x_ztf_dr22\"\n",
    "    lsst_lc_x_ztf = crossmatch_with_ztf(catalog, object_column)\n",
    "    lsst_lc_x_ztf.to_hats(hats_dir / catalog_name, catalog_name=catalog_name)\n",
    "    print(f\"Saved {catalog_name}\")"
   ]
  },
  {
   "cell_type": "markdown",
   "metadata": {},
   "source": [
    "### Crossmatch with PanSTARRS"
   ]
  },
  {
   "cell_type": "code",
   "execution_count": 6,
   "metadata": {},
   "outputs": [],
   "source": [
    "panstarrs = lsdb.read_hats(\n",
    "    UPath(\"s3://stpubdata/panstarrs/ps1/public/hats/otmo\", anon=True),\n",
    "    margin_cache=UPath(\n",
    "        \"s3://stpubdata/panstarrs/ps1/public/hats/otmo_10arcs\", anon=True\n",
    "    ),\n",
    ")\n",
    "panstarrs"
   ]
  },
  {
   "cell_type": "code",
   "execution_count": 7,
   "metadata": {},
   "outputs": [],
   "source": [
    "ps1_xmatch_radius_arcsec = 0.1"
   ]
  },
  {
   "cell_type": "code",
   "execution_count": 8,
   "metadata": {},
   "outputs": [],
   "source": [
    "for catalog in [object_lc, dia_object_lc]:\n",
    "    dist_column = \"lsst_ztf_sep\"\n",
    "    catalog_name = f\"{catalog.name}_x_ps1\"\n",
    "    lsst_lc_x_ps1_dr22 = catalog.crossmatch(\n",
    "        panstarrs, radius_arcsec=ps1_xmatch_radius_arcsec, suffixes=(\"\", \"_ps1\")\n",
    "    )\n",
    "    lsst_lc_x_ps1_dr22._ddf = lsst_lc_x_ps1_dr22._ddf.rename(\n",
    "        columns={\"_dist_arcsec\": dist_column}\n",
    "    )\n",
    "    lsst_lc_x_ps1_dr22.to_hats(hats_dir / catalog_name, catalog_name=catalog_name)\n",
    "    print(f\"Saved {catalog_name}\")"
   ]
  },
  {
   "cell_type": "code",
   "execution_count": 9,
   "metadata": {},
   "outputs": [],
   "source": [
    "client.close()\n",
    "tmp_path.cleanup()"
   ]
  }
 ],
 "metadata": {
  "kernelspec": {
   "display_name": "Python 3 (ipykernel)",
   "language": "python",
   "name": "python3"
  }
 },
 "nbformat": 4,
 "nbformat_minor": 2
}
