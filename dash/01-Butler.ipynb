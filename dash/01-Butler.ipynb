{
 "cells": [
  {
   "cell_type": "markdown",
   "id": "8e5a49bb-9251-4b4a-b347-fbef01b945eb",
   "metadata": {},
   "source": [
    "# Fetch data from butler\n",
    "\n",
    "Execution for [DP1 v29_0_0](https://rubinobs.atlassian.net/browse/DM-50260)\n",
    "\n",
    "This notebook uses the butler only to fetch the tracts/patches, and to fetch the URIs of backing parquet files. Those files are read into the hats-import pipeline directly.\n",
    "\n",
    "This is done because many `butler.get` results are too large to fit in the memory of a medium or large RSP notebook instance.\n",
    "\n",
    "Beyond the butler issues, there were additional problems with running the importer on a smaller instance. While these can largely be avoided by running on the dev machines that are available outside notebooks, I think it's a good lesson for how the Rubin data is structured and how we can more efficiently import with our existing tools.\n",
    "\n",
    "Useful material:\n",
    "- LINCC notebooks: https://github.com/lsst-sitcom/linccf\n",
    "- https://github.com/LSSTScienceCollaborations/StackClub/tree/master"
   ]
  },
  {
   "cell_type": "code",
   "execution_count": null,
   "id": "4ab38dd4-ec6d-4d45-9b0d-f41652e9779b",
   "metadata": {
    "execution": {
     "iopub.execute_input": "2025-02-11T14:30:05.549281Z",
     "iopub.status.busy": "2025-02-11T14:30:05.548643Z",
     "iopub.status.idle": "2025-02-11T14:30:06.568377Z",
     "shell.execute_reply": "2025-02-11T14:30:06.567909Z",
     "shell.execute_reply.started": "2025-02-11T14:30:05.549264Z"
    }
   },
   "outputs": [],
   "source": [
    "# LSST Science Pipelines (Stack) packages\n",
    "import lsst.daf.butler as dafButler\n",
    "\n",
    "import os\n",
    "import pandas as pd\n",
    "import pyarrow as pa\n",
    "import pyarrow.parquet as pq\n",
    "\n",
    "from tqdm import tqdm\n",
    "from pathlib import Path"
   ]
  },
  {
   "cell_type": "code",
   "execution_count": null,
   "id": "4d3a6b07-f916-4e26-8862-ed50f2e669d8",
   "metadata": {
    "execution": {
     "iopub.execute_input": "2025-02-11T14:30:08.202187Z",
     "iopub.status.busy": "2025-02-11T14:30:08.201451Z",
     "iopub.status.idle": "2025-02-11T14:30:08.205109Z",
     "shell.execute_reply": "2025-02-11T14:30:08.204733Z",
     "shell.execute_reply.started": "2025-02-11T14:30:08.202157Z"
    }
   },
   "outputs": [],
   "source": [
    "INSTRUMENT = os.environ[\"INSTRUMENT\"]\n",
    "REPO = os.environ[\"REPO\"]\n",
    "RUN = os.environ[\"RUN\"]\n",
    "VERSION = os.environ[\"VERSION\"]\n",
    "COLLECTION = os.environ[\"COLLECTION\"]\n",
    "OUTPUT_DIR = Path(os.environ[\"OUTPUT_DIR\"])\n",
    "\n",
    "print(f\"INSTRUMENT: {INSTRUMENT}\")\n",
    "print(f\"REPO: {REPO}\")\n",
    "print(f\"RUN: {RUN}\")\n",
    "print(f\"VERSION: {VERSION}\")\n",
    "print(f\"COLLECTION: {COLLECTION}\")\n",
    "print(f\"OUTPUT_DIR: {OUTPUT_DIR}\")\n",
    "\n",
    "collections = f\"{INSTRUMENT}/runs/DRP/{RUN}/{VERSION}/{COLLECTION}\""
   ]
  },
  {
   "cell_type": "code",
   "execution_count": null,
   "id": "d860e7b9-0230-41da-9d5f-aebcb925bb61",
   "metadata": {
    "execution": {
     "iopub.execute_input": "2025-02-11T14:30:10.032496Z",
     "iopub.status.busy": "2025-02-11T14:30:10.032059Z",
     "iopub.status.idle": "2025-02-11T14:30:10.084477Z",
     "shell.execute_reply": "2025-02-11T14:30:10.084075Z",
     "shell.execute_reply.started": "2025-02-11T14:30:10.032480Z"
    }
   },
   "outputs": [],
   "source": [
    "raw_dir = OUTPUT_DIR / \"raw\" / VERSION\n",
    "\n",
    "paths_dir = raw_dir / \"paths\"\n",
    "refs_dir = raw_dir / \"refs\"\n",
    "sizes_dir = raw_dir / \"sizes\"\n",
    "\n",
    "paths_dir.mkdir(parents=True, exist_ok=True)\n",
    "refs_dir.mkdir(parents=True, exist_ok=True)\n",
    "sizes_dir.mkdir(parents=True, exist_ok=True)"
   ]
  },
  {
   "cell_type": "markdown",
   "id": "f59eeb7e-9f1f-45ef-99c7-6b8b6c1a398d",
   "metadata": {},
   "source": [
    "### Configure Butler"
   ]
  },
  {
   "cell_type": "code",
   "execution_count": null,
   "id": "4e1a52d8-29d2-46f9-874d-239050c25cf4",
   "metadata": {
    "execution": {
     "iopub.execute_input": "2025-02-11T14:30:12.139973Z",
     "iopub.status.busy": "2025-02-11T14:30:12.139516Z",
     "iopub.status.idle": "2025-02-11T14:30:12.481367Z",
     "shell.execute_reply": "2025-02-11T14:30:12.480956Z",
     "shell.execute_reply.started": "2025-02-11T14:30:12.139954Z"
    }
   },
   "outputs": [],
   "source": [
    "butler = dafButler.Butler(REPO, collections=collections)"
   ]
  },
  {
   "cell_type": "markdown",
   "id": "aeb1ed0e-7ce5-4f62-8683-204cddce9281",
   "metadata": {},
   "source": [
    "### Helper methods"
   ]
  },
  {
   "cell_type": "code",
   "execution_count": null,
   "id": "d70d1a98-e5ed-4c05-a279-1c7ac4e99775",
   "metadata": {
    "execution": {
     "iopub.execute_input": "2025-02-11T14:31:21.383620Z",
     "iopub.status.busy": "2025-02-11T14:31:21.383320Z",
     "iopub.status.idle": "2025-02-11T14:31:21.388472Z",
     "shell.execute_reply": "2025-02-11T14:31:21.388060Z",
     "shell.execute_reply.started": "2025-02-11T14:31:21.383603Z"
    }
   },
   "outputs": [],
   "source": [
    "def get_uris_from_butler(dataset_type):\n",
    "    \"\"\"Fetch the parquet URIs for a given dataset\"\"\"\n",
    "    refs = butler.query_datasets(dataset_type)\n",
    "    paths = []\n",
    "    for _, ref in enumerate(tqdm(refs)):\n",
    "        table_path = butler.getURI(dataset_type, dataId=ref.dataId)\n",
    "        paths.append(table_path.geturl())\n",
    "\n",
    "    print(f\"Found {len(paths)} files for {dataset_type}\")\n",
    "\n",
    "    file_pointer = raw_dir / \"paths\" / f\"{dataset_type}.txt\"\n",
    "    with file_pointer.open(\"w\", encoding=\"utf8\") as _file:\n",
    "        for path in paths:\n",
    "            _file.write(path + \"\\n\")\n",
    "\n",
    "    ref_ids = [ref.dataId.mapping for ref in refs]\n",
    "    ref_frame = pd.DataFrame(ref_ids)\n",
    "    ref_frame.to_csv(raw_dir / \"refs\" / f\"{dataset_type}.csv\", index=False)\n",
    "\n",
    "\n",
    "def get_visits_from_butler(visits_type):\n",
    "    \"\"\"Downloads the visitTable for instrument\"\"\"\n",
    "    visits = butler.get(visits_type, dataId={\"instrument\": INSTRUMENT})\n",
    "    parquet_path = raw_dir / f\"{visits_type}.parquet\"\n",
    "    visits_table = pa.Table.from_pandas(visits.to_pandas())\n",
    "    pq.write_table(visits_table, parquet_path)\n",
    "    print(f\"Saved {len(visits)} visits rows to {parquet_path}\")"
   ]
  },
  {
   "cell_type": "markdown",
   "id": "e2519023-4a48-481b-aa6a-3130524376c0",
   "metadata": {},
   "source": [
    "## Fetch all URIs\n",
    "\n",
    "We write the file paths to a simple text file.\n",
    "\n",
    "Example outputs, to give an idea of number of files and total runtime:\n",
    "\n",
    "```\n",
    "100%|██████████████████████████████████████████████████████████████████████████████████████████████████████████| 28/28 [00:01<00:00, 20.95it/s]\n",
    "Found 28 files for dia_object\n",
    "100%|██████████████████████████████████████████████████████████████████████████████████████████████████████████| 28/28 [00:01<00:00, 22.46it/s]\n",
    "Found 28 files for dia_source\n",
    "100%|████████████████████████████████████████████████████████████████████████████████████████████████████████| 586/586 [00:27<00:00, 21.54it/s]\n",
    "Found 586 files for dia_object_forced_source\n",
    "100%|████████████████████████████████████████████████████████████████████████████████████████████████████████| 605/605 [00:27<00:00, 21.63it/s]\n",
    "Found 605 files for object\n",
    "100%|███████████████████████████████████████████████████████████████████████████████████████████████████| 1787/1787 [01:42<00:00, 17.40it/s]\n",
    "Found 1787 files for source\n",
    "100%|████████████████████████████████████████████████████████████████████████████████████████████████████████| 605/605 [00:28<00:00, 21.34it/s]\n",
    "Found 605 files for object_forced_source\n",
    "```"
   ]
  },
  {
   "cell_type": "code",
   "execution_count": null,
   "id": "8082b642-2666-4165-8c65-2bc382fdac2a",
   "metadata": {
    "execution": {
     "iopub.execute_input": "2025-02-11T14:31:23.669442Z",
     "iopub.status.busy": "2025-02-11T14:31:23.668874Z",
     "iopub.status.idle": "2025-02-11T14:32:08.025519Z",
     "shell.execute_reply": "2025-02-11T14:32:08.025183Z",
     "shell.execute_reply.started": "2025-02-11T14:31:23.669421Z"
    }
   },
   "outputs": [],
   "source": [
    "get_uris_from_butler(\"dia_object\")\n",
    "get_uris_from_butler(\"dia_source\")\n",
    "get_uris_from_butler(\"dia_object_forced_source\")\n",
    "get_uris_from_butler(\"object\")\n",
    "get_uris_from_butler(\"source\")\n",
    "get_uris_from_butler(\"object_forced_source\")"
   ]
  },
  {
   "cell_type": "markdown",
   "id": "33a70cac",
   "metadata": {},
   "source": [
    "## Fetch visits table"
   ]
  },
  {
   "cell_type": "code",
   "execution_count": null,
   "id": "7ae463ab-2e2e-4aec-8e2e-4bcb21a8c3c5",
   "metadata": {
    "execution": {
     "iopub.execute_input": "2025-02-11T14:32:10.353811Z",
     "iopub.status.busy": "2025-02-11T14:32:10.353505Z",
     "iopub.status.idle": "2025-02-11T14:32:10.510624Z",
     "shell.execute_reply": "2025-02-11T14:32:10.510254Z",
     "shell.execute_reply.started": "2025-02-11T14:32:10.353794Z"
    }
   },
   "outputs": [],
   "source": [
    "get_visits_from_butler(\"visit_table\")"
   ]
  }
 ],
 "metadata": {
  "kernelspec": {
   "display_name": "Python 3 (ipykernel)",
   "language": "python",
   "name": "python3"
  },
  "language_info": {
   "codemirror_mode": {
    "name": "ipython",
    "version": 3
   },
   "file_extension": ".py",
   "mimetype": "text/x-python",
   "name": "python",
   "nbconvert_exporter": "python",
   "pygments_lexer": "ipython3",
   "version": "3.12.9"
  }
 },
 "nbformat": 4,
 "nbformat_minor": 5
}
