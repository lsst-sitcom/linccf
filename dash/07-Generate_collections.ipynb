{
 "cells": [
  {
   "cell_type": "markdown",
   "metadata": {},
   "source": [
    "# Generate collections\n",
    "\n",
    "Let's generate catalog collections for `dia_object_lc` and `object_lc`."
   ]
  },
  {
   "cell_type": "code",
   "execution_count": null,
   "metadata": {},
   "outputs": [],
   "source": [
    "import os\n",
    "import tempfile\n",
    "import hats_import.pipeline as runner\n",
    "\n",
    "from dask.distributed import Client\n",
    "from hats_import.collection.arguments import CollectionArguments\n",
    "from pathlib import Path"
   ]
  },
  {
   "cell_type": "code",
   "execution_count": null,
   "metadata": {},
   "outputs": [],
   "source": [
    "VERSION = os.environ[\"VERSION\"]\n",
    "OUTPUT_DIR = Path(os.environ[\"OUTPUT_DIR\"])\n",
    "\n",
    "print(f\"VERSION: {VERSION}\")\n",
    "print(f\"OUTPUT_DIR: {OUTPUT_DIR}\")\n",
    "\n",
    "hats_dir = OUTPUT_DIR / \"hats\" / VERSION"
   ]
  },
  {
   "cell_type": "code",
   "execution_count": null,
   "metadata": {},
   "outputs": [],
   "source": [
    "tmp_path = tempfile.TemporaryDirectory()\n",
    "tmp_dir = tmp_path.name\n",
    "client = Client(n_workers=16, threads_per_worker=1, local_directory=tmp_dir)"
   ]
  },
  {
   "cell_type": "code",
   "execution_count": null,
   "metadata": {},
   "outputs": [],
   "source": [
    "# Directory that will store the base \"flat\" catalogs\n",
    "%mkdir $hats_dir/tmp"
   ]
  },
  {
   "cell_type": "markdown",
   "metadata": {},
   "source": [
    "### dia_object_collection"
   ]
  },
  {
   "cell_type": "code",
   "execution_count": null,
   "metadata": {},
   "outputs": [],
   "source": [
    "%mv $hats_dir/dia_* $hats_dir/tmp\n",
    "%mkdir $hats_dir/dia_object_collection\n",
    "%mv $hats_dir/tmp/dia_object_lc $hats_dir/dia_object_collection"
   ]
  },
  {
   "cell_type": "code",
   "execution_count": null,
   "metadata": {},
   "outputs": [],
   "source": [
    "args = (\n",
    "    CollectionArguments(\n",
    "        output_artifact_name=\"dia_object_collection\",\n",
    "        new_catalog_name=\"dia_object_lc\",\n",
    "        output_path=hats_dir,\n",
    "        simple_progress_bar=True,\n",
    "    )\n",
    "    .catalog(\n",
    "        catalog_path=hats_dir / \"dia_object_collection\" / \"dia_object_lc\",\n",
    "    )\n",
    "    .add_margin(margin_threshold=5.0, is_default=True)\n",
    "    .add_index(indexing_column=\"diaObjectId\")\n",
    ")\n",
    "runner.pipeline_with_client(args, client)"
   ]
  },
  {
   "cell_type": "markdown",
   "metadata": {},
   "source": [
    "### object_collection"
   ]
  },
  {
   "cell_type": "code",
   "execution_count": null,
   "metadata": {},
   "outputs": [],
   "source": [
    "%mv $hats_dir/object_* $hats_dir/source $hats_dir/tmp\n",
    "%mkdir $hats_dir/object_collection\n",
    "%mv $hats_dir/tmp/object_lc $hats_dir/object_collection"
   ]
  },
  {
   "cell_type": "code",
   "execution_count": null,
   "metadata": {},
   "outputs": [],
   "source": [
    "args = (\n",
    "    CollectionArguments(\n",
    "        output_artifact_name=\"object_collection\",\n",
    "        new_catalog_name=\"object_lc\",\n",
    "        output_path=hats_dir,\n",
    "        simple_progress_bar=True,\n",
    "    )\n",
    "    .catalog(\n",
    "        catalog_path=hats_dir / \"object_collection\" / \"object_lc\",\n",
    "    )\n",
    "    .add_margin(margin_threshold=5.0, is_default=True)\n",
    "    .add_index(indexing_column=\"objectId\")\n",
    ")\n",
    "runner.pipeline_with_client(args, client)"
   ]
  },
  {
   "cell_type": "code",
   "execution_count": null,
   "metadata": {},
   "outputs": [],
   "source": [
    "client.close()\n",
    "tmp_path.cleanup()"
   ]
  }
 ],
 "metadata": {
  "kernelspec": {
   "display_name": "Python 3 (ipykernel)",
   "language": "python",
   "name": "python3"
  }
 },
 "nbformat": 4,
 "nbformat_minor": 2
}
