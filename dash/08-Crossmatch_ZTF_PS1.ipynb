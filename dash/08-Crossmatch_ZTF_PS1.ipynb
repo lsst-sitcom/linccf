{
 "cells": [
  {
   "cell_type": "markdown",
   "metadata": {},
   "source": [
    "# Crossmatch with ZTF and PanSTARRS\n",
    "\n",
    "Crossmatch the Rubin data with ZTF and PanSTARRS and store the results as HATS catalogs on disk."
   ]
  },
  {
   "cell_type": "code",
   "execution_count": 1,
   "metadata": {},
   "outputs": [],
   "source": [
    "import os\n",
    "import lsdb\n",
    "import tempfile\n",
    "\n",
    "from dask.distributed import Client\n",
    "from lsdb.io.to_association import to_association\n",
    "from pathlib import Path\n",
    "from upath import UPath"
   ]
  },
  {
   "cell_type": "code",
   "execution_count": 2,
   "metadata": {},
   "outputs": [],
   "source": [
    "VERSION = os.environ[\"VERSION\"]\n",
    "OUTPUT_DIR = Path(os.environ[\"OUTPUT_DIR\"])\n",
    "\n",
    "print(f\"VERSION: {VERSION}\")\n",
    "print(f\"OUTPUT_DIR: {OUTPUT_DIR}\")\n",
    "\n",
    "hats_dir = OUTPUT_DIR / \"hats\" / VERSION"
   ]
  },
  {
   "cell_type": "code",
   "execution_count": 3,
   "metadata": {},
   "outputs": [],
   "source": [
    "tmp_path = tempfile.TemporaryDirectory()\n",
    "tmp_dir = tmp_path.name\n",
    "client = Client(n_workers=16, threads_per_worker=1, local_directory=tmp_dir)"
   ]
  },
  {
   "cell_type": "code",
   "execution_count": 4,
   "metadata": {},
   "outputs": [],
   "source": [
    "dia_object_collection = lsdb.read_hats(hats_dir / \"dia_object_collection\")\n",
    "object_collection = lsdb.read_hats(hats_dir / \"object_collection\")"
   ]
  },
  {
   "cell_type": "markdown",
   "metadata": {},
   "source": [
    "### Crossmatch with ZTF"
   ]
  },
  {
   "cell_type": "code",
   "execution_count": null,
   "metadata": {},
   "outputs": [],
   "source": [
    "ztf_dr22 = lsdb.read_hats(\n",
    "    \"https://data.lsdb.io/hats/ztf_dr22/ztf_lc\",\n",
    "    margin_cache=\"https://data.lsdb.io/hats/ztf_dr22/ztf_lc_10arcs\",\n",
    ")\n",
    "ztf_dr22"
   ]
  },
  {
   "cell_type": "code",
   "execution_count": null,
   "metadata": {},
   "outputs": [],
   "source": [
    "for collection in [dia_object_collection, object_collection]:\n",
    "    collection_properties = collection.hc_collection.collection_properties\n",
    "    collection_name = collection_properties.name\n",
    "    lsst_id_column = next(iter(collection_properties.all_indexes))\n",
    "\n",
    "    xmatch = collection.crossmatch(\n",
    "        ztf_dr22,\n",
    "        radius_arcsec=0.2,\n",
    "        n_neighbors=20,\n",
    "        suffixes=(\"\", \"_ztf\"),\n",
    "    )\n",
    "\n",
    "    xmatch_catalog_name = f\"{collection.hc_structure.catalog_name}_x_ztf_dr22\"\n",
    "    to_association(\n",
    "        xmatch[[lsst_id_column, \"objectid_ztf\", \"_dist_arcsec\"]],\n",
    "        catalog_name=xmatch_catalog_name,\n",
    "        base_catalog_path=hats_dir / collection_name / xmatch_catalog_name,\n",
    "        primary_catalog_dir=hats_dir / collection_name,\n",
    "        primary_column_association=lsst_id_column,\n",
    "        primary_id_column=lsst_id_column,\n",
    "        join_catalog_dir=ztf_dr22.hc_structure.catalog_path,\n",
    "        join_column_association=\"objectid_ztf\",\n",
    "        join_id_column=\"objectid\",\n",
    "    )\n",
    "    print(f\"Saved {xmatch_catalog_name}\")"
   ]
  },
  {
   "cell_type": "markdown",
   "metadata": {},
   "source": [
    "### Crossmatch with PanSTARRS"
   ]
  },
  {
   "cell_type": "code",
   "execution_count": null,
   "metadata": {},
   "outputs": [],
   "source": [
    "s3_kwargs = {\"endpoint_url\": \"https://s3.amazonaws.com\", \"anon\": True}\n",
    "\n",
    "ps1 = lsdb.read_hats(\n",
    "    UPath(\"s3://stpubdata/panstarrs/ps1/public/hats/otmo\", **s3_kwargs),\n",
    "    margin_cache=UPath(\n",
    "        \"s3://stpubdata/panstarrs/ps1/public/hats/otmo_10arcs\", **s3_kwargs\n",
    "    ),\n",
    ")\n",
    "ps1"
   ]
  },
  {
   "cell_type": "code",
   "execution_count": 8,
   "metadata": {},
   "outputs": [],
   "source": [
    "for collection in [dia_object_collection, object_collection]:\n",
    "    collection_properties = collection.hc_collection.collection_properties\n",
    "    collection_name = collection_properties.name\n",
    "    lsst_id_column = next(iter(collection_properties.all_indexes))\n",
    "\n",
    "    xmatch = collection.crossmatch(\n",
    "        ps1,\n",
    "        radius_arcsec=0.2,\n",
    "        n_neighbors=20,\n",
    "        suffixes=(\"\", \"_ps1\"),\n",
    "    )\n",
    "\n",
    "    xmatch_catalog_name = f\"{collection.hc_structure.catalog_name}_x_ps1\"\n",
    "    to_association(\n",
    "        xmatch[[lsst_id_column, \"objID_ps1\", \"_dist_arcsec\"]],\n",
    "        catalog_name=xmatch_catalog_name,\n",
    "        base_catalog_path=hats_dir / collection_name / xmatch_catalog_name,\n",
    "        primary_catalog_dir=hats_dir / collection_name,\n",
    "        primary_column_association=lsst_id_column,\n",
    "        primary_id_column=lsst_id_column,\n",
    "        join_catalog_dir=ps1.hc_structure.catalog_path,\n",
    "        join_column_association=\"objID_ps1\",\n",
    "        join_id_column=\"objID\",\n",
    "    )\n",
    "    print(f\"Saved {xmatch_catalog_name}\")"
   ]
  },
  {
   "cell_type": "code",
   "execution_count": 9,
   "metadata": {},
   "outputs": [],
   "source": [
    "client.close()\n",
    "tmp_path.cleanup()"
   ]
  }
 ],
 "metadata": {
  "kernelspec": {
   "display_name": "Python 3 (ipykernel)",
   "language": "python",
   "name": "python3"
  }
 },
 "nbformat": 4,
 "nbformat_minor": 2
}
