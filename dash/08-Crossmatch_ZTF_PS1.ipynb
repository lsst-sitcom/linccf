{
 "cells": [
  {
   "cell_type": "markdown",
   "metadata": {},
   "source": [
    "# Crossmatch with ZTF and PanSTARRS\n",
    "\n",
    "Crossmatch the Rubin data with ZTF and PanSTARRS and store the results as HATS catalogs on disk."
   ]
  },
  {
   "cell_type": "code",
   "execution_count": 1,
   "metadata": {},
   "outputs": [],
   "source": [
    "import os\n",
    "import lsdb\n",
    "import tempfile\n",
    "\n",
    "from dask.distributed import Client\n",
    "from pathlib import Path\n",
    "from upath import UPath"
   ]
  },
  {
   "cell_type": "code",
   "execution_count": 2,
   "metadata": {},
   "outputs": [],
   "source": [
    "VERSION = os.environ[\"VERSION\"]\n",
    "OUTPUT_DIR = Path(os.environ[\"OUTPUT_DIR\"])\n",
    "\n",
    "print(f\"VERSION: {VERSION}\")\n",
    "print(f\"OUTPUT_DIR: {OUTPUT_DIR}\")\n",
    "\n",
    "hats_dir = OUTPUT_DIR / \"hats\" / VERSION"
   ]
  },
  {
   "cell_type": "code",
   "execution_count": 3,
   "metadata": {},
   "outputs": [],
   "source": [
    "tmp_path = tempfile.TemporaryDirectory()\n",
    "tmp_dir = tmp_path.name\n",
    "client = Client(n_workers=16, threads_per_worker=1, local_directory=tmp_dir)"
   ]
  },
  {
   "cell_type": "markdown",
   "metadata": {},
   "source": [
    "Let\"s load the nested Rubin catalogs:"
   ]
  },
  {
   "cell_type": "code",
   "execution_count": 4,
   "metadata": {},
   "outputs": [],
   "source": [
    "dia_object_lc = lsdb.read_hats(hats_dir / \"dia_object_collection\")\n",
    "dia_object_lc"
   ]
  },
  {
   "cell_type": "code",
   "execution_count": 5,
   "metadata": {},
   "outputs": [],
   "source": [
    "object_lc = lsdb.read_hats(hats_dir / \"object_collection\")\n",
    "object_lc"
   ]
  },
  {
   "cell_type": "markdown",
   "metadata": {},
   "source": [
    "### Crossmatch with ZTF"
   ]
  },
  {
   "cell_type": "code",
   "execution_count": 6,
   "metadata": {},
   "outputs": [],
   "source": [
    "# TODO"
   ]
  },
  {
   "cell_type": "markdown",
   "metadata": {},
   "source": [
    "### Crossmatch with PanSTARRS"
   ]
  },
  {
   "cell_type": "code",
   "execution_count": 7,
   "metadata": {},
   "outputs": [],
   "source": [
    "panstarrs = lsdb.read_hats(\n",
    "    UPath(\"s3://stpubdata/panstarrs/ps1/public/hats/otmo\", anon=True),\n",
    "    margin_cache=UPath(\n",
    "        \"s3://stpubdata/panstarrs/ps1/public/hats/otmo_10arcs\", anon=True\n",
    "    ),\n",
    ")\n",
    "panstarrs"
   ]
  },
  {
   "cell_type": "code",
   "execution_count": 8,
   "metadata": {},
   "outputs": [],
   "source": [
    "ps1_xmatch_radius_arcsec = 0.1"
   ]
  },
  {
   "cell_type": "code",
   "execution_count": 9,
   "metadata": {},
   "outputs": [],
   "source": [
    "for catalog in [object_lc, dia_object_lc]:\n",
    "    dist_column = \"lsst_ztf_sep\"\n",
    "    catalog_name = f\"{catalog.name}_x_ps1\"\n",
    "    lsst_lc_x_ps1_dr22 = catalog.crossmatch(\n",
    "        panstarrs, radius_arcsec=ps1_xmatch_radius_arcsec, suffixes=(\"\", \"_ps1\")\n",
    "    )\n",
    "    lsst_lc_x_ps1_dr22._ddf = lsst_lc_x_ps1_dr22._ddf.rename(\n",
    "        columns={\"_dist_arcsec\": dist_column}\n",
    "    )\n",
    "    lsst_lc_x_ps1_dr22.to_hats(hats_dir / catalog_name, catalog_name=catalog_name)\n",
    "    print(f\"Saved {catalog_name}\")"
   ]
  },
  {
   "cell_type": "code",
   "execution_count": 10,
   "metadata": {},
   "outputs": [],
   "source": [
    "client.close()\n",
    "tmp_path.cleanup()"
   ]
  }
 ],
 "metadata": {
  "kernelspec": {
   "display_name": "Python 3 (ipykernel)",
   "language": "python",
   "name": "python3"
  }
 },
 "nbformat": 4,
 "nbformat_minor": 2
}
