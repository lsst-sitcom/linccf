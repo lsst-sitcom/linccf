{
 "cells": [
  {
   "cell_type": "markdown",
   "id": "d5060a38-77e8-44d6-8e0d-877edaa7268b",
   "metadata": {},
   "source": [
    "# Catalog Verification - Basic Statistics\n",
    "\n",
    "Perform some basic verification on the datasets.\n",
    "\n",
    "- confirm the number of nulls (NaNs) in the dataset is within expectations\n",
    "- for fields with predictable limits, confirm min/max values in dataset"
   ]
  },
  {
   "cell_type": "code",
   "execution_count": null,
   "id": "4e490de7-923f-4870-83b1-302075eabfb8",
   "metadata": {
    "execution": {
     "iopub.execute_input": "2025-02-27T16:06:22.346431Z",
     "iopub.status.busy": "2025-02-27T16:06:22.346156Z",
     "iopub.status.idle": "2025-02-27T16:06:22.349012Z",
     "shell.execute_reply": "2025-02-27T16:06:22.348645Z",
     "shell.execute_reply.started": "2025-02-27T16:06:22.346417Z"
    }
   },
   "outputs": [],
   "source": [
    "import os\n",
    "import hats\n",
    "import numpy as np\n",
    "import pandas as pd\n",
    "\n",
    "from hats.io.validation import is_valid_catalog\n",
    "from pathlib import Path"
   ]
  },
  {
   "cell_type": "code",
   "execution_count": null,
   "id": "bb02c256-f540-462d-90ce-50e1f02f193b",
   "metadata": {
    "execution": {
     "iopub.execute_input": "2025-02-27T16:06:23.445127Z",
     "iopub.status.busy": "2025-02-27T16:06:23.444854Z",
     "iopub.status.idle": "2025-02-27T16:06:23.447824Z",
     "shell.execute_reply": "2025-02-27T16:06:23.447511Z",
     "shell.execute_reply.started": "2025-02-27T16:06:23.445114Z"
    }
   },
   "outputs": [],
   "source": [
    "VERSION = os.environ[\"VERSION\"]\n",
    "OUTPUT_DIR = Path(os.environ[\"OUTPUT_DIR\"])\n",
    "\n",
    "print(f\"VERSION: {VERSION}\")\n",
    "print(f\"OUTPUT_DIR: {OUTPUT_DIR}\")\n",
    "\n",
    "hats_dir = OUTPUT_DIR / \"hats\" / VERSION"
   ]
  },
  {
   "cell_type": "markdown",
   "id": "e3e3f73a-afde-4108-a4b0-d68f16edacb8",
   "metadata": {},
   "source": [
    "## Convenience methods\n",
    "\n",
    "We define a few convenience methods to load catalog metadata, check for known value types and their ranges, and output the number of nulls found in each column.\n",
    "\n",
    "This ensures we're performing the same kinds of checks against each table type."
   ]
  },
  {
   "cell_type": "code",
   "execution_count": null,
   "id": "4d884905-b9fb-42ec-a2fd-49068f3abcaf",
   "metadata": {
    "execution": {
     "iopub.execute_input": "2025-02-27T16:47:37.793325Z",
     "iopub.status.busy": "2025-02-27T16:47:37.793000Z",
     "iopub.status.idle": "2025-02-27T16:47:37.799476Z",
     "shell.execute_reply": "2025-02-27T16:47:37.799081Z",
     "shell.execute_reply.started": "2025-02-27T16:47:37.793311Z"
    }
   },
   "outputs": [],
   "source": [
    "def min_max_floats_in_range(stats, columns, exp_min_value, exp_max_value, value_type):\n",
    "    \"\"\"Convenience method to check all columns (rows) of a value type, using the `min_value` and `max_value`\n",
    "    on the stats dataframe.\"\"\"\n",
    "    if columns:\n",
    "        anything_bad = False\n",
    "        for col in columns:\n",
    "            if (\n",
    "                float(stats[\"min_value\"][col]) < exp_min_value\n",
    "                or float(stats[\"max_value\"][col]) > exp_max_value\n",
    "            ):\n",
    "                print(\n",
    "                    f\"**** {col} has values outside acceptable range for {value_type} (min:{stats['min_value'][col]}, max:{stats['max_value'][col]})\"\n",
    "                )\n",
    "                anything_bad = True\n",
    "        if not anything_bad:\n",
    "            print(f\"  All {value_type} columns within acceptable ranges ({columns})\")\n",
    "\n",
    "\n",
    "def verify_catalog(\n",
    "    catalog_name,\n",
    "    ra_cols=None,\n",
    "    dec_cols=None,\n",
    "    flux_cols=None,\n",
    "    flux_err_cols=None,\n",
    "    mjd_cols=None,\n",
    "):\n",
    "    print(catalog_name)\n",
    "    cat = hats.read_hats(hats_dir / catalog_name)\n",
    "    print(\n",
    "        \"  is valid catalog\",\n",
    "        is_valid_catalog(hats_dir / catalog_name, strict=True, verbose=False),\n",
    "    )\n",
    "    print(\"  num partitions:\", len(cat.get_healpix_pixels()))\n",
    "    print(\"  num rows:\", cat.catalog_info.total_rows)\n",
    "    stats = cat.aggregate_column_statistics()\n",
    "    print(\"  num columns:\", len(stats))\n",
    "    ## Remove columns with \"Mag\" as these are created for HATS\n",
    "    stats = stats.iloc[~stats.index.str.contains(\"Mag\")]\n",
    "\n",
    "    min_max_floats_in_range(stats, ra_cols, 0.0, 360.0, \"RIGHT ASCENSION\")\n",
    "    min_max_floats_in_range(stats, dec_cols, -90.0, 90.0, \"DECLINATION\")\n",
    "    min_max_floats_in_range(stats, flux_cols, -100_000_000.0, 100_000_000.0, \"FLUX\")\n",
    "    min_max_floats_in_range(stats, flux_err_cols, 0.0, 100_000_000.0, \"FLUX ERROR\")\n",
    "    min_max_floats_in_range(stats, mjd_cols, 60600.0, 60700.0, \"MJD\")\n",
    "\n",
    "    np_null_count = stats[\"null_count\"].to_numpy(copy=False, dtype=np.int64)\n",
    "    with_null_index = np.where(np_null_count > 0)\n",
    "    with_nulls = stats.iloc[with_null_index]\n",
    "\n",
    "    if len(with_nulls):\n",
    "        print(f\"  columns with nulls: {len(with_nulls)}\")\n",
    "        with_nulls = with_nulls[[\"null_count\"]]\n",
    "        with_nulls[\"percent\"] = [\n",
    "            null_count / cat.catalog_info.total_rows * 100\n",
    "            for null_count in with_nulls[\"null_count\"].to_numpy(\n",
    "                copy=False, dtype=np.int64\n",
    "            )\n",
    "        ]\n",
    "        with_nulls = with_nulls.sort_values(by=\"percent\", ascending=False)\n",
    "        print(with_nulls)\n",
    "    else:\n",
    "        print(\"  columns with nulls: 0\")"
   ]
  },
  {
   "cell_type": "code",
   "execution_count": null,
   "id": "005c1241-5cf0-42db-afe9-a27a0cd10ff7",
   "metadata": {
    "execution": {
     "iopub.execute_input": "2025-02-27T16:47:39.288664Z",
     "iopub.status.busy": "2025-02-27T16:47:39.288391Z",
     "iopub.status.idle": "2025-02-27T16:47:39.734261Z",
     "shell.execute_reply": "2025-02-27T16:47:39.733815Z",
     "shell.execute_reply.started": "2025-02-27T16:47:39.288642Z"
    }
   },
   "outputs": [],
   "source": [
    "verify_catalog(\"dia_object\", ra_cols=[\"ra\"], dec_cols=[\"dec\"], mjd_cols=[\"radecMjdTai\"])"
   ]
  },
  {
   "cell_type": "code",
   "execution_count": null,
   "id": "86413d0d-1a3d-4a42-ad2f-dcc907ed6acb",
   "metadata": {
    "execution": {
     "iopub.execute_input": "2025-02-27T16:47:48.923936Z",
     "iopub.status.busy": "2025-02-27T16:47:48.923730Z",
     "iopub.status.idle": "2025-02-27T16:47:49.362002Z",
     "shell.execute_reply": "2025-02-27T16:47:49.361574Z",
     "shell.execute_reply.started": "2025-02-27T16:47:48.923923Z"
    }
   },
   "outputs": [],
   "source": [
    "verify_catalog(\n",
    "    \"dia_source\",\n",
    "    ra_cols=[\"ra\", \"coord_ra\", \"trailRa\"],\n",
    "    dec_cols=[\"dec\", \"coord_dec\", \"trailDec\"],\n",
    "    flux_cols=[\n",
    "        \"apFlux\",\n",
    "        \"psfFlux\",\n",
    "        \"trailFlux\",\n",
    "        \"dipoleMeanFlux\",\n",
    "        \"dipoleFluxDiff\",\n",
    "        \"scienceFlux\",\n",
    "        \"ixxPSF\",\n",
    "        \"iyyPSF\",\n",
    "        \"ixyPSF\",\n",
    "    ],\n",
    "    flux_err_cols=[\n",
    "        \"apFluxErr\",\n",
    "        \"psfFluxErr\",\n",
    "        \"dipoleMeanFluxErr\",\n",
    "        \"dipoleFluxDiffErr\",\n",
    "        \"scienceFluxErr\",\n",
    "    ],\n",
    "    mjd_cols=[\"midpointMjdTai\"],\n",
    ")"
   ]
  },
  {
   "cell_type": "code",
   "execution_count": null,
   "id": "c87133e7-feda-4dbd-b125-619e3d646121",
   "metadata": {
    "execution": {
     "iopub.execute_input": "2025-02-27T16:47:51.950062Z",
     "iopub.status.busy": "2025-02-27T16:47:51.949585Z",
     "iopub.status.idle": "2025-02-27T16:47:58.902395Z",
     "shell.execute_reply": "2025-02-27T16:47:58.901973Z",
     "shell.execute_reply.started": "2025-02-27T16:47:51.950047Z"
    }
   },
   "outputs": [],
   "source": [
    "verify_catalog(\n",
    "    \"dia_object_forced_source\",\n",
    "    ra_cols=[\"coord_ra\"],\n",
    "    dec_cols=[\"coord_dec\"],\n",
    "    flux_cols=[\"psfFlux\", \"psfDiffFlux\"],\n",
    "    flux_err_cols=[\"psfFluxErr\", \"psfDiffFluxErr\"],\n",
    "    mjd_cols=[\"midpointMjdTai\"],\n",
    ")"
   ]
  },
  {
   "cell_type": "code",
   "execution_count": null,
   "id": "3a8c14ba-2a04-4129-a334-4f08d07524a2",
   "metadata": {
    "execution": {
     "iopub.execute_input": "2025-02-27T16:48:01.602011Z",
     "iopub.status.busy": "2025-02-27T16:48:01.601734Z",
     "iopub.status.idle": "2025-02-27T16:48:02.258184Z",
     "shell.execute_reply": "2025-02-27T16:48:02.257751Z",
     "shell.execute_reply.started": "2025-02-27T16:48:01.601998Z"
    }
   },
   "outputs": [],
   "source": [
    "verify_catalog(\n",
    "    \"object\",\n",
    "    ra_cols=[\"coord_ra\"],\n",
    "    dec_cols=[\"coord_dec\"],\n",
    "    flux_cols=[\n",
    "        \"u_psfFlux\",\n",
    "        \"u_kronFlux\",\n",
    "        \"g_psfFlux\",\n",
    "        \"g_kronFlux\",\n",
    "        \"r_psfFlux\",\n",
    "        \"r_kronFlux\",\n",
    "        \"i_psfFlux\",\n",
    "        \"i_kronFlux\",\n",
    "        \"z_psfFlux\",\n",
    "        \"z_kronFlux\",\n",
    "        \"y_psfFlux\",\n",
    "        \"y_kronFlux\",\n",
    "    ],\n",
    "    flux_err_cols=[\n",
    "        \"u_psfFluxErr\",\n",
    "        \"u_kronFluxErr\",\n",
    "        \"g_psfFluxErr\",\n",
    "        \"g_kronFluxErr\",\n",
    "        \"r_psfFluxErr\",\n",
    "        \"r_kronFluxErr\",\n",
    "        \"i_psfFluxErr\",\n",
    "        \"i_kronFluxErr\",\n",
    "        \"z_psfFluxErr\",\n",
    "        \"z_kronFluxErr\",\n",
    "        \"y_psfFluxErr\",\n",
    "        \"y_kronFluxErr\",\n",
    "    ],\n",
    ")"
   ]
  },
  {
   "cell_type": "code",
   "execution_count": null,
   "id": "73fafefb-f18f-4145-a5da-d6b2e8482a9c",
   "metadata": {
    "execution": {
     "iopub.execute_input": "2025-02-27T16:48:08.399215Z",
     "iopub.status.busy": "2025-02-27T16:48:08.398959Z",
     "iopub.status.idle": "2025-02-27T16:48:09.966853Z",
     "shell.execute_reply": "2025-02-27T16:48:09.966437Z",
     "shell.execute_reply.started": "2025-02-27T16:48:08.399202Z"
    }
   },
   "outputs": [],
   "source": [
    "# pd.set_option('display.max_rows', None)\n",
    "\n",
    "verify_catalog(\n",
    "    \"source2\",\n",
    "    ra_cols=[\"coord_ra\", \"ra\"],\n",
    "    dec_cols=[\"coord_dec\", \"dec\"],\n",
    "    flux_cols=[\n",
    "        \"calibFlux\",\n",
    "        \"ap03Flux\",\n",
    "        \"ap06Flux\",\n",
    "        \"ap09Flux\",\n",
    "        \"ap12Flux\",\n",
    "        \"ap17Flux\",\n",
    "        \"ap25Flux\",\n",
    "        \"ap35Flux\",\n",
    "        \"ap50Flux\",\n",
    "        \"ap70Flux\",\n",
    "        \"psfFlux\",\n",
    "        \"gaussianFlux\",\n",
    "        \"apFlux_12_0_instFlux\",\n",
    "        \"apFlux_17_0_instFlux\",\n",
    "        \"apFlux_35_0_instFlux\",\n",
    "        \"apFlux_50_0_instFlux\",\n",
    "        \"normCompTophatFlux_instFlux\",\n",
    "        \"localBackground_instFlux\",\n",
    "    ],\n",
    "    flux_err_cols=[\n",
    "        \"calibFluxErr\",\n",
    "        \"ap03FluxErr\",\n",
    "        \"ap06FluxErr\",\n",
    "        \"ap09FluxErr\",\n",
    "        \"ap12FluxErr\",\n",
    "        \"ap17FluxErr\",\n",
    "        \"ap25FluxErr\",\n",
    "        \"ap35FluxErr\",\n",
    "        \"ap50FluxErr\",\n",
    "        \"ap70FluxErr\",\n",
    "        \"psfFluxErr\",\n",
    "        \"gaussianFluxErr\",\n",
    "        \"apFlux_12_0_instFluxErr\",\n",
    "        \"apFlux_17_0_instFluxErr\",\n",
    "        \"apFlux_35_0_instFluxErr\",\n",
    "        \"apFlux_50_0_instFluxErr\",\n",
    "        \"normCompTophatFlux_instFluxErr\",\n",
    "        \"localBackground_instFluxErr\",\n",
    "    ],\n",
    "    mjd_cols=[\"midpointMjdTai\"],\n",
    ")"
   ]
  },
  {
   "cell_type": "code",
   "execution_count": null,
   "id": "ff23b69d-431b-4777-b244-1607d47d6a2d",
   "metadata": {
    "execution": {
     "iopub.execute_input": "2025-02-27T16:48:15.349372Z",
     "iopub.status.busy": "2025-02-27T16:48:15.349105Z",
     "iopub.status.idle": "2025-02-27T16:48:17.606463Z",
     "shell.execute_reply": "2025-02-27T16:48:17.606016Z",
     "shell.execute_reply.started": "2025-02-27T16:48:15.349360Z"
    }
   },
   "outputs": [],
   "source": [
    "verify_catalog(\n",
    "    \"object_forced_source\",\n",
    "    ra_cols=[\"coord_ra\"],\n",
    "    dec_cols=[\"coord_dec\"],\n",
    "    flux_cols=[\"psfFlux\", \"psfDiffFlux\"],\n",
    "    flux_err_cols=[\"psfFluxErr\", \"psfDiffFluxErr\"],\n",
    "    mjd_cols=[\"midpointMjdTai\"],\n",
    ")"
   ]
  }
 ],
 "metadata": {
  "kernelspec": {
   "display_name": "Python 3 (ipykernel)",
   "language": "python",
   "name": "python3"
  },
  "language_info": {
   "codemirror_mode": {
    "name": "ipython",
    "version": 3
   },
   "file_extension": ".py",
   "mimetype": "text/x-python",
   "name": "python",
   "nbconvert_exporter": "python",
   "pygments_lexer": "ipython3",
   "version": "3.12.9"
  }
 },
 "nbformat": 4,
 "nbformat_minor": 5
}
