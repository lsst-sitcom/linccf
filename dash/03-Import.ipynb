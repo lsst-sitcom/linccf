{
 "cells": [
  {
   "cell_type": "markdown",
   "id": "8e5a49bb-9251-4b4a-b347-fbef01b945eb",
   "metadata": {},
   "source": [
    "# Import to HATS\n",
    "\n",
    "Use hats-import to ingest the parquet URLs and create each HATS catalog."
   ]
  },
  {
   "cell_type": "code",
   "execution_count": 1,
   "id": "4ab38dd4-ec6d-4d45-9b0d-f41652e9779b",
   "metadata": {
    "execution": {
     "iopub.execute_input": "2025-02-12T00:58:02.236554Z",
     "iopub.status.busy": "2025-02-12T00:58:02.235997Z",
     "iopub.status.idle": "2025-02-12T00:58:04.404971Z",
     "shell.execute_reply": "2025-02-12T00:58:04.404469Z",
     "shell.execute_reply.started": "2025-02-12T00:58:02.236528Z"
    }
   },
   "outputs": [],
   "source": [
    "import os\n",
    "import tempfile\n",
    "import hats_import.pipeline as runner\n",
    "\n",
    "from pathlib import Path\n",
    "from dask.distributed import Client\n",
    "from hats_import.catalog.arguments import ImportArguments\n",
    "from dimension_reader import DimensionParquetReader"
   ]
  },
  {
   "cell_type": "code",
   "execution_count": 2,
   "id": "4d3a6b07-f916-4e26-8862-ed50f2e669d8",
   "metadata": {
    "execution": {
     "iopub.execute_input": "2025-02-12T00:58:05.467248Z",
     "iopub.status.busy": "2025-02-12T00:58:05.466340Z",
     "iopub.status.idle": "2025-02-12T00:58:05.470049Z",
     "shell.execute_reply": "2025-02-12T00:58:05.469655Z",
     "shell.execute_reply.started": "2025-02-12T00:58:05.467230Z"
    }
   },
   "outputs": [],
   "source": [
    "DRP_VERSION = os.environ[\"DRP_VERSION\"]\n",
    "COLLECTION_TAG = os.environ[\"COLLECTION_TAG\"]\n",
    "print(f\"DRP_VERSION: {DRP_VERSION}\")\n",
    "print(f\"COLLECTION_TAG: {COLLECTION_TAG}\")\n",
    "base_output_dir = Path(f\"/sdf/data/rubin/shared/lsdb_commissioning\")\n",
    "collections = f\"LSSTComCam/runs/DRP/DP1/{DRP_VERSION}/{COLLECTION_TAG}\""
   ]
  },
  {
   "cell_type": "code",
   "execution_count": 3,
   "id": "299c1c4e",
   "metadata": {
    "execution": {
     "iopub.execute_input": "2025-02-12T00:58:06.473260Z",
     "iopub.status.busy": "2025-02-12T00:58:06.472686Z",
     "iopub.status.idle": "2025-02-12T00:58:06.481610Z",
     "shell.execute_reply": "2025-02-12T00:58:06.481233Z",
     "shell.execute_reply.started": "2025-02-12T00:58:06.473242Z"
    }
   },
   "outputs": [],
   "source": [
    "raw_dir = base_output_dir / \"raw\" / DRP_VERSION\n",
    "hats_dir = base_output_dir / \"hats\" / DRP_VERSION\n",
    "hats_dir.mkdir(parents=True, exist_ok=True)"
   ]
  },
  {
   "cell_type": "code",
   "execution_count": 4,
   "id": "d860e7b9-0230-41da-9d5f-aebcb925bb61",
   "metadata": {
    "execution": {
     "iopub.execute_input": "2025-02-12T00:58:08.332448Z",
     "iopub.status.busy": "2025-02-12T00:58:08.331892Z",
     "iopub.status.idle": "2025-02-12T00:58:09.704368Z",
     "shell.execute_reply": "2025-02-12T00:58:09.703833Z",
     "shell.execute_reply.started": "2025-02-12T00:58:08.332432Z"
    }
   },
   "outputs": [],
   "source": [
    "tmp_path = tempfile.TemporaryDirectory()\n",
    "tmp_dir = tmp_path.name\n",
    "client = Client(n_workers=16, threads_per_worker=1, local_directory=tmp_dir)"
   ]
  },
  {
   "cell_type": "markdown",
   "id": "ce11c220",
   "metadata": {},
   "source": [
    "### Helper methods"
   ]
  },
  {
   "cell_type": "code",
   "execution_count": 5,
   "id": "bc6a6cf2-991d-4dca-b5e0-5155a960712a",
   "metadata": {
    "execution": {
     "iopub.execute_input": "2025-02-12T00:58:13.416041Z",
     "iopub.status.busy": "2025-02-12T00:58:13.415732Z",
     "iopub.status.idle": "2025-02-12T00:58:13.419029Z",
     "shell.execute_reply": "2025-02-12T00:58:13.418480Z",
     "shell.execute_reply.started": "2025-02-12T00:58:13.416025Z"
    }
   },
   "outputs": [],
   "source": [
    "def get_paths(dataset_type):\n",
    "    index_dir = raw_dir / \"index\" / dataset_type\n",
    "    return list(index_dir.glob(\"*.csv\"))"
   ]
  },
  {
   "cell_type": "markdown",
   "id": "22ae0f42",
   "metadata": {},
   "source": [
    "#### dia_object"
   ]
  },
  {
   "cell_type": "code",
   "execution_count": 6,
   "id": "364c9060-d650-4f51-b43a-264aee21c3a8",
   "metadata": {
    "execution": {
     "iopub.execute_input": "2025-02-12T00:58:14.473497Z",
     "iopub.status.busy": "2025-02-12T00:58:14.473215Z",
     "iopub.status.idle": "2025-02-12T00:58:33.229625Z",
     "shell.execute_reply": "2025-02-12T00:58:33.229206Z",
     "shell.execute_reply.started": "2025-02-12T00:58:14.473481Z"
    }
   },
   "outputs": [],
   "source": [
    "dia_obj_default_columns = [\"diaObjectId\", \"ra\", \"dec\", \"nDiaSources\", \"radecMjdTai\"]\n",
    "\n",
    "\n",
    "args = ImportArguments(\n",
    "    output_path=hats_dir,\n",
    "    output_artifact_name=\"dia_object\",\n",
    "    input_file_list=get_paths(\"dia_object\"),\n",
    "    file_reader=DimensionParquetReader(column_names=dia_obj_default_columns),\n",
    "    ra_column=\"ra\",\n",
    "    dec_column=\"dec\",\n",
    "    catalog_type=\"object\",\n",
    "    highest_healpix_order=0,\n",
    "    pixel_threshold=5_000_000,\n",
    "    simple_progress_bar=True,\n",
    "    resume=False,\n",
    ")\n",
    "runner.pipeline_with_client(args, client)"
   ]
  },
  {
   "cell_type": "markdown",
   "id": "55eb1d3f",
   "metadata": {},
   "source": [
    "#### dia_source"
   ]
  },
  {
   "cell_type": "code",
   "execution_count": 7,
   "id": "1d909565-2e74-4f7c-9ca4-6dd7f7abd6ca",
   "metadata": {
    "execution": {
     "iopub.execute_input": "2025-02-12T00:58:37.007710Z",
     "iopub.status.busy": "2025-02-12T00:58:37.007407Z",
     "iopub.status.idle": "2025-02-12T00:59:05.404109Z",
     "shell.execute_reply": "2025-02-12T00:59:05.403701Z",
     "shell.execute_reply.started": "2025-02-12T00:58:37.007694Z"
    }
   },
   "outputs": [],
   "source": [
    "args = ImportArguments(\n",
    "    output_path=hats_dir,\n",
    "    output_artifact_name=\"dia_source\",\n",
    "    input_file_list=get_paths(\"dia_source\"),\n",
    "    file_reader=DimensionParquetReader(),\n",
    "    ra_column=\"ra\",\n",
    "    dec_column=\"dec\",\n",
    "    catalog_type=\"source\",\n",
    "    highest_healpix_order=0,\n",
    "    pixel_threshold=4_000_000,\n",
    "    simple_progress_bar=True,\n",
    "    resume=False,\n",
    ")\n",
    "runner.pipeline_with_client(args, client)"
   ]
  },
  {
   "cell_type": "markdown",
   "id": "4088c7aa",
   "metadata": {},
   "source": [
    "#### dia_object_forced_source"
   ]
  },
  {
   "cell_type": "code",
   "execution_count": 8,
   "id": "1ab1a876-2466-4c8c-9b06-f24ea4e4eae5",
   "metadata": {
    "execution": {
     "iopub.execute_input": "2025-02-12T00:59:10.152471Z",
     "iopub.status.busy": "2025-02-12T00:59:10.152006Z",
     "iopub.status.idle": "2025-02-12T01:07:38.099809Z",
     "shell.execute_reply": "2025-02-12T01:07:38.099343Z",
     "shell.execute_reply.started": "2025-02-12T00:59:10.152450Z"
    }
   },
   "outputs": [],
   "source": [
    "args = ImportArguments(\n",
    "    output_path=hats_dir,\n",
    "    output_artifact_name=\"dia_object_forced_source\",\n",
    "    input_file_list=get_paths(\"dia_object_forced_source\"),\n",
    "    file_reader=DimensionParquetReader(),\n",
    "    ra_column=\"coord_ra\",\n",
    "    dec_column=\"coord_dec\",\n",
    "    catalog_type=\"source\",\n",
    "    pixel_threshold=25_000_000,\n",
    "    highest_healpix_order=9,\n",
    "    simple_progress_bar=True,\n",
    "    resume=False,\n",
    ")\n",
    "runner.pipeline_with_client(args, client)"
   ]
  },
  {
   "cell_type": "markdown",
   "id": "f32ba98d",
   "metadata": {},
   "source": [
    "#### object"
   ]
  },
  {
   "cell_type": "code",
   "execution_count": 9,
   "id": "46895e6e",
   "metadata": {
    "execution": {
     "iopub.execute_input": "2025-02-12T01:09:07.757295Z",
     "iopub.status.busy": "2025-02-12T01:09:07.756828Z",
     "iopub.status.idle": "2025-02-12T01:09:07.762960Z",
     "shell.execute_reply": "2025-02-12T01:09:07.762501Z",
     "shell.execute_reply.started": "2025-02-12T01:09:07.757280Z"
    }
   },
   "outputs": [],
   "source": [
    "cols_per_band = []\n",
    "for band in list(\"ugrizy\"):\n",
    "    for flux_type in [\"psf\", \"kron\"]:\n",
    "        prefix = f\"{band}_{flux_type}\"\n",
    "        cols_per_band.extend([f\"{prefix}Flux\", f\"{prefix}FluxErr\"])\n",
    "    cols_per_band.append(f\"{band}_kronRad\")\n",
    "\n",
    "obj_default_columns = [\n",
    "    \"objectId\",\n",
    "    \"refFwhm\",\n",
    "    \"shape_flag\",\n",
    "    \"sky_object\",\n",
    "    \"parentObjectId\",\n",
    "    \"x\",\n",
    "    \"y\",\n",
    "    \"xErr\",\n",
    "    \"yErr\",\n",
    "    \"shape_yy\",\n",
    "    \"shape_xx\",\n",
    "    \"shape_xy\",\n",
    "    \"coord_ra\",\n",
    "    \"coord_dec\",\n",
    "    \"coord_raErr\",\n",
    "    \"coord_decErr\",\n",
    "    \"tract\",\n",
    "    \"patch\",\n",
    "    \"detect_isIsolated\",\n",
    "] + cols_per_band"
   ]
  },
  {
   "cell_type": "code",
   "execution_count": 10,
   "id": "d4292007-30bd-4822-991c-300e0a3ff017",
   "metadata": {
    "execution": {
     "iopub.execute_input": "2025-02-12T01:09:09.029946Z",
     "iopub.status.busy": "2025-02-12T01:09:09.029732Z",
     "iopub.status.idle": "2025-02-12T01:09:44.600757Z",
     "shell.execute_reply": "2025-02-12T01:09:44.599804Z",
     "shell.execute_reply.started": "2025-02-12T01:09:09.029931Z"
    }
   },
   "outputs": [],
   "source": [
    "args = ImportArguments(\n",
    "    output_path=hats_dir,\n",
    "    output_artifact_name=\"object\",\n",
    "    input_file_list=get_paths(\"object\"),\n",
    "    file_reader=DimensionParquetReader(\n",
    "        column_names=obj_default_columns, chunksize=250_000\n",
    "    ),\n",
    "    ra_column=\"coord_ra\",\n",
    "    dec_column=\"coord_dec\",\n",
    "    catalog_type=\"object\",\n",
    "    highest_healpix_order=7,\n",
    "    pixel_threshold=300_000,\n",
    "    simple_progress_bar=True,\n",
    "    resume=False,\n",
    ")\n",
    "runner.pipeline_with_client(args, client)"
   ]
  },
  {
   "cell_type": "markdown",
   "id": "302bb848",
   "metadata": {},
   "source": [
    "#### source"
   ]
  },
  {
   "cell_type": "code",
   "execution_count": 11,
   "id": "3ab3ef3e-e426-4282-92e8-897bd11c87e1",
   "metadata": {
    "execution": {
     "iopub.execute_input": "2025-02-12T01:09:47.656340Z",
     "iopub.status.busy": "2025-02-12T01:09:47.655783Z",
     "iopub.status.idle": "2025-02-12T01:16:27.288621Z",
     "shell.execute_reply": "2025-02-12T01:16:27.287858Z",
     "shell.execute_reply.started": "2025-02-12T01:09:47.656324Z"
    }
   },
   "outputs": [],
   "source": [
    "args = ImportArguments(\n",
    "    output_path=hats_dir,\n",
    "    output_artifact_name=\"source\",\n",
    "    input_file_list=get_paths(\"source\"),\n",
    "    file_reader=DimensionParquetReader(),\n",
    "    ra_column=\"ra\",\n",
    "    dec_column=\"dec\",\n",
    "    catalog_type=\"source\",\n",
    "    highest_healpix_order=9,\n",
    "    pixel_threshold=1_000_000,\n",
    "    simple_progress_bar=True,\n",
    "    resume=False,\n",
    ")\n",
    "runner.pipeline_with_client(args, client)"
   ]
  },
  {
   "cell_type": "markdown",
   "id": "28e867bf",
   "metadata": {},
   "source": [
    "#### object_forced_source"
   ]
  },
  {
   "cell_type": "code",
   "execution_count": 12,
   "id": "7519309d-509c-4074-965f-aef6e239ac5a",
   "metadata": {
    "execution": {
     "iopub.execute_input": "2025-01-30T14:29:01.831212Z",
     "iopub.status.busy": "2025-01-30T14:29:01.830919Z",
     "iopub.status.idle": "2025-01-30T14:37:46.203302Z",
     "shell.execute_reply": "2025-01-30T14:37:46.202939Z",
     "shell.execute_reply.started": "2025-01-30T14:29:01.831192Z"
    }
   },
   "outputs": [],
   "source": [
    "args = ImportArguments(\n",
    "    output_path=hats_dir,\n",
    "    output_artifact_name=\"object_forced_source\",\n",
    "    input_file_list=get_paths(\"object_forced_source\"),\n",
    "    file_reader=DimensionParquetReader(),\n",
    "    ra_column=\"coord_ra\",\n",
    "    dec_column=\"coord_dec\",\n",
    "    catalog_type=\"source\",\n",
    "    highest_healpix_order=9,\n",
    "    pixel_threshold=25_000_000,\n",
    "    simple_progress_bar=True,\n",
    "    resume=False,\n",
    ")\n",
    "runner.pipeline_with_client(args, client)"
   ]
  },
  {
   "cell_type": "code",
   "execution_count": 13,
   "id": "fb66ea74",
   "metadata": {
    "execution": {
     "iopub.execute_input": "2025-02-12T00:55:16.471447Z",
     "iopub.status.busy": "2025-02-12T00:55:16.471189Z",
     "iopub.status.idle": "2025-02-12T00:55:18.012222Z",
     "shell.execute_reply": "2025-02-12T00:55:18.011671Z",
     "shell.execute_reply.started": "2025-02-12T00:55:16.471431Z"
    }
   },
   "outputs": [],
   "source": [
    "client.close()\n",
    "tmp_path.cleanup()"
   ]
  }
 ],
 "metadata": {
  "kernelspec": {
   "display_name": "Python 3 (ipykernel)",
   "language": "python",
   "name": "python3"
  }
 },
 "nbformat": 4,
 "nbformat_minor": 5
}
