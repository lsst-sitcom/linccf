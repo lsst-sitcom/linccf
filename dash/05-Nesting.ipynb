{
 "cells": [
  {
   "cell_type": "markdown",
   "id": "8e5a49bb-9251-4b4a-b347-fbef01b945eb",
   "metadata": {},
   "source": [
    "# Nesting\n",
    "\n",
    "Create catalogs for `dia_object` and `object` with nested sources and forced sources."
   ]
  },
  {
   "cell_type": "code",
   "execution_count": 14,
   "id": "4d3a6b07-f916-4e26-8862-ed50f2e669d8",
   "metadata": {
    "execution": {
     "iopub.execute_input": "2025-01-30T14:28:36.544536Z",
     "iopub.status.busy": "2025-01-30T14:28:36.544039Z",
     "iopub.status.idle": "2025-01-30T14:28:36.546721Z",
     "shell.execute_reply": "2025-01-30T14:28:36.546389Z",
     "shell.execute_reply.started": "2025-01-30T14:28:36.544519Z"
    }
   },
   "outputs": [],
   "source": [
    "import os\n",
    "import lsdb\n",
    "import tempfile\n",
    "import hats_import.pipeline as runner\n",
    "\n",
    "from pathlib import Path\n",
    "from dask.distributed import Client\n",
    "from hats_import.margin_cache.margin_cache_arguments import MarginCacheArguments"
   ]
  },
  {
   "cell_type": "code",
   "execution_count": 15,
   "id": "9fda8024-983e-44e7-8c06-58159498f200",
   "metadata": {
    "execution": {
     "iopub.execute_input": "2025-01-30T14:28:37.876082Z",
     "iopub.status.busy": "2025-01-30T14:28:37.875831Z",
     "iopub.status.idle": "2025-01-30T14:28:37.878403Z",
     "shell.execute_reply": "2025-01-30T14:28:37.878038Z",
     "shell.execute_reply.started": "2025-01-30T14:28:37.876067Z"
    }
   },
   "outputs": [],
   "source": [
    "VERSION = os.environ[\"VERSION\"]\n",
    "OUTPUT_DIR = Path(os.environ[\"OUTPUT_DIR\"])\n",
    "\n",
    "print(f\"VERSION: {VERSION}\")\n",
    "print(f\"OUTPUT_DIR: {OUTPUT_DIR}\")\n",
    "\n",
    "raw_dir = OUTPUT_DIR / \"raw\" / VERSION\n",
    "hats_dir = OUTPUT_DIR / \"hats\" / VERSION"
   ]
  },
  {
   "cell_type": "code",
   "execution_count": 16,
   "id": "93bb4491",
   "metadata": {},
   "outputs": [],
   "source": [
    "tmp_path = tempfile.TemporaryDirectory()\n",
    "tmp_dir = tmp_path.name\n",
    "client = Client(n_workers=16, threads_per_worker=1, local_directory=tmp_dir)"
   ]
  },
  {
   "cell_type": "code",
   "execution_count": 17,
   "id": "daa08aa1",
   "metadata": {},
   "outputs": [],
   "source": [
    "def sort_nested_sources(df, source_cols):\n",
    "    mjd_col = \"midpointMjdTai\"\n",
    "    for source_col in source_cols:\n",
    "        flat_sources = df[source_col].nest.to_flat()\n",
    "        df = df.drop(columns=[source_col])\n",
    "        df = df.add_nested(\n",
    "            flat_sources.sort_values([flat_sources.index.name, mjd_col]), source_col\n",
    "        )\n",
    "    return df"
   ]
  },
  {
   "cell_type": "markdown",
   "id": "b7a4f63d",
   "metadata": {},
   "source": [
    "### Generate margin caches\n",
    "\n",
    "To nest the sources accurately we need to generate intermediate margin caches for those catalogs. They will be temporarily stored in a scratch directory and automatically erased at the end of the notebook."
   ]
  },
  {
   "cell_type": "code",
   "execution_count": 18,
   "id": "c1bbdbdd",
   "metadata": {},
   "outputs": [],
   "source": [
    "margin_radius_arcsec = 2"
   ]
  },
  {
   "cell_type": "code",
   "execution_count": 19,
   "id": "4f79437b",
   "metadata": {},
   "outputs": [],
   "source": [
    "args = MarginCacheArguments(\n",
    "    input_catalog_path=hats_dir / \"dia_source\",\n",
    "    output_path=tmp_dir,\n",
    "    margin_threshold=margin_radius_arcsec,\n",
    "    output_artifact_name=f\"dia_source_{margin_radius_arcsec}arcs\",\n",
    "    simple_progress_bar=True,\n",
    "    resume=False,\n",
    ")\n",
    "runner.pipeline_with_client(args, client)"
   ]
  },
  {
   "cell_type": "code",
   "execution_count": 20,
   "id": "ddc4cbc4",
   "metadata": {},
   "outputs": [],
   "source": [
    "args = MarginCacheArguments(\n",
    "    input_catalog_path=hats_dir / \"dia_object_forced_source\",\n",
    "    output_path=tmp_dir,\n",
    "    margin_threshold=margin_radius_arcsec,\n",
    "    output_artifact_name=f\"dia_object_forced_source_{margin_radius_arcsec}arcs\",\n",
    "    simple_progress_bar=True,\n",
    "    resume=False,\n",
    ")\n",
    "runner.pipeline_with_client(args, client)"
   ]
  },
  {
   "cell_type": "code",
   "execution_count": 21,
   "id": "f3cb1623",
   "metadata": {},
   "outputs": [],
   "source": [
    "args = MarginCacheArguments(\n",
    "    input_catalog_path=hats_dir / \"object_forced_source\",\n",
    "    output_path=tmp_dir,\n",
    "    margin_threshold=margin_radius_arcsec,\n",
    "    output_artifact_name=f\"object_forced_source_{margin_radius_arcsec}arcs\",\n",
    "    simple_progress_bar=True,\n",
    "    resume=False,\n",
    ")\n",
    "runner.pipeline_with_client(args, client)"
   ]
  },
  {
   "cell_type": "markdown",
   "id": "79e3e6ee",
   "metadata": {},
   "source": [
    "### dia_object with nested sources"
   ]
  },
  {
   "cell_type": "code",
   "execution_count": 22,
   "id": "136ea54d",
   "metadata": {},
   "outputs": [],
   "source": [
    "dia_object_cat = lsdb.read_hats(hats_dir / \"dia_object\")\n",
    "\n",
    "dia_source_cat = lsdb.read_hats(\n",
    "    hats_dir / \"dia_source\",\n",
    "    margin_cache=Path(tmp_dir) / f\"dia_source_{margin_radius_arcsec}arcs\",\n",
    ")\n",
    "\n",
    "dia_object_forced_source_cat = lsdb.read_hats(\n",
    "    hats_dir / \"dia_object_forced_source\",\n",
    "    margin_cache=Path(tmp_dir) / f\"dia_object_forced_source_{margin_radius_arcsec}arcs\",\n",
    ")"
   ]
  },
  {
   "cell_type": "code",
   "execution_count": 23,
   "id": "e820f5f0",
   "metadata": {},
   "outputs": [],
   "source": [
    "dia_object_cat_nested = dia_object_cat.join_nested(\n",
    "    dia_source_cat,\n",
    "    left_on=\"diaObjectId\",\n",
    "    right_on=\"diaObjectId\",\n",
    "    nested_column_name=\"diaSource\",\n",
    ").join_nested(\n",
    "    dia_object_forced_source_cat,\n",
    "    left_on=\"diaObjectId\",\n",
    "    right_on=\"diaObjectId\",\n",
    "    nested_column_name=\"diaObjectForcedSource\",\n",
    ")\n",
    "dia_object_cat_nested"
   ]
  },
  {
   "cell_type": "markdown",
   "id": "653e3688",
   "metadata": {},
   "source": [
    "Also, for each object, sort sources by timestamp:"
   ]
  },
  {
   "cell_type": "code",
   "execution_count": 24,
   "id": "361a4bb3",
   "metadata": {},
   "outputs": [],
   "source": [
    "dia_object_cat_nested = dia_object_cat_nested.map_partitions(\n",
    "    lambda x: sort_nested_sources(x, source_cols=[\"diaSource\", \"diaObjectForcedSource\"])\n",
    ")"
   ]
  },
  {
   "cell_type": "markdown",
   "id": "82fe6778",
   "metadata": {},
   "source": [
    "Save resulting catalog to disk:"
   ]
  },
  {
   "cell_type": "code",
   "execution_count": 25,
   "id": "8652d118",
   "metadata": {},
   "outputs": [],
   "source": [
    "dia_object_cat_nested.to_hats(hats_dir / \"dia_object_lc\", catalog_name=\"dia_object_lc\")"
   ]
  },
  {
   "cell_type": "markdown",
   "id": "e6260fb7",
   "metadata": {},
   "source": [
    "Reading the catalog with LSDB:"
   ]
  },
  {
   "cell_type": "code",
   "execution_count": 26,
   "id": "a2f2ae93",
   "metadata": {},
   "outputs": [],
   "source": [
    "dia_object_lc = lsdb.read_hats(hats_dir / \"dia_object_lc\")\n",
    "dia_object_lc"
   ]
  },
  {
   "cell_type": "markdown",
   "id": "a48904bd",
   "metadata": {},
   "source": [
    "### object with nested sources"
   ]
  },
  {
   "cell_type": "code",
   "execution_count": 27,
   "id": "71361cf3",
   "metadata": {},
   "outputs": [],
   "source": [
    "object_cat = lsdb.read_hats(hats_dir / \"object\")\n",
    "\n",
    "object_forced_source_cat = lsdb.read_hats(\n",
    "    hats_dir / \"object_forced_source\",\n",
    "    margin_cache=Path(tmp_dir) / f\"object_forced_source_{margin_radius_arcsec}arcs\",\n",
    ")"
   ]
  },
  {
   "cell_type": "code",
   "execution_count": 28,
   "id": "d37e4d8e",
   "metadata": {},
   "outputs": [],
   "source": [
    "object_cat_nested = object_cat.join_nested(\n",
    "    object_forced_source_cat,\n",
    "    left_on=\"objectId\",\n",
    "    right_on=\"objectId\",\n",
    "    nested_column_name=\"objectForcedSource\",\n",
    ")\n",
    "object_cat_nested"
   ]
  },
  {
   "cell_type": "markdown",
   "id": "b85b5f74",
   "metadata": {},
   "source": [
    "Also, for each object, sort sources by timestamp:"
   ]
  },
  {
   "cell_type": "code",
   "execution_count": 29,
   "id": "9ec168b6",
   "metadata": {},
   "outputs": [],
   "source": [
    "object_cat_nested = object_cat_nested.map_partitions(\n",
    "    lambda x: sort_nested_sources(x, source_cols=[\"objectForcedSource\"])\n",
    ")"
   ]
  },
  {
   "cell_type": "markdown",
   "id": "e03ee70e",
   "metadata": {},
   "source": [
    "Save resulting catalog to disk:"
   ]
  },
  {
   "cell_type": "code",
   "execution_count": 30,
   "id": "9f485952",
   "metadata": {},
   "outputs": [],
   "source": [
    "object_cat_nested.to_hats(hats_dir / \"object_lc\", catalog_name=\"object_lc\")"
   ]
  },
  {
   "cell_type": "markdown",
   "id": "cec23ea0",
   "metadata": {},
   "source": [
    "Reading the catalog with LSDB:"
   ]
  },
  {
   "cell_type": "code",
   "execution_count": 31,
   "id": "39bac872",
   "metadata": {},
   "outputs": [],
   "source": [
    "object_lc = lsdb.read_hats(hats_dir / \"object_lc\")\n",
    "object_lc"
   ]
  },
  {
   "cell_type": "code",
   "execution_count": 32,
   "id": "7ae463ab-2e2e-4aec-8e2e-4bcb21a8c3c5",
   "metadata": {
    "execution": {
     "iopub.execute_input": "2025-01-30T14:48:17.090895Z",
     "iopub.status.busy": "2025-01-30T14:48:17.090607Z",
     "iopub.status.idle": "2025-01-30T14:48:17.472416Z",
     "shell.execute_reply": "2025-01-30T14:48:17.472035Z",
     "shell.execute_reply.started": "2025-01-30T14:48:17.090881Z"
    }
   },
   "outputs": [],
   "source": [
    "client.close()\n",
    "tmp_path.cleanup()"
   ]
  }
 ],
 "metadata": {
  "kernelspec": {
   "display_name": "Python 3 (ipykernel)",
   "language": "python",
   "name": "python3"
  }
 },
 "nbformat": 4,
 "nbformat_minor": 5
}
