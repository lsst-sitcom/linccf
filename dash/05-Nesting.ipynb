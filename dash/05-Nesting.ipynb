{
 "cells": [
  {
   "cell_type": "markdown",
   "id": "8e5a49bb-9251-4b4a-b347-fbef01b945eb",
   "metadata": {},
   "source": [
    "# Nesting\n",
    "\n",
    "Create catalogs for `dia_object` and `object` with nested sources and forced sources."
   ]
  },
  {
   "cell_type": "code",
   "execution_count": null,
   "id": "4d3a6b07-f916-4e26-8862-ed50f2e669d8",
   "metadata": {
    "execution": {
     "iopub.execute_input": "2025-01-30T14:28:36.544536Z",
     "iopub.status.busy": "2025-01-30T14:28:36.544039Z",
     "iopub.status.idle": "2025-01-30T14:28:36.546721Z",
     "shell.execute_reply": "2025-01-30T14:28:36.546389Z",
     "shell.execute_reply.started": "2025-01-30T14:28:36.544519Z"
    }
   },
   "outputs": [],
   "source": [
    "import os\n",
    "import lsdb\n",
    "import tempfile\n",
    "\n",
    "from pathlib import Path\n",
    "from dask.distributed import Client\n",
    "from hats_import import pipeline_with_client\n",
    "from hats_import.catalog import ImportArguments\n",
    "from hats_import.margin_cache.margin_cache_arguments import MarginCacheArguments"
   ]
  },
  {
   "cell_type": "code",
   "execution_count": null,
   "id": "9fda8024-983e-44e7-8c06-58159498f200",
   "metadata": {
    "execution": {
     "iopub.execute_input": "2025-01-30T14:28:37.876082Z",
     "iopub.status.busy": "2025-01-30T14:28:37.875831Z",
     "iopub.status.idle": "2025-01-30T14:28:37.878403Z",
     "shell.execute_reply": "2025-01-30T14:28:37.878038Z",
     "shell.execute_reply.started": "2025-01-30T14:28:37.876067Z"
    }
   },
   "outputs": [],
   "source": [
    "VERSION = os.environ[\"VERSION\"]\n",
    "OUTPUT_DIR = Path(os.environ[\"OUTPUT_DIR\"])\n",
    "\n",
    "print(f\"VERSION: {VERSION}\")\n",
    "print(f\"OUTPUT_DIR: {OUTPUT_DIR}\")\n",
    "\n",
    "raw_dir = OUTPUT_DIR / \"raw\" / VERSION\n",
    "hats_dir = OUTPUT_DIR / \"hats\" / VERSION"
   ]
  },
  {
   "cell_type": "code",
   "execution_count": null,
   "id": "93bb4491",
   "metadata": {},
   "outputs": [],
   "source": [
    "tmp_path = tempfile.TemporaryDirectory()\n",
    "tmp_dir = tmp_path.name\n",
    "client = Client(n_workers=16, threads_per_worker=1, local_directory=tmp_dir)"
   ]
  },
  {
   "cell_type": "code",
   "execution_count": null,
   "id": "daa08aa1",
   "metadata": {},
   "outputs": [],
   "source": [
    "def sort_nested_sources(df, source_cols):\n",
    "    mjd_col = \"midpointMjdTai\"\n",
    "    for source_col in source_cols:\n",
    "        flat_sources = df[source_col].nest.to_flat()\n",
    "        df = df.drop(columns=[source_col])\n",
    "        df = df.add_nested(\n",
    "            flat_sources.sort_values([flat_sources.index.name, mjd_col]), source_col\n",
    "        )\n",
    "    return df"
   ]
  },
  {
   "cell_type": "markdown",
   "id": "b7a4f63d",
   "metadata": {},
   "source": [
    "### Generate margin caches\n",
    "\n",
    "To nest the sources accurately we need to generate intermediate margin caches for those catalogs. They will be temporarily stored in a scratch directory and automatically erased at the end of the notebook."
   ]
  },
  {
   "cell_type": "code",
   "execution_count": null,
   "id": "c1bbdbdd",
   "metadata": {},
   "outputs": [],
   "source": [
    "margin_radius_arcsec = 2"
   ]
  },
  {
   "cell_type": "code",
   "execution_count": null,
   "id": "4f79437b",
   "metadata": {},
   "outputs": [],
   "source": [
    "args = MarginCacheArguments(\n",
    "    input_catalog_path=hats_dir / \"dia_source\",\n",
    "    output_path=tmp_dir,\n",
    "    margin_threshold=margin_radius_arcsec,\n",
    "    output_artifact_name=f\"dia_source_{margin_radius_arcsec}arcs\",\n",
    "    simple_progress_bar=True,\n",
    "    resume=False,\n",
    ")\n",
    "pipeline_with_client(args, client)"
   ]
  },
  {
   "cell_type": "code",
   "execution_count": null,
   "id": "ddc4cbc4",
   "metadata": {},
   "outputs": [],
   "source": [
    "args = MarginCacheArguments(\n",
    "    input_catalog_path=hats_dir / \"dia_object_forced_source\",\n",
    "    output_path=tmp_dir,\n",
    "    margin_threshold=margin_radius_arcsec,\n",
    "    output_artifact_name=f\"dia_object_forced_source_{margin_radius_arcsec}arcs\",\n",
    "    simple_progress_bar=True,\n",
    "    resume=False,\n",
    ")\n",
    "pipeline_with_client(args, client)"
   ]
  },
  {
   "cell_type": "code",
   "execution_count": null,
   "id": "f3cb1623",
   "metadata": {},
   "outputs": [],
   "source": [
    "args = MarginCacheArguments(\n",
    "    input_catalog_path=hats_dir / \"object_forced_source\",\n",
    "    output_path=tmp_dir,\n",
    "    margin_threshold=margin_radius_arcsec,\n",
    "    output_artifact_name=f\"object_forced_source_{margin_radius_arcsec}arcs\",\n",
    "    simple_progress_bar=True,\n",
    "    resume=False,\n",
    ")\n",
    "pipeline_with_client(args, client)"
   ]
  },
  {
   "cell_type": "markdown",
   "id": "79e3e6ee",
   "metadata": {},
   "source": [
    "### dia_object with nested sources"
   ]
  },
  {
   "cell_type": "code",
   "execution_count": null,
   "id": "136ea54d",
   "metadata": {},
   "outputs": [],
   "source": [
    "dia_object_cat = lsdb.read_hats(hats_dir / \"dia_object\")\n",
    "\n",
    "dia_source_cat = lsdb.read_hats(\n",
    "    hats_dir / \"dia_source\",\n",
    "    margin_cache=Path(tmp_dir) / f\"dia_source_{margin_radius_arcsec}arcs\",\n",
    ")\n",
    "\n",
    "dia_object_forced_source_cat = lsdb.read_hats(\n",
    "    hats_dir / \"dia_object_forced_source\",\n",
    "    margin_cache=Path(tmp_dir) / f\"dia_object_forced_source_{margin_radius_arcsec}arcs\",\n",
    ")"
   ]
  },
  {
   "cell_type": "code",
   "execution_count": null,
   "id": "e820f5f0",
   "metadata": {},
   "outputs": [],
   "source": [
    "dia_object_cat_nested = dia_object_cat.join_nested(\n",
    "    dia_source_cat,\n",
    "    left_on=\"diaObjectId\",\n",
    "    right_on=\"diaObjectId\",\n",
    "    nested_column_name=\"diaSource\",\n",
    ").join_nested(\n",
    "    dia_object_forced_source_cat,\n",
    "    left_on=\"diaObjectId\",\n",
    "    right_on=\"diaObjectId\",\n",
    "    nested_column_name=\"diaObjectForcedSource\",\n",
    ")\n",
    "dia_object_cat_nested"
   ]
  },
  {
   "cell_type": "markdown",
   "id": "653e3688",
   "metadata": {},
   "source": [
    "Also, for each object, sort sources by timestamp:"
   ]
  },
  {
   "cell_type": "code",
   "execution_count": null,
   "id": "361a4bb3",
   "metadata": {},
   "outputs": [],
   "source": [
    "dia_object_cat_nested = dia_object_cat_nested.map_partitions(\n",
    "    lambda x: sort_nested_sources(x, source_cols=[\"diaSource\", \"diaObjectForcedSource\"])\n",
    ")"
   ]
  },
  {
   "cell_type": "markdown",
   "id": "82fe6778",
   "metadata": {},
   "source": [
    "And save the resulting catalog to disk:"
   ]
  },
  {
   "cell_type": "code",
   "execution_count": null,
   "id": "8652d118",
   "metadata": {},
   "outputs": [],
   "source": [
    "dia_object_cat_nested.to_hats(hats_dir / \"dia_object_lc_intermediate\", catalog_name=\"dia_object_lc\")"
   ]
  },
  {
   "cell_type": "markdown",
   "id": "f828a06c",
   "metadata": {},
   "source": [
    "Finally, reimport with a new threshold, and select the columns to be loaded by default:"
   ]
  },
  {
   "cell_type": "code",
   "execution_count": null,
   "id": "9b280f38",
   "metadata": {},
   "outputs": [],
   "source": [
    "hats_cols_default = \",\".join(\"\"\"dec\n",
    "diaObjectForcedSource.band\n",
    "diaObjectForcedSource.coord_dec\n",
    "diaObjectForcedSource.coord_ra\n",
    "diaObjectForcedSource.diff_PixelFlags_nodataCenter\n",
    "diaObjectForcedSource.forcedSourceOnDiaObjectId\n",
    "diaObjectForcedSource.invalidPsfFlag\n",
    "diaObjectForcedSource.midpointMjdTai\n",
    "diaObjectForcedSource.pixelFlags_bad\n",
    "diaObjectForcedSource.pixelFlags_cr\n",
    "diaObjectForcedSource.pixelFlags_crCenter\n",
    "diaObjectForcedSource.pixelFlags_edge\n",
    "diaObjectForcedSource.pixelFlags_interpolated\n",
    "diaObjectForcedSource.pixelFlags_interpolatedCenter\n",
    "diaObjectForcedSource.pixelFlags_nodata\n",
    "diaObjectForcedSource.pixelFlags_saturated\n",
    "diaObjectForcedSource.pixelFlags_saturatedCenter\n",
    "diaObjectForcedSource.pixelFlags_suspect\n",
    "diaObjectForcedSource.pixelFlags_suspectCenter\n",
    "diaObjectForcedSource.psfDiffFlux\n",
    "diaObjectForcedSource.psfDiffFlux_flag\n",
    "diaObjectForcedSource.psfDiffFluxErr\n",
    "diaObjectForcedSource.psfFlux\n",
    "diaObjectForcedSource.psfFlux_flag\n",
    "diaObjectForcedSource.psfFluxErr\n",
    "diaObjectForcedSource.psfMag\n",
    "diaObjectForcedSource.psfMagErr\n",
    "diaObjectForcedSource.visit\n",
    "diaObjectId\n",
    "diaSource.band\n",
    "diaSource.centroid_flag\n",
    "diaSource.coord_dec\n",
    "diaSource.coord_ra\n",
    "diaSource.dec\n",
    "diaSource.decErr\n",
    "diaSource.diaSourceId\n",
    "diaSource.forced_PsfFlux_flag\n",
    "diaSource.forced_PsfFlux_flag_edge\n",
    "diaSource.forced_PsfFlux_flag_noGoodPixels\n",
    "diaSource.midpointMjdTai\n",
    "diaSource.pixelFlags\n",
    "diaSource.pixelFlags_bad\n",
    "diaSource.pixelFlags_cr\n",
    "diaSource.pixelFlags_crCenter\n",
    "diaSource.pixelFlags_edge\n",
    "diaSource.pixelFlags_interpolated\n",
    "diaSource.pixelFlags_interpolatedCenter\n",
    "diaSource.pixelFlags_nodata\n",
    "diaSource.pixelFlags_nodataCenter\n",
    "diaSource.pixelFlags_offimage\n",
    "diaSource.pixelFlags_saturated\n",
    "diaSource.pixelFlags_saturatedCenter\n",
    "diaSource.pixelFlags_streak\n",
    "diaSource.pixelFlags_streakCenter\n",
    "diaSource.pixelFlags_suspect\n",
    "diaSource.pixelFlags_suspectCenter\n",
    "diaSource.psfFlux\n",
    "diaSource.psfFlux_flag\n",
    "diaSource.psfFlux_flag_edge\n",
    "diaSource.psfFlux_flag_noGoodPixels\n",
    "diaSource.psfFluxErr\n",
    "diaSource.psfMag\n",
    "diaSource.psfMagErr\n",
    "diaSource.ra\n",
    "diaSource.raErr\n",
    "diaSource.reliability\n",
    "diaSource.scienceFlux\n",
    "diaSource.scienceFluxErr\n",
    "diaSource.scienceMag\n",
    "diaSource.scienceMagErr\n",
    "diaSource.shape_flag\n",
    "diaSource.shape_flag_no_pixels\n",
    "diaSource.shape_flag_not_contained\n",
    "diaSource.shape_flag_parent_source\n",
    "diaSource.snr\n",
    "diaSource.trail_flag_edge\n",
    "diaSource.visit\n",
    "diaSource.x\n",
    "diaSource.xErr\n",
    "diaSource.y\n",
    "diaSource.yErr\n",
    "nDiaSources\n",
    "ra\n",
    "radecMjdTai\n",
    "tract\n",
    "\"\"\".splitlines())"
   ]
  },
  {
   "cell_type": "code",
   "execution_count": null,
   "id": "e7673234",
   "metadata": {},
   "outputs": [],
   "source": [
    "args = ImportArguments.reimport_from_hats(\n",
    "    hats_dir / \"dia_object_lc_intermediate\",\n",
    "    output_dir=hats_dir,\n",
    "    highest_healpix_order=11,\n",
    "    pixel_threshold=15_000,\n",
    "    skymap_alt_orders=[2, 4, 6],\n",
    "    row_group_kwargs={\"subtile_order_delta\": 1},\n",
    "    addl_hats_properties={\"hats_cols_default\": hats_cols_default},\n",
    ")\n",
    "pipeline_with_client(args, client)"
   ]
  },
  {
   "cell_type": "code",
   "execution_count": null,
   "id": "ede6e7e8",
   "metadata": {},
   "outputs": [],
   "source": [
    "%rm -r $hats_dir/dia_object_lc_intermediate"
   ]
  },
  {
   "cell_type": "markdown",
   "id": "a48904bd",
   "metadata": {},
   "source": [
    "### object with nested sources"
   ]
  },
  {
   "cell_type": "code",
   "execution_count": null,
   "id": "71361cf3",
   "metadata": {},
   "outputs": [],
   "source": [
    "object_cat = lsdb.read_hats(hats_dir / \"object\")\n",
    "\n",
    "object_forced_source_cat = lsdb.read_hats(\n",
    "    hats_dir / \"object_forced_source\",\n",
    "    margin_cache=Path(tmp_dir) / f\"object_forced_source_{margin_radius_arcsec}arcs\",\n",
    ")"
   ]
  },
  {
   "cell_type": "code",
   "execution_count": null,
   "id": "d37e4d8e",
   "metadata": {},
   "outputs": [],
   "source": [
    "object_cat_nested = object_cat.join_nested(\n",
    "    object_forced_source_cat,\n",
    "    left_on=\"objectId\",\n",
    "    right_on=\"objectId\",\n",
    "    nested_column_name=\"objectForcedSource\",\n",
    ")\n",
    "object_cat_nested"
   ]
  },
  {
   "cell_type": "markdown",
   "id": "b85b5f74",
   "metadata": {},
   "source": [
    "Also, for each object, sort sources by timestamp:"
   ]
  },
  {
   "cell_type": "code",
   "execution_count": null,
   "id": "9ec168b6",
   "metadata": {},
   "outputs": [],
   "source": [
    "object_cat_nested = object_cat_nested.map_partitions(\n",
    "    lambda x: sort_nested_sources(x, source_cols=[\"objectForcedSource\"])\n",
    ")"
   ]
  },
  {
   "cell_type": "markdown",
   "id": "e03ee70e",
   "metadata": {},
   "source": [
    "And save the resulting catalog to disk:"
   ]
  },
  {
   "cell_type": "code",
   "execution_count": null,
   "id": "9f485952",
   "metadata": {},
   "outputs": [],
   "source": [
    "object_cat_nested.to_hats(hats_dir / \"object_lc_intermediate\", catalog_name=\"object_lc\")"
   ]
  },
  {
   "cell_type": "markdown",
   "id": "2410b000",
   "metadata": {},
   "source": [
    "Finally, reimport with a new threshold, and select the columns to be loaded by default:"
   ]
  },
  {
   "cell_type": "code",
   "execution_count": null,
   "id": "c29bc3e6",
   "metadata": {},
   "outputs": [],
   "source": [
    "hats_cols_default = \",\".join(\"\"\"coord_dec\n",
    "coord_decErr\n",
    "coord_ra\n",
    "coord_raErr\n",
    "g_psfFlux\n",
    "g_psfFluxErr\n",
    "g_psfMag\n",
    "g_psfMagErr\n",
    "i_psfFlux\n",
    "i_psfFluxErr\n",
    "i_psfMag\n",
    "i_psfMagErr\n",
    "objectForcedSource.band\n",
    "objectForcedSource.coord_dec\n",
    "objectForcedSource.coord_ra\n",
    "objectForcedSource.detector\n",
    "objectForcedSource.forcedSourceId\n",
    "objectForcedSource.invalidPsfFlag\n",
    "objectForcedSource.midpointMjdTai\n",
    "objectForcedSource.pixelFlags_bad\n",
    "objectForcedSource.pixelFlags_cr\n",
    "objectForcedSource.pixelFlags_crCenter\n",
    "objectForcedSource.pixelFlags_edge\n",
    "objectForcedSource.pixelFlags_interpolated\n",
    "objectForcedSource.pixelFlags_interpolatedCenter\n",
    "objectForcedSource.pixelFlags_nodata\n",
    "objectForcedSource.pixelFlags_saturated\n",
    "objectForcedSource.pixelFlags_saturatedCenter\n",
    "objectForcedSource.pixelFlags_suspect\n",
    "objectForcedSource.pixelFlags_suspectCenter\n",
    "objectForcedSource.psfDiffFlux\n",
    "objectForcedSource.psfDiffFlux_flag\n",
    "objectForcedSource.psfDiffFluxErr\n",
    "objectForcedSource.psfFlux\n",
    "objectForcedSource.psfFlux_flag\n",
    "objectForcedSource.psfFluxErr\n",
    "objectForcedSource.psfMag\n",
    "objectForcedSource.psfMagErr\n",
    "objectForcedSource.visit\n",
    "objectId\n",
    "patch\n",
    "r_psfFlux\n",
    "r_psfFluxErr\n",
    "r_psfMag\n",
    "r_psfMagErr\n",
    "refBand\n",
    "refFwhm\n",
    "shape_flag\n",
    "shape_xx\n",
    "shape_xy\n",
    "shape_yy\n",
    "tract\n",
    "u_psfFlux\n",
    "u_psfFluxErr\n",
    "u_psfMag\n",
    "u_psfMagErr\n",
    "x\n",
    "xErr\n",
    "y\n",
    "y_psfFlux\n",
    "y_psfFluxErr\n",
    "y_psfMag\n",
    "y_psfMagErr\n",
    "yErr\n",
    "z_psfFlux\n",
    "z_psfFluxErr\n",
    "z_psfMag\n",
    "z_psfMagErr\n",
    "\"\"\".splitlines())"
   ]
  },
  {
   "cell_type": "code",
   "execution_count": null,
   "id": "79fbbbe8",
   "metadata": {},
   "outputs": [],
   "source": [
    "args = ImportArguments.reimport_from_hats(\n",
    "    hats_dir / \"object_lc_intermediate\",\n",
    "    output_dir=hats_dir,\n",
    "    highest_healpix_order=11,\n",
    "    pixel_threshold=15_000,\n",
    "    skymap_alt_orders=[2, 4, 6],\n",
    "    row_group_kwargs={\"subtile_order_delta\": 1},\n",
    "    addl_hats_properties={\"hats_cols_default\": hats_cols_default},\n",
    ")\n",
    "pipeline_with_client(args, client)"
   ]
  },
  {
   "cell_type": "code",
   "execution_count": null,
   "id": "909dbd6d",
   "metadata": {},
   "outputs": [],
   "source": [
    "%rm -r $hats_dir/object_lc_intermediate"
   ]
  },
  {
   "cell_type": "code",
   "execution_count": null,
   "id": "7ae463ab-2e2e-4aec-8e2e-4bcb21a8c3c5",
   "metadata": {
    "execution": {
     "iopub.execute_input": "2025-01-30T14:48:17.090895Z",
     "iopub.status.busy": "2025-01-30T14:48:17.090607Z",
     "iopub.status.idle": "2025-01-30T14:48:17.472416Z",
     "shell.execute_reply": "2025-01-30T14:48:17.472035Z",
     "shell.execute_reply.started": "2025-01-30T14:48:17.090881Z"
    }
   },
   "outputs": [],
   "source": [
    "client.close()\n",
    "tmp_path.cleanup()"
   ]
  }
 ],
 "metadata": {
  "kernelspec": {
   "display_name": "Python 3 (ipykernel)",
   "language": "python",
   "name": "python3"
  },
  "language_info": {
   "codemirror_mode": {
    "name": "ipython",
    "version": 3
   },
   "file_extension": ".py",
   "mimetype": "text/x-python",
   "name": "python",
   "nbconvert_exporter": "python",
   "pygments_lexer": "ipython3",
   "version": "3.12.9"
  }
 },
 "nbformat": 4,
 "nbformat_minor": 5
}
