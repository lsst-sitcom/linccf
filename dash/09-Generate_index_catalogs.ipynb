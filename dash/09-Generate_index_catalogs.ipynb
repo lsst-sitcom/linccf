{
  "cells": [
    {
      "cell_type": "markdown",
      "metadata": {},
      "source": [
        "# Generate index catalogs\n",
        "\n",
        "Index catalogs help us support quick object access by ID, similarly to how one would use `loc` in a pandas DataFrame."
      ]
    },
    {
      "cell_type": "code",
      "execution_count": 1,
      "metadata": {},
      "outputs": [],
      "source": [
        "import os\n",
        "import tempfile\n",
        "import hats_import.pipeline as runner\n",
        "\n",
        "from dask.distributed import Client\n",
        "from hats_import.index.arguments import IndexArguments\n",
        "from pathlib import Path"
      ]
    },
    {
      "cell_type": "code",
      "execution_count": 2,
      "metadata": {},
      "outputs": [],
      "source": [
        "DRP_VERSION = os.environ[\"DRP_VERSION\"]\n",
        "print(f\"DRP_VERSION: {DRP_VERSION}\")\n",
        "base_output_dir = Path(f\"/sdf/data/rubin/shared/lsdb_commissioning\")\n",
        "hats_dir = base_output_dir / \"hats\" / DRP_VERSION"
      ]
    },
    {
      "cell_type": "code",
      "execution_count": null,
      "metadata": {},
      "outputs": [],
      "source": [
        "tmp_path = tempfile.TemporaryDirectory()\n",
        "tmp_dir = tmp_path.name\n",
        "client = Client(n_workers=4, threads_per_worker=1, local_directory=tmp_dir)"
      ]
    },
    {
      "cell_type": "code",
      "execution_count": 4,
      "metadata": {},
      "outputs": [],
      "source": [
        "args = IndexArguments(\n",
        "    input_catalog_path=hats_dir / \"dia_object_lc\",\n",
        "    indexing_column=\"diaObjectId\",\n",
        "    output_path=hats_dir,\n",
        "    output_artifact_name=\"dia_object_lc_index\",\n",
        "    simple_progress_bar=True,\n",
        "    resume=False,\n",
        ")\n",
        "runner.pipeline_with_client(args, client)"
      ]
    },
    {
      "cell_type": "code",
      "execution_count": 5,
      "metadata": {},
      "outputs": [],
      "source": [
        "args = IndexArguments(\n",
        "    input_catalog_path=hats_dir / \"object_lc\",\n",
        "    indexing_column=\"objectId\",\n",
        "    output_path=hats_dir,\n",
        "    output_artifact_name=\"object_lc_index\",\n",
        "    simple_progress_bar=True,\n",
        "    resume=False,\n",
        ")\n",
        "runner.pipeline_with_client(args, client)"
      ]
    },
    {
      "cell_type": "code",
      "execution_count": 11,
      "metadata": {},
      "outputs": [],
      "source": [
        "client.close()\n",
        "tmp_path.cleanup()"
      ]
    }
  ],
  "metadata": {
    "kernelspec": {
      "display_name": "Python 3 (ipykernel)",
      "language": "python",
      "name": "python3"
    }
  },
  "nbformat": 4,
  "nbformat_minor": 2
}
