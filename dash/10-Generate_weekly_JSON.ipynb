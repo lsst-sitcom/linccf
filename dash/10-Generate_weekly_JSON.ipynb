{
 "cells": [
  {
   "cell_type": "markdown",
   "metadata": {},
   "source": [
    "# Generate weekly JSON\n",
    "\n",
    "Generate JSON with metadata for the weekly to be published on `data.lsdb.io`."
   ]
  },
  {
   "cell_type": "code",
   "execution_count": 1,
   "metadata": {},
   "outputs": [],
   "source": [
    "import os\n",
    "import json\n",
    "import lsdb\n",
    "import subprocess\n",
    "\n",
    "from pathlib import Path"
   ]
  },
  {
   "cell_type": "code",
   "execution_count": 2,
   "metadata": {},
   "outputs": [],
   "source": [
    "DRP_VERSION = os.environ[\"DRP_VERSION\"]\n",
    "COLLECTION_TAG = os.environ[\"COLLECTION_TAG\"]\n",
    "print(f\"DRP_VERSION: {DRP_VERSION}\")\n",
    "print(f\"COLLECTION_TAG: {COLLECTION_TAG}\")\n",
    "base_output_dir = Path(f\"/sdf/data/rubin/shared/lsdb_commissioning\")\n",
    "hats_dir = base_output_dir / \"hats\" / DRP_VERSION"
   ]
  },
  {
   "cell_type": "code",
   "execution_count": 3,
   "metadata": {},
   "outputs": [],
   "source": [
    "def get_directory_size(path):\n",
    "    SIZE_UNITS = {\"G\": \"GiB\", \"M\": \"MiB\", \"K\": \"KiB\", \"T\": \"TiB\"}\n",
    "    result = subprocess.run(\n",
    "        [\"du\", \"-sh\", path], capture_output=True, text=True, check=True\n",
    "    )\n",
    "    size_str = result.stdout.split(\"\\t\")[0]\n",
    "    size_unit = size_str[-1]\n",
    "    return f\"{size_str[:-1]} {SIZE_UNITS[size_unit]}\"\n",
    "\n",
    "\n",
    "def generate_json(catalog_name, margin_catalog_name=None):\n",
    "    catalog_path = hats_dir / catalog_name\n",
    "    catalog = lsdb.read_hats(catalog_path)\n",
    "\n",
    "    margin_catalog = {}\n",
    "\n",
    "    if margin_catalog_name is not None:\n",
    "        margin_catalog = {\"margin_catalog\": f\"{hats_dir / margin_catalog_name}\"}\n",
    "\n",
    "    return {\n",
    "        \"label\": f\"{DRP_VERSION}/{catalog_name}\",\n",
    "        \"name\": f\"DP1 {DRP_VERSION} {catalog_name}\",\n",
    "        \"description\": f\"DRP/DP1/{DRP_VERSION}/{COLLECTION_TAG} {catalog_name}\",\n",
    "        \"urls\": {\"catalog\": f\"{hats_dir / catalog_name}\", **margin_catalog},\n",
    "        \"other_urls\": [\n",
    "            {\n",
    "                \"label\": \"Column descriptions\",\n",
    "                \"url\": \"https://sdm-schemas.lsst.io/imsim.html\",\n",
    "            },\n",
    "            {\n",
    "                \"label\": \"Jira Ticket\",\n",
    "                \"url\": f\"https://rubinobs.atlassian.net/browse/{COLLECTION_TAG}\",\n",
    "            },\n",
    "        ],\n",
    "        \"metadata\": {\n",
    "            \"numRows\": len(catalog),\n",
    "            \"numColumns\": len(catalog.columns),\n",
    "            \"numPartitions\": len(catalog.get_healpix_pixels()),\n",
    "            \"sizeOnDisk\": get_directory_size(catalog_path),\n",
    "        },\n",
    "        \"badges\": [\"Available only on USDF\"],\n",
    "    }"
   ]
  },
  {
   "cell_type": "code",
   "execution_count": null,
   "metadata": {},
   "outputs": [],
   "source": [
    "nested_catalogs_json = [\n",
    "    generate_json(\"dia_object_lc\", \"dia_object_lc_5arcs\"),\n",
    "    generate_json(\"object_lc\", \"object_lc_5arcs\"),\n",
    "]\n",
    "other_catalogs_json = [\n",
    "    generate_json(catalog)\n",
    "    for catalog in [\n",
    "        # \"dia_object_lc_x_ztf_dr22\",\n",
    "        \"dia_object_lc_x_ps1\",\n",
    "        # \"object_lc_x_ztf_dr22\",\n",
    "        \"object_lc_x_ps1\",\n",
    "    ]\n",
    "]\n",
    "weekly_json = nested_catalogs_json + other_catalogs_json\n",
    "\n",
    "with open(f\"{DRP_VERSION}.json\", \"w\") as file:\n",
    "    json.dump(weekly_json, file)"
   ]
  }
 ],
 "metadata": {
  "kernelspec": {
   "display_name": "Python 3 (ipykernel)",
   "language": "python",
   "name": "python3"
  }
 },
 "nbformat": 4,
 "nbformat_minor": 2
}
