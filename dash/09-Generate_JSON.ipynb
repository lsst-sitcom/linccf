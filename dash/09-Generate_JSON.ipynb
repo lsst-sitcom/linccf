{
 "cells": [
  {
   "cell_type": "markdown",
   "metadata": {},
   "source": [
    "# Generate JSON\n",
    "\n",
    "Generate JSON with metadata for the collections to be published on `data.lsdb.io`."
   ]
  },
  {
   "cell_type": "code",
   "execution_count": null,
   "metadata": {},
   "outputs": [],
   "source": [
    "import os\n",
    "import json\n",
    "import lsdb\n",
    "import subprocess\n",
    "\n",
    "from pathlib import Path"
   ]
  },
  {
   "cell_type": "code",
   "execution_count": null,
   "metadata": {},
   "outputs": [],
   "source": [
    "INSTRUMENT = os.environ[\"INSTRUMENT\"]\n",
    "RUN = os.environ[\"RUN\"]\n",
    "VERSION = os.environ[\"VERSION\"]\n",
    "COLLECTION = os.environ[\"COLLECTION\"]\n",
    "OUTPUT_DIR = Path(os.environ[\"OUTPUT_DIR\"])\n",
    "\n",
    "print(f\"INSTRUMENT: {INSTRUMENT}\")\n",
    "print(f\"RUN: {RUN}\")\n",
    "print(f\"VERSION: {VERSION}\")\n",
    "print(f\"COLLECTION: {COLLECTION}\")\n",
    "print(f\"OUTPUT_DIR: {OUTPUT_DIR}\")\n",
    "\n",
    "hats_dir = OUTPUT_DIR / \"hats\" / VERSION"
   ]
  },
  {
   "cell_type": "code",
   "execution_count": null,
   "metadata": {},
   "outputs": [],
   "source": [
    "def get_directory_size(path):\n",
    "    SIZE_UNITS = {\"G\": \"GiB\", \"M\": \"MiB\", \"K\": \"KiB\", \"T\": \"TiB\"}\n",
    "    result = subprocess.run(\n",
    "        [\"du\", \"-sh\", path], capture_output=True, text=True, check=True\n",
    "    )\n",
    "    size_str = result.stdout.split(\"\\t\")[0]\n",
    "    size_unit = size_str[-1]\n",
    "    return f\"{size_str[:-1]} {SIZE_UNITS[size_unit]}\"\n",
    "\n",
    "\n",
    "def generate_json(catalog_name):\n",
    "    catalog_path = hats_dir / catalog_name\n",
    "    catalog = lsdb.read_hats(catalog_path)\n",
    "    return {\n",
    "        \"label\": f\"{VERSION}/{catalog_name}\",\n",
    "        \"name\": f\"{RUN} {VERSION} {catalog_name}\",\n",
    "        \"description\": f\"DRP/{RUN}/{VERSION}/{COLLECTION} {catalog_name}\",\n",
    "        \"urls\": {\"catalog\": f\"{hats_dir / catalog_name}\"},\n",
    "        \"other_urls\": [\n",
    "            {\n",
    "                \"label\": \"Column descriptions\",\n",
    "                \"url\": \"https://sdm-schemas.lsst.io/imsim.html\",\n",
    "            },\n",
    "            {\n",
    "                \"label\": \"Jira Ticket\",\n",
    "                \"url\": f\"https://rubinobs.atlassian.net/browse/{COLLECTION}\",\n",
    "            },\n",
    "        ],\n",
    "        \"metadata\": {\n",
    "            \"numRows\": len(catalog),\n",
    "            \"numColumns\": len(catalog.columns),\n",
    "            \"numPartitions\": len(catalog.get_healpix_pixels()),\n",
    "            \"sizeOnDisk\": get_directory_size(catalog_path),\n",
    "        },\n",
    "        \"badges\": [\"Available only on USDF\"],\n",
    "    }"
   ]
  },
  {
   "cell_type": "code",
   "execution_count": null,
   "metadata": {},
   "outputs": [],
   "source": [
    "nested_catalogs_json = [\n",
    "    generate_json(\"dia_object_collection\"),\n",
    "    generate_json(\"object_collection\"),\n",
    "]\n",
    "other_catalogs_json = [\n",
    "    generate_json(catalog)\n",
    "    for catalog in [\n",
    "        #\"dia_object_lc_x_ztf_dr22\",\n",
    "        #\"dia_object_lc_x_ps1\",\n",
    "        #\"object_lc_x_ztf_dr22\",\n",
    "        #\"object_lc_x_ps1\",\n",
    "    ]\n",
    "]\n",
    "\n",
    "weekly_json = nested_catalogs_json + other_catalogs_json\n",
    "with open(f\"{VERSION}.json\", \"w\") as file:\n",
    "    json.dump(weekly_json, file)"
   ]
  }
 ],
 "metadata": {
  "kernelspec": {
   "display_name": "Python 3 (ipykernel)",
   "language": "python",
   "name": "python3"
  }
 },
 "nbformat": 4,
 "nbformat_minor": 2
}
