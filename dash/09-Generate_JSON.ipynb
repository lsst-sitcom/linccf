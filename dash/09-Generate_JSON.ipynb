{
 "cells": [
  {
   "cell_type": "markdown",
   "metadata": {},
   "source": [
    "# Generate JSON\n",
    "\n",
    "Generate JSON with metadata for the collections to be published on `data.lsdb.io`."
   ]
  },
  {
   "cell_type": "code",
   "execution_count": null,
   "metadata": {},
   "outputs": [],
   "source": [
    "import os\n",
    "import json\n",
    "import lsdb\n",
    "import subprocess\n",
    "\n",
    "from pathlib import Path"
   ]
  },
  {
   "cell_type": "code",
   "execution_count": null,
   "metadata": {},
   "outputs": [],
   "source": [
    "INSTRUMENT = os.environ[\"INSTRUMENT\"]\n",
    "RUN = os.environ[\"RUN\"]\n",
    "VERSION = os.environ[\"VERSION\"]\n",
    "COLLECTION = os.environ[\"COLLECTION\"]\n",
    "OUTPUT_DIR = Path(os.environ[\"OUTPUT_DIR\"])\n",
    "\n",
    "print(f\"INSTRUMENT: {INSTRUMENT}\")\n",
    "print(f\"RUN: {RUN}\")\n",
    "print(f\"VERSION: {VERSION}\")\n",
    "print(f\"COLLECTION: {COLLECTION}\")\n",
    "print(f\"OUTPUT_DIR: {OUTPUT_DIR}\")\n",
    "\n",
    "hats_dir = OUTPUT_DIR / \"hats\" / VERSION"
   ]
  },
  {
   "cell_type": "code",
   "execution_count": null,
   "metadata": {},
   "outputs": [],
   "source": [
    "def get_directory_size(path):\n",
    "    SIZE_UNITS = {\"G\": \"GiB\", \"M\": \"MiB\", \"K\": \"KiB\", \"T\": \"TiB\"}\n",
    "    result = subprocess.run(\n",
    "        [\"du\", \"-sh\", path], capture_output=True, text=True, check=True\n",
    "    )\n",
    "    size_str = result.stdout.split(\"\\t\")[0]\n",
    "    size_unit = size_str[-1]\n",
    "    return f\"{size_str[:-1]} {SIZE_UNITS[size_unit]}\"\n",
    "\n",
    "\n",
    "def generate_json(collection_name):\n",
    "    collection_path = hats_dir / collection_name\n",
    "    catalog = lsdb.read_hats(collection_path)\n",
    "    return {\n",
    "        \"label\": f\"{VERSION}/{collection_name}\",\n",
    "        \"name\": f\"{RUN} {VERSION} {collection_name}\",\n",
    "        \"description\": f\"DRP/{RUN}/{VERSION}/{COLLECTION} {collection_name}\",\n",
    "        \"urls\": {\"catalog\": str(collection_path)},\n",
    "        \"other_urls\": [\n",
    "            {\n",
    "                \"label\": \"Column descriptions\",\n",
    "                \"url\": \"https://sdm-schemas.lsst.io/imsim.html\",\n",
    "            },\n",
    "            {\n",
    "                \"label\": \"Jira Ticket\",\n",
    "                \"url\": f\"https://rubinobs.atlassian.net/browse/{COLLECTION}\",\n",
    "            },\n",
    "        ],\n",
    "        \"metadata\": {\n",
    "            \"numRows\": len(catalog),\n",
    "            \"numColumns\": len(catalog.all_columns),\n",
    "            \"numPartitions\": len(catalog.get_healpix_pixels()),\n",
    "            \"sizeOnDisk\": get_directory_size(collection_path),\n",
    "        },\n",
    "        \"badges\": [\"Available only on USDF\"],\n",
    "    }"
   ]
  },
  {
   "cell_type": "code",
   "execution_count": null,
   "metadata": {},
   "outputs": [],
   "source": [
    "collections_json = [\n",
    "    generate_json(f\"{collection_name}_collection\")\n",
    "    for collection_name in [\"dia_object\", \"object\"]\n",
    "]\n",
    "with open(f\"{VERSION}.json\", \"w\") as file:\n",
    "    json.dump(collections_json, file)"
   ]
  }
 ],
 "metadata": {
  "kernelspec": {
   "display_name": "Python 3 (ipykernel)",
   "language": "python",
   "name": "python3"
  },
  "language_info": {
   "codemirror_mode": {
    "name": "ipython",
    "version": 3
   },
   "file_extension": ".py",
   "mimetype": "text/x-python",
   "name": "python",
   "nbconvert_exporter": "python",
   "pygments_lexer": "ipython3",
   "version": "3.12.9"
  }
 },
 "nbformat": 4,
 "nbformat_minor": 2
}
