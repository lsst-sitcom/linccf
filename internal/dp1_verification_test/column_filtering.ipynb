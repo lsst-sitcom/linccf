{
 "cells": [
  {
   "cell_type": "markdown",
   "id": "cb1cb6a4-a0bc-44f2-ae48-d4de23e14c56",
   "metadata": {
    "tags": []
   },
   "source": [
    "# Column filtering (e.g. columns=)\n",
    "\n",
    "In this tutorial, we will demonstrate how to:\n",
    "- Load a HATS catalog with the default set of columns\n",
    "- Load a HATS catalog with all available columns\n",
    "- Load a HATS catalog with a specified subset of columns"
   ]
  },
  {
   "cell_type": "markdown",
   "id": "36c18815",
   "metadata": {},
   "source": [
    "## Introduction\n",
    "\n",
    "To improve performance and readability when working with large catalogs, users can specify the column names they want to load instead of loading the entire dataset. This approach reduces memory usage and speeds up data processing by avoiding unnecessary data retrieval."
   ]
  },
  {
   "cell_type": "code",
   "execution_count": null,
   "id": "e16078b4-47b8-4939-83c4-1ad28bf1592e",
   "metadata": {
    "execution": {
     "iopub.execute_input": "2025-06-18T16:15:32.725804Z",
     "iopub.status.busy": "2025-06-18T16:15:32.725448Z",
     "iopub.status.idle": "2025-06-18T16:15:36.821284Z",
     "shell.execute_reply": "2025-06-18T16:15:36.820796Z",
     "shell.execute_reply.started": "2025-06-18T16:15:32.725785Z"
    }
   },
   "outputs": [],
   "source": [
    "# Import LSDB.\n",
    "\n",
    "import lsdb"
   ]
  },
  {
   "cell_type": "code",
   "execution_count": null,
   "id": "105ef48f",
   "metadata": {
    "execution": {
     "iopub.execute_input": "2025-06-18T16:15:36.822784Z",
     "iopub.status.busy": "2025-06-18T16:15:36.822085Z",
     "iopub.status.idle": "2025-06-18T16:15:45.110663Z",
     "shell.execute_reply": "2025-06-18T16:15:45.109957Z",
     "shell.execute_reply.started": "2025-06-18T16:15:36.822768Z"
    }
   },
   "outputs": [],
   "source": [
    "# Start a Dask client.\n",
    "\n",
    "from dask.distributed import Client\n",
    "\n",
    "client = Client(n_workers=4, memory_limit=\"auto\")"
   ]
  },
  {
   "cell_type": "code",
   "execution_count": null,
   "id": "8520df60-167d-42f8-bc2c-e771d4ff75bd",
   "metadata": {
    "execution": {
     "iopub.execute_input": "2025-06-18T16:17:17.965726Z",
     "iopub.status.busy": "2025-06-18T16:17:17.965356Z",
     "iopub.status.idle": "2025-06-18T16:17:17.968340Z",
     "shell.execute_reply": "2025-06-18T16:17:17.967933Z",
     "shell.execute_reply.started": "2025-06-18T16:17:17.965697Z"
    }
   },
   "outputs": [],
   "source": [
    "# Specify the path to the LSDB catalog you want to use.\n",
    "\n",
    "usdf_path = \"/sdf/data/rubin/shared/lsdb_commissioning/hats/v29_0_0\"\n",
    "object_collection_path = f\"{usdf_path}/object_collection\""
   ]
  },
  {
   "cell_type": "markdown",
   "id": "5516620e",
   "metadata": {},
   "source": [
    "## 1. Load the catalog with default columns"
   ]
  },
  {
   "cell_type": "code",
   "execution_count": null,
   "id": "8e4f8212",
   "metadata": {
    "execution": {
     "iopub.execute_input": "2025-06-18T16:17:19.097404Z",
     "iopub.status.busy": "2025-06-18T16:17:19.096737Z",
     "iopub.status.idle": "2025-06-18T16:17:24.233157Z",
     "shell.execute_reply": "2025-06-18T16:17:24.232646Z",
     "shell.execute_reply.started": "2025-06-18T16:17:19.097386Z"
    }
   },
   "outputs": [],
   "source": [
    "object_collection = lsdb.open_catalog(object_collection_path)\n",
    "object_collection"
   ]
  },
  {
   "cell_type": "markdown",
   "id": "bceb00cf",
   "metadata": {},
   "source": [
    "## 2. Load the catalog with all columns"
   ]
  },
  {
   "cell_type": "code",
   "execution_count": null,
   "id": "412ed402",
   "metadata": {
    "execution": {
     "iopub.execute_input": "2025-06-18T16:17:34.746240Z",
     "iopub.status.busy": "2025-06-18T16:17:34.745901Z",
     "iopub.status.idle": "2025-06-18T16:17:37.126789Z",
     "shell.execute_reply": "2025-06-18T16:17:37.126154Z",
     "shell.execute_reply.started": "2025-06-18T16:17:34.746224Z"
    }
   },
   "outputs": [],
   "source": [
    "object_collection = lsdb.open_catalog(object_collection_path, columns=\"all\")\n",
    "object_collection"
   ]
  },
  {
   "cell_type": "markdown",
   "id": "ac66ecf4",
   "metadata": {},
   "source": [
    "## 3. Load the catalog with a specific subset of columns"
   ]
  },
  {
   "cell_type": "code",
   "execution_count": null,
   "id": "e34adc1c",
   "metadata": {
    "execution": {
     "iopub.execute_input": "2025-06-18T16:18:50.340256Z",
     "iopub.status.busy": "2025-06-18T16:18:50.339743Z",
     "iopub.status.idle": "2025-06-18T16:18:50.481510Z",
     "shell.execute_reply": "2025-06-18T16:18:50.481103Z",
     "shell.execute_reply.started": "2025-06-18T16:18:50.340230Z"
    }
   },
   "outputs": [],
   "source": [
    "object_collection = lsdb.open_catalog(object_collection_path, columns=[\"objectId\", \"coord_ra\", \"coord_dec\", \"g_psfMag\"])\n",
    "object_collection"
   ]
  },
  {
   "cell_type": "markdown",
   "id": "a7717ea4",
   "metadata": {},
   "source": [
    "## Closing the Dask client"
   ]
  },
  {
   "cell_type": "code",
   "execution_count": null,
   "id": "32b90716-d4b3-4a51-8838-44af2ea89703",
   "metadata": {
    "execution": {
     "iopub.execute_input": "2025-06-18T16:19:05.313709Z",
     "iopub.status.busy": "2025-06-18T16:19:05.313433Z",
     "iopub.status.idle": "2025-06-18T16:19:05.929978Z",
     "shell.execute_reply": "2025-06-18T16:19:05.929269Z",
     "shell.execute_reply.started": "2025-06-18T16:19:05.313692Z"
    }
   },
   "outputs": [],
   "source": [
    "client.close()"
   ]
  },
  {
   "cell_type": "markdown",
   "id": "2f6b5798",
   "metadata": {},
   "source": [
    "## About\n",
    "\n",
    "**Authors**: Olivia Lynn\n",
    "\n",
    "**Last updated on**: May 20, 2025\n",
    "\n",
    "If you use `lsdb` for published research, please cite following [instructions](https://docs.lsdb.io/en/stable/citation.html)."
   ]
  }
 ],
 "metadata": {
  "kernelspec": {
   "display_name": "LSST",
   "language": "python",
   "name": "lsst"
  },
  "language_info": {
   "codemirror_mode": {
    "name": "ipython",
    "version": 3
   },
   "file_extension": ".py",
   "mimetype": "text/x-python",
   "name": "python",
   "nbconvert_exporter": "python",
   "pygments_lexer": "ipython3",
   "version": "3.12.11"
  }
 },
 "nbformat": 4,
 "nbformat_minor": 5
}
