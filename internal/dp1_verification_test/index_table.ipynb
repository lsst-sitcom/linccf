{
 "cells": [
  {
   "cell_type": "markdown",
   "id": "f7e5b09e",
   "metadata": {},
   "source": [
    "# Using Index Tables\n",
    "\n",
    "## Learning Objectives\n",
    "\n",
    "In this tutorial, we will:\n",
    "- discuss the purpose and scope of secondary index tables in LSDB\n",
    "- explore using index tables to find GAIA objects, by designation\n",
    "\n",
    "## Introduction\n",
    "\n",
    "HATS catalogs are partitioned spatially, typically on right ascension and declination. This makes finding objects in a particular area of the sky very straightforward. However, you may occassionally only know the object by the survey-assigned identifier.\n",
    "\n",
    "HATS supports creating additional secondary index tables, stored separately from the HATS catalog. You can find more information about creating these index tables in the [hats-import documentation](https://hats-import.readthedocs.io/en/latest/guide/index_table.html), or request that your archive provider create an index table for your use."
   ]
  },
  {
   "cell_type": "markdown",
   "id": "1ac86125",
   "metadata": {},
   "source": [
    "## 1. Load a catalog collection\n",
    "\n",
    "HATS catalogs and supplemental tables can be gathered together into a \"catalog collection\". In this way, margins and index tables can be accessed without needing to know their subdirectories. "
   ]
  },
  {
   "cell_type": "code",
   "execution_count": 1,
   "id": "0d87042c",
   "metadata": {
    "execution": {
     "iopub.execute_input": "2025-06-18T16:38:08.930229Z",
     "iopub.status.busy": "2025-06-18T16:38:08.930083Z",
     "iopub.status.idle": "2025-06-18T16:38:14.188826Z",
     "shell.execute_reply": "2025-06-18T16:38:14.188335Z",
     "shell.execute_reply.started": "2025-06-18T16:38:08.930211Z"
    }
   },
   "outputs": [
    {
     "name": "stdout",
     "output_type": "stream",
     "text": [
      "CPU times: user 2.03 s, sys: 644 ms, total: 2.67 s\n",
      "Wall time: 5.26 s\n"
     ]
    }
   ],
   "source": [
    "%%time\n",
    "import lsdb\n",
    "\n",
    "obj_lc = lsdb.open_catalog(\"https://data.lsdb.io/hats/mock_dp1/object_collection\")"
   ]
  },
  {
   "cell_type": "markdown",
   "id": "ff6d0d04",
   "metadata": {},
   "source": [
    "We can inspect the catalog's collection properties and find which columns have secondary index tables."
   ]
  },
  {
   "cell_type": "code",
   "execution_count": 2,
   "id": "08c21102",
   "metadata": {
    "execution": {
     "iopub.execute_input": "2025-06-18T16:38:14.189545Z",
     "iopub.status.busy": "2025-06-18T16:38:14.189369Z",
     "iopub.status.idle": "2025-06-18T16:38:14.196798Z",
     "shell.execute_reply": "2025-06-18T16:38:14.195802Z",
     "shell.execute_reply.started": "2025-06-18T16:38:14.189527Z"
    }
   },
   "outputs": [
    {
     "data": {
      "text/plain": [
       "['objectId']"
      ]
     },
     "execution_count": 2,
     "metadata": {},
     "output_type": "execute_result"
    }
   ],
   "source": [
    "list(obj_lc.hc_collection.all_indexes.keys())"
   ]
  },
  {
   "cell_type": "markdown",
   "id": "866907b6",
   "metadata": {},
   "source": [
    "## 2. Find items by ID"
   ]
  },
  {
   "cell_type": "code",
   "execution_count": 3,
   "id": "14fa312e-e8f7-4f53-8b53-73f183384a8c",
   "metadata": {
    "execution": {
     "iopub.execute_input": "2025-06-18T16:38:14.197515Z",
     "iopub.status.busy": "2025-06-18T16:38:14.197363Z",
     "iopub.status.idle": "2025-06-18T16:38:15.375188Z",
     "shell.execute_reply": "2025-06-18T16:38:15.374713Z",
     "shell.execute_reply.started": "2025-06-18T16:38:14.197500Z"
    }
   },
   "outputs": [
    {
     "data": {
      "text/plain": [
       "[4601903407187192593,\n",
       " 4601844406312166617,\n",
       " 4601905423160085759,\n",
       " 4602077506480630149,\n",
       " 4601846701952934704,\n",
       " 4602261503924196592,\n",
       " 4601966794686666133,\n",
       " 4601742184040197817,\n",
       " 4601977928673159913,\n",
       " 4601840869906803130]"
      ]
     },
     "execution_count": 3,
     "metadata": {},
     "output_type": "execute_result"
    }
   ],
   "source": [
    "## vectorized lookup currently blocked by https://github.com/astronomy-commons/lsdb/issues/764\n",
    "## Pick one ID, `some_id`\n",
    "\n",
    "ids = list(obj_lc[\"objectId\"].head(10))\n",
    "some_id = ids[5]\n",
    "ids"
   ]
  },
  {
   "cell_type": "code",
   "execution_count": 4,
   "id": "fd65ce14",
   "metadata": {
    "execution": {
     "iopub.execute_input": "2025-06-18T16:38:15.375924Z",
     "iopub.status.busy": "2025-06-18T16:38:15.375766Z",
     "iopub.status.idle": "2025-06-18T16:38:18.725922Z",
     "shell.execute_reply": "2025-06-18T16:38:18.725431Z",
     "shell.execute_reply.started": "2025-06-18T16:38:15.375908Z"
    }
   },
   "outputs": [
    {
     "name": "stdout",
     "output_type": "stream",
     "text": [
      "CPU times: user 1.08 s, sys: 179 ms, total: 1.26 s\n",
      "Wall time: 3.09 s\n"
     ]
    },
    {
     "data": {
      "text/html": [
       "<style type=\"text/css\">\n",
       "</style>\n",
       "<table id=\"T_d4bc1\">\n",
       "  <thead>\n",
       "    <tr>\n",
       "      <th class=\"blank level0\" >&nbsp;</th>\n",
       "      <th id=\"T_d4bc1_level0_col0\" class=\"col_heading level0 col0\" >objectId</th>\n",
       "      <th id=\"T_d4bc1_level0_col1\" class=\"col_heading level0 col1\" >refFwhm</th>\n",
       "      <th id=\"T_d4bc1_level0_col2\" class=\"col_heading level0 col2\" >shape_flag</th>\n",
       "      <th id=\"T_d4bc1_level0_col3\" class=\"col_heading level0 col3\" >parentObjectId</th>\n",
       "      <th id=\"T_d4bc1_level0_col4\" class=\"col_heading level0 col4\" >x</th>\n",
       "      <th id=\"T_d4bc1_level0_col5\" class=\"col_heading level0 col5\" >y</th>\n",
       "      <th id=\"T_d4bc1_level0_col6\" class=\"col_heading level0 col6\" >xErr</th>\n",
       "      <th id=\"T_d4bc1_level0_col7\" class=\"col_heading level0 col7\" >yErr</th>\n",
       "      <th id=\"T_d4bc1_level0_col8\" class=\"col_heading level0 col8\" >shape_yy</th>\n",
       "      <th id=\"T_d4bc1_level0_col9\" class=\"col_heading level0 col9\" >shape_xx</th>\n",
       "      <th id=\"T_d4bc1_level0_col10\" class=\"col_heading level0 col10\" >shape_xy</th>\n",
       "      <th id=\"T_d4bc1_level0_col11\" class=\"col_heading level0 col11\" >coord_ra</th>\n",
       "      <th id=\"T_d4bc1_level0_col12\" class=\"col_heading level0 col12\" >coord_dec</th>\n",
       "      <th id=\"T_d4bc1_level0_col13\" class=\"col_heading level0 col13\" >coord_raErr</th>\n",
       "      <th id=\"T_d4bc1_level0_col14\" class=\"col_heading level0 col14\" >coord_decErr</th>\n",
       "      <th id=\"T_d4bc1_level0_col15\" class=\"col_heading level0 col15\" >tract</th>\n",
       "      <th id=\"T_d4bc1_level0_col16\" class=\"col_heading level0 col16\" >patch</th>\n",
       "      <th id=\"T_d4bc1_level0_col17\" class=\"col_heading level0 col17\" >detect_isIsolated</th>\n",
       "      <th id=\"T_d4bc1_level0_col18\" class=\"col_heading level0 col18\" >u_psfFlux</th>\n",
       "      <th id=\"T_d4bc1_level0_col19\" class=\"col_heading level0 col19\" >u_psfFluxErr</th>\n",
       "      <th id=\"T_d4bc1_level0_col20\" class=\"col_heading level0 col20\" >u_kronFlux</th>\n",
       "      <th id=\"T_d4bc1_level0_col21\" class=\"col_heading level0 col21\" >u_kronFluxErr</th>\n",
       "      <th id=\"T_d4bc1_level0_col22\" class=\"col_heading level0 col22\" >u_kronRad</th>\n",
       "      <th id=\"T_d4bc1_level0_col23\" class=\"col_heading level0 col23\" >g_psfFlux</th>\n",
       "      <th id=\"T_d4bc1_level0_col24\" class=\"col_heading level0 col24\" >g_psfFluxErr</th>\n",
       "      <th id=\"T_d4bc1_level0_col25\" class=\"col_heading level0 col25\" >g_kronFlux</th>\n",
       "      <th id=\"T_d4bc1_level0_col26\" class=\"col_heading level0 col26\" >g_kronFluxErr</th>\n",
       "      <th id=\"T_d4bc1_level0_col27\" class=\"col_heading level0 col27\" >g_kronRad</th>\n",
       "      <th id=\"T_d4bc1_level0_col28\" class=\"col_heading level0 col28\" >r_psfFlux</th>\n",
       "      <th id=\"T_d4bc1_level0_col29\" class=\"col_heading level0 col29\" >r_psfFluxErr</th>\n",
       "      <th id=\"T_d4bc1_level0_col30\" class=\"col_heading level0 col30\" >r_kronFlux</th>\n",
       "      <th id=\"T_d4bc1_level0_col31\" class=\"col_heading level0 col31\" >r_kronFluxErr</th>\n",
       "      <th id=\"T_d4bc1_level0_col32\" class=\"col_heading level0 col32\" >r_kronRad</th>\n",
       "      <th id=\"T_d4bc1_level0_col33\" class=\"col_heading level0 col33\" >i_psfFlux</th>\n",
       "      <th id=\"T_d4bc1_level0_col34\" class=\"col_heading level0 col34\" >i_psfFluxErr</th>\n",
       "      <th id=\"T_d4bc1_level0_col35\" class=\"col_heading level0 col35\" >i_kronFlux</th>\n",
       "      <th id=\"T_d4bc1_level0_col36\" class=\"col_heading level0 col36\" >i_kronFluxErr</th>\n",
       "      <th id=\"T_d4bc1_level0_col37\" class=\"col_heading level0 col37\" >i_kronRad</th>\n",
       "      <th id=\"T_d4bc1_level0_col38\" class=\"col_heading level0 col38\" >z_psfFlux</th>\n",
       "      <th id=\"T_d4bc1_level0_col39\" class=\"col_heading level0 col39\" >z_psfFluxErr</th>\n",
       "      <th id=\"T_d4bc1_level0_col40\" class=\"col_heading level0 col40\" >z_kronFlux</th>\n",
       "      <th id=\"T_d4bc1_level0_col41\" class=\"col_heading level0 col41\" >z_kronFluxErr</th>\n",
       "      <th id=\"T_d4bc1_level0_col42\" class=\"col_heading level0 col42\" >z_kronRad</th>\n",
       "      <th id=\"T_d4bc1_level0_col43\" class=\"col_heading level0 col43\" >y_psfFlux</th>\n",
       "      <th id=\"T_d4bc1_level0_col44\" class=\"col_heading level0 col44\" >y_psfFluxErr</th>\n",
       "      <th id=\"T_d4bc1_level0_col45\" class=\"col_heading level0 col45\" >y_kronFlux</th>\n",
       "      <th id=\"T_d4bc1_level0_col46\" class=\"col_heading level0 col46\" >y_kronFluxErr</th>\n",
       "      <th id=\"T_d4bc1_level0_col47\" class=\"col_heading level0 col47\" >y_kronRad</th>\n",
       "      <th id=\"T_d4bc1_level0_col48\" class=\"col_heading level0 col48\" >u_psfMag</th>\n",
       "      <th id=\"T_d4bc1_level0_col49\" class=\"col_heading level0 col49\" >u_psfMagErr</th>\n",
       "      <th id=\"T_d4bc1_level0_col50\" class=\"col_heading level0 col50\" >u_kronMag</th>\n",
       "      <th id=\"T_d4bc1_level0_col51\" class=\"col_heading level0 col51\" >u_kronMagErr</th>\n",
       "      <th id=\"T_d4bc1_level0_col52\" class=\"col_heading level0 col52\" >g_psfMag</th>\n",
       "      <th id=\"T_d4bc1_level0_col53\" class=\"col_heading level0 col53\" >g_psfMagErr</th>\n",
       "      <th id=\"T_d4bc1_level0_col54\" class=\"col_heading level0 col54\" >g_kronMag</th>\n",
       "      <th id=\"T_d4bc1_level0_col55\" class=\"col_heading level0 col55\" >g_kronMagErr</th>\n",
       "      <th id=\"T_d4bc1_level0_col56\" class=\"col_heading level0 col56\" >r_psfMag</th>\n",
       "      <th id=\"T_d4bc1_level0_col57\" class=\"col_heading level0 col57\" >r_psfMagErr</th>\n",
       "      <th id=\"T_d4bc1_level0_col58\" class=\"col_heading level0 col58\" >r_kronMag</th>\n",
       "      <th id=\"T_d4bc1_level0_col59\" class=\"col_heading level0 col59\" >r_kronMagErr</th>\n",
       "      <th id=\"T_d4bc1_level0_col60\" class=\"col_heading level0 col60\" >i_psfMag</th>\n",
       "      <th id=\"T_d4bc1_level0_col61\" class=\"col_heading level0 col61\" >i_psfMagErr</th>\n",
       "      <th id=\"T_d4bc1_level0_col62\" class=\"col_heading level0 col62\" >i_kronMag</th>\n",
       "      <th id=\"T_d4bc1_level0_col63\" class=\"col_heading level0 col63\" >i_kronMagErr</th>\n",
       "      <th id=\"T_d4bc1_level0_col64\" class=\"col_heading level0 col64\" >z_psfMag</th>\n",
       "      <th id=\"T_d4bc1_level0_col65\" class=\"col_heading level0 col65\" >z_psfMagErr</th>\n",
       "      <th id=\"T_d4bc1_level0_col66\" class=\"col_heading level0 col66\" >z_kronMag</th>\n",
       "      <th id=\"T_d4bc1_level0_col67\" class=\"col_heading level0 col67\" >z_kronMagErr</th>\n",
       "      <th id=\"T_d4bc1_level0_col68\" class=\"col_heading level0 col68\" >y_psfMag</th>\n",
       "      <th id=\"T_d4bc1_level0_col69\" class=\"col_heading level0 col69\" >y_psfMagErr</th>\n",
       "      <th id=\"T_d4bc1_level0_col70\" class=\"col_heading level0 col70\" >y_kronMag</th>\n",
       "      <th id=\"T_d4bc1_level0_col71\" class=\"col_heading level0 col71\" >y_kronMagErr</th>\n",
       "      <th id=\"T_d4bc1_level0_col72\" class=\"col_heading level0 col72\" >objectForcedSource</th>\n",
       "    </tr>\n",
       "  </thead>\n",
       "  <tbody>\n",
       "    <tr>\n",
       "      <th id=\"T_d4bc1_level0_row0\" class=\"row_heading level0 row0\" >9115862815668981</th>\n",
       "      <td id=\"T_d4bc1_row0_col0\" class=\"data row0 col0\" >4602261503924196592</td>\n",
       "      <td id=\"T_d4bc1_row0_col1\" class=\"data row0 col1\" >0.959451</td>\n",
       "      <td id=\"T_d4bc1_row0_col2\" class=\"data row0 col2\" >False</td>\n",
       "      <td id=\"T_d4bc1_row0_col3\" class=\"data row0 col3\" >190071475064645065</td>\n",
       "      <td id=\"T_d4bc1_row0_col4\" class=\"data row0 col4\" >8338.206324</td>\n",
       "      <td id=\"T_d4bc1_row0_col5\" class=\"data row0 col5\" >8225.705667</td>\n",
       "      <td id=\"T_d4bc1_row0_col6\" class=\"data row0 col6\" >72.615936</td>\n",
       "      <td id=\"T_d4bc1_row0_col7\" class=\"data row0 col7\" >571.118591</td>\n",
       "      <td id=\"T_d4bc1_row0_col8\" class=\"data row0 col8\" >239.663376</td>\n",
       "      <td id=\"T_d4bc1_row0_col9\" class=\"data row0 col9\" >19.366634</td>\n",
       "      <td id=\"T_d4bc1_row0_col10\" class=\"data row0 col10\" >124.250046</td>\n",
       "      <td id=\"T_d4bc1_row0_col11\" class=\"data row0 col11\" >39.672292</td>\n",
       "      <td id=\"T_d4bc1_row0_col12\" class=\"data row0 col12\" >5.860696</td>\n",
       "      <td id=\"T_d4bc1_row0_col13\" class=\"data row0 col13\" >0.035236</td>\n",
       "      <td id=\"T_d4bc1_row0_col14\" class=\"data row0 col14\" >0.034786</td>\n",
       "      <td id=\"T_d4bc1_row0_col15\" class=\"data row0 col15\" >993</td>\n",
       "      <td id=\"T_d4bc1_row0_col16\" class=\"data row0 col16\" >11</td>\n",
       "      <td id=\"T_d4bc1_row0_col17\" class=\"data row0 col17\" >True</td>\n",
       "      <td id=\"T_d4bc1_row0_col18\" class=\"data row0 col18\" ><NA></td>\n",
       "      <td id=\"T_d4bc1_row0_col19\" class=\"data row0 col19\" ><NA></td>\n",
       "      <td id=\"T_d4bc1_row0_col20\" class=\"data row0 col20\" ><NA></td>\n",
       "      <td id=\"T_d4bc1_row0_col21\" class=\"data row0 col21\" ><NA></td>\n",
       "      <td id=\"T_d4bc1_row0_col22\" class=\"data row0 col22\" ><NA></td>\n",
       "      <td id=\"T_d4bc1_row0_col23\" class=\"data row0 col23\" >1248470.250000</td>\n",
       "      <td id=\"T_d4bc1_row0_col24\" class=\"data row0 col24\" >114.294533</td>\n",
       "      <td id=\"T_d4bc1_row0_col25\" class=\"data row0 col25\" >1031940.812500</td>\n",
       "      <td id=\"T_d4bc1_row0_col26\" class=\"data row0 col26\" >9239.402344</td>\n",
       "      <td id=\"T_d4bc1_row0_col27\" class=\"data row0 col27\" >101.005608</td>\n",
       "      <td id=\"T_d4bc1_row0_col28\" class=\"data row0 col28\" >1371767.625000</td>\n",
       "      <td id=\"T_d4bc1_row0_col29\" class=\"data row0 col29\" >911.119873</td>\n",
       "      <td id=\"T_d4bc1_row0_col30\" class=\"data row0 col30\" >2143065.250000</td>\n",
       "      <td id=\"T_d4bc1_row0_col31\" class=\"data row0 col31\" >4180.920410</td>\n",
       "      <td id=\"T_d4bc1_row0_col32\" class=\"data row0 col32\" >75.512344</td>\n",
       "      <td id=\"T_d4bc1_row0_col33\" class=\"data row0 col33\" >2110076.250000</td>\n",
       "      <td id=\"T_d4bc1_row0_col34\" class=\"data row0 col34\" >533.775696</td>\n",
       "      <td id=\"T_d4bc1_row0_col35\" class=\"data row0 col35\" >776381.937500</td>\n",
       "      <td id=\"T_d4bc1_row0_col36\" class=\"data row0 col36\" >4435.202637</td>\n",
       "      <td id=\"T_d4bc1_row0_col37\" class=\"data row0 col37\" >81.381920</td>\n",
       "      <td id=\"T_d4bc1_row0_col38\" class=\"data row0 col38\" >14065.500000</td>\n",
       "      <td id=\"T_d4bc1_row0_col39\" class=\"data row0 col39\" >896.148254</td>\n",
       "      <td id=\"T_d4bc1_row0_col40\" class=\"data row0 col40\" >2648357.250000</td>\n",
       "      <td id=\"T_d4bc1_row0_col41\" class=\"data row0 col41\" >11362.938477</td>\n",
       "      <td id=\"T_d4bc1_row0_col42\" class=\"data row0 col42\" >34.840401</td>\n",
       "      <td id=\"T_d4bc1_row0_col43\" class=\"data row0 col43\" ><NA></td>\n",
       "      <td id=\"T_d4bc1_row0_col44\" class=\"data row0 col44\" ><NA></td>\n",
       "      <td id=\"T_d4bc1_row0_col45\" class=\"data row0 col45\" ><NA></td>\n",
       "      <td id=\"T_d4bc1_row0_col46\" class=\"data row0 col46\" ><NA></td>\n",
       "      <td id=\"T_d4bc1_row0_col47\" class=\"data row0 col47\" ><NA></td>\n",
       "      <td id=\"T_d4bc1_row0_col48\" class=\"data row0 col48\" ><NA></td>\n",
       "      <td id=\"T_d4bc1_row0_col49\" class=\"data row0 col49\" ><NA></td>\n",
       "      <td id=\"T_d4bc1_row0_col50\" class=\"data row0 col50\" ><NA></td>\n",
       "      <td id=\"T_d4bc1_row0_col51\" class=\"data row0 col51\" ><NA></td>\n",
       "      <td id=\"T_d4bc1_row0_col52\" class=\"data row0 col52\" >25.872015</td>\n",
       "      <td id=\"T_d4bc1_row0_col53\" class=\"data row0 col53\" >2.905621</td>\n",
       "      <td id=\"T_d4bc1_row0_col54\" class=\"data row0 col54\" >16.300972</td>\n",
       "      <td id=\"T_d4bc1_row0_col55\" class=\"data row0 col55\" >2.615095</td>\n",
       "      <td id=\"T_d4bc1_row0_col56\" class=\"data row0 col56\" >22.608845</td>\n",
       "      <td id=\"T_d4bc1_row0_col57\" class=\"data row0 col57\" >2.772930</td>\n",
       "      <td id=\"T_d4bc1_row0_col58\" class=\"data row0 col58\" >22.540632</td>\n",
       "      <td id=\"T_d4bc1_row0_col59\" class=\"data row0 col59\" >0.198088</td>\n",
       "      <td id=\"T_d4bc1_row0_col60\" class=\"data row0 col60\" >24.723633</td>\n",
       "      <td id=\"T_d4bc1_row0_col61\" class=\"data row0 col61\" >2.292912</td>\n",
       "      <td id=\"T_d4bc1_row0_col62\" class=\"data row0 col62\" >28.400431</td>\n",
       "      <td id=\"T_d4bc1_row0_col63\" class=\"data row0 col63\" >2.935393</td>\n",
       "      <td id=\"T_d4bc1_row0_col64\" class=\"data row0 col64\" >17.978565</td>\n",
       "      <td id=\"T_d4bc1_row0_col65\" class=\"data row0 col65\" >2.006024</td>\n",
       "      <td id=\"T_d4bc1_row0_col66\" class=\"data row0 col66\" >18.130068</td>\n",
       "      <td id=\"T_d4bc1_row0_col67\" class=\"data row0 col67\" >3.823719</td>\n",
       "      <td id=\"T_d4bc1_row0_col68\" class=\"data row0 col68\" ><NA></td>\n",
       "      <td id=\"T_d4bc1_row0_col69\" class=\"data row0 col69\" ><NA></td>\n",
       "      <td id=\"T_d4bc1_row0_col70\" class=\"data row0 col70\" ><NA></td>\n",
       "      <td id=\"T_d4bc1_row0_col71\" class=\"data row0 col71\" ><NA></td>\n",
       "      <td id=\"T_d4bc1_row0_col72\" class=\"data row0 col72\" ><table border=\"1\" class=\"dataframe\">\n",
       "  <thead>\n",
       "    <tr style=\"text-align: right;\">\n",
       "      <th>parentObjectId</th>\n",
       "      <th>coord_ra</th>\n",
       "      <th>...</th>\n",
       "      <th>psfMagErr</th>\n",
       "      <th>midpointMjdTai</th>\n",
       "    </tr>\n",
       "  </thead>\n",
       "  <tbody>\n",
       "    <tr>\n",
       "      <td>0</td>\n",
       "      <td>39.556731</td>\n",
       "      <td>...</td>\n",
       "      <td>2.183797</td>\n",
       "      <td>60641.113656</td>\n",
       "    </tr>\n",
       "    <tr>\n",
       "      <td><i>+0 rows</i></td>\n",
       "      <td>...</td>\n",
       "      <td>...</td>\n",
       "      <td>...</td>\n",
       "      <td>...</td>\n",
       "    </tr>\n",
       "  </tbody>\n",
       "</table></td>\n",
       "    </tr>\n",
       "  </tbody>\n",
       "</table>\n",
       "1 rows x 73 columns"
      ],
      "text/plain": [
       "                             objectId   refFwhm shape_flag  \\\n",
       "_healpix_29                                                  \n",
       "9115862815668981  4602261503924196592  0.959451      False   \n",
       "\n",
       "                      parentObjectId            x            y       xErr  \\\n",
       "_healpix_29                                                                 \n",
       "9115862815668981  190071475064645065  8338.206324  8225.705667  72.615936   \n",
       "\n",
       "                        yErr    shape_yy   shape_xx  ...  i_kronMagErr  \\\n",
       "_healpix_29                                          ...                 \n",
       "9115862815668981  571.118591  239.663376  19.366634  ...      2.935393   \n",
       "\n",
       "                   z_psfMag  z_psfMagErr  z_kronMag  z_kronMagErr  y_psfMag  \\\n",
       "_healpix_29                                                                   \n",
       "9115862815668981  17.978565     2.006024  18.130068      3.823719      <NA>   \n",
       "\n",
       "                  y_psfMagErr y_kronMag  y_kronMagErr  \\\n",
       "_healpix_29                                             \n",
       "9115862815668981         <NA>      <NA>          <NA>   \n",
       "\n",
       "                                                 objectForcedSource  \n",
       "_healpix_29                                                          \n",
       "9115862815668981  [{parentObjectId: 0, coord_ra: 39.556731, coor...  \n",
       "\n",
       "[1 rows x 73 columns]"
      ]
     },
     "execution_count": 4,
     "metadata": {},
     "output_type": "execute_result"
    }
   ],
   "source": [
    "%%time\n",
    "obj_lc.id_search(values={\"objectId\": some_id}).compute()"
   ]
  },
  {
   "cell_type": "code",
   "execution_count": 5,
   "id": "1f09fbf3",
   "metadata": {
    "execution": {
     "iopub.execute_input": "2025-06-18T16:38:18.726684Z",
     "iopub.status.busy": "2025-06-18T16:38:18.726520Z",
     "iopub.status.idle": "2025-06-18T16:38:20.399318Z",
     "shell.execute_reply": "2025-06-18T16:38:20.398862Z",
     "shell.execute_reply.started": "2025-06-18T16:38:18.726667Z"
    }
   },
   "outputs": [
    {
     "data": {
      "image/png": "[encoded data removed]",
      "text/plain": [
       "<Figure size 1000x500 with 2 Axes>"
      ]
     },
     "metadata": {},
     "output_type": "display_data"
    }
   ],
   "source": [
    "_ = obj_lc.id_search(values={\"objectId\": some_id}).plot_pixels(\n",
    "    plot_title=\"Pixels containing objects of interest\"\n",
    ")"
   ]
  },
  {
   "cell_type": "markdown",
   "id": "f43bfd00",
   "metadata": {},
   "source": [
    "## About\n",
    "\n",
    "**Authors**:  Melissa DeLucchi\n",
    "\n",
    "**Last updated on**: May 19, 2025\n",
    "\n",
    "If you use `lsdb` for published research, please cite following [instructions](https://docs.lsdb.io/en/stable/citation.html)."
   ]
  }
 ],
 "metadata": {
  "kernelspec": {
   "display_name": "LSST",
   "language": "python",
   "name": "lsst"
  },
  "language_info": {
   "codemirror_mode": {
    "name": "ipython",
    "version": 3
   },
   "file_extension": ".py",
   "mimetype": "text/x-python",
   "name": "python",
   "nbconvert_exporter": "python",
   "pygments_lexer": "ipython3",
   "version": "3.12.10"
  }
 },
 "nbformat": 4,
 "nbformat_minor": 5
}
