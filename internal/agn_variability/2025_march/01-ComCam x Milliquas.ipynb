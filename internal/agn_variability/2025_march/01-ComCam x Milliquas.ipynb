{
 "cells": [
  {
   "cell_type": "markdown",
   "metadata": {},
   "source": [
    "# 01 - ComCam x Milliquas\n",
    "**Author:** Olivia Lynn  \n",
    "**Last Run:** March 27, 2025\n",
    "\n",
    "*Part of the [AGN Variability project from March 2025](https://docs.google.com/document/d/1yb43z7vrG5-FIL6lNZjVkIx41jKSCl698d51RQhXRqg/edit?tab=t.0)*"
   ]
  },
  {
   "cell_type": "markdown",
   "metadata": {},
   "source": [
    "## Set up\n",
    "Imports and dask"
   ]
  },
  {
   "cell_type": "code",
   "execution_count": null,
   "metadata": {},
   "outputs": [],
   "source": [
    "import lsdb\n",
    "\n",
    "import astropy.units as u\n",
    "import matplotlib.pyplot as plt\n",
    "import numpy as np\n",
    "import pandas as pd\n",
    "\n",
    "from dask.distributed import Client\n",
    "from nested_pandas import NestedDtype"
   ]
  },
  {
   "cell_type": "code",
   "execution_count": null,
   "metadata": {},
   "outputs": [],
   "source": [
    "client = Client(n_workers=4, memory_limit=\"auto\")\n",
    "client"
   ]
  },
  {
   "cell_type": "markdown",
   "metadata": {
    "vscode": {
     "languageId": "plaintext"
    }
   },
   "source": [
    "## Get catalogs\n",
    "ComCam and MilliQuas"
   ]
  },
  {
   "cell_type": "code",
   "execution_count": null,
   "metadata": {},
   "outputs": [],
   "source": [
    "comcam_cat = lsdb.read_hats(\n",
    "    \"/sdf/data/rubin/shared/lsdb_commissioning/hats/w_2025_11/dia_object_lc\",\n",
    "    margin_cache=\"/sdf/data/rubin/shared/lsdb_commissioning/hats/w_2025_11/dia_object_lc_5arcs\",\n",
    ")"
   ]
  },
  {
   "cell_type": "code",
   "execution_count": null,
   "metadata": {},
   "outputs": [],
   "source": [
    "# This cell from: https://github.com/lsst-sitcom/linccf/blob/main/demo_notebooks/periodic_lightcurves.ipynb\n",
    "\n",
    "def cast_nested(df, columns):\n",
    "    return df.assign(\n",
    "        **{\n",
    "            col: df[col].astype(NestedDtype.from_pandas_arrow_dtype(df.dtypes[col]))\n",
    "            for col in columns\n",
    "        },\n",
    "    )\n",
    "\n",
    "comcam_cat = comcam_cat.map_partitions(\n",
    "    cast_nested, columns=[\"diaSource\", \"diaObjectForcedSource\"]\n",
    ")"
   ]
  },
  {
   "cell_type": "code",
   "execution_count": null,
   "metadata": {},
   "outputs": [],
   "source": [
    "miliquas_cat = lsdb.read_hats(\n",
    "    \"/sdf/data/rubin/user/olynn/AGNs/hats/Milliquas_v8\",\n",
    "    margin_cache=\"/sdf/data/rubin/u/olynn/AGNs/hats/Milliquas_v8_margin/Milliquas_v8_10arcs\",\n",
    ")"
   ]
  },
  {
   "cell_type": "markdown",
   "metadata": {},
   "source": [
    "## Do crossmatch\n",
    "ComCam x MilliQuas"
   ]
  },
  {
   "cell_type": "code",
   "execution_count": null,
   "metadata": {},
   "outputs": [],
   "source": [
    "comcam_x_milliquas = comcam_cat.crossmatch(miliquas_cat, suffixes=[\"_COM\", \"_MIL\"])\n",
    "comcam_x_milliquas"
   ]
  },
  {
   "cell_type": "markdown",
   "metadata": {},
   "source": [
    "## Verify crossmatch"
   ]
  },
  {
   "cell_type": "code",
   "execution_count": null,
   "metadata": {},
   "outputs": [],
   "source": [
    "comcam_x_milliquas.plot_pixels(plot_title=\"COMCAM x Milliquas\")"
   ]
  },
  {
   "cell_type": "markdown",
   "metadata": {},
   "source": [
    "### Are the AGNs found in ComCam roughly the same brightness (in mag) as what is reported in MilliQuas?"
   ]
  },
  {
   "cell_type": "code",
   "execution_count": null,
   "metadata": {},
   "outputs": [],
   "source": [
    "ndf = comcam_x_milliquas.partitions[0].compute()\n",
    "\n",
    "print(len(ndf))\n",
    "print(ndf.columns)\n",
    "print(ndf.index)"
   ]
  },
  {
   "cell_type": "code",
   "execution_count": null,
   "metadata": {},
   "outputs": [],
   "source": [
    "# Absolute and relative differences in the magnitudes of the first partition\n",
    "\n",
    "# Using the mean of the \"scienceMag\" from the COMCAM sources\n",
    "# and the \"RMAG_MIL\" from the Milliquas objects\n",
    "\n",
    "rows_to_print = 10\n",
    "for i in ndf.index:\n",
    "    mean_mag_COM = np.mean(ndf.loc[i, \"diaSource_COM\"][\"scienceMag\"])\n",
    "    mag_MIL = ndf.loc[i, \"RMAG_MIL\"]\n",
    "    abs_diff = np.abs(mean_mag_COM - mag_MIL)\n",
    "    rel_diff = abs_diff / mag_MIL\n",
    "\n",
    "    if rows_to_print:\n",
    "        print(f\"Abs: {abs_diff:>5.2}, Rel: {rel_diff:.2}\")\n",
    "        rows_to_print -= 1\n",
    "\n",
    "    if rel_diff > 0.5:\n",
    "        raise ValueError(\"Relative difference is too large\")"
   ]
  },
  {
   "cell_type": "markdown",
   "metadata": {},
   "source": [
    "## Plot lightcurves\n",
    "\n",
    "\"Depending on the numer of the objects we can discuss how to do this best.\""
   ]
  },
  {
   "cell_type": "code",
   "execution_count": null,
   "metadata": {},
   "outputs": [],
   "source": [
    "# There are 87 rows in the first partition\n",
    "\n",
    "# This is a similar order of magnitude as \"ZTF and PS1 for SNAD catalog\" (link), so can reference if needed\n",
    "# https://docs.lsdb.io/en/stable/tutorials/pre_executed/zubercal-ps1-snad.html"
   ]
  },
  {
   "cell_type": "code",
   "execution_count": null,
   "metadata": {},
   "outputs": [],
   "source": [
    "good_indices = []\n",
    "\n",
    "for i in ndf.index:\n",
    "    if ndf.loc[i, \"nDiaSources_COM\"] > 20:\n",
    "        print(f\"Row {i} has {ndf.loc[i, 'nDiaSources_COM']} sources\")\n",
    "        good_indices.append(i)\n",
    "\n",
    "print(len(good_indices))"
   ]
  },
  {
   "cell_type": "markdown",
   "metadata": {},
   "source": [
    "### Mag LCs\n",
    "\n",
    "Referencing plots in: https://github.com/lsst-sitcom/linccf/blob/main/demo_notebooks/periodic_lightcurves.ipynb"
   ]
  },
  {
   "cell_type": "code",
   "execution_count": null,
   "metadata": {},
   "outputs": [],
   "source": [
    "COLORS = {\n",
    "    \"u\": \"#5DA5DA\",  # sky blue\n",
    "    \"g\": \"#60BD68\",  # leafy green\n",
    "    \"r\": \"#F15854\",  # warm red\n",
    "    \"i\": \"#B276B2\",  # lavender/magenta\n",
    "    \"z\": \"#FAA43A\",  # orange/yellow\n",
    "    \"y\": \"#4D4D4D\",  # dark gray (neutral anchor)\n",
    "}\n",
    "\n",
    "def create_mag_errors(flux, flux_err):\n",
    "    # Make sure everything is valid and flux ± err stays positive\n",
    "    upper = flux + flux_err\n",
    "    lower = flux - flux_err\n",
    "    mask = (\n",
    "        flux.notna()\n",
    "        & flux_err.notna()\n",
    "        & (flux > 0)\n",
    "        & (upper > 0)\n",
    "        & (lower > 0)\n",
    "    )\n",
    "\n",
    "    # Initialize with NaNs\n",
    "    mag = np.full_like(flux, np.nan, dtype=float)\n",
    "    mag_err = np.full_like(flux, np.nan, dtype=float)\n",
    "\n",
    "    # Apply the AB mag conversion only to valid values\n",
    "    valid_flux = flux[mask]\n",
    "    valid_err = flux_err[mask]\n",
    "\n",
    "    mag[mask] = u.nJy.to(u.ABmag, valid_flux)\n",
    "    upper_mag = u.nJy.to(u.ABmag, valid_flux + valid_err)\n",
    "    lower_mag = u.nJy.to(u.ABmag, valid_flux - valid_err)\n",
    "    mag_err[mask] = -(upper_mag - lower_mag) / 2\n",
    "\n",
    "    return pd.Series(mag, index=flux.index), pd.Series(mag_err, index=flux.index)\n",
    "\n",
    "def plot_mag_scale(ax, lc, flux_col, flux_err_col, x_name, x_label, show_legend=False):\n",
    "    mag_vals = []\n",
    "    for band, color in COLORS.items():\n",
    "        band_lc = lc.query(f\"band == '{band}'\")\n",
    "        if band_lc.empty:\n",
    "            continue\n",
    "        mag, mag_err = create_mag_errors(band_lc[flux_col], band_lc[flux_err_col])\n",
    "        ax.errorbar(\n",
    "            band_lc[x_name],\n",
    "            mag,\n",
    "            mag_err,\n",
    "            fmt=\"o\",\n",
    "            label=band,\n",
    "            color=color,\n",
    "            alpha=1,\n",
    "            markersize=5,\n",
    "            capsize=3,\n",
    "            elinewidth=1,\n",
    "        )\n",
    "        mag_vals.extend(mag.dropna().values)\n",
    "    ax.set_xlabel(x_label)\n",
    "    ax.set_ylabel(\"Magnitude (AB)\")\n",
    "    ax.invert_yaxis()\n",
    "    if show_legend:\n",
    "        ax.legend(loc=\"lower right\", fontsize=12)\n",
    "    return mag_vals\n",
    "\n",
    "def scale_mag_y_axis(ax, all_mags):\n",
    "    if all_mags[0]:\n",
    "        ymin, ymax = np.nanmin(all_mags[0]), np.nanmax(all_mags[0])\n",
    "        for i in range(3):\n",
    "            ax[0, i].set_ylim(ymax + 0.1, ymin - 0.1)\n",
    "\n",
    "def plot_mag_lightcurves(ax, row):\n",
    "    datasets = [\n",
    "        (\"scienceFlux\", \"DIA Source\", row.diaSource_COM),\n",
    "        (\"psfDiffFlux\", \"DIA Forced\", row.diaObjectForcedSource_COM),\n",
    "        (\"psfFlux\", \"DIA Forced\", row.diaObjectForcedSource_COM),\n",
    "    ]\n",
    "    all_mags = [[], []]\n",
    "    for i, (flux_col, label, lc) in enumerate(datasets):\n",
    "        flux_err_col = f\"{flux_col}Err\"\n",
    "        ax[0, i].set_title(f\"{flux_col} ({label})\")\n",
    "\n",
    "        all_mags[0].extend(\n",
    "            plot_mag_scale(ax[0, i], lc, flux_col, flux_err_col, \"midpointMjdTai\", \"MJD\", show_legend=(i == 0))\n",
    "        )\n",
    "    return all_mags\n",
    "\n",
    "# Now plot\n",
    "for i in good_indices:\n",
    "    row = ndf.loc[i]\n",
    "    fig, ax = plt.subplots(1, 3, figsize=(16, 4))  # Just one row now\n",
    "    fig.suptitle(f\"RA={row.ra_COM:.5f}, Dec={row.dec_COM:.5f}\", fontsize=16)\n",
    "    all_mags = plot_mag_lightcurves(np.expand_dims(ax, 0), row)  # Make ax 2D for consistency\n",
    "    scale_mag_y_axis(np.expand_dims(ax, 0), all_mags)\n",
    "    plt.tight_layout()\n",
    "    plt.show()"
   ]
  },
  {
   "cell_type": "markdown",
   "metadata": {},
   "source": [
    "### Flux LCs"
   ]
  },
  {
   "cell_type": "code",
   "execution_count": null,
   "metadata": {},
   "outputs": [],
   "source": [
    "def plot_flux_scale(ax, lc, flux_col, flux_err_col, x_name, x_label, show_legend=False):\n",
    "    flux_vals = []\n",
    "    for band, color in COLORS.items():\n",
    "        band_lc = lc.query(f\"band == '{band}'\")\n",
    "        if band_lc.empty:\n",
    "            continue\n",
    "        ax.errorbar(\n",
    "            band_lc[x_name],\n",
    "            band_lc[flux_col],\n",
    "            band_lc[flux_err_col],\n",
    "            fmt=\"o\",\n",
    "            label=band,\n",
    "            color=color,\n",
    "            alpha=1,\n",
    "            markersize=5,\n",
    "            capsize=3,\n",
    "            elinewidth=1,\n",
    "        )\n",
    "        flux_vals.extend(band_lc[flux_col].dropna().values)\n",
    "    ax.set_xlabel(x_label)\n",
    "    ax.set_ylabel(f\"{flux_col} (nJy)\")\n",
    "    if show_legend:\n",
    "        ax.legend(loc=\"upper right\", fontsize=12)\n",
    "    return flux_vals\n",
    "\n",
    "def scale_flux_y_axis(ax, all_flux):\n",
    "    if all_flux[0]:\n",
    "        ymin, ymax = np.nanmin(all_flux[0]), np.nanmax(all_flux[0])\n",
    "        for i in range(3):\n",
    "            ax[0, i].set_ylim(ymin - 0.1 * abs(ymin), ymax + 0.1 * abs(ymax))\n",
    "\n",
    "def plot_flux_lightcurves(ax, row):\n",
    "    datasets = [\n",
    "        (\"scienceFlux\", \"DIA Source\", row.diaSource_COM),\n",
    "        (\"psfDiffFlux\", \"DIA Forced\", row.diaObjectForcedSource_COM),\n",
    "        (\"psfFlux\", \"DIA Forced\", row.diaObjectForcedSource_COM),\n",
    "    ]\n",
    "    all_flux = [[]]\n",
    "    for i, (flux_col, label, lc) in enumerate(datasets):\n",
    "        flux_err_col = f\"{flux_col}Err\"\n",
    "        ax[0, i].set_title(f\"{flux_col} ({label})\")\n",
    "\n",
    "        all_flux[0].extend(\n",
    "            plot_flux_scale(ax[0, i], lc, flux_col, flux_err_col, \"midpointMjdTai\", \"MJD\", show_legend=(i == 0))\n",
    "        )\n",
    "    return all_flux\n",
    "\n",
    "for i in good_indices:\n",
    "    row = ndf.loc[i]\n",
    "    fig, ax = plt.subplots(1, 3, figsize=(16, 4))\n",
    "    fig.suptitle(f\"RA={row.ra_COM:.5f}, Dec={row.dec_COM:.5f}\", fontsize=16)\n",
    "    all_flux = plot_flux_lightcurves(np.expand_dims(ax, 0), row)\n",
    "    scale_flux_y_axis(np.expand_dims(ax, 0), all_flux)\n",
    "    plt.tight_layout()\n",
    "    plt.show()\n"
   ]
  },
  {
   "cell_type": "code",
   "execution_count": null,
   "metadata": {},
   "outputs": [],
   "source": [
    "# Flux error bars--there, just small\n",
    "\n",
    "row = ndf.loc[good_indices[0]]\n",
    "row.diaObjectForcedSource_COM[[\"psfFlux\", \"psfFluxErr\"]].describe()"
   ]
  },
  {
   "cell_type": "markdown",
   "metadata": {},
   "source": [
    "## Plot structure function\n",
    "\n",
    "Referencing: https://github.com/rubin-dp0/delegate-contributions-dp02/blob/main/variable_stars/var_stars_sf.ipynb"
   ]
  },
  {
   "cell_type": "code",
   "execution_count": null,
   "metadata": {},
   "outputs": [],
   "source": [
    "from numba import njit\n",
    "\n",
    "@njit\n",
    "def calcSF(taumin, taumax, tclip, fclip, nstep):\n",
    "    dtau = (np.log10(taumax) - np.log10(taumin)) / nstep\n",
    "\n",
    "    tau1 = np.zeros(nstep)\n",
    "    tau2 = np.zeros(nstep)\n",
    "    N = np.zeros(nstep)\n",
    "    SF = np.zeros(nstep)\n",
    "\n",
    "    for k in range(nstep):\n",
    "        tau1[k] = 10**(np.log10(taumin) + k*dtau)\n",
    "        tau2[k] = 10**(np.log10(tau1[k]) + dtau)\n",
    "        for i in range(tclip.size):\n",
    "            dist = tclip[i:] - tclip[i]\n",
    "            sel = (dist >= tau1[k]) & (dist < tau2[k])\n",
    "            N[k] += tclip[i:][sel].size\n",
    "            if tclip[i:][sel].size > 0:\n",
    "                SF[k] += np.sum((fclip[i:][sel] - fclip[i])**2)\n",
    "        SF[k] = np.sqrt(SF[k] / N[k]) if N[k] > 0 else np.nan\n",
    "\n",
    "    return tau1, tau2, SF, N\n"
   ]
  },
  {
   "cell_type": "code",
   "execution_count": null,
   "metadata": {},
   "outputs": [],
   "source": [
    "import matplotlib.pyplot as plt\n",
    "import pandas as pd\n",
    "\n",
    "def SF_analysis(df, nstep=50, Nmin=2):\n",
    "    objects = df['Object_ID'].unique()\n",
    "\n",
    "    for obj in objects:\n",
    "        obj_data_all = df[df['Object_ID'] == obj]\n",
    "\n",
    "        fig_sf, ax_sf = plt.subplots(figsize=(7, 3))\n",
    "        ax_sf.set_title(f\"Structure Function: {obj}\")\n",
    "\n",
    "        for filt in sorted(df['Filter'].unique()):\n",
    "            filt_data = obj_data_all[obj_data_all['Filter'] == filt].drop_duplicates(subset='Epoch')\n",
    "            if filt_data.empty:\n",
    "                continue\n",
    "\n",
    "            filt_data = filt_data.sort_values(by='Epoch')\n",
    "            mag = filt_data['Mag']\n",
    "\n",
    "            # Iterative 5σ clipping\n",
    "            count_old = len(mag) + 1\n",
    "            count = len(mag)\n",
    "            excluded = [[], []]\n",
    "\n",
    "            while count_old > count:\n",
    "                mag_mean = mag.mean()\n",
    "                mag_std = mag.std(ddof=1)\n",
    "                outliers = np.abs(mag - mag_mean) >= 5 * mag_std\n",
    "                excluded[0] += filt_data['Epoch'][outliers].to_list()\n",
    "                excluded[1] += mag[outliers].to_list()\n",
    "                filt_data = filt_data[~outliers]\n",
    "                mag = filt_data['Mag']\n",
    "                count_old = count\n",
    "                count = len(mag)\n",
    "\n",
    "            if filt_data.empty:\n",
    "                continue\n",
    "\n",
    "            # Convert mag → normalized flux\n",
    "            flux = 10**(-0.4 * (mag - np.median(mag)))\n",
    "            time = filt_data['Epoch'].to_numpy()\n",
    "\n",
    "            # SF time limits\n",
    "            dtmin = np.min(np.diff(time))\n",
    "            dtmax = time[-1] - time[0]\n",
    "            taumin = 2 * dtmin\n",
    "            taumax = 0.5 * dtmax\n",
    "\n",
    "            tau1, tau2, SF, N = calcSF(taumin, taumax, time, flux.to_numpy(), nstep)\n",
    "\n",
    "            ax_sf.loglog(tau1[N > Nmin], SF[N > Nmin], label=filt, marker=\"o\", linestyle=\"\")\n",
    "\n",
    "        ax_sf.set_xlabel(\"Time lag (days)\")\n",
    "        ax_sf.set_ylabel(\"Structure Function\")\n",
    "        ax_sf.grid(True)\n",
    "        ax_sf.legend()\n",
    "        plt.show()\n"
   ]
  },
  {
   "cell_type": "code",
   "execution_count": null,
   "metadata": {},
   "outputs": [],
   "source": [
    "def make_long_df(catalog):\n",
    "    rows = []\n",
    "    for _, row in catalog.iterrows():\n",
    "        obj_id = row.diaObjectId_COM\n",
    "        for table in ['diaSource_COM', 'diaObjectForcedSource_COM']:\n",
    "            lc = row[table]\n",
    "            if lc.empty:\n",
    "                continue\n",
    "            for _, lc_row in lc.iterrows():\n",
    "                if lc_row['psfFlux'] > 0 and not lc_row['psfFlux_flag']:\n",
    "                    flux = lc_row['psfFlux']\n",
    "                    flux_err = lc_row['psfFluxErr']\n",
    "                    mag = -2.5 * np.log10(flux / 3631e9)  # Convert nJy to AB mag\n",
    "                    rows.append({\n",
    "                        'Object_ID': obj_id,\n",
    "                        'Filter': lc_row['band'],\n",
    "                        'Epoch': lc_row['midpointMjdTai'],\n",
    "                        'psfFlux': flux,\n",
    "                        'psfFluxErr': flux_err,\n",
    "                        'Mag': mag,\n",
    "                    })\n",
    "    return pd.DataFrame(rows)"
   ]
  },
  {
   "cell_type": "code",
   "execution_count": null,
   "metadata": {},
   "outputs": [],
   "source": [
    "good_df = ndf.loc[good_indices]\n",
    "lc_long_df = make_long_df(good_df)\n",
    "SF_analysis(lc_long_df)"
   ]
  },
  {
   "cell_type": "markdown",
   "metadata": {},
   "source": [
    "### All on the same plot"
   ]
  },
  {
   "cell_type": "code",
   "execution_count": null,
   "metadata": {},
   "outputs": [],
   "source": [
    "def SF_compare_plot(df, nstep=50, Nmin=2, legend=True):\n",
    "    fig, ax = plt.subplots(figsize=(14, 6))\n",
    "    ax.set_title(\"Structure Functions (All Objects)\")\n",
    "    \n",
    "    for obj in df['Object_ID'].unique():\n",
    "        obj_data_all = df[df['Object_ID'] == obj]\n",
    "\n",
    "        for filt in sorted(df['Filter'].unique()):\n",
    "            filt_data = obj_data_all[obj_data_all['Filter'] == filt].drop_duplicates(subset='Epoch')\n",
    "            if filt_data.empty:\n",
    "                continue\n",
    "\n",
    "            filt_data = filt_data.sort_values(by='Epoch')\n",
    "            mag = filt_data['Mag']\n",
    "            count_old = len(mag) + 1\n",
    "            count = len(mag)\n",
    "            while count_old > count:\n",
    "                mag_mean = mag.mean()\n",
    "                mag_std = mag.std(ddof=1)\n",
    "                filt_data = filt_data[np.abs(mag - mag_mean) < 5 * mag_std]\n",
    "                mag = filt_data['Mag']\n",
    "                count_old = count\n",
    "                count = len(mag)\n",
    "\n",
    "            if filt_data.empty:\n",
    "                continue\n",
    "\n",
    "            flux = 10**(-0.4 * (mag - np.median(mag)))\n",
    "            time = filt_data['Epoch'].to_numpy()\n",
    "            dtmin = np.min(np.diff(time))\n",
    "            dtmax = time[-1] - time[0]\n",
    "            taumin = 2 * dtmin\n",
    "            taumax = 0.5 * dtmax\n",
    "\n",
    "            tau1, tau2, SF, N = calcSF(taumin, taumax, time, flux.to_numpy(), nstep)\n",
    "            \n",
    "            label = f\"{obj} ({filt})\"\n",
    "            ax.loglog(tau1[N > Nmin], SF[N > Nmin], label=label, marker=\"o\", linestyle=\"\")\n",
    "\n",
    "    ax.set_xlabel(\"Time lag (days)\")\n",
    "    ax.set_ylabel(\"Structure Function\")\n",
    "    ax.grid(True)\n",
    "    if legend:\n",
    "        ax.legend()\n",
    "    plt.show()\n"
   ]
  },
  {
   "cell_type": "code",
   "execution_count": null,
   "metadata": {},
   "outputs": [],
   "source": [
    "SF_compare_plot(lc_long_df)"
   ]
  },
  {
   "cell_type": "markdown",
   "metadata": {},
   "source": [
    "### Adjust cut from >20 to >10 sources"
   ]
  },
  {
   "cell_type": "code",
   "execution_count": null,
   "metadata": {},
   "outputs": [],
   "source": [
    "good_indices_cut_at_10 = []\n",
    "\n",
    "for i in ndf.index:\n",
    "    if ndf.loc[i, \"nDiaSources_COM\"] > 10:\n",
    "        print(f\"Row {i} has {ndf.loc[i, 'nDiaSources_COM']} sources\")\n",
    "        good_indices_cut_at_10.append(i)\n",
    "\n",
    "print(len(good_indices_cut_at_10))"
   ]
  },
  {
   "cell_type": "code",
   "execution_count": null,
   "metadata": {},
   "outputs": [],
   "source": [
    "good_df_cut_at_10 = ndf.loc[good_indices_cut_at_10]\n",
    "lc_long_df_cut_at_10 = make_long_df(good_df_cut_at_10)\n",
    "SF_compare_plot(lc_long_df_cut_at_10, legend=False)"
   ]
  }
 ],
 "metadata": {
  "kernelspec": {
   "display_name": "Python 3 (ipykernel)",
   "language": "python",
   "name": "python3"
  },
  "language_info": {
   "codemirror_mode": {
    "name": "ipython",
    "version": 3
   },
   "file_extension": ".py",
   "mimetype": "text/x-python",
   "name": "python",
   "nbconvert_exporter": "python",
   "pygments_lexer": "ipython3",
   "version": "3.12.9"
  }
 },
 "nbformat": 4,
 "nbformat_minor": 2
}
