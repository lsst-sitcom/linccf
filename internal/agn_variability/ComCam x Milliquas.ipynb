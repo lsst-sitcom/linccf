{
 "cells": [
  {
   "cell_type": "code",
   "execution_count": null,
   "id": "a4b37041",
   "metadata": {},
   "outputs": [],
   "source": []
  },
  {
   "cell_type": "markdown",
   "id": "1b630117",
   "metadata": {},
   "source": [
    "# 01 - ComCam x Milliquas\n",
    "Author: Olivia Lynn & Neven Caplar\n",
    "Last Run: June 16, 2025"
   ]
  },
  {
   "cell_type": "markdown",
   "id": "7e59ef88",
   "metadata": {},
   "source": [
    "## Set up\n",
    "Imports and dask"
   ]
  },
  {
   "cell_type": "code",
   "execution_count": null,
   "id": "94352a0f",
   "metadata": {},
   "outputs": [],
   "source": [
    "import lsdb\n",
    "print(lsdb.__version__)\n",
    "import hats\n",
    "print(hats.__version__)\n",
    "import astropy.units as u\n",
    "import matplotlib.pyplot as plt\n",
    "from matplotlib.patches import Circle\n",
    "import numpy as np\n",
    "import pandas as pd\n",
    "\n",
    "from lsdb.core.search import ConeSearch\n",
    "\n",
    "from dask.distributed import Client\n",
    "from nested_pandas import NestedDtype"
   ]
  },
  {
   "cell_type": "code",
   "execution_count": null,
   "id": "1860022b",
   "metadata": {},
   "outputs": [],
   "source": [
    "client = Client(n_workers=4, memory_limit=\"24GB\", threads_per_worker=1)\n",
    "client"
   ]
  },
  {
   "cell_type": "markdown",
   "id": "7e53d0d1",
   "metadata": {},
   "source": [
    "## Get catalogs\n",
    "ComCam object catalog and MilliQuas - we will crossmatch\n",
    "\n"
   ]
  },
  {
   "cell_type": "code",
   "execution_count": null,
   "id": "e61bec5e",
   "metadata": {},
   "outputs": [],
   "source": [
    "comcam_cat = lsdb.open_catalog('/sdf/data/rubin/shared/lsdb_commissioning/hats/v29_0_0/object_collection/object_lc')\n",
    "comcam_cat_lite = lsdb.open_catalog('/sdf/data/rubin/shared/lsdb_commissioning/hats/v29_0_0/object_collection_lite/object_lc')\n",
    "\n",
    "comcam_cat"
   ]
  },
  {
   "cell_type": "code",
   "execution_count": null,
   "id": "2797ef88",
   "metadata": {},
   "outputs": [],
   "source": [
    "miliquas_cat = lsdb.read_hats(\n",
    "    \"/sdf/data/rubin/user/olynn/AGNs/hats/Milliquas_v8\",\n",
    "    margin_cache=\"/sdf/data/rubin/u/olynn/AGNs/hats/Milliquas_v8_margin/Milliquas_v8_10arcs\",\n",
    ")\n",
    "\n",
    "miliquas_cat"
   ]
  },
  {
   "cell_type": "markdown",
   "id": "1bcc5ff1",
   "metadata": {},
   "source": [
    "## Do crossmatch\n",
    "ComCam x MilliQuas"
   ]
  },
  {
   "cell_type": "code",
   "execution_count": null,
   "id": "a1a1219b",
   "metadata": {},
   "outputs": [],
   "source": [
    "comcam_x_milliquas = comcam_cat_lite.crossmatch(miliquas_cat, suffixes=[\"_COM\", \"_MIL\"], radius_arcsec=.1)\n",
    "\n",
    "comcam_x_milliquas_computed = comcam_x_milliquas.compute()"
   ]
  },
  {
   "cell_type": "code",
   "execution_count": null,
   "id": "00c1707a",
   "metadata": {},
   "outputs": [],
   "source": [
    "comcam_x_milliquas_computed.to_parquet(\"/sdf/home/n/ncaplar/AGN/comcam_x_milliquas_computed.parquet\") # The output file path\n"
   ]
  },
  {
   "cell_type": "markdown",
   "id": "377c5812",
   "metadata": {},
   "source": [
    "## Verify crossmatch\n"
   ]
  },
  {
   "cell_type": "code",
   "execution_count": null,
   "id": "eb5c8c28",
   "metadata": {},
   "outputs": [],
   "source": [
    "comcam_x_milliquas.plot_pixels(plot_title=\"COMCAM x Milliquas\")\n"
   ]
  },
  {
   "cell_type": "markdown",
   "id": "d2123e6a",
   "metadata": {},
   "source": []
  },
  {
   "cell_type": "code",
   "execution_count": null,
   "id": "f14657e7",
   "metadata": {},
   "outputs": [],
   "source": [
    "client.close()\n"
   ]
  },
  {
   "cell_type": "markdown",
   "id": "dad4c1dc",
   "metadata": {},
   "source": [
    "# Science "
   ]
  },
  {
   "cell_type": "code",
   "execution_count": null,
   "id": "be815478",
   "metadata": {},
   "outputs": [],
   "source": [
    "len(comcam_x_milliquas_computed)"
   ]
  },
  {
   "cell_type": "code",
   "execution_count": null,
   "id": "1a21286e",
   "metadata": {},
   "outputs": [],
   "source": [
    "# Define the six fields from Data Preview 1 with RA and Dec coordinates\n",
    "fields = {\n",
    "    \"ECDFS\": (53.13, -28.10),  # Extended Chandra Deep Field South\n",
    "    \"EDFS\": (59.10, -48.73),  # Euclid Deep Field South\n",
    "    \"Rubin_SV_38_7\": (37.86, 6.98),  # Low Ecliptic Latitude Field\n",
    "    \"Rubin_SV_95_-25\": (95.00, -25.00),  # Low Galactic Latitude Field\n",
    "    \"47_Tuc\": (6.02, -72.08),  # 47 Tuc Globular Cluster\n",
    "    \"Fornax_dSph\": (40.00, -34.45)  # Fornax Dwarf Spheroidal Galaxy\n",
    "}\n",
    "\n",
    "# Assign colors and linestyles\n",
    "# Red for extragalactic fields, orange for dense fields\n",
    "field_styles = {\n",
    "    \"ECDFS\": (\"red\", \"solid\"),\n",
    "    \"EDFS\": (\"red\", \"dashed\"),\n",
    "    \"Rubin_SV_38_7\": (\"red\", \"dotted\"),\n",
    "    \"Rubin_SV_95_-25\": (\"orange\", \"solid\"),\n",
    "    \"47_Tuc\": (\"orange\", \"dashed\"),\n",
    "    \"Fornax_dSph\": (\"orange\", \"dotted\"),\n",
    "}\n",
    "\n",
    "\n",
    "# Define a 2-degree (2*3600 arcseconds) search radius\n",
    "radius_arcsec = 2 * 3600  # Convert 2 degree to arcseconds\n",
    "# Create six cone searches\n",
    "cones = {name: ConeSearch(ra=ra, dec=dec, radius_arcsec=radius_arcsec) for name, (ra, dec) in fields.items()}"
   ]
  },
  {
   "cell_type": "code",
   "execution_count": null,
   "id": "8bfd50f5",
   "metadata": {},
   "outputs": [],
   "source": [
    "# Plot\n",
    "fig, ax = plt.subplots(figsize=(10, 7))\n",
    "\n",
    "# Scatter COMCAM sources\n",
    "ax.scatter(\n",
    "    comcam_x_milliquas_computed['coord_ra_COM'],\n",
    "    comcam_x_milliquas_computed['coord_dec_COM'],\n",
    "    s=1,\n",
    "    c='blue',\n",
    "    alpha=0.5,\n",
    "    label='COMCAM'\n",
    ")\n",
    "\n",
    "# Draw each field as a circle\n",
    "field_radius = 1.5  # degrees\n",
    "for name, (ra, dec) in fields.items():\n",
    "    color, linestyle = field_styles[name]\n",
    "    circle = Circle(\n",
    "        (ra, dec),\n",
    "        radius=field_radius,\n",
    "        edgecolor=color,\n",
    "        facecolor='none',\n",
    "        linestyle=linestyle,\n",
    "        linewidth=2,\n",
    "        alpha=0.8,\n",
    "        label=name\n",
    "    )\n",
    "    ax.add_patch(circle)\n",
    "\n",
    "# Labels and formatting\n",
    "ax.set_xlabel(\"RA [deg]\")\n",
    "ax.set_ylabel(\"Dec [deg]\")\n",
    "ax.set_title(\"COMCAM Detections with Data Preview 1 Field Overlays\")\n",
    "ax.legend(fontsize=9)\n",
    "ax.set_aspect('equal', adjustable='box')\n",
    "ax.grid(True, linestyle='--', alpha=0.5)\n",
    "plt.tight_layout()\n",
    "plt.show()\n"
   ]
  },
  {
   "cell_type": "code",
   "execution_count": null,
   "id": "b06ad0a4",
   "metadata": {},
   "outputs": [],
   "source": [
    "comcam_x_milliquas_computed[['coord_ra_COM','coord_ra_COM','objectForcedSource_COM']].head(5)\n"
   ]
  },
  {
   "cell_type": "code",
   "execution_count": null,
   "id": "7b1514e2",
   "metadata": {},
   "outputs": [],
   "source": [
    "bands = [\"u\", \"g\", \"r\", \"i\", \"z\", \"y\"]\n",
    "\n",
    "def count_bands(entry):\n",
    "    result = {}\n",
    "    for band in bands:\n",
    "        try:\n",
    "            result[band] = (entry['band'] == band).sum()\n",
    "        except Exception:\n",
    "            result[band] = 0\n",
    "    return result\n",
    "\n",
    "\n",
    "# Apply to each row\n",
    "band_counts = comcam_x_milliquas_computed[\"objectForcedSource_COM\"].apply(count_bands)\n",
    "# Turn into a proper DataFrame\n",
    "band_counts_df = pd.DataFrame(band_counts.tolist()).fillna(0).astype(int)\n",
    "\n",
    "# Add to original\n",
    "for band in bands:\n",
    "    comcam_x_milliquas_computed[f\"n_{band}\"] = band_counts_df[band].values"
   ]
  },
  {
   "cell_type": "code",
   "execution_count": null,
   "id": "65682e4e",
   "metadata": {},
   "outputs": [],
   "source": [
    "\n",
    "# Define band info: (column name, color)\n",
    "bands = [\n",
    "    ('n_u', 'blue'),\n",
    "    ('n_g', 'green'),\n",
    "    ('n_r', 'red'),\n",
    "    ('n_i', 'brown'),\n",
    "    ('n_z', 'purple'),\n",
    "    ('n_y', 'orange'),\n",
    "]\n",
    "\n",
    "# Determine common bin range\n",
    "all_counts = pd.concat([comcam_x_milliquas_computed[band] for band, _ in bands])\n",
    "bin_min, bin_max = int(all_counts.min()), int(all_counts.max()) + 1\n",
    "bins = list(range(bin_min, bin_max + 10, 10))  # Bin width = 10\n",
    "\n",
    "# Create 2x3 subplots\n",
    "fig, axes = plt.subplots(2, 3, figsize=(15, 8))\n",
    "axes = axes.flatten()\n",
    "\n",
    "for ax, (band, color) in zip(axes, bands):\n",
    "    data = comcam_x_milliquas_computed[band].dropna()\n",
    "    total_detections = int(data.sum())\n",
    "    \n",
    "    ax.hist(data, bins=bins, color=color, edgecolor='black', alpha=0.7)\n",
    "    ax.set_xlabel(\"Detection Count\")\n",
    "    ax.set_ylabel(\"Number of Sources\")\n",
    "    ax.grid(True, linestyle='--', alpha=0.5)\n",
    "    ax.set_xlim(bin_min, bin_max)\n",
    "\n",
    "    # Add total detection count above the plot\n",
    "    ax.text(0.5, 1.05, f\"Total detections: {total_detections:,}\", \n",
    "            transform=ax.transAxes, ha='center', va='bottom', \n",
    "            fontsize=10, color='black')\n",
    "\n",
    "plt.tight_layout()\n",
    "plt.suptitle(\"Detection Counts per Band (COMCAM x Milliquas)\", fontsize=16, y=1.05)\n",
    "plt.show()"
   ]
  },
  {
   "cell_type": "markdown",
   "id": "92b0475e",
   "metadata": {},
   "source": [
    "## Plot lightcurves\n",
    "Mag LCs"
   ]
  },
  {
   "cell_type": "code",
   "execution_count": null,
   "id": "57ff887b",
   "metadata": {},
   "outputs": [],
   "source": [
    "comcam_AGN_many_r = comcam_x_milliquas_computed[comcam_x_milliquas_computed['n_r']>220]\n"
   ]
  },
  {
   "cell_type": "code",
   "execution_count": null,
   "id": "ccab15f2",
   "metadata": {},
   "outputs": [],
   "source": [
    "comcam_AGN_many_r.iloc[0]['objectForcedSource_COM']"
   ]
  },
  {
   "cell_type": "code",
   "execution_count": null,
   "id": "ceb7a38c",
   "metadata": {},
   "outputs": [],
   "source": [
    "\n",
    "# Extract the nested DataFrame\n",
    "df_lc = comcam_AGN_many_r.iloc[1]['objectForcedSource_COM']\n",
    "\n",
    "# Define bands and their colors\n",
    "band_colors = {\n",
    "    'u': 'blue',\n",
    "    'g': 'green',\n",
    "    'r': 'red',\n",
    "    'i': 'brown',\n",
    "    'z': 'purple',\n",
    "    'y': 'orange'\n",
    "}\n",
    "\n",
    "# Create figure\n",
    "plt.figure(figsize=(10, 6))\n",
    "\n",
    "# Loop over each band and plot\n",
    "for band, color in band_colors.items():\n",
    "    df_band = df_lc[df_lc['band'] == band]\n",
    "    if df_band.empty:\n",
    "        continue\n",
    "    plt.errorbar(\n",
    "        df_band['midpointMjdTai'], \n",
    "        df_band['psfMag'], \n",
    "        yerr=df_band['psfMagErr'], \n",
    "        fmt='o', \n",
    "        label=band, \n",
    "        color=color, \n",
    "        alpha=0.7\n",
    "    )\n",
    "\n",
    "# Configure plot\n",
    "plt.gca().invert_yaxis()  # Magnitude scale\n",
    "plt.xlabel(\"MJD (midpoint)\")\n",
    "plt.ylabel(\"PSF Magnitude\")\n",
    "plt.title(\"Lightcurve in All Bands\")\n",
    "plt.legend(title=\"Band\")\n",
    "plt.grid(True, linestyle='--', alpha=0.5)\n",
    "plt.tight_layout()\n",
    "plt.show()"
   ]
  },
  {
   "cell_type": "code",
   "execution_count": null,
   "id": "70150053",
   "metadata": {},
   "outputs": [],
   "source": [
    "# Identify all columns containing \"Flag\"\n",
    "flag_cols = [col for col in df_lc.columns if \"Flag\" in col]\n",
    "\n",
    "# Keep only rows where all Flag columns are False or NaN\n",
    "df_lc_clean = df_lc[~df_lc[flag_cols].any(axis=1)]\n",
    "\n",
    "# Create figure\n",
    "plt.figure(figsize=(10, 6))\n",
    "\n",
    "# Loop over each band and plot\n",
    "for band, color in band_colors.items():\n",
    "    df_band = df_lc_clean[df_lc_clean['band'] == band]\n",
    "    if df_band.empty:\n",
    "        continue\n",
    "    plt.errorbar(\n",
    "        df_band['midpointMjdTai'], \n",
    "        df_band['psfMag'], \n",
    "        yerr=df_band['psfMagErr'], \n",
    "        fmt='o', \n",
    "        label=band, \n",
    "        color=color, \n",
    "        alpha=0.7\n",
    "    )\n",
    "\n",
    "# Configure plot\n",
    "plt.gca().invert_yaxis()  # Magnitude scale\n",
    "plt.xlabel(\"MJD (midpoint)\")\n",
    "plt.ylabel(\"PSF Magnitude\")\n",
    "plt.title(\"Lightcurve in All Bands\")\n",
    "plt.legend(title=\"Band\")\n",
    "plt.grid(True, linestyle='--', alpha=0.5)\n",
    "plt.tight_layout()\n",
    "plt.show()"
   ]
  },
  {
   "cell_type": "code",
   "execution_count": null,
   "id": "d4c0e448",
   "metadata": {},
   "outputs": [],
   "source": [
    "# Define band colors\n",
    "band_colors = {\n",
    "    'u': 'blue',\n",
    "    'g': 'green',\n",
    "    'r': 'red',\n",
    "    'i': 'brown',\n",
    "    'z': 'purple',\n",
    "    'y': 'orange'\n",
    "}\n",
    "\n",
    "# Set up subplots: one for psfFlux, one for psfDiffFlux\n",
    "fig, (ax1, ax2) = plt.subplots(1, 2, figsize=(14, 6), sharex=True)\n",
    "\n",
    "# Plot for each band\n",
    "for band, color in band_colors.items():\n",
    "    df_band = df_lc_clean[df_lc_clean['band'] == band]\n",
    "    if df_band.empty:\n",
    "        continue\n",
    "\n",
    "    # Left plot: psfFlux\n",
    "    ax1.errorbar(\n",
    "        df_band['midpointMjdTai'],\n",
    "        df_band['psfFlux'],\n",
    "        yerr=df_band['psfFluxErr'],\n",
    "        fmt='o',\n",
    "        label=band,\n",
    "        color=color,\n",
    "        alpha=0.7\n",
    "    )\n",
    "\n",
    "    # Right plot: psfDiffFlux\n",
    "    ax2.errorbar(\n",
    "        df_band['midpointMjdTai'],\n",
    "        df_band['psfDiffFlux'],\n",
    "        yerr=df_band['psfDiffFluxErr'],\n",
    "        fmt='o',\n",
    "        label=band,\n",
    "        color=color,\n",
    "        alpha=0.7\n",
    "    )\n",
    "\n",
    "# Format left subplot\n",
    "ax1.set_title(\"PSF Flux\")\n",
    "ax1.set_xlabel(\"MJD (midpoint)\")\n",
    "ax1.set_ylabel(\"Flux [nJy]\")\n",
    "ax1.grid(True, linestyle='--', alpha=0.5)\n",
    "ax1.legend(title=\"Band\")\n",
    "\n",
    "# Format right subplot\n",
    "ax2.set_title(\"PSF Diff Flux\")\n",
    "ax2.set_xlabel(\"MJD (midpoint)\")\n",
    "ax2.grid(True, linestyle='--', alpha=0.5)\n",
    "ax2.legend(title=\"Band\")\n",
    "\n",
    "plt.tight_layout()\n",
    "plt.show()"
   ]
  },
  {
   "cell_type": "markdown",
   "id": "b7cd3631",
   "metadata": {},
   "source": [
    "# Structure Function"
   ]
  },
  {
   "cell_type": "code",
   "execution_count": null,
   "id": "2b64646f",
   "metadata": {},
   "outputs": [],
   "source": [
    "df_lc_clean"
   ]
  },
  {
   "cell_type": "code",
   "execution_count": null,
   "id": "18b8b1f8",
   "metadata": {},
   "outputs": [],
   "source": [
    "from numba import njit\n",
    "\n",
    "@njit\n",
    "def calcSF(taumin, taumax, tclip, fclip, nstep):\n",
    "    dtau = (np.log10(taumax) - np.log10(taumin)) / nstep\n",
    "\n",
    "    tau1 = np.zeros(nstep)\n",
    "    tau2 = np.zeros(nstep)\n",
    "    N = np.zeros(nstep)\n",
    "    SF = np.zeros(nstep)\n",
    "\n",
    "    for k in range(nstep):\n",
    "        tau1[k] = 10**(np.log10(taumin) + k*dtau)\n",
    "        tau2[k] = 10**(np.log10(tau1[k]) + dtau)\n",
    "        for i in range(tclip.size):\n",
    "            dist = tclip[i:] - tclip[i]\n",
    "            sel = (dist >= tau1[k]) & (dist < tau2[k])\n",
    "            N[k] += tclip[i:][sel].size\n",
    "            if tclip[i:][sel].size > 0:\n",
    "                SF[k] += np.sum((fclip[i:][sel] - fclip[i])**2)\n",
    "        SF[k] = np.sqrt(SF[k] / N[k]) if N[k] > 0 else np.nan\n",
    "\n",
    "    return tau1, tau2, SF, N"
   ]
  },
  {
   "cell_type": "code",
   "execution_count": null,
   "id": "ad28bea2",
   "metadata": {},
   "outputs": [],
   "source": [
    "def SF_analysis(df, nstep=50, Nmin=2):\n",
    "    objects = df['Object_ID'].unique()\n",
    "\n",
    "    for obj in objects:\n",
    "        obj_data_all = df[df['Object_ID'] == obj]\n",
    "\n",
    "        fig_sf, ax_sf = plt.subplots(figsize=(7, 3))\n",
    "        ax_sf.set_title(f\"Structure Function: {obj}\")\n",
    "\n",
    "        for filt in sorted(df['Filter'].unique()):\n",
    "            filt_data = obj_data_all[obj_data_all['Filter'] == filt].drop_duplicates(subset='Epoch')\n",
    "            if filt_data.empty:\n",
    "                continue\n",
    "\n",
    "            filt_data = filt_data.sort_values(by='Epoch')\n",
    "            mag = filt_data['Mag']\n",
    "\n",
    "            # Iterative 5σ clipping\n",
    "            count_old = len(mag) + 1\n",
    "            count = len(mag)\n",
    "            excluded = [[], []]\n",
    "\n",
    "            while count_old > count:\n",
    "                mag_mean = mag.mean()\n",
    "                mag_std = mag.std(ddof=1)\n",
    "                outliers = np.abs(mag - mag_mean) >= 5 * mag_std\n",
    "                excluded[0] += filt_data['Epoch'][outliers].to_list()\n",
    "                excluded[1] += mag[outliers].to_list()\n",
    "                filt_data = filt_data[~outliers]\n",
    "                mag = filt_data['Mag']\n",
    "                count_old = count\n",
    "                count = len(mag)\n",
    "\n",
    "            if filt_data.empty:\n",
    "                continue\n",
    "\n",
    "            # Convert mag → normalized flux\n",
    "            flux = 10**(-0.4 * (mag - np.median(mag)))\n",
    "            time = filt_data['Epoch'].to_numpy()\n",
    "\n",
    "            # SF time limits\n",
    "            dtmin = np.min(np.diff(time))\n",
    "            dtmax = time[-1] - time[0]\n",
    "            taumin = 2 * dtmin\n",
    "            taumax = 0.5 * dtmax\n",
    "\n",
    "            tau1, tau2, SF, N = calcSF(taumin, taumax, time, flux.to_numpy(), nstep)\n",
    "\n",
    "            ax_sf.loglog(tau1[N > Nmin], SF[N > Nmin], label=filt, marker=\"o\", linestyle=\"\")\n",
    "\n",
    "        ax_sf.set_xlabel(\"Time lag (days)\")\n",
    "        ax_sf.set_ylabel(\"Structure Function\")\n",
    "        ax_sf.grid(True)\n",
    "        ax_sf.legend()\n",
    "        plt.show()"
   ]
  },
  {
   "cell_type": "code",
   "execution_count": null,
   "id": "ec7083b4",
   "metadata": {},
   "outputs": [],
   "source": [
    "SF_analysis(df_lc_clean, nstep=50, Nmin=2)"
   ]
  },
  {
   "cell_type": "code",
   "execution_count": null,
   "id": "8d72c00d",
   "metadata": {},
   "outputs": [],
   "source": [
    "df_lc_clean"
   ]
  }
 ],
 "metadata": {
  "kernelspec": {
   "display_name": "Python 3 (ipykernel)",
   "language": "python",
   "name": "python3"
  },
  "language_info": {
   "codemirror_mode": {
    "name": "ipython",
    "version": 3
   },
   "file_extension": ".py",
   "mimetype": "text/x-python",
   "name": "python",
   "nbconvert_exporter": "python",
   "pygments_lexer": "ipython3",
   "version": "3.12.9"
  }
 },
 "nbformat": 4,
 "nbformat_minor": 5
}
