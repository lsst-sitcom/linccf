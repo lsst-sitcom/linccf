{
 "cells": [
  {
   "cell_type": "code",
   "execution_count": null,
   "id": "initial_id",
   "metadata": {
    "ExecuteTime": {
     "end_time": "2025-03-28T15:52:34.548668Z",
     "start_time": "2025-03-28T15:52:34.545430Z"
    }
   },
   "outputs": [],
   "source": [
    "import qp\n",
    "import pandas as pd\n",
    "import numpy as np\n",
    "import matplotlib.pyplot as plt\n",
    "import os\n",
    "import cdshealpix.cdshealpix\n",
    "import lsdb\n",
    "from astropy.coordinates import SkyCoord\n",
    "from astropy.io import fits\n",
    "import matplotlib.pyplot as plt\n",
    "import os\n",
    "\n",
    "from astropy.wcs.utils import pixel_to_skycoord, skycoord_to_pixel\n",
    "from cdshealpix import lonlat_to_healpix\n",
    "from hats.inspection.visualize_catalog import plot_healpix_map\n",
    "from hats.pixel_math import HealpixPixel\n",
    "from hats.pixel_tree.moc_filter import filter_by_moc\n",
    "from matplotlib.colors import LogNorm"
   ]
  },
  {
   "cell_type": "code",
   "execution_count": null,
   "id": "b9dd51318152ebf0",
   "metadata": {
    "ExecuteTime": {
     "end_time": "2025-03-28T15:48:56.132111Z",
     "start_time": "2025-03-28T15:48:56.129569Z"
    }
   },
   "outputs": [],
   "source": [
    "root_dir = \"/sdf/data/rubin/shared/lsdb_commissioning/ecdfs-objects\"\n",
    "cat_path = os.path.join(root_dir, \"galaxy_objects_curated_cds.pq\")\n",
    "fzboost_path = os.path.join(root_dir, \"output_FZBoost.hdf5\")\n",
    "output_path = \"/sdf/data/rubin/shared/lsdb_commissioning/sean_test/fzboost_curated_cds\""
   ]
  },
  {
   "cell_type": "code",
   "execution_count": null,
   "id": "fdf07b45fa33beee",
   "metadata": {
    "ExecuteTime": {
     "end_time": "2025-03-28T15:49:02.390614Z",
     "start_time": "2025-03-28T15:49:02.083055Z"
    }
   },
   "outputs": [],
   "source": [
    "object_cat = pd.read_parquet(cat_path)\n",
    "object_cat"
   ]
  },
  {
   "cell_type": "code",
   "execution_count": null,
   "id": "c174ebe1de99d76e",
   "metadata": {
    "ExecuteTime": {
     "end_time": "2025-03-28T15:49:17.725550Z",
     "start_time": "2025-03-28T15:49:11.852135Z"
    }
   },
   "outputs": [],
   "source": [
    "fzboost_qp = qp.read(fzboost_path)"
   ]
  },
  {
   "cell_type": "code",
   "execution_count": null,
   "id": "fc4a8ee42426f77a",
   "metadata": {
    "ExecuteTime": {
     "end_time": "2025-03-28T15:49:17.900423Z",
     "start_time": "2025-03-28T15:49:17.897496Z"
    }
   },
   "outputs": [],
   "source": [
    "fzboost_qp.npdf"
   ]
  },
  {
   "cell_type": "code",
   "execution_count": null,
   "id": "b81caa74b0ef6ce2",
   "metadata": {
    "ExecuteTime": {
     "end_time": "2025-03-28T15:49:24.800320Z",
     "start_time": "2025-03-28T15:49:23.811869Z"
    }
   },
   "outputs": [],
   "source": [
    "zmode = fzboost_qp.ancil['zmode']\n",
    "zmedian = fzboost_qp.ancil['zmedian']\n",
    "zmean = fzboost_qp.mean()"
   ]
  },
  {
   "cell_type": "code",
   "execution_count": null,
   "id": "5f79e5e9a4289141",
   "metadata": {
    "ExecuteTime": {
     "end_time": "2025-03-28T15:49:30.464962Z",
     "start_time": "2025-03-28T15:49:29.864004Z"
    }
   },
   "outputs": [],
   "source": [
    "for i in [1337, 1000, 3, 3413]:\n",
    "\n",
    "    zgrid = np.linspace(0,3,301)\n",
    "    pdf_example = fzboost_qp[i].pdf(zgrid)\n",
    "\n",
    "    plt.plot(zgrid, pdf_example[0])\n",
    "    plt.axvline(x=zmedian[i], color='r', linestyle='--', linewidth=1.5)\n",
    "    plt.axvline(x=zmode[i], color='b', linestyle='--', linewidth=1.5)\n",
    "    plt.axvline(x=zmean[i], color='g', linestyle='--', linewidth=1.5)\n",
    "    plt.xlabel('redshift')\n",
    "    plt.ylabel('PDF')\n",
    "    plt.show()"
   ]
  },
  {
   "cell_type": "code",
   "execution_count": null,
   "id": "a9fd1c785551f2b3",
   "metadata": {
    "ExecuteTime": {
     "end_time": "2025-03-28T15:49:44.464192Z",
     "start_time": "2025-03-28T15:49:44.350811Z"
    }
   },
   "outputs": [],
   "source": [
    "plt.hist(zmedian, bins = 30)\n",
    "plt.show()"
   ]
  },
  {
   "cell_type": "code",
   "execution_count": null,
   "id": "b75c9a8e20f6baa3",
   "metadata": {
    "ExecuteTime": {
     "end_time": "2025-03-28T15:49:57.169319Z",
     "start_time": "2025-03-28T15:49:50.748389Z"
    }
   },
   "outputs": [],
   "source": [
    "import lsdb\n"
   ]
  },
  {
   "cell_type": "code",
   "execution_count": null,
   "id": "b4ace22c42cd3e33",
   "metadata": {
    "ExecuteTime": {
     "end_time": "2025-03-28T15:49:57.315922Z",
     "start_time": "2025-03-28T15:49:57.258642Z"
    }
   },
   "outputs": [],
   "source": [
    "object_cat[\"zmedian\"] = zmedian\n",
    "object_cat[\"zmode\"] = zmode\n",
    "object_cat[\"zmean\"] = zmean\n",
    "object_cat"
   ]
  },
  {
   "cell_type": "code",
   "execution_count": null,
   "id": "fbd9aa0d9d9fac5f",
   "metadata": {
    "ExecuteTime": {
     "end_time": "2025-03-28T15:50:11.248383Z",
     "start_time": "2025-03-28T15:50:05.064897Z"
    }
   },
   "outputs": [],
   "source": [
    "cat = lsdb.from_dataframe(object_cat, ra_column=\"i_ra\", dec_column=\"i_dec\")"
   ]
  },
  {
   "cell_type": "code",
   "execution_count": null,
   "id": "cfb09d58baadfa9a",
   "metadata": {
    "ExecuteTime": {
     "end_time": "2025-03-28T15:50:11.422697Z",
     "start_time": "2025-03-28T15:50:11.404726Z"
    }
   },
   "outputs": [],
   "source": [
    "cat"
   ]
  },
  {
   "cell_type": "code",
   "execution_count": null,
   "id": "f3876609de108bf5",
   "metadata": {
    "ExecuteTime": {
     "end_time": "2025-03-28T15:51:44.884581Z",
     "start_time": "2025-03-28T15:51:44.521121Z"
    }
   },
   "outputs": [],
   "source": [
    "cat.plot_pixels()"
   ]
  },
  {
   "cell_type": "code",
   "execution_count": null,
   "id": "aee907d5fdb888a9",
   "metadata": {
    "ExecuteTime": {
     "end_time": "2025-03-28T15:51:47.898059Z",
     "start_time": "2025-03-28T15:51:47.658909Z"
    }
   },
   "outputs": [],
   "source": [
    "cat.plot_coverage()"
   ]
  },
  {
   "cell_type": "code",
   "execution_count": null,
   "id": "ef384e30cad22c42",
   "metadata": {
    "ExecuteTime": {
     "end_time": "2025-03-28T15:51:59.605345Z",
     "start_time": "2025-03-28T15:51:59.603103Z"
    }
   },
   "outputs": [],
   "source": [
    "# cat.to_hats(output_path, overwrite=True)"
   ]
  },
  {
   "cell_type": "code",
   "execution_count": null,
   "id": "31f170b4928a65da",
   "metadata": {
    "ExecuteTime": {
     "end_time": "2025-03-28T15:52:26.641599Z",
     "start_time": "2025-03-28T15:52:26.638624Z"
    }
   },
   "outputs": [],
   "source": []
  },
  {
   "cell_type": "code",
   "execution_count": null,
   "id": "ba18515e2267b055",
   "metadata": {
    "ExecuteTime": {
     "end_time": "2025-03-28T15:52:56.305746Z",
     "start_time": "2025-03-28T15:52:54.349140Z"
    }
   },
   "outputs": [],
   "source": [
    "fits_dir = \"/sdf/group/rubin/repo/main/LSSTComCam/runs/DRP/DP1/w_2025_11/DM-49472/hips/deep/20250317T141618Z/deepCoadd_hpx/i/\"\n",
    "fits_files = [os.path.join(fits_dir, p) for p in os.listdir(fits_dir)]\n",
    "fits_files[0]"
   ]
  },
  {
   "cell_type": "code",
   "execution_count": null,
   "id": "236079cba4700911",
   "metadata": {
    "ExecuteTime": {
     "end_time": "2025-03-28T15:53:01.308920Z",
     "start_time": "2025-03-28T15:53:01.122813Z"
    }
   },
   "outputs": [],
   "source": [
    "import re\n",
    "hp_pixels = []\n",
    "order = 11\n",
    "pattern = r\".*\\/deepCoadd_hpx_i_([0-9]*)\"\n",
    "\n",
    "for f in fits_files:\n",
    "    match = re.search(pattern, f)\n",
    "    hp_pixels.append(HealpixPixel(order, int((match.group(1)))))"
   ]
  },
  {
   "cell_type": "code",
   "execution_count": null,
   "id": "405b95672e3ac7fd",
   "metadata": {
    "ExecuteTime": {
     "end_time": "2025-03-28T15:53:04.669518Z",
     "start_time": "2025-03-28T15:53:04.660978Z"
    }
   },
   "outputs": [],
   "source": [
    "hp_pixels"
   ]
  },
  {
   "cell_type": "code",
   "execution_count": null,
   "id": "70d77001e1145b1e",
   "metadata": {
    "ExecuteTime": {
     "end_time": "2025-03-28T15:53:14.868097Z",
     "start_time": "2025-03-28T15:53:14.857649Z"
    }
   },
   "outputs": [],
   "source": [
    "from hats.pixel_tree.pixel_tree import PixelTree\n",
    "\n",
    "tree = PixelTree.from_healpix(hp_pixels, order)"
   ]
  },
  {
   "cell_type": "code",
   "execution_count": null,
   "id": "edbc6cd269d06aa0",
   "metadata": {
    "ExecuteTime": {
     "end_time": "2025-03-28T15:53:20.032022Z",
     "start_time": "2025-03-28T15:53:19.778756Z"
    }
   },
   "outputs": [],
   "source": [
    "from hats.inspection.visualize_catalog import plot_moc\n",
    "\n",
    "plot_moc(tree.to_moc())"
   ]
  },
  {
   "cell_type": "code",
   "execution_count": null,
   "id": "ee57fbde7f90e396",
   "metadata": {
    "ExecuteTime": {
     "end_time": "2025-03-28T15:53:26.988658Z",
     "start_time": "2025-03-28T15:53:26.910748Z"
    }
   },
   "outputs": [],
   "source": [
    "cat = lsdb.read_hats(\"/sdf/data/rubin/shared/lsdb_commissioning/sean_test/fzboost_curated_cds\")\n",
    "cat"
   ]
  },
  {
   "cell_type": "code",
   "execution_count": null,
   "id": "8a9c1643ecb27d7d",
   "metadata": {
    "ExecuteTime": {
     "end_time": "2025-03-28T15:53:30.642437Z",
     "start_time": "2025-03-28T15:53:30.449389Z"
    }
   },
   "outputs": [],
   "source": [
    "filtered_tree = filter_by_moc(tree, cat.hc_structure.moc)\n",
    "filtered_tree"
   ]
  },
  {
   "cell_type": "code",
   "execution_count": null,
   "id": "5db1ce31179df8cb",
   "metadata": {
    "ExecuteTime": {
     "end_time": "2025-03-28T15:53:35.755691Z",
     "start_time": "2025-03-28T15:53:35.522596Z"
    }
   },
   "outputs": [],
   "source": [
    "plot_moc(filtered_tree.to_moc())"
   ]
  },
  {
   "cell_type": "code",
   "execution_count": null,
   "id": "3587103cb7bfc0e0",
   "metadata": {
    "ExecuteTime": {
     "end_time": "2025-03-28T15:53:42.322012Z",
     "start_time": "2025-03-28T15:53:42.317785Z"
    }
   },
   "outputs": [],
   "source": [
    "filtered_tree_pixels = filtered_tree.get_healpix_pixels()"
   ]
  },
  {
   "cell_type": "code",
   "execution_count": null,
   "id": "7e959677fcc071ba",
   "metadata": {
    "ExecuteTime": {
     "end_time": "2025-03-28T15:53:46.909677Z",
     "start_time": "2025-03-28T15:53:46.869590Z"
    }
   },
   "outputs": [],
   "source": [
    "paths = [f\"/sdf/group/rubin/repo/main/LSSTComCam/runs/DRP/DP1/w_2025_11/DM-49472/hips/deep/20250317T141618Z/deepCoadd_hpx/i/deepCoadd_hpx_i_{p.pixel}_LSSTComCam_runs_DRP_DP1_w_2025_11_DM-49472_hips_deep_20250317T141618Z.fits\" for p in filtered_tree_pixels]\n",
    "paths"
   ]
  },
  {
   "cell_type": "code",
   "execution_count": null,
   "id": "2f0354f5af14fb4a",
   "metadata": {
    "ExecuteTime": {
     "end_time": "2025-03-28T15:53:57.551910Z",
     "start_time": "2025-03-28T15:53:57.549545Z"
    }
   },
   "outputs": [],
   "source": [
    "# for target in paths:\n",
    "    # link_name = f\"/sdf/home/s/smcgui/rubin-user/i_hips_in/{target.split(\"/\")[-1]}\"\n",
    "    #\n",
    "    # os.symlink(target, link_name)"
   ]
  },
  {
   "cell_type": "code",
   "execution_count": null,
   "id": "a68c9fd7385176f9",
   "metadata": {
    "ExecuteTime": {
     "end_time": "2025-03-28T16:59:32.477533Z",
     "start_time": "2025-03-28T16:59:31.518791Z"
    }
   },
   "outputs": [],
   "source": [
    "from lsdb.core.search.moc_search import MOCSearch\n",
    "\n",
    "for pixel_num in range(1100,1200):\n",
    "\n",
    "    p = filtered_tree_pixels[pixel_num]\n",
    "\n",
    "\n",
    "\n",
    "    catalog_pixel = cat.search(MOCSearch(PixelTree.from_healpix([p], 11).to_moc())).compute()\n",
    "    if len(catalog_pixel) > 10:\n",
    "        print(p)\n",
    "        print(pixel_num)\n",
    "        break\n",
    "\n",
    "catalog_pixel"
   ]
  },
  {
   "cell_type": "code",
   "execution_count": null,
   "id": "12f5df6eef135a80",
   "metadata": {
    "ExecuteTime": {
     "end_time": "2025-03-28T16:59:32.749385Z",
     "start_time": "2025-03-28T16:59:32.478730Z"
    }
   },
   "outputs": [],
   "source": [
    "from astropy.wcs import WCS\n",
    "\n",
    "with fits.open(paths[pixel_num]) as hdul:\n",
    "    data = hdul[1].data\n",
    "    header = hdul[1].header\n",
    "\n",
    "wcs = WCS(header)\n",
    "plt.figure(figsize=(12, 8))\n",
    "plt.imshow(data, cmap='gray', vmin=5, vmax=30)\n",
    "plt.colorbar()"
   ]
  },
  {
   "cell_type": "code",
   "execution_count": null,
   "id": "21478c7629d164ea",
   "metadata": {
    "ExecuteTime": {
     "end_time": "2025-03-28T16:59:35.427534Z",
     "start_time": "2025-03-28T16:59:35.104159Z"
    }
   },
   "outputs": [],
   "source": [
    "from astropy.wcs import WCS\n",
    "\n",
    "with fits.open(paths[pixel_num]) as hdul:\n",
    "    data = hdul[1].data\n",
    "    header = hdul[1].header\n",
    "\n",
    "wcs = WCS(header)\n",
    "plt.figure(figsize=(12, 8))\n",
    "plt.imshow(data, cmap='gray', vmin=5, vmax=30)\n",
    "plt.colorbar()\n",
    "x, y = skycoord_to_pixel(SkyCoord(catalog_pixel[\"i_ra\"].to_numpy(), catalog_pixel[\"i_dec\"].to_numpy(), unit=\"deg\", frame=\"icrs\"), wcs)\n",
    "plt.scatter(x, y, c=catalog_pixel[\"zmode\"].to_numpy(), marker='x', label=\"zmode\", alpha=1)\n",
    "plt.colorbar(label=\"zmode\")"
   ]
  },
  {
   "cell_type": "code",
   "execution_count": null,
   "id": "9049cb0f1d9f9a04",
   "metadata": {
    "ExecuteTime": {
     "end_time": "2025-03-28T16:59:41.377692Z",
     "start_time": "2025-03-28T16:59:41.193599Z"
    }
   },
   "outputs": [],
   "source": [
    "w11 = lsdb.read_hats('/sdf/data/rubin/shared/lsdb_commissioning/hats/w_2025_11/object_lc', margin_cache='/sdf/data/rubin/shared/lsdb_commissioning/hats/w_2025_11/object_lc_5arcs')\n",
    "w11"
   ]
  },
  {
   "cell_type": "code",
   "execution_count": null,
   "id": "6a50208835afde3a",
   "metadata": {
    "ExecuteTime": {
     "end_time": "2025-03-28T16:59:45.214652Z",
     "start_time": "2025-03-28T16:59:42.921687Z"
    }
   },
   "outputs": [],
   "source": [
    "res = cat.search(MOCSearch(PixelTree.from_healpix([p], 11).to_moc())).crossmatch(w11, suffixes=(\"\", \"_weekly11\")).compute()\n",
    "res"
   ]
  },
  {
   "cell_type": "code",
   "execution_count": null,
   "id": "6ff62b151acdca8c",
   "metadata": {
    "ExecuteTime": {
     "end_time": "2025-03-28T16:59:47.741770Z",
     "start_time": "2025-03-28T16:59:47.737233Z"
    }
   },
   "outputs": [],
   "source": [
    "import numpy as np\n",
    "import matplotlib.pyplot as plt\n",
    "def get_ellipse_outline(shape_xx, shape_yy, shape_xy, wcs, center=(0, 0)):\n",
    "    if pd.isna(shape_xx) or pd.isna(shape_yy) or pd.isna(shape_xx):\n",
    "        return None, None\n",
    "    # Covariance matrix\n",
    "    covariance_matrix = np.array([[shape_xx, shape_xy], [shape_xy, shape_yy]])\n",
    "    # Eigenvalues and eigenvectors\n",
    "    eigenvalues, eigenvectors = np.linalg.eigh(covariance_matrix)\n",
    "    # Sorting eigenvalues and corresponding eigenvectors\n",
    "    order = eigenvalues.argsort()[::-1]\n",
    "    eigenvalues = eigenvalues[order]\n",
    "    eigenvectors = eigenvectors[:, order]\n",
    "    # Semi-major and semi-minor axes\n",
    "    a = np.sqrt(eigenvalues[0]) # Semi-major axis\n",
    "    b = np.sqrt(eigenvalues[1]) # Semi-minor axis\n",
    "    # Orientation angle (in radians)\n",
    "    theta = np.arctan2(eigenvectors[1, 0], eigenvectors[0, 0])\n",
    "    # Generate ellipse points\n",
    "    t = np.linspace(0, 2 * np.pi, 100)\n",
    "    ellipse_x = a * np.cos(t)\n",
    "    ellipse_y = b * np.sin(t)\n",
    "    # Rotation matrix\n",
    "    rotation_matrix = np.array([[np.cos(theta), -np.sin(theta)], [np.sin(theta), np.cos(theta)]])\n",
    "    ellipse_points = np.dot(rotation_matrix, np.vstack((ellipse_x, ellipse_y)))\n",
    "    # Plot the ellipse\n",
    "    ra_points = ellipse_points[0] * 0.4 + center[0]\n",
    "    dec_points = ellipse_points[1] * 0.4 + center[1]\n",
    "    x, y = skycoord_to_pixel(SkyCoord(ra_points, dec_points, unit=\"arcsec\", frame=\"icrs\"), wcs)\n",
    "    return x, y\n",
    "\n",
    "def plot_ellipse(shape_xx, shape_yy, shape_xy, wcs, center=(0, 0)):\n",
    "    x, y = get_ellipse_outline(shape_xx, shape_yy, shape_xy, wcs, center=center)\n",
    "    if x is None:\n",
    "        return\n",
    "    plt.plot(x, y, label=\"Ellipse\")\n",
    "    plt.title(\"Ellipse from Shape Moments\")\n",
    "    plt.xlabel(\"X\")\n",
    "    plt.ylabel(\"Y\")\n"
   ]
  },
  {
   "cell_type": "code",
   "execution_count": null,
   "id": "2b7452df1379b33d",
   "metadata": {
    "ExecuteTime": {
     "end_time": "2025-03-28T16:59:48.994274Z",
     "start_time": "2025-03-28T16:59:48.824474Z"
    }
   },
   "outputs": [],
   "source": [
    "plot_ellipse(res.iloc[10][\"shape_xx_weekly11\"], res.iloc[10][\"shape_yy_weekly11\"], res.iloc[10][\"shape_xy_weekly11\"], wcs)"
   ]
  },
  {
   "cell_type": "code",
   "execution_count": null,
   "id": "a062b9d3a32834cc",
   "metadata": {
    "ExecuteTime": {
     "end_time": "2025-03-28T16:59:56.329891Z",
     "start_time": "2025-03-28T16:59:51.119977Z"
    }
   },
   "outputs": [],
   "source": [
    "import numpy as np\n",
    "from astropy.wcs import WCS\n",
    "\n",
    "wcs = WCS(header)\n",
    "with fits.open(paths[pixel_num]) as hdul:\n",
    "    data = hdul[1].data\n",
    "    header = hdul[1].header\n",
    "\n",
    "plt.figure(figsize=(12, 8))\n",
    "plt.imshow(data, cmap='gray', vmin=5, vmax=30)\n",
    "plt.colorbar()\n",
    "for ii in range(len(res)):\n",
    "    x, y = skycoord_to_pixel(SkyCoord(catalog_pixel[\"i_ra\"].to_numpy()[ii], catalog_pixel[\"i_dec\"].to_numpy()[ii], unit=\"deg\", frame=\"icrs\"), wcs)\n",
    "    # plt.scatter(x, y, c=catalog_pixel[\"zmode\"].to_numpy()[10], marker='x', label=\"zmode\", alpha=1, s=0.1)\n",
    "    plot_ellipse(res.iloc[ii][\"shape_xx_weekly11\"], res.iloc[ii][\"shape_yy_weekly11\"], res.iloc[ii][\"shape_xy_weekly11\"], wcs, center=(catalog_pixel[\"i_ra\"].to_numpy()[ii] * 3600, catalog_pixel[\"i_dec\"].to_numpy()[ii] * 3600))\n",
    "# plt.colorbar(label=\"zmode\")\n",
    "# plt.xlim(200, 400)\n",
    "# plt.ylim(400, 200)"
   ]
  },
  {
   "cell_type": "code",
   "execution_count": null,
   "id": "642406d5ff047750",
   "metadata": {
    "ExecuteTime": {
     "end_time": "2025-03-28T17:00:22.958641Z",
     "start_time": "2025-03-28T17:00:22.951422Z"
    }
   },
   "outputs": [],
   "source": [
    "def get_ellipse_outline(shape_xx, shape_yy, shape_xy, wcs, center=(0, 0)):\n",
    "    # Covariance matrix\n",
    "    covariance_matrix = np.array([[shape_xx, shape_xy], [shape_xy, shape_yy]])\n",
    "    # Eigenvalues and eigenvectors\n",
    "    eigenvalues, eigenvectors = np.linalg.eigh(covariance_matrix)\n",
    "    # Sorting eigenvalues and corresponding eigenvectors\n",
    "    order = eigenvalues.argsort()[::-1]\n",
    "    eigenvalues = eigenvalues[order]\n",
    "    eigenvectors = eigenvectors[:, order]\n",
    "    # Semi-major and semi-minor axes\n",
    "    a = np.sqrt(eigenvalues[0]) # Semi-major axis\n",
    "    b = np.sqrt(eigenvalues[1]) # Semi-minor axis\n",
    "    # Orientation angle (in radians)\n",
    "    theta = np.arctan2(eigenvectors[1, 0], eigenvectors[0, 0])\n",
    "    # Generate ellipse points\n",
    "    t = np.linspace(0, 2 * np.pi, 100)\n",
    "    ellipse_x = a * np.cos(t)\n",
    "    ellipse_y = b * np.sin(t)\n",
    "    # Rotation matrix\n",
    "    rotation_matrix = np.array([[np.cos(theta), -np.sin(theta)], [np.sin(theta), np.cos(theta)]])\n",
    "    ellipse_points = np.dot(rotation_matrix, np.vstack((ellipse_x, ellipse_y)))\n",
    "    # Plot the ellipse\n",
    "    ra_points = ellipse_points[0] * 0.4 + center[0]\n",
    "    dec_points = ellipse_points[1] * 0.4 + center[1]\n",
    "    x, y = skycoord_to_pixel(SkyCoord(ra_points, dec_points, unit=\"arcsec\", frame=\"icrs\"), wcs)\n",
    "    return x, y\n",
    "\n",
    "def filter_image(imdata, objects, wcs, shape_xx_col=\"shape_xx_w11\", shape_yy_col=\"shape_yy_w11\", shape_xy_col=\"shape_xy_w11\", ra_col=\"i_ra\", dec_col=\"i_dec\"):\n",
    "    pixels_to_keep = []\n",
    "    for i in range(len(objects)):\n",
    "        if pd.isna(objects[shape_xx_col].iloc[i]) or pd.isna(objects[shape_yy_col].iloc[i]) or pd.isna(objects[shape_xy_col].iloc[i]):\n",
    "            break\n",
    "        x, y = get_ellipse_outline(objects[shape_xx_col].iloc[i], objects[shape_yy_col].iloc[i], objects[shape_xy_col].iloc[i], wcs, center=(objects[ra_col].to_numpy()[i] * 3600, objects[dec_col].to_numpy()[i] * 3600))\n",
    "        all_pixels = np.vstack([x.astype(int), y.astype(int)]).T\n",
    "        pixels = np.unique(all_pixels, axis=0)\n",
    "        for i in range(len(pixels)-1):\n",
    "            p1 = pixels[i]\n",
    "            p2 = pixels[i+1]\n",
    "            pixels_to_keep.append(p1)\n",
    "            if p1[0] == p2[0]:\n",
    "                if p1[1] + 1 < p2[1]:\n",
    "                    for yi in range(p1[1] + 1, p2[1]):\n",
    "                        pixels_to_keep.append(np.array([p1[0], yi]))\n",
    "    pixels_to_keep = np.array(pixels_to_keep)\n",
    "    filtered_im = np.zeros_like(imdata)\n",
    "    if len(pixels_to_keep) > 0:\n",
    "        filtered_im[pixels_to_keep.T[1].clip(max=filtered_im.shape[0]-1), pixels_to_keep.T[0].clip(max=filtered_im.shape[1]-1)] = imdata[pixels_to_keep.T[1].clip(max=filtered_im.shape[0]-1), pixels_to_keep.T[0].clip(max=filtered_im.shape[1]-1)]\n",
    "    return filtered_im"
   ]
  },
  {
   "cell_type": "code",
   "execution_count": null,
   "id": "be092ee585e13f54",
   "metadata": {
    "ExecuteTime": {
     "end_time": "2025-03-28T17:00:24.088181Z",
     "start_time": "2025-03-28T17:00:23.502903Z"
    }
   },
   "outputs": [],
   "source": [
    "res"
   ]
  },
  {
   "cell_type": "code",
   "execution_count": null,
   "id": "1e88a546b5420528",
   "metadata": {
    "ExecuteTime": {
     "end_time": "2025-03-28T17:00:27.075605Z",
     "start_time": "2025-03-28T17:00:26.618662Z"
    }
   },
   "outputs": [],
   "source": [
    "import numpy as np\n",
    "from astropy.wcs import WCS\n",
    "\n",
    "with fits.open(paths[pixel_num]) as hdul:\n",
    "    data = hdul[1].data\n",
    "    header = hdul[1].header\n",
    "    wcs = WCS(header)\n",
    "\n",
    "modified_image = filter_image(data, res, wcs, shape_xx_col=\"shape_xx_weekly11\",shape_yy_col=\"shape_yy_weekly11\", shape_xy_col=\"shape_xy_weekly11\" )\n",
    "\n",
    "\n",
    "plt.figure(figsize=(12, 8))\n",
    "plt.imshow(modified_image, cmap='gray', vmin=5, vmax=30)\n",
    "plt.colorbar()"
   ]
  },
  {
   "cell_type": "code",
   "execution_count": null,
   "id": "dc3e3b5e0b14d41b",
   "metadata": {
    "ExecuteTime": {
     "end_time": "2025-03-28T16:08:23.278962Z",
     "start_time": "2025-03-28T16:08:23.175835Z"
    }
   },
   "outputs": [],
   "source": [
    "fits_dir = \"/sdf/home/s/smcgui/rubin-user/i_hips_in\"\n",
    "fits_files = [os.path.join(fits_dir, p) for p in os.listdir(fits_dir)]\n",
    "fits_files"
   ]
  },
  {
   "cell_type": "code",
   "execution_count": null,
   "id": "3035c064c1b8ab6d",
   "metadata": {
    "ExecuteTime": {
     "end_time": "2025-03-28T16:08:27.160075Z",
     "start_time": "2025-03-28T16:08:27.146679Z"
    }
   },
   "outputs": [],
   "source": [
    "import re\n",
    "fits_files_hp_pixels = []\n",
    "order = 11\n",
    "pattern = r\".*\\/deepCoadd_hpx_i_([0-9]*)\"\n",
    "\n",
    "for f in fits_files:\n",
    "    match = re.search(pattern, f)\n",
    "    fits_files_hp_pixels.append(HealpixPixel(order, int((match.group(1)))))\n",
    "fits_files_hp_pixels"
   ]
  },
  {
   "cell_type": "code",
   "execution_count": null,
   "id": "8c13161ffd01c55b",
   "metadata": {
    "ExecuteTime": {
     "end_time": "2025-03-28T16:08:44.703918Z",
     "start_time": "2025-03-28T16:08:44.696493Z"
    }
   },
   "outputs": [],
   "source": [
    "import dask.dataframe as dd\n",
    "\n",
    "paths_ddf = dd.from_map(lambda f: pd.DataFrame.from_dict({\"filepath\": [f]}), fits_files, meta=pd.DataFrame({\"filepath\": pd.Series([], dtype=\"string\")}))"
   ]
  },
  {
   "cell_type": "code",
   "execution_count": null,
   "id": "36a47e4576f7c3fd",
   "metadata": {
    "ExecuteTime": {
     "end_time": "2025-03-28T16:08:48.855314Z",
     "start_time": "2025-03-28T16:08:48.841181Z"
    }
   },
   "outputs": [],
   "source": [
    "ddf_pixel_map = {p: i for i, p in enumerate(fits_files_hp_pixels)}\n",
    "ddf_pixel_map"
   ]
  },
  {
   "cell_type": "code",
   "execution_count": null,
   "id": "f033e15bda04bc8a",
   "metadata": {
    "ExecuteTime": {
     "end_time": "2025-03-28T16:08:53.455556Z",
     "start_time": "2025-03-28T16:08:53.451857Z"
    }
   },
   "outputs": [],
   "source": [
    "from hats.catalog import TableProperties\n",
    "\n",
    "map_cat_props = TableProperties(catalog_name=\"fits_paths_map_cat\", catalog_type=\"map\", total_rows=len(fits_files))\n",
    "map_cat_props"
   ]
  },
  {
   "cell_type": "code",
   "execution_count": null,
   "id": "15281316dc7597cd",
   "metadata": {
    "ExecuteTime": {
     "end_time": "2025-03-28T16:09:03.823456Z",
     "start_time": "2025-03-28T16:09:03.818615Z"
    }
   },
   "outputs": [],
   "source": [
    "import hats\n",
    "\n",
    "map_catalog_hc_structure = hats.catalog.MapCatalog(map_cat_props, fits_files_hp_pixels)\n",
    "map_catalog_hc_structure"
   ]
  },
  {
   "cell_type": "code",
   "execution_count": null,
   "id": "463c429e57750f22",
   "metadata": {
    "ExecuteTime": {
     "end_time": "2025-03-28T16:09:14.774416Z",
     "start_time": "2025-03-28T16:09:14.762385Z"
    }
   },
   "outputs": [],
   "source": [
    "from lsdb.catalog import MapCatalog\n",
    "\n",
    "fits_paths_cat = MapCatalog(paths_ddf, ddf_pixel_map, map_catalog_hc_structure)\n",
    "fits_paths_cat"
   ]
  },
  {
   "cell_type": "code",
   "execution_count": null,
   "id": "423c881d5c80f73c",
   "metadata": {
    "ExecuteTime": {
     "end_time": "2025-03-28T16:09:19.943135Z",
     "start_time": "2025-03-28T16:09:19.896799Z"
    }
   },
   "outputs": [],
   "source": [
    "fzboost_cat = lsdb.read_hats(\"/sdf/data/rubin/shared/lsdb_commissioning/sean_test/fzboost_curated_cds\")\n",
    "fzboost_cat"
   ]
  },
  {
   "cell_type": "code",
   "execution_count": null,
   "id": "e2afc1997e44dea3",
   "metadata": {
    "ExecuteTime": {
     "end_time": "2025-03-28T16:09:22.791639Z",
     "start_time": "2025-03-28T16:09:22.636159Z"
    }
   },
   "outputs": [],
   "source": [
    "w11 = lsdb.read_hats('/sdf/data/rubin/shared/lsdb_commissioning/hats/w_2025_11/object_lc', margin_cache='/sdf/data/rubin/shared/lsdb_commissioning/hats/w_2025_11/object_lc_5arcs')\n",
    "w11"
   ]
  },
  {
   "cell_type": "code",
   "execution_count": null,
   "id": "8278d7deac8f2cf0",
   "metadata": {
    "ExecuteTime": {
     "end_time": "2025-03-28T16:09:27.847415Z",
     "start_time": "2025-03-28T16:09:27.405654Z"
    }
   },
   "outputs": [],
   "source": [
    "rubin = fzboost_cat.crossmatch(w11, suffixes=(\"\", \"_w11\"))\n",
    "rubin"
   ]
  },
  {
   "cell_type": "code",
   "execution_count": null,
   "id": "1be052ee4d66c2d3",
   "metadata": {
    "ExecuteTime": {
     "end_time": "2025-03-28T16:09:38.810190Z",
     "start_time": "2025-03-28T16:09:38.803105Z"
    }
   },
   "outputs": [],
   "source": [
    "def get_ellipse_outline(shape_xx, shape_yy, shape_xy, wcs, center=(0, 0)):\n",
    "    # Covariance matrix\n",
    "    covariance_matrix = np.array([[shape_xx, shape_xy], [shape_xy, shape_yy]])\n",
    "    # Eigenvalues and eigenvectors\n",
    "    eigenvalues, eigenvectors = np.linalg.eigh(covariance_matrix)\n",
    "    # Sorting eigenvalues and corresponding eigenvectors\n",
    "    order = eigenvalues.argsort()[::-1]\n",
    "    eigenvalues = eigenvalues[order]\n",
    "    eigenvectors = eigenvectors[:, order]\n",
    "    # Semi-major and semi-minor axes\n",
    "    a = np.sqrt(eigenvalues[0]) # Semi-major axis\n",
    "    b = np.sqrt(eigenvalues[1]) # Semi-minor axis\n",
    "    # Orientation angle (in radians)\n",
    "    theta = np.arctan2(eigenvectors[1, 0], eigenvectors[0, 0])\n",
    "    # Generate ellipse points\n",
    "    t = np.linspace(0, 2 * np.pi, 100)\n",
    "    ellipse_x = a * np.cos(t)\n",
    "    ellipse_y = b * np.sin(t)\n",
    "    # Rotation matrix\n",
    "    rotation_matrix = np.array([[np.cos(theta), -np.sin(theta)], [np.sin(theta), np.cos(theta)]])\n",
    "    ellipse_points = np.dot(rotation_matrix, np.vstack((ellipse_x, ellipse_y)))\n",
    "    # Plot the ellipse\n",
    "    ra_points = ellipse_points[0] * 0.4 + center[0]\n",
    "    dec_points = ellipse_points[1] * 0.4 + center[1]\n",
    "    x, y = skycoord_to_pixel(SkyCoord(ra_points, dec_points, unit=\"arcsec\", frame=\"icrs\"), wcs)\n",
    "    return x, y\n",
    "\n",
    "def filter_image(imdata, objects, wcs, shape_xx_col=\"shape_xx_w11\", shape_yy_col=\"shape_yy_w11\", shape_xy_col=\"shape_xy_w11\", ra_col=\"i_ra\", dec_col=\"i_dec\"):\n",
    "    pixels_to_keep = []\n",
    "    for i in range(len(objects)):\n",
    "        if pd.isna(objects[shape_xx_col].iloc[i]) or pd.isna(objects[shape_yy_col].iloc[i]) or pd.isna(objects[shape_xy_col].iloc[i]):\n",
    "            break\n",
    "        x, y = get_ellipse_outline(objects[shape_xx_col].iloc[i], objects[shape_yy_col].iloc[i], objects[shape_xy_col].iloc[i], wcs, center=(objects[ra_col].to_numpy()[i] * 3600, objects[dec_col].to_numpy()[i] * 3600))\n",
    "        all_pixels = np.vstack([x.astype(int), y.astype(int)]).T\n",
    "        pixels = np.unique(all_pixels, axis=0)\n",
    "        for i in range(len(pixels)-1):\n",
    "            p1 = pixels[i]\n",
    "            p2 = pixels[i+1]\n",
    "            pixels_to_keep.append(p1)\n",
    "            if p1[0] == p2[0]:\n",
    "                if p1[1] + 1 < p2[1]:\n",
    "                    for yi in range(p1[1] + 1, p2[1]):\n",
    "                        pixels_to_keep.append(np.array([p1[0], yi]))\n",
    "    pixels_to_keep = np.array(pixels_to_keep)\n",
    "    filtered_im = np.zeros_like(imdata)\n",
    "    if len(pixels_to_keep) > 0:\n",
    "        filtered_im[pixels_to_keep.T[1].clip(max=filtered_im.shape[0]-1), pixels_to_keep.T[0].clip(max=filtered_im.shape[1]-1)] = imdata[pixels_to_keep.T[1].clip(max=filtered_im.shape[0]-1), pixels_to_keep.T[0].clip(max=filtered_im.shape[1]-1)]\n",
    "    return filtered_im"
   ]
  },
  {
   "cell_type": "code",
   "execution_count": null,
   "id": "a42f873026f17f9d",
   "metadata": {
    "ExecuteTime": {
     "end_time": "2025-03-28T16:09:41.788171Z",
     "start_time": "2025-03-28T16:09:41.784092Z"
    }
   },
   "outputs": [],
   "source": [
    "def split_image(partition, fits_path_df, catalog_pixel, map_pixel, zbins, out_base_paths):\n",
    "    file_path = fits_path_df[\"filepath\"].iloc[0]\n",
    "    with fits.open(file_path) as hdul:\n",
    "        out_path = os.path.join(out_base_paths[0], file_path.split(\"/\")[-1])\n",
    "        data = hdul[1].data\n",
    "        header = hdul[1].header\n",
    "        wcs = WCS(header)\n",
    "        for bin, out_base_path in zip(zbins, out_base_paths):\n",
    "            if len(bin) == 2:\n",
    "                queried_result = partition.query(f\"zmode >= {bin[0]} and zmode < {bin[1]}\")\n",
    "                out_data = filter_image(data, queried_result, wcs)\n",
    "            elif len(bin) == 1:\n",
    "                queried_result = partition.query(f\"zmode >= {bin[0]}\")\n",
    "                out_data = filter_image(data, queried_result, wcs)\n",
    "            out_path = os.path.join(out_base_path, file_path.split(\"/\")[-1])\n",
    "            hdu = fits.PrimaryHDU(out_data, header=header)\n",
    "            out_hdul = fits.HDUList([hdu])\n",
    "            out_hdul.writeto(out_path)\n",
    "    return pd.DataFrame.from_dict({\"lenpart\": [len(partition)]})"
   ]
  },
  {
   "cell_type": "code",
   "execution_count": null,
   "id": "e2d224c73e831d2c",
   "metadata": {
    "ExecuteTime": {
     "end_time": "2025-03-28T16:09:57.879023Z",
     "start_time": "2025-03-28T16:09:56.170378Z"
    }
   },
   "outputs": [],
   "source": [
    "zbins = [[0, 0.1], [0.1, 0.3], [0.3, 0.7], [0.7, 1.5], [1.5]]\n",
    "# zbins = [[\"initial\"]]\n",
    "out_paths = [f\"/sdf/home/s/smcgui/rubin-user/filtered_hips_i/bin{i[0]}/\" for i in zbins]\n",
    "# for path in out_paths:\n",
    "#     os.makedirs(path, exist_ok=False)\n",
    "out = rubin.merge_map(fits_paths_cat, split_image, zbins, out_paths, meta=pd.DataFrame({\"lenpart\": pd.Series([], dtype=\"int\")}))\n",
    "out"
   ]
  },
  {
   "cell_type": "code",
   "execution_count": null,
   "id": "87070695982a8210",
   "metadata": {
    "ExecuteTime": {
     "end_time": "2025-03-28T16:10:21.653181Z",
     "start_time": "2025-03-28T16:10:21.650631Z"
    }
   },
   "outputs": [],
   "source": [
    "last_file = f\"{out_paths[-3]}/deepCoadd_hpx_i_36796142_LSSTComCam_runs_DRP_DP1_w_2025_11_DM-49472_hips_deep_20250317T141618Z.fits\""
   ]
  },
  {
   "cell_type": "code",
   "execution_count": null,
   "id": "4604fc189878c21e",
   "metadata": {
    "ExecuteTime": {
     "end_time": "2025-03-28T16:10:25.304850Z",
     "start_time": "2025-03-28T16:10:25.135229Z"
    }
   },
   "outputs": [],
   "source": [
    "with fits.open(last_file) as hdul:\n",
    "    test_data = hdul[0].data\n",
    "    test_header = hdul[0].header\n",
    "\n",
    "test_wcs = WCS(test_header)\n",
    "plt.figure(figsize=(12, 8))\n",
    "plt.imshow(test_data, cmap='gray', vmin=5, vmax=30)\n",
    "plt.colorbar()\n",
    "plt.show()"
   ]
  },
  {
   "cell_type": "code",
   "execution_count": null,
   "id": "18de0d61352a6ff4",
   "metadata": {
    "ExecuteTime": {
     "end_time": "2025-03-28T16:12:12.264619Z",
     "start_time": "2025-03-28T16:12:12.259546Z"
    }
   },
   "outputs": [],
   "source": [
    "import os\n",
    "import shutil\n",
    "from PIL import Image\n",
    "\n",
    "def find_png_files(root_dir):\n",
    "    \"\"\"Find all PNG files in Norder directories and group them by pixel tile name.\"\"\"\n",
    "    png_files = {}\n",
    "\n",
    "    for dirpath, _, filenames in os.walk(root_dir):\n",
    "        if \"Norder\" in dirpath:\n",
    "            for file in filenames:\n",
    "                if file.endswith(\".png\"):\n",
    "                    tile_name = os.path.basename(file)\n",
    "                    png_files[tile_name] = os.path.join(dirpath, file)\n",
    "\n",
    "    return png_files\n",
    "\n",
    "def merge_rgb_images(red_dir, green_dir, blue_dir, output_dir):\n",
    "    \"\"\"Merge red, green, and blue PNGs into an RGB image and save to output_dir.\"\"\"\n",
    "    # os.makedirs(output_dir, exist_ok=True)\n",
    "\n",
    "    red_files = find_png_files(red_dir)\n",
    "    green_files = find_png_files(green_dir)\n",
    "    blue_files = find_png_files(blue_dir)\n",
    "\n",
    "    all_tiles = set(red_files.keys()) | set(green_files.keys()) | set(blue_files.keys())\n",
    "\n",
    "    for tile in all_tiles:\n",
    "        red_path = red_files.get(tile, {})\n",
    "        green_path = green_files.get(tile, {})\n",
    "        blue_path = blue_files.get(tile, {})\n",
    "\n",
    "        red_img = Image.open(red_path).convert(\"L\") if red_path else None\n",
    "        green_img = Image.open(green_path).convert(\"L\") if green_path else None\n",
    "        blue_img = Image.open(blue_path).convert(\"L\") if blue_path else None\n",
    "\n",
    "        # Determine image size (use first available image size)\n",
    "        img_size = red_img.size if red_img else (green_img.size if green_img else blue_img.size)\n",
    "\n",
    "        # Create black images for missing channels\n",
    "        if not red_img:\n",
    "            continue\n",
    "        if not green_img:\n",
    "            continue\n",
    "        if not blue_img:\n",
    "            continue\n",
    "\n",
    "        # Merge into RGB\n",
    "        rgb_image = Image.merge(\"RGB\", (red_img, green_img, blue_img))\n",
    "\n",
    "        return rgb_image\n",
    "\n",
    "        # Recreate directory structure in output folder\n",
    "        # original_path = os.path.dirname(red_path)\n",
    "        #\n",
    "        # relative_path = os.path.relpath(original_path, red_dir)\n",
    "        # save_path = os.path.join(output_dir, relative_path)\n",
    "        # os.makedirs(save_path, exist_ok=True)\n",
    "\n",
    "        # rgb_image.save(os.path.join(save_path, tile))\n",
    "        # print(f\"Saved: {os.path.join(save_path, tile)}\")"
   ]
  },
  {
   "cell_type": "code",
   "execution_count": null,
   "id": "f2dfebd368d4f580",
   "metadata": {
    "ExecuteTime": {
     "end_time": "2025-03-28T16:12:12.931853Z",
     "start_time": "2025-03-28T16:12:12.929515Z"
    }
   },
   "outputs": [],
   "source": [
    "red_hips_dir = f\"/sdf/home/s/smcgui/rubin-user/i_hips\"\n",
    "green_hips_dir = f\"/sdf/home/s/smcgui/rubin-user/r_hips\"\n",
    "blue_hips_dir = f\"/sdf/home/s/smcgui/rubin-user/g_hips\""
   ]
  },
  {
   "cell_type": "code",
   "execution_count": null,
   "id": "62da4b8dd2029b44",
   "metadata": {
    "ExecuteTime": {
     "end_time": "2025-03-28T16:12:14.940989Z",
     "start_time": "2025-03-28T16:12:13.894907Z"
    }
   },
   "outputs": [],
   "source": [
    "rgb_im = merge_rgb_images(red_hips_dir, green_hips_dir, blue_hips_dir, \"\")\n",
    "rgb_im"
   ]
  },
  {
   "cell_type": "code",
   "execution_count": null,
   "id": "928d99cec911ee92",
   "metadata": {},
   "outputs": [],
   "source": []
  }
 ],
 "metadata": {
  "kernelspec": {
   "display_name": "Python 3",
   "language": "python",
   "name": "python3"
  },
  "language_info": {
   "codemirror_mode": {
    "name": "ipython",
    "version": 2
   },
   "file_extension": ".py",
   "mimetype": "text/x-python",
   "name": "python",
   "nbconvert_exporter": "python",
   "pygments_lexer": "ipython2",
   "version": "2.7.6"
  }
 },
 "nbformat": 4,
 "nbformat_minor": 5
}
