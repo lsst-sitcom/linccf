{
 "cells": [
  {
   "cell_type": "markdown",
   "metadata": {},
   "source": [
    "## Find variable objects in Rubin\n",
    "\n",
    "This notebook finds the closest matches for our 10 variable objects in Rubin."
   ]
  },
  {
   "cell_type": "code",
   "execution_count": null,
   "metadata": {},
   "outputs": [],
   "source": [
    "import lsdb\n",
    "import numpy as np\n",
    "import pandas as pd\n",
    "import pyarrow as pa\n",
    "\n",
    "from astropy.timeseries import LombScargle\n",
    "from nested_pandas import NestedDtype\n",
    "from pathlib import Path"
   ]
  },
  {
   "cell_type": "code",
   "execution_count": null,
   "metadata": {},
   "outputs": [],
   "source": [
    "# We add the index as a column of the DataFrame so we can later retrieve\n",
    "# all the Rubin data from difference and science imaging\n",
    "variables_df = pd.read_csv(\"periodic_objects.csv\").reset_index()\n",
    "# Transform the DataFrame into a LSDB Catalog\n",
    "variables_catalog = lsdb.from_dataframe(variables_df)"
   ]
  },
  {
   "cell_type": "code",
   "execution_count": null,
   "metadata": {},
   "outputs": [],
   "source": [
    "drp_release = \"w_2025_10\"\n",
    "base_dir = Path(\"/sdf/data/rubin/shared/lsdb_commissioning/hats\")\n",
    "hats_dir = base_dir / drp_release"
   ]
  },
  {
   "cell_type": "code",
   "execution_count": null,
   "metadata": {},
   "outputs": [],
   "source": [
    "object_lc_x_ps1 = lsdb.read_hats(hats_dir / \"object_lc_x_ps1\")\n",
    "object_lc_x_ps1"
   ]
  },
  {
   "cell_type": "code",
   "execution_count": null,
   "metadata": {},
   "outputs": [],
   "source": [
    "def cast_nested(df, columns):\n",
    "    return df.assign(\n",
    "        **{\n",
    "            col: df[col].astype(NestedDtype.from_pandas_arrow_dtype(df.dtypes[col]))\n",
    "            for col in columns\n",
    "        },\n",
    "    )"
   ]
  },
  {
   "cell_type": "code",
   "execution_count": null,
   "metadata": {},
   "outputs": [],
   "source": [
    "object_lc = lsdb.read_hats(\n",
    "    hats_dir / \"object_lc\",\n",
    "    margin_cache=hats_dir / \"object_lc_5arcs\",\n",
    "    columns=[\"objectId\", \"coord_ra\", \"coord_dec\", \"forcedSource\"],\n",
    ")\n",
    "# We use the `cast_nested` utility method to cast columns into the NestedFrame type\n",
    "object_lc = object_lc.map_partitions(cast_nested, columns=[\"forcedSource\"])"
   ]
  },
  {
   "cell_type": "code",
   "execution_count": null,
   "metadata": {},
   "outputs": [],
   "source": [
    "# Get the Rubin data for our objects\n",
    "variables_catalog = variables_catalog.crossmatch(object_lc, suffixes=(\"\", \"\"))"
   ]
  },
  {
   "cell_type": "code",
   "execution_count": null,
   "metadata": {},
   "outputs": [],
   "source": [
    "# Use the \"r\" band only to get the periods\n",
    "r_band = variables_catalog.query(\"forcedSource.band == 'r'\")"
   ]
  },
  {
   "cell_type": "code",
   "execution_count": null,
   "metadata": {},
   "outputs": [],
   "source": [
    "def compute_periods(index_rubin, true_period, mjd, flux):\n",
    "    # Define a freq grid to search around the true period/frequency\n",
    "    true_freq = 1 / true_period\n",
    "    frequency = np.linspace(0.9 * true_freq, 1.1 * true_freq, 100)\n",
    "    power = LombScargle(mjd, flux).power(frequency)\n",
    "    maxpower = np.max(power)\n",
    "    period = 1 / frequency[np.argmax(power)]\n",
    "    return {\"index\": index_rubin, \"maxpower\": maxpower, \"period\": period}"
   ]
  },
  {
   "cell_type": "code",
   "execution_count": null,
   "metadata": {},
   "outputs": [],
   "source": [
    "meta = {\n",
    "    \"index\": pd.ArrowDtype(pa.int64()),\n",
    "    \"maxpower\": pd.ArrowDtype(pa.float64()),\n",
    "    \"period\": pd.ArrowDtype(pa.float64()),\n",
    "}\n",
    "\n",
    "periods = r_band.reduce(\n",
    "    compute_periods,\n",
    "    \"index\",\n",
    "    \"true_period\",\n",
    "    \"forcedSource.midpointMjdTai\",\n",
    "    \"forcedSource.psfFlux\",\n",
    "    meta=meta,\n",
    ")"
   ]
  },
  {
   "cell_type": "code",
   "execution_count": null,
   "metadata": {},
   "outputs": [],
   "source": [
    "results = variables_catalog.join(\n",
    "    periods, left_on=\"index\", right_on=\"index\", suffixes=(\"\", \"\")\n",
    ")"
   ]
  },
  {
   "cell_type": "code",
   "execution_count": null,
   "metadata": {},
   "outputs": [],
   "source": [
    "# Save all calculated Rubin periods to disk\n",
    "results.to_hats(\"rubin_variables\", catalog_name=\"rubin_variables\")"
   ]
  }
 ],
 "metadata": {
  "kernelspec": {
   "display_name": "Python 3 (ipykernel)",
   "language": "python",
   "name": "python3"
  },
  "language_info": {
   "codemirror_mode": {
    "name": "ipython",
    "version": 3
   },
   "file_extension": ".py",
   "mimetype": "text/x-python",
   "name": "python",
   "nbconvert_exporter": "python",
   "pygments_lexer": "ipython3",
   "version": "3.12.9"
  }
 },
 "nbformat": 4,
 "nbformat_minor": 2
}
