{
 "cells": [
  {
   "cell_type": "markdown",
   "metadata": {},
   "source": [
    "## Periods in Rubin compared to ZTF\n",
    "\n",
    "In this notebook we will compare periods for objects in Rubin with those we get from ZTF."
   ]
  },
  {
   "cell_type": "code",
   "execution_count": null,
   "metadata": {},
   "outputs": [],
   "source": [
    "import lsdb\n",
    "import matplotlib.pyplot as plt\n",
    "import numpy as np\n",
    "import pandas as pd\n",
    "import tempfile\n",
    "\n",
    "from astropy.timeseries import LombScargle\n",
    "from dask.distributed import Client\n",
    "from nested_pandas import NestedDtype\n",
    "from pathlib import Path"
   ]
  },
  {
   "cell_type": "code",
   "execution_count": null,
   "metadata": {},
   "outputs": [],
   "source": [
    "def cast_nested(df, columns):\n",
    "    return df.assign(\n",
    "        **{\n",
    "            col: df[col].astype(NestedDtype.from_pandas_arrow_dtype(df.dtypes[col]))\n",
    "            for col in columns\n",
    "        },\n",
    "    )"
   ]
  },
  {
   "cell_type": "code",
   "execution_count": null,
   "metadata": {},
   "outputs": [],
   "source": [
    "tmp_path = tempfile.TemporaryDirectory()\n",
    "client = Client(n_workers=4, threads_per_worker=1, local_directory=tmp_path.name)"
   ]
  },
  {
   "cell_type": "markdown",
   "metadata": {},
   "source": [
    "### Load Rubin and ZTF"
   ]
  },
  {
   "cell_type": "code",
   "execution_count": null,
   "metadata": {},
   "outputs": [],
   "source": [
    "drp_release = \"w_2025_10\"\n",
    "base_dir = Path(\"/sdf/data/rubin/shared/lsdb_commissioning/hats\")\n",
    "hats_dir = base_dir / drp_release"
   ]
  },
  {
   "cell_type": "code",
   "execution_count": null,
   "metadata": {},
   "outputs": [],
   "source": [
    "rubin_variables = lsdb.read_hats(\"rubin_variables\")\n",
    "# We use the `cast_nested` utility method to cast columns into the NestedFrame type\n",
    "rubin_variables = rubin_variables.map_partitions(cast_nested, columns=[\"forcedSource\"])"
   ]
  },
  {
   "cell_type": "markdown",
   "metadata": {},
   "source": [
    "We will read `object_lc_x_ps1` which we had already computed for the result of the crossmatch of Rubin with PS1."
   ]
  },
  {
   "cell_type": "code",
   "execution_count": null,
   "metadata": {},
   "outputs": [],
   "source": [
    "object_lc_x_ztf = lsdb.read_hats(\n",
    "    hats_dir / \"object_lc_x_ztf_dr22\", columns=[\"objectId\", \"ztf_lc\"]\n",
    ")\n",
    "# We use the `cast_nested` utility method to cast columns into the NestedFrame type\n",
    "object_lc_x_ztf = object_lc_x_ztf.map_partitions(cast_nested, columns=[\"ztf_lc\"])"
   ]
  },
  {
   "cell_type": "markdown",
   "metadata": {},
   "source": [
    "We can now crossmatch our catalog of Rubin periods with `object_lc_x_ztf` to get the aggregated data that we need:"
   ]
  },
  {
   "cell_type": "code",
   "execution_count": null,
   "metadata": {},
   "outputs": [],
   "source": [
    "variables_catalog = rubin_variables.join(\n",
    "    object_lc_x_ztf, left_on=\"objectId\", right_on=\"objectId\", suffixes=(\"_rubin\", \"\")\n",
    ")"
   ]
  },
  {
   "cell_type": "code",
   "execution_count": null,
   "metadata": {},
   "outputs": [],
   "source": [
    "# Compute the result for the 10 variable objects\n",
    "variables = variables_catalog.compute()"
   ]
  },
  {
   "cell_type": "markdown",
   "metadata": {},
   "source": [
    "### Calculate periods for PS1 and compare with Rubin's"
   ]
  },
  {
   "cell_type": "code",
   "execution_count": null,
   "metadata": {},
   "outputs": [],
   "source": [
    "def calculate_ztf_periods(true_period, ztf_time, ztf_flux):\n",
    "    # define a freq grid to search around the true period/frequency\n",
    "    true_freq = 1 / true_period\n",
    "    frequency = np.linspace(0.9 * true_freq, 1.1 * true_freq, 100)\n",
    "    ztf_power = LombScargle(ztf_time, ztf_flux).power(frequency)\n",
    "    ztf_maxpower = np.max(ztf_power)\n",
    "    ztf_period = 1 / frequency[np.argmax(ztf_power)]\n",
    "    return {\"maxpower_ztf\": ztf_maxpower, \"period_ztf\": ztf_period}"
   ]
  },
  {
   "cell_type": "code",
   "execution_count": null,
   "metadata": {},
   "outputs": [],
   "source": [
    "# Each object has a single-band light curve\n",
    "[np.unique(lc[\"filterid_ztf\"]) for lc in variables[\"ztf_lc\"]]"
   ]
  },
  {
   "cell_type": "code",
   "execution_count": null,
   "metadata": {},
   "outputs": [],
   "source": [
    "periods = variables.reduce(\n",
    "    calculate_ztf_periods, \"true_period_rubin\", \"ztf_lc.hmjd_ztf\", \"ztf_lc.mag_ztf\"\n",
    ")\n",
    "variables = pd.concat([variables, periods], axis=1)"
   ]
  },
  {
   "cell_type": "markdown",
   "metadata": {},
   "source": [
    "### Plot original and phased light curves\n",
    "\n",
    "Now let's plot light curves for each object on both surveys:"
   ]
  },
  {
   "cell_type": "code",
   "execution_count": null,
   "metadata": {},
   "outputs": [],
   "source": [
    "# Rubin has \"ugrizy\" filters\n",
    "COLORS = {\n",
    "    \"u\": \"#56b4e9\",\n",
    "    \"g\": \"#009e73\",\n",
    "    \"r\": \"#f0e442\",\n",
    "    \"i\": \"#cc79a7\",\n",
    "    \"z\": \"#d55e00\",\n",
    "    \"y\": \"#0072b2\",\n",
    "}\n",
    "\n",
    "# PanSTARRS has \"gri\" filters [0..2]\n",
    "ZTF_COLORS = {i: color for i, color in enumerate(\"gri\")}"
   ]
  },
  {
   "cell_type": "code",
   "execution_count": null,
   "metadata": {},
   "outputs": [],
   "source": [
    "def plot_ztf(ax, lc, period):\n",
    "    mjd_col = \"hmjd_ztf\"\n",
    "    mag_col = \"mag_ztf\"\n",
    "    magerr_col = \"magerr_ztf\"\n",
    "    # Plot original light curve\n",
    "    ax[0].set_title(\"ZTF - Original\")\n",
    "    mags = _plot_ztf_lc(ax[0], lc, mag_col, magerr_col, x_name=mjd_col, x_label=\"MJD\")\n",
    "    # Plot phased light curve\n",
    "    ax[1].set_title(f\"ZTF - Phase folded ({period})\")\n",
    "    lc = lc.assign(\n",
    "        phase=(lc[mjd_col] - lc[mjd_col].loc[lc[mag_col].idxmax()]) % period / period\n",
    "    )\n",
    "    _plot_ztf_lc(ax[1], lc, mag_col, magerr_col, x_name=\"phase\", x_label=\"Phase\")\n",
    "    scale_y_axis(ax, mags)\n",
    "    scale_x_axis(ax, lc[mjd_col], lc[\"phase\"], delta=200)\n",
    "\n",
    "\n",
    "def plot_rubin(ax, lc, period):\n",
    "    mjd_col = \"midpointMjdTai\"\n",
    "    mag_col = \"psfMag\"\n",
    "    magerr_col = \"psfMagErr\"\n",
    "    # Plot original light curve\n",
    "    ax[0].set_title(\"Rubin - Original\")\n",
    "    mags = _plot_rubin_lc(ax[0], lc, mag_col, magerr_col, x_name=mjd_col, x_label=\"MJD\")\n",
    "    # Plot phased light curve\n",
    "    ax[1].set_title(f\"Rubin - Phase folded ({period})\")\n",
    "    lc = lc.assign(\n",
    "        phase=(lc[mjd_col] - lc[mjd_col].loc[lc[mag_col].idxmax()]) % period / period\n",
    "    )\n",
    "    _plot_rubin_lc(ax[1], lc, mag_col, magerr_col, x_name=\"phase\", x_label=\"Phase\")\n",
    "    scale_y_axis(ax, mags)\n",
    "    scale_x_axis(ax, lc[mjd_col], lc[\"phase\"], delta=5)\n",
    "\n",
    "\n",
    "def _plot_ztf_lc(ax, lc, mag_col, magerr_col, x_name, x_label):\n",
    "    mag_values = []\n",
    "    for filterid, band in ZTF_COLORS.items():\n",
    "        band_lc = lc.query(f\"filterid_ztf == {filterid}\")\n",
    "        mag, magerr = band_lc[mag_col], band_lc[magerr_col]\n",
    "        ax.errorbar(\n",
    "            band_lc[x_name],\n",
    "            mag,\n",
    "            magerr,\n",
    "            fmt=\"o\",\n",
    "            label=band,\n",
    "            color=COLORS[band],\n",
    "            alpha=1,\n",
    "            markersize=5,\n",
    "            capsize=3,\n",
    "            elinewidth=1,\n",
    "        )\n",
    "        mag_values.extend(mag.dropna().values)\n",
    "    ax.set_xlabel(x_label)\n",
    "    ax.set_ylabel(\"Magnitude (AB)\")\n",
    "    ax.invert_yaxis()\n",
    "    ax.legend(loc=\"lower right\", fontsize=12)\n",
    "    return mag_values\n",
    "\n",
    "\n",
    "def _plot_rubin_lc(ax, lc, mag_col, magerr_col, x_name, x_label):\n",
    "    mag_values = []\n",
    "    for band, color in COLORS.items():\n",
    "        band_lc = lc.query(f\"band == '{band}'\")\n",
    "        mag, magerr = band_lc[mag_col], band_lc[magerr_col]\n",
    "        ax.errorbar(\n",
    "            band_lc[x_name],\n",
    "            mag,\n",
    "            magerr,\n",
    "            fmt=\"o\",\n",
    "            label=band,\n",
    "            color=color,\n",
    "            alpha=1,\n",
    "            markersize=5,\n",
    "            capsize=3,\n",
    "            elinewidth=1,\n",
    "        )\n",
    "        mag_values.extend(mag.dropna().values)\n",
    "    ax.set_xlabel(x_label)\n",
    "    ax.set_ylabel(\"Magnitude (AB)\")\n",
    "    ax.invert_yaxis()\n",
    "    ax.legend(loc=\"lower right\", fontsize=12)\n",
    "    return mag_values\n",
    "\n",
    "\n",
    "def scale_x_axis(ax, mjd_values, phase_values, delta):\n",
    "    # Apply limits to the mjd axis\n",
    "    xmin, xmax = np.nanmin(mjd_values), np.nanmax(mjd_values)\n",
    "    ax[0].set_xlim(xmin - delta, xmax + delta)\n",
    "    # Apply limits to the phase axis\n",
    "    xmin, xmax = np.nanmin(phase_values), np.nanmax(phase_values)\n",
    "    ax[1].set_xlim(xmin, xmax)\n",
    "\n",
    "\n",
    "def scale_y_axis(ax, all_mags):\n",
    "    # Apply limits to all columns in the row\n",
    "    ymin, ymax = np.nanmin(all_mags), np.nanmax(all_mags)\n",
    "    lower_bound = np.quantile(all_mags, 0.1)\n",
    "    upper_bound = np.quantile(all_mags, 0.9)\n",
    "    for i in range(2):\n",
    "        # Keep magnitude inverted\n",
    "        ax[i].set_ylim(lower_bound - 0.2, upper_bound + 0.2)\n",
    "    # print(\"Min | Max:\", ymin, ymax)\n",
    "    # print(\"10% | 90%:\", lower_bound, upper_bound)"
   ]
  },
  {
   "cell_type": "code",
   "execution_count": null,
   "metadata": {},
   "outputs": [],
   "source": [
    "for index_rubin, row in variables.iterrows():\n",
    "    fig, ax = plt.subplots(2, 2, figsize=(12, 8), sharey=\"col\")\n",
    "\n",
    "    ra, dec = row.ra_rubin, row.dec_rubin\n",
    "    true_period = row[\"true_period_rubin\"]\n",
    "    ztf_period = round(row[\"period_ztf\"], 5)\n",
    "    rubin_period = round(row[\"period_rubin\"], 5)\n",
    "\n",
    "    title = f\"{drp_release} | RA={ra:.5f}, Dec={dec:.5f} (T={true_period})\"\n",
    "    fig.suptitle(title, fontsize=16)\n",
    "\n",
    "    plot_ztf(ax[0], row[\"ztf_lc\"], ztf_period)\n",
    "    plot_rubin(ax[1], row[\"forcedSource_rubin\"], rubin_period)\n",
    "\n",
    "    plt.tight_layout()\n",
    "    plt.show()"
   ]
  },
  {
   "cell_type": "code",
   "execution_count": null,
   "metadata": {},
   "outputs": [],
   "source": [
    "client.close()\n",
    "tmp_path.cleanup()"
   ]
  }
 ],
 "metadata": {
  "kernelspec": {
   "display_name": "Python 3 (ipykernel)",
   "language": "python",
   "name": "python3"
  },
  "language_info": {
   "codemirror_mode": {
    "name": "ipython",
    "version": 3
   },
   "file_extension": ".py",
   "mimetype": "text/x-python",
   "name": "python",
   "nbconvert_exporter": "python",
   "pygments_lexer": "ipython3",
   "version": "3.12.9"
  }
 },
 "nbformat": 4,
 "nbformat_minor": 2
}
