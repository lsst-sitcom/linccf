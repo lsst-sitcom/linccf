{
 "cells": [
  {
   "cell_type": "markdown",
   "metadata": {},
   "source": [
    "## Periods in Rubin vs Gaia\n",
    "\n",
    "In this notebook we will compare periods for objects in Rubin with those we get from Gaia."
   ]
  },
  {
   "cell_type": "code",
   "execution_count": null,
   "metadata": {},
   "outputs": [],
   "source": [
    "import lsdb\n",
    "import pandas as pd\n",
    "\n",
    "from nested_pandas import NestedDtype\n",
    "from pathlib import Path"
   ]
  },
  {
   "cell_type": "code",
   "execution_count": null,
   "metadata": {},
   "outputs": [],
   "source": [
    "def cast_nested(df, columns):\n",
    "    return df.assign(\n",
    "        **{\n",
    "            col: df[col].astype(NestedDtype.from_pandas_arrow_dtype(df.dtypes[col]))\n",
    "            for col in columns\n",
    "        },\n",
    "    )"
   ]
  },
  {
   "cell_type": "code",
   "execution_count": null,
   "metadata": {},
   "outputs": [],
   "source": [
    "drp_release = \"w_2025_10\"\n",
    "base_dir = Path(\"/sdf/data/rubin/shared/lsdb_commissioning/hats\")\n",
    "hats_dir = base_dir / drp_release"
   ]
  },
  {
   "cell_type": "markdown",
   "metadata": {},
   "source": [
    "### Load Rubin"
   ]
  },
  {
   "cell_type": "code",
   "execution_count": null,
   "metadata": {},
   "outputs": [],
   "source": [
    "rubin_variables = lsdb.read_hats(\"rubin_variables\")\n",
    "# We use the `cast_nested` utility method to cast columns into the NestedFrame type\n",
    "rubin_variables = rubin_variables.map_partitions(cast_nested, columns=[\"forcedSource\"])"
   ]
  },
  {
   "cell_type": "markdown",
   "metadata": {},
   "source": [
    "Let's also get the `i_psfMag` values for each Rubin object. It will help us compare the brightnesses of Rubin objects to those of the corresponding matches in Gaia. \n",
    "\n",
    "Comparing Gaia `RP` with Rubin's `i` band is what seems to make the most sense (see how the filters overlap [here](http://svo2.cab.inta-csic.es/svo/theory/fps3/index.php?mode=browse&gname=LSST&asttype=:))."
   ]
  },
  {
   "cell_type": "code",
   "execution_count": null,
   "metadata": {},
   "outputs": [],
   "source": [
    "object_lc = lsdb.read_hats(\n",
    "    hats_dir / \"object_lc\",\n",
    "    margin_cache=hats_dir / \"object_lc_5arcs\",\n",
    "    columns=[\"objectId\", \"i_psfMag\"],\n",
    ")"
   ]
  },
  {
   "cell_type": "code",
   "execution_count": null,
   "metadata": {},
   "outputs": [],
   "source": [
    "rubin_variables = rubin_variables.join(\n",
    "    object_lc, left_on=\"objectId\", right_on=\"objectId\", suffixes=(\"\", \"\")\n",
    ")\n",
    "rubin_variables"
   ]
  },
  {
   "cell_type": "markdown",
   "metadata": {},
   "source": [
    "### Load Gaia"
   ]
  },
  {
   "cell_type": "code",
   "execution_count": null,
   "metadata": {},
   "outputs": [],
   "source": [
    "gaia_dr3 = lsdb.read_hats(\n",
    "    \"https://data.lsdb.io/hats/gaia_dr3/gaia\",\n",
    "    margin_cache=\"https://data.lsdb.io/hats/gaia_dr3/gaia_10arcs\",\n",
    ")"
   ]
  },
  {
   "cell_type": "markdown",
   "metadata": {},
   "source": [
    "The main Gaia catalog does not contain the measured periods. We also do not have the epoch photometry catalog to run the Lombscargle. I'll be following Doug's approach here: download two variability catalogs from Vizier which have well-defined periods for RRLyrae and Cepheid. "
   ]
  },
  {
   "cell_type": "code",
   "execution_count": null,
   "metadata": {},
   "outputs": [],
   "source": [
    "# Use a universal set of columns\n",
    "shared_cols = [\"Source\", \"SolID\", \"RA_ICRS\", \"DE_ICRS\", \"PF\", \"P1O\"]\n",
    "\n",
    "# Gaia RRLyrae Catalog - 271779 rows\n",
    "# https://tapvizier.cds.unistra.fr/adql/?%20I/358/vrrlyr\n",
    "rrlyr_df = pd.read_csv(\"/sdf/home/b/brantd/gaia_dr3_rrlyrae_period.csv\")[shared_cols]\n",
    "rrlyr_df[\"provenance\"] = \"vari_rrlyr\"\n",
    "\n",
    "# Gaia Variable Cepheid Catalog - 15021 rows\n",
    "# https://tapvizier.cds.unistra.fr/adql/?%20I/358/scalerts%20I/358/alertsms%20I/358/varisum%20I/358/vclassre%20I/358/vcclassd%20I/358/vagn%20I/358/vcep%20I/358/vceph%20I/358/vcc%20I/358/veb%20I/358/veprv%20I/358/vrvstat%20I/358/vlpv%20I/358/vmicro%20I/358/vmsosc%20I/358/vrm%20I/358/vrmo%20I/358/vrms%20I/358/vpltrans%20I/358/vrrlyr%20I/358/vrrlyrh%20I/358/vst\n",
    "vcep_df = pd.read_csv(\"/sdf/home/b/brantd/gaia_dr3_vcep.csv\")[shared_cols]\n",
    "vcep_df[\"provenance\"] = \"vari_vcep\"\n",
    "\n",
    "# Set gaia source id as the index\n",
    "vari_df = pd.concat([rrlyr_df, vcep_df]).set_index(\"Source\")\n",
    "vari_df"
   ]
  },
  {
   "cell_type": "markdown",
   "metadata": {},
   "source": [
    "### Find Rubin objects in Gaia+VSX\n",
    "\n",
    "Find the corresponding objects on Rubin and then match them with Gaia:"
   ]
  },
  {
   "cell_type": "code",
   "execution_count": null,
   "metadata": {},
   "outputs": [],
   "source": [
    "rubin_x_gaia = rubin_variables.crossmatch(gaia_dr3, suffixes=[\"_rubin\", \"_gaia\"])"
   ]
  },
  {
   "cell_type": "markdown",
   "metadata": {},
   "source": [
    "Let's add the periods found in Gaia to this data:"
   ]
  },
  {
   "cell_type": "code",
   "execution_count": null,
   "metadata": {},
   "outputs": [],
   "source": [
    "results = rubin_x_gaia.compute().merge(\n",
    "    vari_df, left_on=\"source_id_gaia\", right_index=True\n",
    ")"
   ]
  },
  {
   "cell_type": "markdown",
   "metadata": {},
   "source": [
    "The object matches seem to be relevant; their brightnesses only differ by <0.4 mag. The periods given by Gaia and Rubin for the second object are very close to each other."
   ]
  },
  {
   "cell_type": "code",
   "execution_count": null,
   "metadata": {},
   "outputs": [],
   "source": [
    "results[\n",
    "    [\n",
    "        \"index_rubin\",\n",
    "        \"source_id_gaia\",\n",
    "        \"i_psfMag_rubin\",\n",
    "        \"phot_rp_mean_mag_gaia\",\n",
    "        \"PF\",\n",
    "        \"period_rubin\",\n",
    "        \"true_period_rubin\",\n",
    "        \"provenance\",\n",
    "    ]\n",
    "]"
   ]
  },
  {
   "cell_type": "markdown",
   "metadata": {},
   "source": [
    "The result only includes information on 2 objects which happen to be VRRLyr. The remaining ones are eclipsing binaries, which we can check by querying by source identifier on Vizier (`I/358/varisum`). Since we had no period information about them they do not show up. Let's try getting the periods for these eclipsing binaries from the Variable Star Catalog (VSX) instead."
   ]
  },
  {
   "cell_type": "code",
   "execution_count": null,
   "metadata": {},
   "outputs": [],
   "source": [
    "vsx = lsdb.read_hats(\n",
    "    \"https://data.lsdb.io/hats/vsx_2025-03-21/vsx\",\n",
    "    margin_cache=\"https://data.lsdb.io/hats/vsx_2025-03-21/vsx_10arcs\",\n",
    "    columns=[\"OID\", \"Name\", \"Period\"],\n",
    ")"
   ]
  },
  {
   "cell_type": "code",
   "execution_count": null,
   "metadata": {},
   "outputs": [],
   "source": [
    "# Need to investigate further, for some reason \"designation_gaia\" needs to be of type object for the next join to work\n",
    "rubin_x_gaia._ddf[\"designation_gaia\"] = rubin_x_gaia._ddf[\"designation_gaia\"].astype(\n",
    "    object\n",
    ")\n",
    "results_eclip_bin = rubin_x_gaia.join(\n",
    "    vsx, left_on=\"designation_gaia\", right_on=\"Name\", suffixes=(\"\", \"_vsx\")\n",
    ").compute()\n",
    "# Concatenate these periods with the ones we got previously\n",
    "results = pd.concat([results, results_eclip_bin])"
   ]
  },
  {
   "cell_type": "markdown",
   "metadata": {},
   "source": [
    "Let's concatenate the results and have a look at them:"
   ]
  },
  {
   "cell_type": "code",
   "execution_count": null,
   "metadata": {},
   "outputs": [],
   "source": [
    "results[\n",
    "    [\n",
    "        \"index_rubin\",\n",
    "        \"objectId_rubin\",\n",
    "        \"source_id_gaia\",\n",
    "        \"Name_vsx\",\n",
    "        \"Period_vsx\",\n",
    "        \"period_rubin\",\n",
    "        \"true_period_rubin\",\n",
    "    ]\n",
    "]"
   ]
  },
  {
   "cell_type": "markdown",
   "metadata": {},
   "source": [
    "The periods obtained from VSX are off by about 50% (0.12 - 0.17 margin error). Not sure what happened."
   ]
  }
 ],
 "metadata": {
  "kernelspec": {
   "display_name": "Python 3 (ipykernel)",
   "language": "python",
   "name": "python3"
  },
  "language_info": {
   "codemirror_mode": {
    "name": "ipython",
    "version": 3
   },
   "file_extension": ".py",
   "mimetype": "text/x-python",
   "name": "python",
   "nbconvert_exporter": "python",
   "pygments_lexer": "ipython3",
   "version": "3.12.9"
  }
 },
 "nbformat": 4,
 "nbformat_minor": 2
}
