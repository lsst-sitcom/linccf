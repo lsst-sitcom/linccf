{
 "cells": [
  {
   "cell_type": "code",
   "execution_count": 1,
   "id": "dbfe6de1",
   "metadata": {},
   "outputs": [],
   "source": [
    "import numpy as np\n",
    "import pandas as pd\n",
    "from tqdm import tqdm\n",
    "\n",
    "import os\n",
    "\n",
    "import lsdb\n",
    "import hats\n",
    "\n",
    "from upath import UPath\n",
    "\n",
    "import matplotlib.pyplot as plt"
   ]
  },
  {
   "cell_type": "code",
   "execution_count": 2,
   "id": "0cd78996",
   "metadata": {},
   "outputs": [],
   "source": [
    "!aws s3 ls s3://rubin-lincc-hats/hats/w_2025_18/ \n"
   ]
  },
  {
   "cell_type": "code",
   "execution_count": 3,
   "id": "1659440b",
   "metadata": {},
   "outputs": [],
   "source": [
    "!aws s3 ls s3://rubin-lincc-hats/hats/w_2025_19/ "
   ]
  },
  {
   "cell_type": "code",
   "execution_count": 8,
   "id": "7c556a70",
   "metadata": {},
   "outputs": [],
   "source": [
    "!aws s3 ls s3://rubin-lincc-hats/hats/w_2025_19/dia_object "
   ]
  },
  {
   "cell_type": "code",
   "execution_count": 4,
   "id": "9d9d7132",
   "metadata": {},
   "outputs": [],
   "source": [
    "\n",
    "# If the AWS_ENDPOINT_URL is not set, add the following to UPath:\n",
    "# endpoint_url=os.env[\"LSST_RESOURCES_S3_PROFILE_embargo\"]\n",
    "dia_object_lc = lsdb.read_hats(UPath(\"s3://rubin-lincc-hats/hats/w_2025_19/dia_object_collection\"), \n",
    "                               columns = [\"diaObjectId\", \"ra\", \"dec\", 'tract', \"diaObjectForcedSource\"])\n",
    "dia_object_lc_hats = hats.read_hats(UPath(\"s3://rubin-lincc-hats/hats/w_2025_19/dia_object_collection\")).main_catalog\n",
    "\n",
    "dia_object_lc"
   ]
  },
  {
   "cell_type": "code",
   "execution_count": 30,
   "id": "b21cd814",
   "metadata": {},
   "outputs": [],
   "source": [
    "from lsdb.core.search import ConeSearch\n",
    "dia_object_lc = lsdb.read_hats(UPath(\"s3://rubin-lincc-hats/hats/w_2025_19/dia_object_collection\"), \n",
    "                               columns = [\"diaObjectId\", \"ra\", \"dec\", 'tract', \"diaObjectForcedSource\"],\n",
    "                                search_filter = ConeSearch(ra=182, dec=7.0, radius_arcsec=3 * 3600)\n",
    ")"
   ]
  },
  {
   "cell_type": "code",
   "execution_count": 31,
   "id": "b28abfe8",
   "metadata": {},
   "outputs": [],
   "source": [
    "dia_object_lc"
   ]
  },
  {
   "cell_type": "code",
   "execution_count": 23,
   "id": "8c3756f9",
   "metadata": {},
   "outputs": [],
   "source": [
    "dia_object_lc_hats.plot_moc()"
   ]
  },
  {
   "cell_type": "code",
   "execution_count": 32,
   "id": "e5289419",
   "metadata": {},
   "outputs": [],
   "source": [
    "test = dia_object_lc.head(100)"
   ]
  },
  {
   "cell_type": "code",
   "execution_count": 43,
   "id": "e2853eed",
   "metadata": {},
   "outputs": [],
   "source": [
    "test.iloc[1].diaObjectForcedSource"
   ]
  },
  {
   "cell_type": "code",
   "execution_count": null,
   "id": "120eaf7c",
   "metadata": {},
   "outputs": [],
   "source": []
  },
  {
   "cell_type": "code",
   "execution_count": null,
   "id": "cffb639f",
   "metadata": {},
   "outputs": [],
   "source": [
    "# Identify all columns that contain 'flag'\n",
    "flag_cols = [col for col in test.iloc[1].diaObjectForcedSource.columns if 'flag' in col.lower()]\n",
    "\n",
    "# Exclude rows where any flag column is True\n",
    "flag_mask = ~(all_forced_sources_w19[flag_cols].any(axis=1))  # True where all flags are False\n",
    "all_forced_sources_w19_clean = all_forced_sources_w19[flag_mask]"
   ]
  },
  {
   "cell_type": "code",
   "execution_count": null,
   "id": "5b1a65fb",
   "metadata": {},
   "outputs": [],
   "source": []
  },
  {
   "cell_type": "code",
   "execution_count": null,
   "id": "38596ce0",
   "metadata": {},
   "outputs": [],
   "source": [
    "from dask.distributed import Client\n",
    "\n",
    "# Start with a small client\n",
    "client = Client(n_workers=24, memory_limit=\"3GB\", threads_per_worker=1)\n",
    "client.close()"
   ]
  },
  {
   "cell_type": "code",
   "execution_count": 39,
   "id": "385df5be",
   "metadata": {},
   "outputs": [],
   "source": [
    "single_df = dia_object_lc._ddf.get_partition(3).compute()"
   ]
  },
  {
   "cell_type": "code",
   "execution_count": 30,
   "id": "49cf6085",
   "metadata": {},
   "outputs": [],
   "source": [
    "first_df"
   ]
  },
  {
   "cell_type": "code",
   "execution_count": 37,
   "id": "b34ab4c8",
   "metadata": {},
   "outputs": [],
   "source": [
    "dia_object_lc_hats.main_catalog.plot_moc()"
   ]
  },
  {
   "cell_type": "code",
   "execution_count": 28,
   "id": "45a5120b",
   "metadata": {},
   "outputs": [],
   "source": [
    "first_df = dia_object_lc._ddf.get_partition(0).compute()\n",
    "first_df"
   ]
  },
  {
   "cell_type": "code",
   "execution_count": 13,
   "id": "b3e9c005",
   "metadata": {},
   "outputs": [],
   "source": [
    "singledia_object_lc.query(\"tract == 10563\").head()"
   ]
  },
  {
   "cell_type": "code",
   "execution_count": null,
   "id": "4f9c0e51",
   "metadata": {},
   "outputs": [],
   "source": []
  },
  {
   "cell_type": "code",
   "execution_count": null,
   "id": "095bb2f2",
   "metadata": {},
   "outputs": [],
   "source": []
  },
  {
   "cell_type": "code",
   "execution_count": null,
   "id": "f7f32549",
   "metadata": {},
   "outputs": [],
   "source": []
  }
 ],
 "metadata": {
  "kernelspec": {
   "display_name": "Python 3 (ipykernel)",
   "language": "python",
   "name": "python3"
  }
 },
 "nbformat": 4,
 "nbformat_minor": 5
}
