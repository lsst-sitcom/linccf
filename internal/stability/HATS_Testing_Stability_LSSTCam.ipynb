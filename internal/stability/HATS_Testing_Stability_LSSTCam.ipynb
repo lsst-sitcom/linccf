{
 "cells": [
  {
   "cell_type": "code",
   "execution_count": 34,
   "id": "dbfe6de1",
   "metadata": {},
   "outputs": [],
   "source": [
    "import numpy as np\n",
    "import pandas as pd\n",
    "from tqdm import tqdm\n",
    "from nested_pandas.utils import count_nested\n",
    "\n",
    "import os\n",
    "from numba import njit\n",
    "import lsdb\n",
    "import hats\n",
    "\n",
    "from upath import UPath\n",
    "\n",
    "import matplotlib.pyplot as plt"
   ]
  },
  {
   "cell_type": "code",
   "execution_count": 35,
   "id": "3df77876",
   "metadata": {},
   "outputs": [],
   "source": [
    "def calcSF_fixed_bins(tclip, fclip, bin_edges):\n",
    "    \"\"\"\n",
    "    Compute the structure function (SF) using predefined time lag bins.\n",
    "    Vectorized pairwise differences + Numba-accelerated binning.\n",
    "    \"\"\"\n",
    "    # Compute pairwise time and magnitude differences (upper triangle)\n",
    "    dt_matrix = np.abs(tclip[:, None] - tclip[None, :])\n",
    "    df2_matrix = (fclip[:, None] - fclip[None, :])**2\n",
    "\n",
    "    i_upper, j_upper = np.triu_indices(len(tclip), k=1)\n",
    "    all_dt = dt_matrix[i_upper, j_upper]\n",
    "    all_df2 = df2_matrix[i_upper, j_upper]\n",
    "\n",
    "    # Use Numba for fast binning\n",
    "    return _compute_binned_sf(all_dt, all_df2, bin_edges)\n",
    "\n",
    "\n",
    "def _compute_binned_sf(all_dt, all_df2, bin_edges):\n",
    "    n_bins = len(bin_edges) - 1\n",
    "    tau_median = np.empty(n_bins)\n",
    "    SF = np.empty(n_bins)\n",
    "    N = np.empty(n_bins, dtype=np.int64)\n",
    "\n",
    "    for i in range(n_bins):\n",
    "        lo = bin_edges[i]\n",
    "        hi = bin_edges[i + 1]\n",
    "\n",
    "        # Count how many points are in the bin first\n",
    "        count = 0\n",
    "        for j in range(len(all_dt)):\n",
    "            if lo <= all_dt[j] < hi:\n",
    "                count += 1\n",
    "\n",
    "        N[i] = count\n",
    "\n",
    "        if count > 0:\n",
    "            dt_bin = np.empty(count)\n",
    "            df2_bin = np.empty(count)\n",
    "\n",
    "            idx = 0\n",
    "            for j in range(len(all_dt)):\n",
    "                if lo <= all_dt[j] < hi:\n",
    "                    dt_bin[idx] = all_dt[j]\n",
    "                    df2_bin[idx] = all_df2[j]\n",
    "                    idx += 1\n",
    "\n",
    "            tau_median[i] = np.median(dt_bin)\n",
    "            SF[i] = np.sqrt(np.mean(df2_bin)) / np.sqrt(2)\n",
    "        else:\n",
    "            tau_median[i] = np.nan\n",
    "            SF[i] = np.nan\n",
    "\n",
    "    return {'lc.tau_median':tau_median, 'lc.SF':SF, 'lc.N':N, 'lc.time_step':np.arange(len(bin_edges) - 1)}"
   ]
  },
  {
   "cell_type": "code",
   "execution_count": 36,
   "id": "0cd78996",
   "metadata": {},
   "outputs": [],
   "source": [
    "!aws s3 ls s3://rubin-lincc-hats/hats/w_2025_18/ \n"
   ]
  },
  {
   "cell_type": "code",
   "execution_count": 37,
   "id": "1659440b",
   "metadata": {},
   "outputs": [],
   "source": [
    "!aws s3 ls s3://rubin-lincc-hats/hats/w_2025_19/ "
   ]
  },
  {
   "cell_type": "code",
   "execution_count": 38,
   "id": "7c556a70",
   "metadata": {},
   "outputs": [],
   "source": [
    "!aws s3 ls s3://rubin-lincc-hats/hats/w_2025_19/dia_object "
   ]
  },
  {
   "cell_type": "code",
   "execution_count": 39,
   "id": "9d9d7132",
   "metadata": {},
   "outputs": [],
   "source": [
    "\n",
    "# If the AWS_ENDPOINT_URL is not set, add the following to UPath:\n",
    "# endpoint_url=os.env[\"LSST_RESOURCES_S3_PROFILE_embargo\"]\n",
    "dia_object_lc = lsdb.read_hats(UPath(\"s3://rubin-lincc-hats/hats/w_2025_19/dia_object_collection\"), \n",
    "                               columns = [\"diaObjectId\", \"ra\", \"dec\", 'tract', \"diaObjectForcedSource\"])\n",
    "dia_object_lc_hats = hats.read_hats(UPath(\"s3://rubin-lincc-hats/hats/w_2025_19/dia_object_collection\")).main_catalog\n",
    "\n",
    "dia_object_lc"
   ]
  },
  {
   "cell_type": "code",
   "execution_count": 40,
   "id": "b21cd814",
   "metadata": {},
   "outputs": [],
   "source": [
    "from lsdb.core.search import ConeSearch\n",
    "dia_object_lc = lsdb.read_hats(UPath(\"s3://rubin-lincc-hats/hats/w_2025_19/dia_object_collection\"), \n",
    "                               columns = [\"diaObjectId\", \"ra\", \"dec\", 'tract', \"diaObjectForcedSource\"],\n",
    "                                search_filter = ConeSearch(ra=182, dec=7.0, radius_arcsec=3 * 3600)\n",
    ")\n",
    "dia_object_lc"
   ]
  },
  {
   "cell_type": "code",
   "execution_count": 41,
   "id": "8c3756f9",
   "metadata": {},
   "outputs": [],
   "source": [
    "dia_object_lc_hats.plot_moc()"
   ]
  },
  {
   "cell_type": "code",
   "execution_count": 42,
   "id": "e5289419",
   "metadata": {},
   "outputs": [],
   "source": [
    "test = dia_object_lc.head(100)\n",
    "test.iloc[1].diaObjectForcedSource\n",
    "test.diaObjectForcedSource.nest.fields"
   ]
  },
  {
   "cell_type": "code",
   "execution_count": 43,
   "id": "a94c773b",
   "metadata": {},
   "outputs": [],
   "source": [
    "dia_object_lc_computed = dia_object_lc.compute()"
   ]
  },
  {
   "cell_type": "code",
   "execution_count": 44,
   "id": "0362b505",
   "metadata": {},
   "outputs": [],
   "source": [
    "len(dia_object_lc_computed)"
   ]
  },
  {
   "cell_type": "code",
   "execution_count": 45,
   "id": "44bedd84",
   "metadata": {},
   "outputs": [],
   "source": [
    "# Identify flag columns\n",
    "flag_cols = [col for col in dia_object_lc_computed.diaObjectForcedSource.nest.fields if 'flag' in col.lower()]\n",
    "\n",
    "# Build the condition string, e.g., \"flag1 == False & flag2 == False & ...\"\n",
    "query_str = \" & \".join([f\"diaObjectForcedSource.{col} == False\" for col in flag_cols])\n",
    "query_str = query_str + '& diaObjectForcedSource.band == \"r\"'\n",
    "# Apply query directly to the nested column\n",
    "dia_object_lc_computed_filtered = dia_object_lc_computed.query(query_str)\n",
    "dia_object_lc_computed_filtered = dia_object_lc_computed_filtered.dropna(subset = 'diaObjectForcedSource.psfMag')\n",
    "dia_object_lc_computed_filtered = dia_object_lc_computed_filtered.dropna(subset = 'diaObjectForcedSource')\n",
    "dia_object_lc_computed_filtered = count_nested(dia_object_lc_computed_filtered, nested='diaObjectForcedSource') \n",
    "dia_object_lc_computed_filtered = dia_object_lc_computed_filtered[dia_object_lc_computed_filtered['n_diaObjectForcedSource'] > 5]"
   ]
  },
  {
   "cell_type": "code",
   "execution_count": 46,
   "id": "c15c4ec5",
   "metadata": {},
   "outputs": [],
   "source": [
    "bin_edges= np.arange(-0.5, 10, 1.0)\n",
    "bin_edges"
   ]
  },
  {
   "cell_type": "code",
   "execution_count": 47,
   "id": "7f69b0d8",
   "metadata": {},
   "outputs": [],
   "source": [
    "result = dia_object_lc_computed_filtered.reduce(calcSF_fixed_bins, \"diaObjectForcedSource.midpointMjdTai\", \"diaObjectForcedSource.psfMag\", bin_edges=bin_edges)\n",
    "dia_object_lc_computed_filtered = dia_object_lc_computed_filtered.join(result, how='left')"
   ]
  },
  {
   "cell_type": "code",
   "execution_count": null,
   "id": "bf63050c",
   "metadata": {},
   "outputs": [],
   "source": [
    "result = dia_object_lc_computed_filtered.reduce(np.median, 'diaObjectForcedSource.psfMag').rename(columns={0:'median_psfMag'})\n",
    "dia_object_lc_computed_filtered = dia_object_lc_computed_filtered.join(result, how='left')"
   ]
  },
  {
   "cell_type": "code",
   "execution_count": 56,
   "id": "26fe1542",
   "metadata": {},
   "outputs": [],
   "source": [
    "dia_object_lc_computed_filtered.head(6)"
   ]
  },
  {
   "cell_type": "code",
   "execution_count": 58,
   "id": "2d9bb81e",
   "metadata": {},
   "outputs": [],
   "source": [
    "dia_object_lc_computed_filtered.to_parquet('dia_object_lc_computed_filtered.parquet')"
   ]
  },
  {
   "cell_type": "code",
   "execution_count": 50,
   "id": "7987c982",
   "metadata": {},
   "outputs": [],
   "source": [
    "single_mag_flat = single_mag['lc'].nest.to_flat()"
   ]
  },
  {
   "cell_type": "code",
   "execution_count": 68,
   "id": "2048bd7d",
   "metadata": {},
   "outputs": [],
   "source": [
    "single_mag_flat"
   ]
  },
  {
   "cell_type": "code",
   "execution_count": 69,
   "id": "af5e8101",
   "metadata": {},
   "outputs": [],
   "source": [
    "import numpy as np\n",
    "import pandas as pd\n",
    "\n",
    "results = []\n",
    "\n",
    "# Loop over magnitude bins\n",
    "for mag_bin in tqdm(range(15, 25)):  # 15 to 24 inclusive\n",
    "    # Filter by magnitude bin\n",
    "    mag_mask = (\n",
    "        (dia_object_lc_computed_filtered['median_psfMag'] >= mag_bin) &\n",
    "        (dia_object_lc_computed_filtered['median_psfMag'] < mag_bin + 1)\n",
    "    )\n",
    "    single_mag = dia_object_lc_computed_filtered[mag_mask]\n",
    "\n",
    "    if single_mag.empty:\n",
    "        continue\n",
    "\n",
    "    # Flatten nested structure\n",
    "    single_mag_flat = single_mag['lc'].nest.to_flat()\n",
    "\n",
    "    for i in range(10):  # Loop over time_step\n",
    "        subset = single_mag_flat[single_mag_flat['time_step'] == i]\n",
    "        subset = subset[subset['N'] > 10] \n",
    "        if not subset.empty:\n",
    "            tau_vals = subset['tau_median'].dropna()\n",
    "            sf_vals = subset['SF'].dropna()\n",
    "\n",
    "            if len(tau_vals) > 0 and len(sf_vals) > 0:\n",
    "                tau_med = np.median(tau_vals)\n",
    "                sf_med = np.median(sf_vals)\n",
    "                sf_q16 = np.quantile(sf_vals, 0.16)\n",
    "                sf_q84 = np.quantile(sf_vals, 0.84)\n",
    "\n",
    "                results.append((\n",
    "                    mag_bin,  # add mag_bin info\n",
    "                    i,\n",
    "                    tau_med,\n",
    "                    sf_med,\n",
    "                    sf_q16,\n",
    "                    sf_q84\n",
    "                ))\n",
    "\n",
    "# Create results DataFrame\n",
    "result_df = pd.DataFrame(results, columns=[\n",
    "    'mag_bin', 'time_step', 'tau_median', 'SF_median', 'SF_16', 'SF_84'\n",
    "])\n",
    "\n",
    "# Drop rows with any remaining NaNs (just in case)\n",
    "result_df = result_df.dropna()\n",
    "\n",
    "result_df"
   ]
  },
  {
   "cell_type": "code",
   "execution_count": 60,
   "id": "1c72206a",
   "metadata": {},
   "outputs": [],
   "source": [
    "result_df.columns"
   ]
  },
  {
   "cell_type": "code",
   "execution_count": 70,
   "id": "bf1d80f6",
   "metadata": {},
   "outputs": [],
   "source": [
    "import matplotlib.pyplot as plt\n",
    "import numpy as np\n",
    "\n",
    "plt.figure(figsize=(10, 6))\n",
    "\n",
    "# Define a color map for consistent coloring (optional)\n",
    "colors = plt.cm.viridis(np.linspace(0, 1, len(result_df['mag_bin'].unique())))\n",
    "\n",
    "for idx, mag_bin in enumerate(sorted(result_df['mag_bin'].unique())):\n",
    "    single_bin = result_df[result_df['mag_bin'] == mag_bin]\n",
    "\n",
    "    # Apply a small offset to x-values to avoid overlapping points\n",
    "    offset = (idx - 5) * 0.06  # Centered around zero\n",
    "    tau_offset = single_bin['tau_median'] + offset\n",
    "\n",
    "    label = f\"{mag_bin}–{mag_bin+1} mag\"\n",
    "\n",
    "    plt.errorbar(\n",
    "        tau_offset,\n",
    "        single_bin['SF_median'],\n",
    "        yerr=[\n",
    "            single_bin['SF_median'] - single_bin['SF_16'],\n",
    "            single_bin['SF_84'] - single_bin['SF_median']\n",
    "        ],\n",
    "        fmt='o',\n",
    "        capsize=2,\n",
    "        label=label,\n",
    "        alpha=0.8,\n",
    "        color=colors[idx]\n",
    "    )\n",
    "\n",
    "plt.xticks(np.arange(0, 11, 1))\n",
    "plt.xlim(-0.5, 10)\n",
    "plt.xlabel(\"Time lag τ (days)\", fontsize=12)\n",
    "plt.ylabel(\"Structure Function SF (mag)\", fontsize=12)\n",
    "plt.title(\"Structure Function by Magnitude Bin\", fontsize=14)\n",
    "plt.grid(True, which=\"both\", ls=\"--\", lw=0.5)\n",
    "plt.legend(title=\"Mag Bin\", fontsize=10, loc='upper left', bbox_to_anchor=(1, 1))\n",
    "plt.tight_layout()\n",
    "plt.show()"
   ]
  },
  {
   "cell_type": "code",
   "execution_count": 52,
   "id": "38596ce0",
   "metadata": {},
   "outputs": [],
   "source": [
    "# from dask.distributed import Client\n",
    "\n",
    "# Start with a small client\n",
    "# client = Client(n_workers=24, memory_limit=\"3GB\", threads_per_worker=1)\n",
    "# client.close()"
   ]
  },
  {
   "cell_type": "code",
   "execution_count": 65,
   "id": "fb82e76b",
   "metadata": {},
   "outputs": [],
   "source": [
    "dia_object_lc"
   ]
  },
  {
   "cell_type": "code",
   "execution_count": 53,
   "id": "385df5be",
   "metadata": {},
   "outputs": [],
   "source": [
    "single_df = dia_object_lc._ddf.get_partition(3).compute()"
   ]
  }
 ],
 "metadata": {
  "kernelspec": {
   "display_name": "Python 3 (ipykernel)",
   "language": "python",
   "name": "python3"
  }
 },
 "nbformat": 4,
 "nbformat_minor": 5
}
