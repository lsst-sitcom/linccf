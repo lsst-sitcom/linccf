{
 "cells": [
  {
   "cell_type": "code",
   "execution_count": null,
   "metadata": {
    "execution": {
     "iopub.execute_input": "2025-05-02T19:21:48.411377Z",
     "iopub.status.busy": "2025-05-02T19:21:48.411172Z",
     "iopub.status.idle": "2025-05-02T19:21:59.538688Z",
     "shell.execute_reply": "2025-05-02T19:21:59.538192Z",
     "shell.execute_reply.started": "2025-05-02T19:21:48.411362Z"
    }
   },
   "outputs": [],
   "source": [
    "# Re-start Jupyter server after this\n",
    "# %pip install -U anywidget jupyterlab-widgets lsdb plotly reproject matplotlib"
   ]
  },
  {
   "cell_type": "code",
   "execution_count": null,
   "metadata": {
    "execution": {
     "iopub.execute_input": "2025-05-02T19:20:19.031215Z",
     "iopub.status.busy": "2025-05-02T19:20:19.031093Z",
     "iopub.status.idle": "2025-05-02T19:20:45.033507Z",
     "shell.execute_reply": "2025-05-02T19:20:45.032999Z",
     "shell.execute_reply.started": "2025-05-02T19:20:19.031202Z"
    }
   },
   "outputs": [],
   "source": [
    "import pandas as pd\n",
    "from single_object import make_figure, load_object_and_forced, load_dia_object_and_forced\n",
    "\n",
    "pd.set_option('display.max_columns', None)\n",
    "pd.set_option('display.max_rows', None)"
   ]
  },
  {
   "cell_type": "code",
   "execution_count": null,
   "metadata": {
    "execution": {
     "iopub.execute_input": "2025-05-02T19:20:45.034909Z",
     "iopub.status.busy": "2025-05-02T19:20:45.034479Z",
     "iopub.status.idle": "2025-05-02T19:20:46.676030Z",
     "shell.execute_reply": "2025-05-02T19:20:46.675612Z",
     "shell.execute_reply.started": "2025-05-02T19:20:45.034895Z"
    }
   },
   "outputs": [],
   "source": [
    "from lsst.daf.butler import Butler\n",
    "\n",
    "repo = \"/repo/dp1\"\n",
    "instrument = \"LSSTComCam\"\n",
    "release = \"v29_0_0\"\n",
    "collection = f\"LSSTComCam/runs/DRP/DP1/{release}/DM-50260\"\n",
    "\n",
    "butler = Butler(repo, collections=collection)\n",
    "butler"
   ]
  },
  {
   "cell_type": "code",
   "execution_count": null,
   "metadata": {
    "execution": {
     "iopub.execute_input": "2025-05-02T19:20:46.676594Z",
     "iopub.status.busy": "2025-05-02T19:20:46.676462Z",
     "iopub.status.idle": "2025-05-02T19:20:46.684897Z",
     "shell.execute_reply": "2025-05-02T19:20:46.684549Z",
     "shell.execute_reply.started": "2025-05-02T19:20:46.676580Z"
    }
   },
   "outputs": [],
   "source": [
    "from pathlib import Path\n",
    "\n",
    "hats_path = Path(\"/sdf/data/rubin/shared/lsdb_commissioning/hats\") / release\n",
    "# list dir\n",
    "print(list(map(str, hats_path.iterdir())))"
   ]
  },
  {
   "cell_type": "code",
   "execution_count": null,
   "metadata": {},
   "outputs": [],
   "source": []
  },
  {
   "cell_type": "markdown",
   "metadata": {},
   "source": []
  },
  {
   "cell_type": "code",
   "execution_count": null,
   "metadata": {
    "execution": {
     "iopub.execute_input": "2025-05-02T19:20:46.685610Z",
     "iopub.status.busy": "2025-05-02T19:20:46.685294Z",
     "iopub.status.idle": "2025-05-02T19:21:47.576964Z",
     "shell.execute_reply": "2025-05-02T19:21:47.576457Z",
     "shell.execute_reply.started": "2025-05-02T19:20:46.685595Z"
    }
   },
   "outputs": [],
   "source": [
    "OID = 609781520902651937\n",
    "\n",
    "display(load_dia_object_and_forced(OID, hats_path))"
   ]
  },
  {
   "cell_type": "code",
   "execution_count": null,
   "metadata": {},
   "outputs": [],
   "source": [
    "make_figure(OID, butler, hats_path, lc_object_type=\"dia_object\", image_type=\"direct\")"
   ]
  },
  {
   "cell_type": "code",
   "execution_count": null,
   "metadata": {},
   "outputs": [],
   "source": [
    "make_figure(OID, butler, hats_path, lc_object_type=\"dia_object\", image_type=\"dia\")"
   ]
  },
  {
   "cell_type": "code",
   "execution_count": null,
   "metadata": {},
   "outputs": [],
   "source": []
  }
 ],
 "metadata": {
  "kernelspec": {
   "display_name": ".venv",
   "language": "python",
   "name": "python3"
  },
  "language_info": {
   "codemirror_mode": {
    "name": "ipython",
    "version": 3
   },
   "file_extension": ".py",
   "mimetype": "text/x-python",
   "name": "python",
   "nbconvert_exporter": "python",
   "pygments_lexer": "ipython3",
   "version": "3.12.9"
  }
 },
 "nbformat": 4,
 "nbformat_minor": 4
}
