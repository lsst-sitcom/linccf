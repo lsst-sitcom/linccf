{
 "cells": [
  {
   "cell_type": "code",
   "execution_count": null,
   "metadata": {
    "execution": {
     "iopub.execute_input": "2025-04-10T19:53:10.316479Z",
     "iopub.status.busy": "2025-04-10T19:53:10.316166Z",
     "iopub.status.idle": "2025-04-10T19:53:14.296684Z",
     "shell.execute_reply": "2025-04-10T19:53:14.296218Z",
     "shell.execute_reply.started": "2025-04-10T19:53:10.316460Z"
    }
   },
   "outputs": [],
   "source": [
    "# Re-start Jupyter server after this\n",
    "# %pip install -U anywidget jupyterlab-widgets lsdb plotly reproject matplotlib"
   ]
  },
  {
   "cell_type": "code",
   "execution_count": null,
   "metadata": {
    "execution": {
     "iopub.execute_input": "2025-04-10T19:53:14.298053Z",
     "iopub.status.busy": "2025-04-10T19:53:14.297779Z",
     "iopub.status.idle": "2025-04-10T19:53:20.694843Z",
     "shell.execute_reply": "2025-04-10T19:53:20.694305Z",
     "shell.execute_reply.started": "2025-04-10T19:53:14.298032Z"
    }
   },
   "outputs": [],
   "source": [
    "from single_object import make_figure"
   ]
  },
  {
   "cell_type": "code",
   "execution_count": null,
   "metadata": {
    "execution": {
     "iopub.execute_input": "2025-04-10T19:53:20.695743Z",
     "iopub.status.busy": "2025-04-10T19:53:20.695366Z",
     "iopub.status.idle": "2025-04-10T19:53:21.997770Z",
     "shell.execute_reply": "2025-04-10T19:53:21.997271Z",
     "shell.execute_reply.started": "2025-04-10T19:53:20.695727Z"
    }
   },
   "outputs": [],
   "source": [
    "from lsst.daf.butler import Butler\n",
    "\n",
    "repo = \"/repo/main\"\n",
    "instrument = \"LSSTComCam\"\n",
    "release = \"v29_0_0_rc5\"\n",
    "collection = f\"LSSTComCam/runs/DRP/DP1/{release}/DM-49865\"\n",
    "\n",
    "butler = Butler(repo, collections=collection)\n",
    "butler"
   ]
  },
  {
   "cell_type": "code",
   "execution_count": null,
   "metadata": {
    "execution": {
     "iopub.execute_input": "2025-04-10T19:53:21.998561Z",
     "iopub.status.busy": "2025-04-10T19:53:21.998322Z",
     "iopub.status.idle": "2025-04-10T19:53:22.003282Z",
     "shell.execute_reply": "2025-04-10T19:53:22.002775Z",
     "shell.execute_reply.started": "2025-04-10T19:53:21.998546Z"
    }
   },
   "outputs": [],
   "source": [
    "from pathlib import Path\n",
    "\n",
    "hats_path = Path(\"/sdf/data/rubin/shared/lsdb_commissioning/hats\") / release\n",
    "# list dir\n",
    "print(list(map(str, hats_path.iterdir())))"
   ]
  },
  {
   "cell_type": "code",
   "execution_count": null,
   "metadata": {
    "execution": {
     "iopub.execute_input": "2025-04-10T20:14:05.108042Z",
     "iopub.status.busy": "2025-04-10T20:14:05.107760Z",
     "iopub.status.idle": "2025-04-10T20:14:17.464901Z",
     "shell.execute_reply": "2025-04-10T20:14:17.464245Z",
     "shell.execute_reply.started": "2025-04-10T20:14:05.108023Z"
    }
   },
   "outputs": [],
   "source": [
    "make_figure(2226792521223124930, butler, hats_path, image_type=\"direct\")"
   ]
  }
 ],
 "metadata": {
  "kernelspec": {
   "display_name": "linccf",
   "language": "python",
   "name": "linccf"
  },
  "language_info": {
   "codemirror_mode": {
    "name": "ipython",
    "version": 3
   },
   "file_extension": ".py",
   "mimetype": "text/x-python",
   "name": "python",
   "nbconvert_exporter": "python",
   "pygments_lexer": "ipython3",
   "version": "3.12.9"
  }
 },
 "nbformat": 4,
 "nbformat_minor": 4
}
