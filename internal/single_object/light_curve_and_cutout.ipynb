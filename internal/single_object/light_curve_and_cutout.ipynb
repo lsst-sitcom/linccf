{
 "cells": [
  {
   "cell_type": "code",
   "execution_count": null,
   "metadata": {
    "execution": {
     "iopub.execute_input": "2025-05-02T19:21:48.411377Z",
     "iopub.status.busy": "2025-05-02T19:21:48.411172Z",
     "iopub.status.idle": "2025-05-02T19:21:59.538688Z",
     "shell.execute_reply": "2025-05-02T19:21:59.538192Z",
     "shell.execute_reply.started": "2025-05-02T19:21:48.411362Z"
    }
   },
   "outputs": [],
   "source": [
    "# Re-start Jupyter server after this\n",
    "# %pip install -U anywidget jupyterlab-widgets lsdb plotly reproject matplotlib"
   ]
  },
  {
   "cell_type": "code",
   "execution_count": null,
   "metadata": {
    "execution": {
     "iopub.execute_input": "2025-05-02T19:20:19.031215Z",
     "iopub.status.busy": "2025-05-02T19:20:19.031093Z",
     "iopub.status.idle": "2025-05-02T19:20:45.033507Z",
     "shell.execute_reply": "2025-05-02T19:20:45.032999Z",
     "shell.execute_reply.started": "2025-05-02T19:20:19.031202Z"
    }
   },
   "outputs": [],
   "source": [
    "import pandas as pd\n",
    "from single_object import make_figure, load_object_and_forced\n",
    "\n",
    "pd.set_option('display.max_columns', None)\n",
    "pd.set_option('display.max_rows', None)"
   ]
  },
  {
   "cell_type": "code",
   "execution_count": null,
   "metadata": {
    "execution": {
     "iopub.execute_input": "2025-05-02T19:20:45.034909Z",
     "iopub.status.busy": "2025-05-02T19:20:45.034479Z",
     "iopub.status.idle": "2025-05-02T19:20:46.676030Z",
     "shell.execute_reply": "2025-05-02T19:20:46.675612Z",
     "shell.execute_reply.started": "2025-05-02T19:20:45.034895Z"
    }
   },
   "outputs": [
    {
     "data": {
      "text/plain": [
       "<lsst.daf.butler.direct_butler._direct_butler.DirectButler at 0x7f9c5073fc20>"
      ]
     },
     "execution_count": 3,
     "metadata": {},
     "output_type": "execute_result"
    }
   ],
   "source": [
    "from lsst.daf.butler import Butler\n",
    "\n",
    "repo = \"/repo/main\"\n",
    "instrument = \"LSSTComCam\"\n",
    "release = \"v29_0_0_rc5\"\n",
    "collection = f\"LSSTComCam/runs/DRP/DP1/{release}/DM-49865\"\n",
    "\n",
    "butler = Butler(repo, collections=collection)\n",
    "butler"
   ]
  },
  {
   "cell_type": "code",
   "execution_count": null,
   "metadata": {
    "execution": {
     "iopub.execute_input": "2025-05-02T19:20:46.676594Z",
     "iopub.status.busy": "2025-05-02T19:20:46.676462Z",
     "iopub.status.idle": "2025-05-02T19:20:46.684897Z",
     "shell.execute_reply": "2025-05-02T19:20:46.684549Z",
     "shell.execute_reply.started": "2025-05-02T19:20:46.676580Z"
    }
   },
   "outputs": [
    {
     "name": "stdout",
     "output_type": "stream",
     "text": [
      "['/sdf/data/rubin/shared/lsdb_commissioning/hats/v29_0_0_rc5/dia_object', '/sdf/data/rubin/shared/lsdb_commissioning/hats/v29_0_0_rc5/object', '/sdf/data/rubin/shared/lsdb_commissioning/hats/v29_0_0_rc5/dia_object_lc_index', '/sdf/data/rubin/shared/lsdb_commissioning/hats/v29_0_0_rc5/object_lc_index', '/sdf/data/rubin/shared/lsdb_commissioning/hats/v29_0_0_rc5/dia_object_lc_x_ps1', '/sdf/data/rubin/shared/lsdb_commissioning/hats/v29_0_0_rc5/dia_source', '/sdf/data/rubin/shared/lsdb_commissioning/hats/v29_0_0_rc5/object_lc_x_ps1', '/sdf/data/rubin/shared/lsdb_commissioning/hats/v29_0_0_rc5/source', '/sdf/data/rubin/shared/lsdb_commissioning/hats/v29_0_0_rc5/dia_object_lc_5arcs', '/sdf/data/rubin/shared/lsdb_commissioning/hats/v29_0_0_rc5/object_lc_5arcs', '/sdf/data/rubin/shared/lsdb_commissioning/hats/v29_0_0_rc5/dia_object_lc', '/sdf/data/rubin/shared/lsdb_commissioning/hats/v29_0_0_rc5/object_forced_source', '/sdf/data/rubin/shared/lsdb_commissioning/hats/v29_0_0_rc5/dia_object_forced_source', '/sdf/data/rubin/shared/lsdb_commissioning/hats/v29_0_0_rc5/object_lc']\n"
     ]
    }
   ],
   "source": [
    "from pathlib import Path\n",
    "\n",
    "hats_path = Path(\"/sdf/data/rubin/shared/lsdb_commissioning/hats\") / release\n",
    "# list dir\n",
    "print(list(map(str, hats_path.iterdir())))"
   ]
  },
  {
   "cell_type": "code",
   "execution_count": null,
   "metadata": {
    "execution": {
     "iopub.execute_input": "2025-05-02T19:20:46.685610Z",
     "iopub.status.busy": "2025-05-02T19:20:46.685294Z",
     "iopub.status.idle": "2025-05-02T19:21:47.576964Z",
     "shell.execute_reply": "2025-05-02T19:21:47.576457Z",
     "shell.execute_reply.started": "2025-05-02T19:20:46.685595Z"
    }
   },
   "outputs": [
    {
     "name": "stderr",
     "output_type": "stream",
     "text": [
      "/sdf/home/k/kostya/rubin-user/linccf/.venv/lib/python3.12/site-packages/lsdb/dask/join_catalog_data.py:322: RuntimeWarning: Right catalog does not have a margin cache. Results may be incomplete and/or inaccurate.\n",
      "  warnings.warn(\n"
     ]
    },
    {
     "data": {
      "text/plain": [
       "objectId                                           2429925095431484897\n",
       "refFwhm                                                       1.194699\n",
       "shape_flag                                                       False\n",
       "parentObjectId                                     2429925095431472930\n",
       "x                                                          5420.510585\n",
       "y                                                          1645.588376\n",
       "xErr                                                          0.086608\n",
       "yErr                                                          0.077393\n",
       "shape_yy                                                      8.124728\n",
       "shape_xx                                                      9.290419\n",
       "shape_xy                                                      0.908286\n",
       "coord_ra                                                     94.642517\n",
       "coord_dec                                                   -25.286102\n",
       "coord_raErr                                                   0.000004\n",
       "coord_decErr                                                  0.000004\n",
       "tract                                                             5525\n",
       "patch                                                                1\n",
       "detect_isIsolated                                                False\n",
       "u_psfFlux                                                 18347.226562\n",
       "u_psfFluxErr                                                327.970062\n",
       "u_kronFlux                                                18924.681641\n",
       "u_kronFluxErr                                               434.235413\n",
       "u_kronRad                                                     5.257649\n",
       "g_psfFlux                                                 51128.777344\n",
       "g_psfFluxErr                                                222.424957\n",
       "g_kronFlux                                                54421.371094\n",
       "g_kronFluxErr                                               292.642303\n",
       "g_kronRad                                                     4.373989\n",
       "r_psfFlux                                                     0.066418\n",
       "r_psfFluxErr                                                792.532837\n",
       "r_kronFlux                                                 3367.155273\n",
       "r_kronFluxErr                                              1133.555054\n",
       "r_kronRad                                                    14.226949\n",
       "i_psfFlux                                                      0.17875\n",
       "i_psfFluxErr                                                791.549744\n",
       "i_kronFlux                                                   -1.281697\n",
       "i_kronFluxErr                                               965.807495\n",
       "i_kronRad                                                     3.890733\n",
       "z_psfFlux                                                249606.328125\n",
       "z_psfFluxErr                                                498.703186\n",
       "z_kronFlux                                               252129.703125\n",
       "z_kronFluxErr                                               705.555725\n",
       "z_kronRad                                                     4.242145\n",
       "y_psfFlux                                                  217878.8125\n",
       "y_psfFluxErr                                               1801.650513\n",
       "y_kronFlux                                                280843.53125\n",
       "y_kronFluxErr                                              4543.774902\n",
       "y_kronRad                                                     3.385688\n",
       "u_psfMag                                                     20.741074\n",
       "u_psfMagErr                                                    0.01941\n",
       "u_kronMag                                                    20.707428\n",
       "u_kronMagErr                                                  0.024917\n",
       "g_psfMag                                                     19.628336\n",
       "g_psfMagErr                                                   0.004723\n",
       "g_kronMag                                                    19.560575\n",
       "g_kronMagErr                                                  0.005838\n",
       "r_psfMag                                                      34.34428\n",
       "r_psfMagErr                                                       <NA>\n",
       "r_kronMag                                                    22.581842\n",
       "r_kronMagErr                                                  0.380345\n",
       "i_psfMag                                                     33.269382\n",
       "i_psfMagErr                                                       <NA>\n",
       "i_kronMag                                                         <NA>\n",
       "i_kronMagErr                                                      <NA>\n",
       "z_psfMag                                                      17.90686\n",
       "z_psfMagErr                                                   0.002169\n",
       "z_kronMag                                                    17.895941\n",
       "z_kronMagErr                                                  0.003038\n",
       "y_psfMag                                                     18.054462\n",
       "y_psfMagErr                                                   0.008978\n",
       "y_kronMag                                                    17.778839\n",
       "y_kronMagErr                                                  0.017568\n",
       "lc                       parentObjectId   coord_ra  coord_dec      ...\n",
       "Name: 1456094888149765252, dtype: object"
      ]
     },
     "metadata": {},
     "output_type": "display_data"
    }
   ],
   "source": [
    "OID = 2429925095431484897\n",
    "\n",
    "display(load_object_and_forced(OID, hats_path))"
   ]
  },
  {
   "cell_type": "code",
   "execution_count": null,
   "metadata": {},
   "outputs": [],
   "source": [
    "make_figure(OID, butler, hats_path, image_type=\"direct\")"
   ]
  },
  {
   "cell_type": "code",
   "execution_count": null,
   "metadata": {},
   "outputs": [],
   "source": [
    "make_figure(OID, butler, hats_path, image_type=\"dia\")"
   ]
  },
  {
   "cell_type": "code",
   "execution_count": null,
   "metadata": {},
   "outputs": [],
   "source": []
  }
 ],
 "metadata": {
  "kernelspec": {
   "display_name": ".venv",
   "language": "python",
   "name": "python3"
  },
  "language_info": {
   "codemirror_mode": {
    "name": "ipython",
    "version": 3
   },
   "file_extension": ".py",
   "mimetype": "text/x-python",
   "name": "python",
   "nbconvert_exporter": "python",
   "pygments_lexer": "ipython3",
   "version": "3.12.9"
  }
 },
 "nbformat": 4,
 "nbformat_minor": 4
}
