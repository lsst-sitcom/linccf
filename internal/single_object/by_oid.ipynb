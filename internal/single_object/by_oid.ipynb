{
 "cells": [
  {
   "cell_type": "code",
   "execution_count": null,
   "metadata": {},
   "outputs": [],
   "source": [
    "# OID = 2226832103641712942\n",
    "# OID = 1053090246851297631\n",
    "# OID = 2226880482153333268\n",
    "# OID = 2226928860664971934\n",
    "# OID = 2226792521223122099\n",
    "# OID = 2528742163131035981\n",
    "# OID = 2226748540758019375\n",
    "# OID = 2226748540758003742\n",
    "# OID = 2132955800862215099\n",
    "# OID = 2133004179373834781\n",
    "OID = 2226792521223124930"
   ]
  },
  {
   "cell_type": "code",
   "execution_count": null,
   "metadata": {},
   "outputs": [],
   "source": [
    "# %pip install -U lsdb\n",
    "# %pip install 'matplotlib>=3.10'"
   ]
  },
  {
   "cell_type": "code",
   "execution_count": null,
   "metadata": {},
   "outputs": [],
   "source": [
    "from pathlib import Path\n",
    "\n",
    "release = \"v29_0_0_rc5\"\n",
    "hats_path = Path(\"/sdf/data/rubin/shared/lsdb_commissioning/hats/\") / release\n",
    "# list dir\n",
    "print(list(map(str, hats_path.iterdir())))\n",
    "\n",
    "obj_lc_path = hats_path / \"object_lc\""
   ]
  },
  {
   "cell_type": "code",
   "execution_count": null,
   "metadata": {},
   "outputs": [],
   "source": [
    "from astropy.coordinates import SkyCoord, EarthLocation\n",
    "from astropy.time import Time\n",
    "\n",
    "\n",
    "lsst_location = EarthLocation.of_site(\"LSST\")\n",
    "\n",
    "\n",
    "def add_helio_mjd(df):\n",
    "    coord = SkyCoord(ra=df[\"lc.coord_ra\"], dec=df[\"lc.coord_dec\"], unit=\"deg\")\n",
    "    time = Time(df[\"lc.midpointMjdTai\"], format=\"mjd\", scale=\"tai\")\n",
    "    helio_time = time + time.light_travel_time(coord, \"heliocentric\", location=lsst_location)\n",
    "    df[\"lc.helioMjd\"] = helio_time.mjd\n",
    "    return df"
   ]
  },
  {
   "cell_type": "code",
   "execution_count": null,
   "metadata": {},
   "outputs": [],
   "source": [
    "# Load the Forced Source + MJD Table\n",
    "from lsdb import read_hats\n",
    "from nested_pandas import NestedDtype\n",
    "\n",
    "filters = [(\"objectId\", \"==\", OID)]\n",
    "\n",
    "obj_lc = read_hats(\n",
    "    obj_lc_path,\n",
    "    filters=filters,\n",
    ").map_partitions(\n",
    "    lambda df: df.assign(\n",
    "        lc=df[\"objectForcedSource\"].astype(\n",
    "                NestedDtype.from_pandas_arrow_dtype(df.dtypes[\"objectForcedSource\"])\n",
    "        ),\n",
    "    ).drop(columns=[\"objectForcedSource\"]),\n",
    ").map_partitions(\n",
    "    add_helio_mjd,\n",
    ")"
   ]
  },
  {
   "cell_type": "code",
   "execution_count": null,
   "metadata": {},
   "outputs": [],
   "source": [
    "import pandas as pd; pd.set_option('display.max_columns', None)\n",
    "ndf = obj_lc.compute()\n",
    "ndf = ndf.query(\n",
    "    \"~lc.psfFlux_flag\"\n",
    "    \" and ~lc.pixelFlags_suspect\"\n",
    "    \" and ~lc.pixelFlags_saturated\"\n",
    "    \" and ~lc.pixelFlags_cr\"\n",
    "    \" and ~lc.pixelFlags_bad\"\n",
    ").sort_values(\n",
    "    \"lc.midpointMjdTai\"\n",
    ")\n",
    "display(ndf)\n",
    "data = ndf.iloc[0]\n",
    "display(data)"
   ]
  },
  {
   "cell_type": "code",
   "execution_count": null,
   "metadata": {},
   "outputs": [],
   "source": [
    "for band in 'ugrizy':\n",
    "    flux_over_error = data[f\"{band}_psfFlux\"] / data[f\"{band}_psfFluxErr\"]\n",
    "    print(f\"{band} flux/error = {flux_over_error:.2f}\")"
   ]
  },
  {
   "cell_type": "markdown",
   "metadata": {},
   "source": [
    "# SCIENCE"
   ]
  },
  {
   "cell_type": "code",
   "execution_count": null,
   "metadata": {},
   "outputs": [],
   "source": [
    "import matplotlib.pyplot as plt\n",
    "import numpy as np\n",
    "from astropy.timeseries import LombScargleMultiband\n",
    "\n",
    "COLORS = {'u': '#0c71ff', 'g': '#49be61', 'r': '#c61c00',\n",
    "          'i': '#ffc200', 'z': '#f341a2', 'y': '#5d0000'}\n",
    "\n",
    "lc = data.lc.query('psfFlux / psfFluxErr > 3 and ~psfFlux_flag')\n",
    "\n",
    "mag = -2.5 * np.log10(lc['psfFlux']) + 31.4\n",
    "magerr = 2.5 / np.log(10) * lc['psfFluxErr'] / lc['psfFlux']\n",
    "\n",
    "plt.figure()\n",
    "for b in 'ugrizy':\n",
    "    i = lc['band'] == b\n",
    "    if not np.any(i):\n",
    "        continue\n",
    "    mean_mag = np.average(mag[i], weights=1/magerr[i]**2)\n",
    "    plt.errorbar(lc['midpointMjdTai'][i], mag[i] - mean_mag, magerr[i], fmt=\"o\", alpha=0.3, color=COLORS[b], label=f'{b} $-${mean_mag:.2f}')\n",
    "plt.gca().invert_yaxis()\n",
    "plt.title(f'{OID}')\n",
    "# plt.xlim(60640.19, 60640.20)\n",
    "plt.xlabel('MJD')\n",
    "plt.ylabel('magnitude - average magnitude')\n",
    "plt.legend()"
   ]
  },
  {
   "cell_type": "code",
   "execution_count": null,
   "metadata": {},
   "outputs": [],
   "source": [
    "def extract_period_multiband_astropy(band, t, y, yerr, plot=True):\n",
    "    freq, power = LombScargleMultiband(t, y, band, yerr).autopower(samples_per_peak=3000, nyquist_factor=1)\n",
    "    idx_period = np.argmax(power)\n",
    "    period = 1 / freq[idx_period]\n",
    "    \n",
    "    if plot:\n",
    "        plt.plot(freq, power)\n",
    "        plt.vlines(1/period, 0, power.max(), lw=2, ls='--', color='red')\n",
    "    \n",
    "    return period\n",
    "\n",
    "period = extract_period_multiband_astropy(lc['band'], lc['helioMjd'], mag, magerr)\n",
    "# period = extract_period_multiband_astropy(lc['band'], lc['helioMjd'], lc['psfFlux'], lc['psfFluxErr'])\n",
    "\n",
    "phase = lc['helioMjd'] % period / period\n",
    "\n",
    "plt.figure()\n",
    "for b in 'ugrizy':\n",
    "    i = lc['band'] == b\n",
    "    mean_mag = np.average(mag[i], weights=1/magerr[i]**2)\n",
    "    plt.errorbar(phase[i], mag[i] - mean_mag, magerr[i], fmt=\"o\", alpha=0.3, color=COLORS[b], label=f'{b} $-${mean_mag:.2f}')\n",
    "plt.gca().invert_yaxis()\n",
    "plt.title(f'$P = {period:.6f}$ days')\n",
    "plt.xlim(0, 1)\n",
    "plt.xlabel('phase')\n",
    "plt.ylabel('magnitude - average magnitude')\n",
    "plt.legend()"
   ]
  },
  {
   "cell_type": "code",
   "execution_count": null,
   "metadata": {},
   "outputs": [],
   "source": [
    "plt.figure()\n",
    "for b in 'gz':\n",
    "    i = lc['band'] == b\n",
    "    mean_mag = np.average(mag[i], weights=1/magerr[i]**2)\n",
    "    plt.errorbar(phase[i], mag[i] - mean_mag, magerr[i], fmt=\"o\", alpha=0.1, color=COLORS[b], label=f'{b} $-${mean_mag:.2f}')\n",
    "plt.gca().invert_yaxis()\n",
    "plt.title(f'$P = {period:.6f}$ days')\n",
    "plt.xlim(0, 1)\n",
    "plt.xlabel('phase')\n",
    "plt.ylabel('magnitude - average magnitude')\n",
    "plt.legend()"
   ]
  },
  {
   "cell_type": "code",
   "execution_count": null,
   "metadata": {},
   "outputs": [],
   "source": []
  }
 ],
 "metadata": {
  "kernelspec": {
   "display_name": "linccf",
   "language": "python",
   "name": "linccf"
  },
  "language_info": {
   "codemirror_mode": {
    "name": "ipython",
    "version": 3
   },
   "file_extension": ".py",
   "mimetype": "text/x-python",
   "name": "python",
   "nbconvert_exporter": "python",
   "pygments_lexer": "ipython3",
   "version": "3.12.9"
  }
 },
 "nbformat": 4,
 "nbformat_minor": 2
}
