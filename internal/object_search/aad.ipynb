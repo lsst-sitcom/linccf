{
 "cells": [
  {
   "cell_type": "code",
   "execution_count": 1,
   "id": "690bf8ff",
   "metadata": {
    "execution": {
     "iopub.execute_input": "2025-05-02T19:19:10.276738Z",
     "iopub.status.busy": "2025-05-02T19:19:10.276600Z",
     "iopub.status.idle": "2025-05-02T19:19:10.278981Z",
     "shell.execute_reply": "2025-05-02T19:19:10.278625Z",
     "shell.execute_reply.started": "2025-05-02T19:19:10.276722Z"
    }
   },
   "outputs": [],
   "source": [
    "# %pip install coniferest"
   ]
  },
  {
   "cell_type": "code",
   "execution_count": 2,
   "id": "33bc3044",
   "metadata": {
    "execution": {
     "iopub.execute_input": "2025-05-02T19:19:10.279529Z",
     "iopub.status.busy": "2025-05-02T19:19:10.279402Z",
     "iopub.status.idle": "2025-05-02T19:19:12.651154Z",
     "shell.execute_reply": "2025-05-02T19:19:12.650595Z",
     "shell.execute_reply.started": "2025-05-02T19:19:10.279516Z"
    }
   },
   "outputs": [],
   "source": [
    "from pathlib import Path\n",
    "\n",
    "import pandas as pd\n",
    "from coniferest.label import Label\n",
    "from coniferest.pineforest import PineForest\n",
    "from coniferest.session import Session\n",
    "from coniferest.session.callback import TerminateAfter, prompt_decision_callback"
   ]
  },
  {
   "cell_type": "code",
   "execution_count": 3,
   "id": "c39d4556",
   "metadata": {
    "execution": {
     "iopub.execute_input": "2025-05-02T19:19:12.651949Z",
     "iopub.status.busy": "2025-05-02T19:19:12.651731Z",
     "iopub.status.idle": "2025-05-02T19:19:13.916817Z",
     "shell.execute_reply": "2025-05-02T19:19:13.916233Z",
     "shell.execute_reply.started": "2025-05-02T19:19:12.651935Z"
    }
   },
   "outputs": [
    {
     "data": {
      "text/html": [
       "<div>\n",
       "<style scoped>\n",
       "    .dataframe tbody tr th:only-of-type {\n",
       "        vertical-align: middle;\n",
       "    }\n",
       "\n",
       "    .dataframe tbody tr th {\n",
       "        vertical-align: top;\n",
       "    }\n",
       "\n",
       "    .dataframe thead th {\n",
       "        text-align: right;\n",
       "    }\n",
       "</style>\n",
       "<table border=\"1\" class=\"dataframe\">\n",
       "  <thead>\n",
       "    <tr style=\"text-align: right;\">\n",
       "      <th></th>\n",
       "      <th>objectId</th>\n",
       "      <th>u_psfMag</th>\n",
       "      <th>g_psfMag</th>\n",
       "      <th>r_psfMag</th>\n",
       "      <th>i_psfMag</th>\n",
       "      <th>z_psfMag</th>\n",
       "      <th>y_psfMag</th>\n",
       "      <th>lg_anderson_darling_normal_flux_det_u_direct</th>\n",
       "      <th>duration_flux_det_u_direct</th>\n",
       "      <th>observation_count_flux_det_u_direct</th>\n",
       "      <th>...</th>\n",
       "      <th>duration_src_y_dia</th>\n",
       "      <th>observation_count_src_y_dia</th>\n",
       "      <th>villar_fit_mag_full_amplitude_src_y_dia</th>\n",
       "      <th>villar_fit_baseline_amplitude_ratio_src_y_dia</th>\n",
       "      <th>villar_fit_rise_time_src_y_dia</th>\n",
       "      <th>villar_fit_fall_time_src_y_dia</th>\n",
       "      <th>villar_fit_plateau_rel_amplitude_src_y_dia</th>\n",
       "      <th>villar_fit_plateau_duration_src_y_dia</th>\n",
       "      <th>ln1p_villar_fit_reduced_chi2_src_y_dia</th>\n",
       "      <th>_healpix_29</th>\n",
       "    </tr>\n",
       "  </thead>\n",
       "  <tbody>\n",
       "    <tr>\n",
       "      <th>947</th>\n",
       "      <td>4601777219637871169</td>\n",
       "      <td>30.000000</td>\n",
       "      <td>24.197224</td>\n",
       "      <td>23.402853</td>\n",
       "      <td>22.503044</td>\n",
       "      <td>22.309006</td>\n",
       "      <td>30.000000</td>\n",
       "      <td>-1.0</td>\n",
       "      <td>-1.0</td>\n",
       "      <td>0.0</td>\n",
       "      <td>...</td>\n",
       "      <td>-1.000000</td>\n",
       "      <td>0.0</td>\n",
       "      <td>-1.0</td>\n",
       "      <td>-1.0</td>\n",
       "      <td>-1.0</td>\n",
       "      <td>-1.0</td>\n",
       "      <td>-1.0</td>\n",
       "      <td>-1.0</td>\n",
       "      <td>-1.0</td>\n",
       "      <td>1258603637639219331</td>\n",
       "    </tr>\n",
       "    <tr>\n",
       "      <th>948</th>\n",
       "      <td>4601777219637877071</td>\n",
       "      <td>30.000000</td>\n",
       "      <td>22.595806</td>\n",
       "      <td>21.375578</td>\n",
       "      <td>20.966553</td>\n",
       "      <td>20.819817</td>\n",
       "      <td>30.000000</td>\n",
       "      <td>-1.0</td>\n",
       "      <td>-1.0</td>\n",
       "      <td>0.0</td>\n",
       "      <td>...</td>\n",
       "      <td>-1.000000</td>\n",
       "      <td>0.0</td>\n",
       "      <td>-1.0</td>\n",
       "      <td>-1.0</td>\n",
       "      <td>-1.0</td>\n",
       "      <td>-1.0</td>\n",
       "      <td>-1.0</td>\n",
       "      <td>-1.0</td>\n",
       "      <td>-1.0</td>\n",
       "      <td>1258603637763774031</td>\n",
       "    </tr>\n",
       "    <tr>\n",
       "      <th>993</th>\n",
       "      <td>4601777219637871293</td>\n",
       "      <td>30.000000</td>\n",
       "      <td>23.522381</td>\n",
       "      <td>23.011576</td>\n",
       "      <td>22.234219</td>\n",
       "      <td>22.112637</td>\n",
       "      <td>30.000000</td>\n",
       "      <td>-1.0</td>\n",
       "      <td>-1.0</td>\n",
       "      <td>0.0</td>\n",
       "      <td>...</td>\n",
       "      <td>-1.000000</td>\n",
       "      <td>0.0</td>\n",
       "      <td>-1.0</td>\n",
       "      <td>-1.0</td>\n",
       "      <td>-1.0</td>\n",
       "      <td>-1.0</td>\n",
       "      <td>-1.0</td>\n",
       "      <td>-1.0</td>\n",
       "      <td>-1.0</td>\n",
       "      <td>1258603671608386395</td>\n",
       "    </tr>\n",
       "    <tr>\n",
       "      <th>1136</th>\n",
       "      <td>4601777219637877459</td>\n",
       "      <td>30.000000</td>\n",
       "      <td>24.047750</td>\n",
       "      <td>22.641720</td>\n",
       "      <td>21.779213</td>\n",
       "      <td>21.516882</td>\n",
       "      <td>30.000000</td>\n",
       "      <td>-1.0</td>\n",
       "      <td>-1.0</td>\n",
       "      <td>0.0</td>\n",
       "      <td>...</td>\n",
       "      <td>-1.000000</td>\n",
       "      <td>0.0</td>\n",
       "      <td>-1.0</td>\n",
       "      <td>-1.0</td>\n",
       "      <td>-1.0</td>\n",
       "      <td>-1.0</td>\n",
       "      <td>-1.0</td>\n",
       "      <td>-1.0</td>\n",
       "      <td>-1.0</td>\n",
       "      <td>1258603773688277856</td>\n",
       "    </tr>\n",
       "    <tr>\n",
       "      <th>1154</th>\n",
       "      <td>4601777219637871363</td>\n",
       "      <td>30.000000</td>\n",
       "      <td>30.000000</td>\n",
       "      <td>22.622952</td>\n",
       "      <td>22.275824</td>\n",
       "      <td>22.297962</td>\n",
       "      <td>30.000000</td>\n",
       "      <td>-1.0</td>\n",
       "      <td>-1.0</td>\n",
       "      <td>0.0</td>\n",
       "      <td>...</td>\n",
       "      <td>-1.000000</td>\n",
       "      <td>0.0</td>\n",
       "      <td>-1.0</td>\n",
       "      <td>-1.0</td>\n",
       "      <td>-1.0</td>\n",
       "      <td>-1.0</td>\n",
       "      <td>-1.0</td>\n",
       "      <td>-1.0</td>\n",
       "      <td>-1.0</td>\n",
       "      <td>1258603789794624383</td>\n",
       "    </tr>\n",
       "    <tr>\n",
       "      <th>...</th>\n",
       "      <td>...</td>\n",
       "      <td>...</td>\n",
       "      <td>...</td>\n",
       "      <td>...</td>\n",
       "      <td>...</td>\n",
       "      <td>...</td>\n",
       "      <td>...</td>\n",
       "      <td>...</td>\n",
       "      <td>...</td>\n",
       "      <td>...</td>\n",
       "      <td>...</td>\n",
       "      <td>...</td>\n",
       "      <td>...</td>\n",
       "      <td>...</td>\n",
       "      <td>...</td>\n",
       "      <td>...</td>\n",
       "      <td>...</td>\n",
       "      <td>...</td>\n",
       "      <td>...</td>\n",
       "      <td>...</td>\n",
       "      <td>...</td>\n",
       "    </tr>\n",
       "    <tr>\n",
       "      <th>993558</th>\n",
       "      <td>2226928860664971236</td>\n",
       "      <td>24.279108</td>\n",
       "      <td>24.740477</td>\n",
       "      <td>24.481028</td>\n",
       "      <td>23.915998</td>\n",
       "      <td>23.611267</td>\n",
       "      <td>24.150534</td>\n",
       "      <td>-1.0</td>\n",
       "      <td>-1.0</td>\n",
       "      <td>0.0</td>\n",
       "      <td>...</td>\n",
       "      <td>1.192505</td>\n",
       "      <td>4.0</td>\n",
       "      <td>-1.0</td>\n",
       "      <td>-1.0</td>\n",
       "      <td>-1.0</td>\n",
       "      <td>-1.0</td>\n",
       "      <td>-1.0</td>\n",
       "      <td>-1.0</td>\n",
       "      <td>-1.0</td>\n",
       "      <td>2528753590453949347</td>\n",
       "    </tr>\n",
       "    <tr>\n",
       "      <th>993559</th>\n",
       "      <td>2226928860664971235</td>\n",
       "      <td>25.424473</td>\n",
       "      <td>24.452978</td>\n",
       "      <td>23.833771</td>\n",
       "      <td>23.341406</td>\n",
       "      <td>22.700319</td>\n",
       "      <td>22.463230</td>\n",
       "      <td>-1.0</td>\n",
       "      <td>-1.0</td>\n",
       "      <td>0.0</td>\n",
       "      <td>...</td>\n",
       "      <td>1.192505</td>\n",
       "      <td>3.0</td>\n",
       "      <td>-1.0</td>\n",
       "      <td>-1.0</td>\n",
       "      <td>-1.0</td>\n",
       "      <td>-1.0</td>\n",
       "      <td>-1.0</td>\n",
       "      <td>-1.0</td>\n",
       "      <td>-1.0</td>\n",
       "      <td>2528753591229728565</td>\n",
       "    </tr>\n",
       "    <tr>\n",
       "      <th>993560</th>\n",
       "      <td>2226928860664971478</td>\n",
       "      <td>25.461327</td>\n",
       "      <td>24.008961</td>\n",
       "      <td>22.432995</td>\n",
       "      <td>20.229874</td>\n",
       "      <td>19.132221</td>\n",
       "      <td>18.512836</td>\n",
       "      <td>-1.0</td>\n",
       "      <td>-1.0</td>\n",
       "      <td>0.0</td>\n",
       "      <td>...</td>\n",
       "      <td>1.192505</td>\n",
       "      <td>3.0</td>\n",
       "      <td>-1.0</td>\n",
       "      <td>-1.0</td>\n",
       "      <td>-1.0</td>\n",
       "      <td>-1.0</td>\n",
       "      <td>-1.0</td>\n",
       "      <td>-1.0</td>\n",
       "      <td>-1.0</td>\n",
       "      <td>2528753592033115693</td>\n",
       "    </tr>\n",
       "    <tr>\n",
       "      <th>993579</th>\n",
       "      <td>2226928860664971816</td>\n",
       "      <td>24.921890</td>\n",
       "      <td>24.560822</td>\n",
       "      <td>24.598227</td>\n",
       "      <td>24.614429</td>\n",
       "      <td>24.277746</td>\n",
       "      <td>24.228151</td>\n",
       "      <td>-1.0</td>\n",
       "      <td>-1.0</td>\n",
       "      <td>0.0</td>\n",
       "      <td>...</td>\n",
       "      <td>1.192505</td>\n",
       "      <td>3.0</td>\n",
       "      <td>-1.0</td>\n",
       "      <td>-1.0</td>\n",
       "      <td>-1.0</td>\n",
       "      <td>-1.0</td>\n",
       "      <td>-1.0</td>\n",
       "      <td>-1.0</td>\n",
       "      <td>-1.0</td>\n",
       "      <td>2528753594269858397</td>\n",
       "    </tr>\n",
       "    <tr>\n",
       "      <th>993581</th>\n",
       "      <td>2226928860664971563</td>\n",
       "      <td>23.997766</td>\n",
       "      <td>24.353390</td>\n",
       "      <td>24.216852</td>\n",
       "      <td>23.781702</td>\n",
       "      <td>23.417139</td>\n",
       "      <td>23.295618</td>\n",
       "      <td>-1.0</td>\n",
       "      <td>-1.0</td>\n",
       "      <td>0.0</td>\n",
       "      <td>...</td>\n",
       "      <td>0.006775</td>\n",
       "      <td>2.0</td>\n",
       "      <td>-1.0</td>\n",
       "      <td>-1.0</td>\n",
       "      <td>-1.0</td>\n",
       "      <td>-1.0</td>\n",
       "      <td>-1.0</td>\n",
       "      <td>-1.0</td>\n",
       "      <td>-1.0</td>\n",
       "      <td>2528753594539115719</td>\n",
       "    </tr>\n",
       "  </tbody>\n",
       "</table>\n",
       "<p>178241 rows × 452 columns</p>\n",
       "</div>"
      ],
      "text/plain": [
       "                   objectId   u_psfMag   g_psfMag   r_psfMag   i_psfMag  \\\n",
       "947     4601777219637871169  30.000000  24.197224  23.402853  22.503044   \n",
       "948     4601777219637877071  30.000000  22.595806  21.375578  20.966553   \n",
       "993     4601777219637871293  30.000000  23.522381  23.011576  22.234219   \n",
       "1136    4601777219637877459  30.000000  24.047750  22.641720  21.779213   \n",
       "1154    4601777219637871363  30.000000  30.000000  22.622952  22.275824   \n",
       "...                     ...        ...        ...        ...        ...   \n",
       "993558  2226928860664971236  24.279108  24.740477  24.481028  23.915998   \n",
       "993559  2226928860664971235  25.424473  24.452978  23.833771  23.341406   \n",
       "993560  2226928860664971478  25.461327  24.008961  22.432995  20.229874   \n",
       "993579  2226928860664971816  24.921890  24.560822  24.598227  24.614429   \n",
       "993581  2226928860664971563  23.997766  24.353390  24.216852  23.781702   \n",
       "\n",
       "         z_psfMag   y_psfMag  lg_anderson_darling_normal_flux_det_u_direct  \\\n",
       "947     22.309006  30.000000                                          -1.0   \n",
       "948     20.819817  30.000000                                          -1.0   \n",
       "993     22.112637  30.000000                                          -1.0   \n",
       "1136    21.516882  30.000000                                          -1.0   \n",
       "1154    22.297962  30.000000                                          -1.0   \n",
       "...           ...        ...                                           ...   \n",
       "993558  23.611267  24.150534                                          -1.0   \n",
       "993559  22.700319  22.463230                                          -1.0   \n",
       "993560  19.132221  18.512836                                          -1.0   \n",
       "993579  24.277746  24.228151                                          -1.0   \n",
       "993581  23.417139  23.295618                                          -1.0   \n",
       "\n",
       "        duration_flux_det_u_direct  observation_count_flux_det_u_direct  ...  \\\n",
       "947                           -1.0                                  0.0  ...   \n",
       "948                           -1.0                                  0.0  ...   \n",
       "993                           -1.0                                  0.0  ...   \n",
       "1136                          -1.0                                  0.0  ...   \n",
       "1154                          -1.0                                  0.0  ...   \n",
       "...                            ...                                  ...  ...   \n",
       "993558                        -1.0                                  0.0  ...   \n",
       "993559                        -1.0                                  0.0  ...   \n",
       "993560                        -1.0                                  0.0  ...   \n",
       "993579                        -1.0                                  0.0  ...   \n",
       "993581                        -1.0                                  0.0  ...   \n",
       "\n",
       "        duration_src_y_dia  observation_count_src_y_dia  \\\n",
       "947              -1.000000                          0.0   \n",
       "948              -1.000000                          0.0   \n",
       "993              -1.000000                          0.0   \n",
       "1136             -1.000000                          0.0   \n",
       "1154             -1.000000                          0.0   \n",
       "...                    ...                          ...   \n",
       "993558            1.192505                          4.0   \n",
       "993559            1.192505                          3.0   \n",
       "993560            1.192505                          3.0   \n",
       "993579            1.192505                          3.0   \n",
       "993581            0.006775                          2.0   \n",
       "\n",
       "        villar_fit_mag_full_amplitude_src_y_dia  \\\n",
       "947                                        -1.0   \n",
       "948                                        -1.0   \n",
       "993                                        -1.0   \n",
       "1136                                       -1.0   \n",
       "1154                                       -1.0   \n",
       "...                                         ...   \n",
       "993558                                     -1.0   \n",
       "993559                                     -1.0   \n",
       "993560                                     -1.0   \n",
       "993579                                     -1.0   \n",
       "993581                                     -1.0   \n",
       "\n",
       "        villar_fit_baseline_amplitude_ratio_src_y_dia  \\\n",
       "947                                              -1.0   \n",
       "948                                              -1.0   \n",
       "993                                              -1.0   \n",
       "1136                                             -1.0   \n",
       "1154                                             -1.0   \n",
       "...                                               ...   \n",
       "993558                                           -1.0   \n",
       "993559                                           -1.0   \n",
       "993560                                           -1.0   \n",
       "993579                                           -1.0   \n",
       "993581                                           -1.0   \n",
       "\n",
       "        villar_fit_rise_time_src_y_dia  villar_fit_fall_time_src_y_dia  \\\n",
       "947                               -1.0                            -1.0   \n",
       "948                               -1.0                            -1.0   \n",
       "993                               -1.0                            -1.0   \n",
       "1136                              -1.0                            -1.0   \n",
       "1154                              -1.0                            -1.0   \n",
       "...                                ...                             ...   \n",
       "993558                            -1.0                            -1.0   \n",
       "993559                            -1.0                            -1.0   \n",
       "993560                            -1.0                            -1.0   \n",
       "993579                            -1.0                            -1.0   \n",
       "993581                            -1.0                            -1.0   \n",
       "\n",
       "        villar_fit_plateau_rel_amplitude_src_y_dia  \\\n",
       "947                                           -1.0   \n",
       "948                                           -1.0   \n",
       "993                                           -1.0   \n",
       "1136                                          -1.0   \n",
       "1154                                          -1.0   \n",
       "...                                            ...   \n",
       "993558                                        -1.0   \n",
       "993559                                        -1.0   \n",
       "993560                                        -1.0   \n",
       "993579                                        -1.0   \n",
       "993581                                        -1.0   \n",
       "\n",
       "        villar_fit_plateau_duration_src_y_dia  \\\n",
       "947                                      -1.0   \n",
       "948                                      -1.0   \n",
       "993                                      -1.0   \n",
       "1136                                     -1.0   \n",
       "1154                                     -1.0   \n",
       "...                                       ...   \n",
       "993558                                   -1.0   \n",
       "993559                                   -1.0   \n",
       "993560                                   -1.0   \n",
       "993579                                   -1.0   \n",
       "993581                                   -1.0   \n",
       "\n",
       "        ln1p_villar_fit_reduced_chi2_src_y_dia          _healpix_29  \n",
       "947                                       -1.0  1258603637639219331  \n",
       "948                                       -1.0  1258603637763774031  \n",
       "993                                       -1.0  1258603671608386395  \n",
       "1136                                      -1.0  1258603773688277856  \n",
       "1154                                      -1.0  1258603789794624383  \n",
       "...                                        ...                  ...  \n",
       "993558                                    -1.0  2528753590453949347  \n",
       "993559                                    -1.0  2528753591229728565  \n",
       "993560                                    -1.0  2528753592033115693  \n",
       "993579                                    -1.0  2528753594269858397  \n",
       "993581                                    -1.0  2528753594539115719  \n",
       "\n",
       "[178241 rows x 452 columns]"
      ]
     },
     "metadata": {},
     "output_type": "display_data"
    }
   ],
   "source": [
    "features_root = Path(\"object_lc_features\")\n",
    "data = pd.read_parquet(features_root, partitioning=None)\n",
    "data = data.query(\n",
    "    \"r_psfMag > 21\"\n",
    "    f\" and {' + '.join(f'observation_count_flux_det_{b}_direct' for b in 'ugrizy')} >= 8\"\n",
    ")\n",
    "display(data)\n",
    "ids = data.objectId.to_numpy()\n",
    "X = data.drop(columns=[\"objectId\"]).to_numpy()"
   ]
  },
  {
   "cell_type": "code",
   "execution_count": 4,
   "id": "2dcb18a0",
   "metadata": {
    "execution": {
     "iopub.execute_input": "2025-05-02T19:19:13.917560Z",
     "iopub.status.busy": "2025-05-02T19:19:13.917368Z",
     "iopub.status.idle": "2025-05-02T19:19:13.920235Z",
     "shell.execute_reply": "2025-05-02T19:19:13.919844Z",
     "shell.execute_reply.started": "2025-05-02T19:19:13.917545Z"
    }
   },
   "outputs": [],
   "source": [
    "# import sys\n",
    "\n",
    "# from lsst.daf.butler import Butler\n",
    "\n",
    "# sys.path.append(\"/sdf/data/rubin/user/kostya/linccf/internal/single_object\")\n",
    "# from single_object import make_figure\n",
    "\n",
    "\n",
    "# repo = \"/repo/main\"\n",
    "# instrument = \"LSSTComCam\"\n",
    "# release = \"v29_0_0_rc5\"\n",
    "# collection = f\"LSSTComCam/runs/DRP/DP1/{release}/DM-49865\"\n",
    "\n",
    "# butler = Butler(repo, collections=collection)\n",
    "# hats_path = Path(\"/sdf/data/rubin/shared/lsdb_commissioning/hats\") / release\n",
    "\n",
    "# def decision_callback(metadata, data, session) -> Label:\n",
    "#     make_figure(metadata, butler, hats_path, image_type=\"direct\")\n",
    "#     # return prompt_decision_callback(metadata, data, session)\n",
    "#     return Label.REGULAR"
   ]
  },
  {
   "cell_type": "code",
   "execution_count": 5,
   "id": "f1a5736f",
   "metadata": {
    "execution": {
     "iopub.execute_input": "2025-05-02T19:19:13.921041Z",
     "iopub.status.busy": "2025-05-02T19:19:13.920742Z",
     "iopub.status.idle": "2025-05-02T22:27:59.462595Z",
     "shell.execute_reply": "2025-05-02T22:27:59.462019Z",
     "shell.execute_reply.started": "2025-05-02T19:19:13.921027Z"
    }
   },
   "outputs": [
    {
     "name": "stdout",
     "output_type": "stream",
     "text": [
      "Is 2226783725130104506 anomaly? [y/N]:"
     ]
    },
    {
     "name": "stdin",
     "output_type": "stream",
     "text": [
      "  n\n"
     ]
    },
    {
     "name": "stdout",
     "output_type": "stream",
     "text": [
      "Is 2226796919269634157 anomaly? [y/N]:"
     ]
    },
    {
     "name": "stdin",
     "output_type": "stream",
     "text": [
      "  n\n"
     ]
    },
    {
     "name": "stdout",
     "output_type": "stream",
     "text": [
      "Is 2226796919269634158 anomaly? [y/N]:"
     ]
    },
    {
     "name": "stdin",
     "output_type": "stream",
     "text": [
      "  n\n"
     ]
    },
    {
     "name": "stdout",
     "output_type": "stream",
     "text": [
      "Is 2429925095431484898 anomaly? [y/N]:"
     ]
    },
    {
     "name": "stdin",
     "output_type": "stream",
     "text": [
      "  n\n"
     ]
    },
    {
     "name": "stdout",
     "output_type": "stream",
     "text": [
      "Is 982897424534089585 anomaly? [y/N]:"
     ]
    },
    {
     "name": "stdin",
     "output_type": "stream",
     "text": [
      "  n\n"
     ]
    },
    {
     "name": "stdout",
     "output_type": "stream",
     "text": [
      "Is 2226796919269634182 anomaly? [y/N]:"
     ]
    },
    {
     "name": "stdin",
     "output_type": "stream",
     "text": [
      "  n\n"
     ]
    },
    {
     "name": "stdout",
     "output_type": "stream",
     "text": [
      "Is 2226796919269634179 anomaly? [y/N]:"
     ]
    },
    {
     "name": "stdin",
     "output_type": "stream",
     "text": [
      "  n\n"
     ]
    },
    {
     "name": "stdout",
     "output_type": "stream",
     "text": [
      "Is 2226739744664995165 anomaly? [y/N]:"
     ]
    },
    {
     "name": "stdin",
     "output_type": "stream",
     "text": [
      "  n\n"
     ]
    },
    {
     "name": "stdout",
     "output_type": "stream",
     "text": [
      "Is 3347265238671033305 anomaly? [y/N]:"
     ]
    },
    {
     "name": "stdin",
     "output_type": "stream",
     "text": [
      "  n\n"
     ]
    },
    {
     "name": "stdout",
     "output_type": "stream",
     "text": [
      "Is 1053015480060620218 anomaly? [y/N]:"
     ]
    },
    {
     "name": "stdin",
     "output_type": "stream",
     "text": [
      "  n\n"
     ]
    },
    {
     "name": "stdout",
     "output_type": "stream",
     "text": [
      "Is 982897424534089917 anomaly? [y/N]:"
     ]
    },
    {
     "name": "stdin",
     "output_type": "stream",
     "text": [
      "  n\n"
     ]
    },
    {
     "name": "stdout",
     "output_type": "stream",
     "text": [
      "Is 2226796919269634235 anomaly? [y/N]:"
     ]
    },
    {
     "name": "stdin",
     "output_type": "stream",
     "text": [
      "  n\n"
     ]
    },
    {
     "name": "stdout",
     "output_type": "stream",
     "text": [
      "Is 2226739744664995161 anomaly? [y/N]:"
     ]
    },
    {
     "name": "stdin",
     "output_type": "stream",
     "text": [
      "  n\n"
     ]
    },
    {
     "name": "stdout",
     "output_type": "stream",
     "text": [
      "Is 1052923121083888332 anomaly? [y/N]:"
     ]
    },
    {
     "name": "stdin",
     "output_type": "stream",
     "text": [
      "  n\n"
     ]
    },
    {
     "name": "stdout",
     "output_type": "stream",
     "text": [
      "Is 2430017454408213310 anomaly? [y/N]:"
     ]
    },
    {
     "name": "stdin",
     "output_type": "stream",
     "text": [
      "  n\n"
     ]
    },
    {
     "name": "stdout",
     "output_type": "stream",
     "text": [
      "Is 1053015480060619016 anomaly? [y/N]:"
     ]
    },
    {
     "name": "stdin",
     "output_type": "stream",
     "text": [
      "  n\n"
     ]
    },
    {
     "name": "stdout",
     "output_type": "stream",
     "text": [
      "Is 3347309219136143456 anomaly? [y/N]:"
     ]
    },
    {
     "name": "stdin",
     "output_type": "stream",
     "text": [
      "  n\n"
     ]
    },
    {
     "name": "stdout",
     "output_type": "stream",
     "text": [
      "Is 2226849695827771399 anomaly? [y/N]:"
     ]
    },
    {
     "name": "stdin",
     "output_type": "stream",
     "text": [
      "  n\n"
     ]
    },
    {
     "name": "stdout",
     "output_type": "stream",
     "text": [
      "Is 2226845297781262301 anomaly? [y/N]:"
     ]
    },
    {
     "name": "stdin",
     "output_type": "stream",
     "text": [
      "  n\n"
     ]
    },
    {
     "name": "stdout",
     "output_type": "stream",
     "text": [
      "Is 2429925095431484897 anomaly? [y/N]:"
     ]
    },
    {
     "data": {
      "text/plain": [
       "<coniferest.session.Session at 0x7faa65c86960>"
      ]
     },
     "execution_count": 5,
     "metadata": {},
     "output_type": "execute_result"
    },
    {
     "name": "stdout",
     "output_type": "stream",
     "text": [
      "  n\n"
     ]
    },
    {
     "name": "stdout",
     "output_type": "stream",
     "text": [
      "Is 199385438580901728 anomaly? [y/N]:"
     ]
    },
    {
     "name": "stdout",
     "output_type": "stream",
     "text": [
      "  n\n"
     ]
    },
    {
     "name": "stdout",
     "output_type": "stream",
     "text": [
      "Is 199429419046020026 anomaly? [y/N]:"
     ]
    }
   ],
   "source": [
    "session = Session(\n",
    "    data=X,\n",
    "    metadata=ids,\n",
    "    model=PineForest(random_seed=0, n_subsamples=4098, n_trees=1024),\n",
    "    decision_callback=prompt_decision_callback,\n",
    "    # on_decision_callbacks=TerminateAfter(20),\n",
    ")\n",
    "session.run()"
   ]
  },
  {
   "cell_type": "raw",
   "id": "cf1225a7-1919-461e-9be3-584929c35e88",
   "metadata": {},
   "source": [
    "Is 2226783725130104506 anomaly? [y/N]:\n",
    "  n\n",
    "Is 2226796919269634157 anomaly? [y/N]:\n",
    "  n\n",
    "Is 2226796919269634158 anomaly? [y/N]:\n",
    "  n\n",
    "Is 2429925095431484898 anomaly? [y/N]:\n",
    "  n\n",
    "Is 982897424534089585 anomaly? [y/N]:\n",
    "  n\n",
    "Is 2226796919269634182 anomaly? [y/N]:\n",
    "  n\n",
    "Is 2226796919269634179 anomaly? [y/N]:\n",
    "  n\n",
    "Is 2226739744664995165 anomaly? [y/N]:\n",
    "  n\n",
    "Is 3347265238671033305 anomaly? [y/N]:\n",
    "  n\n",
    "Is 1053015480060620218 anomaly? [y/N]:\n",
    "  n\n",
    "Is 982897424534089917 anomaly? [y/N]:\n",
    "  n\n",
    "Is 2226796919269634235 anomaly? [y/N]:\n",
    "  n\n",
    "Is 2226739744664995161 anomaly? [y/N]:\n",
    "  n\n",
    "Is 1052923121083888332 anomaly? [y/N]:\n",
    "  n\n",
    "Is 2430017454408213310 anomaly? [y/N]:\n",
    "  n\n",
    "Is 1053015480060619016 anomaly? [y/N]:\n",
    "  n\n",
    "Is 3347309219136143456 anomaly? [y/N]:\n",
    "  n\n",
    "Is 2226849695827771399 anomaly? [y/N]:\n",
    "  n\n",
    "Is 2226845297781262301 anomaly? [y/N]:\n",
    "  n\n",
    "Is 2429925095431484897 anomaly? [y/N]:"
   ]
  }
 ],
 "metadata": {
  "kernelspec": {
   "display_name": "linccf",
   "language": "python",
   "name": "linccf"
  },
  "language_info": {
   "codemirror_mode": {
    "name": "ipython",
    "version": 3
   },
   "file_extension": ".py",
   "mimetype": "text/x-python",
   "name": "python",
   "nbconvert_exporter": "python",
   "pygments_lexer": "ipython3",
   "version": "3.12.9"
  }
 },
 "nbformat": 4,
 "nbformat_minor": 5
}
