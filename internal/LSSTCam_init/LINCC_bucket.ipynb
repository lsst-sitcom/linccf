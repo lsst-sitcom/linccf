{
 "cells": [
  {
   "cell_type": "markdown",
   "id": "6d463f16",
   "metadata": {},
   "source": [
    "## LINCC Embargo S3 Bucket\n",
    "\n",
    "We have been assigned an embargo bucket on S3.\n",
    "\n",
    "- **S3 custom endpoint:** https://sdfembs3.sdf.slac.stanford.edu.\n",
    "- **Bucket name:** `rubin-lincc-hats`.\n",
    "- **Storage:** Requested up to 25 TB.\n",
    "\n",
    "Make sure your `.bashrc` is populated with:\n",
    "```sh\n",
    "export AWS_SHARED_CREDENTIALS_FILE=~/.lsst/aws-credentials.ini\n",
    "export LSST_RESOURCES_S3_PROFILE_embargo=https://sdfembs3.sdf.slac.stanford.edu\n",
    "# LINCC HATS endpoint\n",
    "export AWS_ENDPOINT_URL=$LSST_RESOURCES_S3_PROFILE_embargo\n",
    "```\n",
    "\n",
    "You can also provide the `AWS_ENDPOINT_URL` with the `--endpoint-url` flag."
   ]
  },
  {
   "cell_type": "markdown",
   "id": "0a001ce6",
   "metadata": {},
   "source": [
    "#### List contents of bucket\n",
    "\n",
    "First initialize:\n",
    "```sh\n",
    "source /sdf/group/rubin/sw/loadLSST.bash && \\\n",
    "setup lsst_distrib\n",
    "```\n",
    "Check you can run this:\n",
    "\n",
    "```sh\n",
    "aws s3 ls s3://rubin-lincc-hats\n",
    "```"
   ]
  },
  {
   "cell_type": "markdown",
   "id": "09521e6c",
   "metadata": {},
   "source": [
    "#### Upload HATS catalogs\n",
    "\n",
    "```sh\n",
    "aws s3 cp dia_object_lc s3://rubin-lincc-hats/dia_object_lc --recursive\n",
    "```\n",
    "\n",
    "Achieved speeds of 500Mb/s."
   ]
  },
  {
   "cell_type": "markdown",
   "id": "5619050f",
   "metadata": {},
   "source": [
    "#### Remove HATS catalog\n",
    "\n",
    "```sh\n",
    "aws s3 rm s3://rubin-lincc-hats/dia_object_lc --recursive\n",
    "```"
   ]
  },
  {
   "cell_type": "markdown",
   "id": "d9b315f2",
   "metadata": {},
   "source": [
    "### Read catalogs with LSDB\n",
    "\n",
    "We need to specify the endpoint URL and the credentials profile."
   ]
  },
  {
   "cell_type": "code",
   "execution_count": null,
   "id": "ffd6af69",
   "metadata": {},
   "outputs": [],
   "source": [
    "import lsdb\n",
    "from upath import UPath\n",
    "\n",
    "# If the AWS_ENDPOINT_URL is not set, add the following to UPath:\n",
    "# endpoint_url=os.env[\"LSST_RESOURCES_S3_PROFILE_embargo\"]\n",
    "# If still not working note S3 integrity protections below\n",
    "dia_object_lc = lsdb.read_hats(UPath(\"s3://rubin-lincc-hats/dia_object_lc\"))\n",
    "dia_object_lc"
   ]
  },
  {
   "cell_type": "code",
   "execution_count": null,
   "id": "e784f5c3",
   "metadata": {},
   "outputs": [],
   "source": [
    "%%time\n",
    "dia_object_lc.head()"
   ]
  },
  {
   "cell_type": "markdown",
   "id": "41df1cd2",
   "metadata": {},
   "source": [
    "### Issues with S3 integrity protections\n",
    "\n",
    "The integrity protections on S3 have changed recently: [aws-cli#9214](https://github.com/aws/aws-cli/issues/9214). I had to downgrade awscli to 1.36.0 for the previous commands to work. Check which version you have with:\n",
    "```sh\n",
    "!aws --version\n",
    "```\n",
    "If you have higher version, run\n",
    "```sh\n",
    "%pip install awscli==1.36.0\n",
    "```\n"
   ]
  },
  {
   "cell_type": "markdown",
   "id": "baf11395",
   "metadata": {},
   "source": []
  }
 ],
 "metadata": {
  "kernelspec": {
   "display_name": "Python 3 (ipykernel)",
   "language": "python",
   "name": "python3"
  },
  "language_info": {
   "codemirror_mode": {
    "name": "ipython",
    "version": 3
   },
   "file_extension": ".py",
   "mimetype": "text/x-python",
   "name": "python",
   "nbconvert_exporter": "python",
   "pygments_lexer": "ipython3",
   "version": "3.12.9"
  }
 },
 "nbformat": 4,
 "nbformat_minor": 5
}
