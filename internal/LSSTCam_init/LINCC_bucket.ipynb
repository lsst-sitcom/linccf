{
 "cells": [
  {
   "cell_type": "markdown",
   "id": "6d463f16",
   "metadata": {},
   "source": [
    "## LINCC Embargo S3 Bucket\n",
    "\n",
    "We have been assigned an embargo bucket on S3.\n",
    "\n",
    "- **CUSTOM ENDPOINT:** https://sdfembs3.sdf.slac.stanford.edu.\n",
    "- **BUCKET NAME:** `rubin-lincc-hats`.\n",
    "- **STORAGE:** Requested up to 25 TB.\n",
    "\n",
    "### Configure your environment\n",
    "\n",
    "First initialize your LSST environment:\n",
    "```sh\n",
    "source /sdf/group/rubin/sw/loadLSST.bash && \\\n",
    "setup lsst_distrib\n",
    "```\n",
    "\n",
    "Make sure your `.bashrc` is populated with:\n",
    "```sh\n",
    "export AWS_SHARED_CREDENTIALS_FILE=~/.lsst/aws-credentials.ini\n",
    "export LSST_RESOURCES_S3_PROFILE_embargo=https://sdfembs3.sdf.slac.stanford.edu\n",
    "# LINCC HATS endpoint\n",
    "export AWS_ENDPOINT_URL=$LSST_RESOURCES_S3_PROFILE_embargo\n",
    "```"
   ]
  },
  {
   "cell_type": "markdown",
   "id": "d9b315f2",
   "metadata": {},
   "source": [
    "### Read catalogs with LSDB\n",
    "\n",
    "Make sure you have s3fs installed with:\n",
    "\n",
    "```sh\n",
    "%pip show s3fs\n",
    "```\n",
    "\n",
    "If no result is shown, please execute:\n",
    "```sh\n",
    "%pip install s3fs\n",
    "```"
   ]
  },
  {
   "cell_type": "code",
   "execution_count": null,
   "id": "ffd6af69",
   "metadata": {},
   "outputs": [],
   "source": [
    "import lsdb\n",
    "from upath import UPath\n",
    "\n",
    "## Important: On Rubin Science Platform your ~/.bashrc environment variables won't\n",
    "## be propagated to your Jupyter notebooks. Please specify the custom endpoint URL on\n",
    "## your path: UPath(..., endpoint_url=os.getenv(\"LSST_RESOURCES_S3_PROFILE_embargo\")).\n",
    "dia_object_lc = lsdb.read_hats(UPath(\"s3://rubin-lincc-hats/dia_object_lc\"))\n",
    "dia_object_lc"
   ]
  },
  {
   "cell_type": "code",
   "execution_count": null,
   "id": "e784f5c3",
   "metadata": {},
   "outputs": [],
   "source": [
    "%%time\n",
    "dia_object_lc.head()"
   ]
  },
  {
   "cell_type": "markdown",
   "id": "0a001ce6",
   "metadata": {},
   "source": [
    "### Using `awscli`\n",
    "\n",
    "The `awscli` allows us to manage the contents of the bucket via terminal. We can list, upload or delete catalogs with three simple commands. You'll need to install awscli `v1.36.0` because the integrity protections on S3 have recently changed [[aws-cli#9214](https://github.com/aws/aws-cli/issues/9214)]:\n",
    "\n",
    "```sh\n",
    "%pip install awscli==1.36.0\n",
    "```\n",
    "\n",
    "#### List contents of bucket\n",
    "\n",
    "```sh\n",
    "aws s3 ls s3://rubin-lincc-hats\n",
    "```\n",
    "\n",
    "#### Upload catalog\n",
    "\n",
    "```sh\n",
    "aws s3 cp local_catalog_path s3://rubin-lincc-hats/cloud_catalog_path --recursive\n",
    "```\n",
    "\n",
    "#### Delete catalog\n",
    "\n",
    "```sh\n",
    "aws s3 rm s3://rubin-lincc-hats/cloud_catalog_path --recursive\n",
    "```"
   ]
  }
 ],
 "metadata": {
  "kernelspec": {
   "display_name": "Python 3 (ipykernel)",
   "language": "python",
   "name": "python3"
  },
  "language_info": {
   "codemirror_mode": {
    "name": "ipython",
    "version": 3
   },
   "file_extension": ".py",
   "mimetype": "text/x-python",
   "name": "python",
   "nbconvert_exporter": "python",
   "pygments_lexer": "ipython3",
   "version": "3.12.9"
  }
 },
 "nbformat": 4,
 "nbformat_minor": 5
}
