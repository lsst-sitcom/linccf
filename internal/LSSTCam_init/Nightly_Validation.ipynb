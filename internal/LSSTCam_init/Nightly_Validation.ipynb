{
 "cells": [
  {
   "cell_type": "markdown",
   "id": "97648c06",
   "metadata": {},
   "source": [
    "# Source clustering\n",
    "\n",
    "This notebook clusters sources from nightly validation to generate object light curves."
   ]
  },
  {
   "cell_type": "code",
   "execution_count": null,
   "id": "9234a23b",
   "metadata": {
    "execution": {
     "iopub.execute_input": "2025-04-23T15:59:40.308639Z",
     "iopub.status.busy": "2025-04-23T15:59:40.308369Z",
     "iopub.status.idle": "2025-04-23T15:59:43.850388Z",
     "shell.execute_reply": "2025-04-23T15:59:43.849860Z",
     "shell.execute_reply.started": "2025-04-23T15:59:40.308621Z"
    }
   },
   "outputs": [],
   "source": [
    "import astropy.units as u\n",
    "import os\n",
    "import matplotlib.pyplot as plt\n",
    "import numpy as np\n",
    "import pandas as pd\n",
    "import lsdb\n",
    "\n",
    "import lsst.daf.butler as dafButler\n",
    "\n",
    "from astropy.coordinates import SkyCoord\n",
    "from lsdb import ConeSearch\n",
    "from pathlib import Path\n",
    "from tqdm import tqdm\n",
    "\n",
    "pd.set_option('display.max_rows', 100)"
   ]
  },
  {
   "cell_type": "code",
   "execution_count": null,
   "id": "08b4effb-3884-46eb-afdd-2097e96cae5f",
   "metadata": {},
   "outputs": [],
   "source": [
    "%pip install git+https://github.com/astronomy-commons/lsdb.git@sean/nested-crossmatch"
   ]
  },
  {
   "cell_type": "markdown",
   "id": "aabab784",
   "metadata": {},
   "source": [
    "### Querying for recent day_obs\n",
    "\n",
    "First let's get the visit ids as well as the exposures midpoint mjd."
   ]
  },
  {
   "cell_type": "code",
   "execution_count": null,
   "id": "b63231b3",
   "metadata": {
    "execution": {
     "iopub.execute_input": "2025-04-23T14:08:46.846865Z",
     "iopub.status.busy": "2025-04-23T14:08:46.846607Z",
     "iopub.status.idle": "2025-04-23T14:08:46.884876Z",
     "shell.execute_reply": "2025-04-23T14:08:46.884480Z",
     "shell.execute_reply.started": "2025-04-23T14:08:46.846848Z"
    }
   },
   "outputs": [],
   "source": [
    "os.environ[\"no_proxy\"] += \",.consdb\"\n",
    "from lsst.summit.utils import ConsDbClient\n",
    "client = ConsDbClient(\"http://consdb-pq.consdb:8080/consdb\")\n",
    "visits = client.query(\"SELECT * FROM cdb_lsstcam.visit1 WHERE day_obs >= 20250415 and science_program = 'BLOCK-365'\").to_pandas()"
   ]
  },
  {
   "cell_type": "code",
   "execution_count": null,
   "id": "1fd4d2bb-0f44-4809-ad2c-d744816bd5e8",
   "metadata": {
    "execution": {
     "iopub.execute_input": "2025-04-23T14:08:59.881173Z",
     "iopub.status.busy": "2025-04-23T14:08:59.880604Z",
     "iopub.status.idle": "2025-04-23T14:08:59.887730Z",
     "shell.execute_reply": "2025-04-23T14:08:59.887429Z",
     "shell.execute_reply.started": "2025-04-23T14:08:59.881156Z"
    }
   },
   "outputs": [],
   "source": [
    "visits = visits[[\"visit_id\",\"day_obs\",\"exp_midpt_mjd\",\"dimm_seeing\"]]\n",
    "visits"
   ]
  },
  {
   "cell_type": "code",
   "execution_count": null,
   "id": "0525e136-0670-4629-aa2d-9644b105eab3",
   "metadata": {
    "execution": {
     "iopub.execute_input": "2025-04-23T14:10:33.001959Z",
     "iopub.status.busy": "2025-04-23T14:10:33.001661Z",
     "iopub.status.idle": "2025-04-23T14:10:33.008091Z",
     "shell.execute_reply": "2025-04-23T14:10:33.007766Z",
     "shell.execute_reply.started": "2025-04-23T14:10:33.001943Z"
    }
   },
   "outputs": [],
   "source": [
    "# choose 2025_04_20\n",
    "single_day_visit = visits[visits[\"day_obs\"] == 20250420]\n",
    "single_day_visit"
   ]
  },
  {
   "cell_type": "code",
   "execution_count": null,
   "id": "67b8fbb9-97d0-48b5-8c78-22d6d130dffc",
   "metadata": {
    "execution": {
     "iopub.execute_input": "2025-04-23T14:11:45.719170Z",
     "iopub.status.busy": "2025-04-23T14:11:45.718954Z",
     "iopub.status.idle": "2025-04-23T14:11:45.723079Z",
     "shell.execute_reply": "2025-04-23T14:11:45.722763Z",
     "shell.execute_reply.started": "2025-04-23T14:11:45.719154Z"
    }
   },
   "outputs": [],
   "source": [
    "# find the visit with the best dim seeing\n",
    "best_dim_seeing_visit = single_day_visit.iloc[np.argmin(single_day_visit[\"dimm_seeing\"])]\n",
    "best_dim_seeing_visit"
   ]
  },
  {
   "cell_type": "markdown",
   "id": "74df749b",
   "metadata": {},
   "source": [
    "### Initializing the Butler"
   ]
  },
  {
   "cell_type": "code",
   "execution_count": null,
   "id": "e152261e",
   "metadata": {
    "execution": {
     "iopub.execute_input": "2025-04-23T14:12:33.591870Z",
     "iopub.status.busy": "2025-04-23T14:12:33.591514Z",
     "iopub.status.idle": "2025-04-23T14:12:34.123392Z",
     "shell.execute_reply": "2025-04-23T14:12:34.122608Z",
     "shell.execute_reply.started": "2025-04-23T14:12:33.591854Z"
    }
   },
   "outputs": [],
   "source": [
    "repo = \"embargo\"\n",
    "instrument = \"LSSTCam\"\n",
    "collection_all = \"LSSTCam/runs/nightlyValidation\"\n",
    "butler = dafButler.Butler(repo, collections=collection_all, instrument=instrument)"
   ]
  },
  {
   "cell_type": "markdown",
   "id": "1569dfc3",
   "metadata": {},
   "source": [
    "### Getting sources for 2025_04_20"
   ]
  },
  {
   "cell_type": "code",
   "execution_count": null,
   "id": "365907eb",
   "metadata": {
    "execution": {
     "iopub.execute_input": "2025-04-23T14:12:35.004054Z",
     "iopub.status.busy": "2025-04-23T14:12:35.003358Z",
     "iopub.status.idle": "2025-04-23T14:12:35.223352Z",
     "shell.execute_reply": "2025-04-23T14:12:35.222936Z",
     "shell.execute_reply.started": "2025-04-23T14:12:35.004035Z"
    }
   },
   "outputs": [],
   "source": [
    "# Find the name of the collection for 2025_04_20\n",
    "all_collections = list(butler.registry.queryCollections(\"LSSTCam/runs/nightlyValidation/202504*7\"))\n",
    "all_collections"
   ]
  },
  {
   "cell_type": "code",
   "execution_count": null,
   "id": "3dcc495f",
   "metadata": {
    "execution": {
     "iopub.execute_input": "2025-04-23T14:12:37.347256Z",
     "iopub.status.busy": "2025-04-23T14:12:37.347046Z",
     "iopub.status.idle": "2025-04-23T14:12:37.544406Z",
     "shell.execute_reply": "2025-04-23T14:12:37.543877Z",
     "shell.execute_reply.started": "2025-04-23T14:12:37.347240Z"
    }
   },
   "outputs": [],
   "source": [
    "# TODO: Give all collections(all_collections instead of collection_single_day)\n",
    "collection_single_day = \"LSSTCam/runs/nightlyValidation/20250420/d_2025_04_19/DM-50157\"\n",
    "butler = dafButler.Butler(repo, collections=collection_single_day, instrument=instrument)"
   ]
  },
  {
   "cell_type": "code",
   "execution_count": null,
   "id": "7b7073c6-e60f-45ab-9337-83bd3e2ef0f6",
   "metadata": {
    "execution": {
     "iopub.execute_input": "2025-04-23T14:21:57.883079Z",
     "iopub.status.busy": "2025-04-23T14:21:57.882472Z",
     "iopub.status.idle": "2025-04-23T14:23:11.998698Z",
     "shell.execute_reply": "2025-04-23T14:23:11.998026Z",
     "shell.execute_reply.started": "2025-04-23T14:21:57.883055Z"
    }
   },
   "outputs": [],
   "source": [
    "visit_dfs = []\n",
    "\n",
    "visit_ids = single_day_visit[\"visit_id\"].to_numpy()\n",
    "visit_mjds = single_day_visit[\"exp_midpt_mjd\"].to_numpy()\n",
    "visit_dimseeings = single_day_visit[\"dimm_seeing\"].to_numpy()\n",
    "\n",
    "for visit, mjd, dim_seeing in tqdm(zip(visit_ids, visit_mjds, visit_dimseeings)):\n",
    "    try:\n",
    "        # Get all sources for visit\n",
    "        df = butler.get('single_visit_star', visit=visit, instrument=instrument).to_pandas()\n",
    "    \n",
    "        # Do some filtering\n",
    "        df = df[df['detect_isPrimary'] == True]\n",
    "        df = df.dropna(subset=[\"coord_ra\"])\n",
    "        df = df[df['sky_source'] == False]\n",
    "        \n",
    "        # Skip if DataFrame is now empty\n",
    "        if df.empty:\n",
    "            print(f\"Skipping visit {visit} — no valid rows left.\")\n",
    "            continue\n",
    "            \n",
    "        # Add visit_id and mjd columns\n",
    "        df[\"visit_id\"] = visit\n",
    "        df[\"mjd\"] = mjd\n",
    "        df[\"dim_seeing\"] = dim_seeing\n",
    "\n",
    "        # Reduce number of columns (for efficiency)\n",
    "        df = df[[\"ra\",\"dec\",\"sourceId\",\"band\",\"mjd\",\"psfFlux\",\"psfFluxErr\",\"visit_id\",\"dim_seeing\"]]\n",
    "        visit_dfs.append(df)\n",
    "    except Exception as e:\n",
    "        print(f\"Skipping visit {visit} due to error: {e}\")\n",
    "\n",
    "print(f\"Loaded {len(visit_dfs)} dataframes.\")"
   ]
  },
  {
   "cell_type": "code",
   "execution_count": null,
   "id": "db98b520-e099-4abb-8aa5-c782888707e9",
   "metadata": {
    "execution": {
     "iopub.execute_input": "2025-04-23T14:24:15.484101Z",
     "iopub.status.busy": "2025-04-23T14:24:15.483422Z",
     "iopub.status.idle": "2025-04-23T14:24:15.764179Z",
     "shell.execute_reply": "2025-04-23T14:24:15.763665Z",
     "shell.execute_reply.started": "2025-04-23T14:24:15.484083Z"
    }
   },
   "outputs": [],
   "source": [
    "# TODO: Select all ra dec around 217 -17\n",
    "# TODO: Add cut: only i-band\n",
    "# Aggregate all visits for this day\n",
    "final_df = pd.concat(visit_dfs)\n",
    "final_df"
   ]
  },
  {
   "cell_type": "code",
   "execution_count": null,
   "id": "96c78f19-3d92-4f7e-afd9-e4f83fc513e5",
   "metadata": {
    "execution": {
     "iopub.execute_input": "2025-04-23T15:16:16.918814Z",
     "iopub.status.busy": "2025-04-23T15:16:16.918243Z",
     "iopub.status.idle": "2025-04-23T15:16:26.369384Z",
     "shell.execute_reply": "2025-04-23T15:16:26.368910Z",
     "shell.execute_reply.started": "2025-04-23T15:16:16.918796Z"
    }
   },
   "outputs": [],
   "source": [
    "# Import with lsdb\n",
    "source_cat = lsdb.from_dataframe(final_df)\n",
    "source_cat"
   ]
  },
  {
   "cell_type": "code",
   "execution_count": null,
   "id": "1daf102c-39d8-45e0-b4bc-706bdefd48c7",
   "metadata": {},
   "outputs": [],
   "source": [
    "source_cat"
   ]
  },
  {
   "cell_type": "code",
   "execution_count": null,
   "id": "38481c84-cf7e-4893-98bb-e0e66db07bf7",
   "metadata": {
    "execution": {
     "iopub.execute_input": "2025-04-23T15:16:26.370283Z",
     "iopub.status.busy": "2025-04-23T15:16:26.370137Z",
     "iopub.status.idle": "2025-04-23T15:16:26.667045Z",
     "shell.execute_reply": "2025-04-23T15:16:26.666514Z",
     "shell.execute_reply.started": "2025-04-23T15:16:26.370267Z"
    }
   },
   "outputs": [],
   "source": [
    "# send v\n",
    "source_cat.plot_pixels()"
   ]
  },
  {
   "cell_type": "code",
   "execution_count": null,
   "id": "223d843e-e654-469c-b9c8-1eaff532f5b2",
   "metadata": {
    "execution": {
     "iopub.execute_input": "2025-04-23T15:16:42.948418Z",
     "iopub.status.busy": "2025-04-23T15:16:42.947991Z",
     "iopub.status.idle": "2025-04-23T15:16:43.103771Z",
     "shell.execute_reply": "2025-04-23T15:16:43.103299Z",
     "shell.execute_reply.started": "2025-04-23T15:16:42.948390Z"
    }
   },
   "outputs": [],
   "source": [
    "np.unique(source_cat[\"dim_seeing\"].compute())"
   ]
  },
  {
   "cell_type": "code",
   "execution_count": null,
   "id": "4a4c643b-d7a4-40d6-86b2-9aa8d4d96b8a",
   "metadata": {
    "execution": {
     "iopub.execute_input": "2025-04-23T15:59:55.221489Z",
     "iopub.status.busy": "2025-04-23T15:59:55.221156Z",
     "iopub.status.idle": "2025-04-23T15:59:55.557518Z",
     "shell.execute_reply": "2025-04-23T15:59:55.557091Z",
     "shell.execute_reply.started": "2025-04-23T15:59:55.221470Z"
    }
   },
   "outputs": [],
   "source": [
    "center = SkyCoord(220 * u.deg, -20 * u.deg)\n",
    "fig, ax = source_cat.plot_pixels()\n",
    "cone_search = ConeSearch(center.ra.deg, center.dec.deg, 200 * 60)\n",
    "cone_search.plot(fc=\"#00000000\", ec=\"red\")"
   ]
  },
  {
   "cell_type": "code",
   "execution_count": null,
   "id": "bc13ba6d-9152-4276-b264-9c2646c72928",
   "metadata": {
    "execution": {
     "iopub.execute_input": "2025-04-23T15:59:48.150657Z",
     "iopub.status.busy": "2025-04-23T15:59:48.150307Z",
     "iopub.status.idle": "2025-04-23T15:59:48.153311Z",
     "shell.execute_reply": "2025-04-23T15:59:48.152889Z",
     "shell.execute_reply.started": "2025-04-23T15:59:48.150638Z"
    }
   },
   "outputs": [],
   "source": [
    "base_output_dir = Path(f\"/sdf/data/rubin/shared/lsdb_commissioning/tmp\")\n",
    "#source_cat.to_hats(base_output_dir / \"source\")"
   ]
  },
  {
   "cell_type": "code",
   "execution_count": null,
   "id": "075ebecc-28b3-417f-85f3-1d8f0f036f09",
   "metadata": {
    "execution": {
     "iopub.execute_input": "2025-04-23T15:59:49.556240Z",
     "iopub.status.busy": "2025-04-23T15:59:49.556014Z",
     "iopub.status.idle": "2025-04-23T15:59:49.619336Z",
     "shell.execute_reply": "2025-04-23T15:59:49.618908Z",
     "shell.execute_reply.started": "2025-04-23T15:59:49.556224Z"
    }
   },
   "outputs": [],
   "source": [
    "source_cat = lsdb.read_hats(base_output_dir / \"source\")\n",
    "source_cat"
   ]
  },
  {
   "cell_type": "code",
   "execution_count": null,
   "id": "5015eae0-66f6-4e57-90d5-ab168d7233c6",
   "metadata": {
    "execution": {
     "iopub.execute_input": "2025-04-23T16:01:57.736909Z",
     "iopub.status.busy": "2025-04-23T16:01:57.736490Z",
     "iopub.status.idle": "2025-04-23T16:01:58.458415Z",
     "shell.execute_reply": "2025-04-23T16:01:58.458000Z",
     "shell.execute_reply.started": "2025-04-23T16:01:57.736892Z"
    }
   },
   "outputs": [],
   "source": [
    "# What is the visit here with the best dim_seeing?\n",
    "cone_cat = source_cat.cone_search(center.ra.deg, center.dec.deg, 200 * 60)\n",
    "cone_cat_df = cone_cat.compute()\n",
    "visit_min_dimseeing = cone_cat_df.iloc[np.argmin(cone_cat_df[\"dim_seeing\"])][\"visit_id\"]\n",
    "visit_min_dimseeing"
   ]
  },
  {
   "cell_type": "code",
   "execution_count": null,
   "id": "8eaf7ca2-1fa7-4e2b-8ffc-bfbe577164ef",
   "metadata": {
    "execution": {
     "iopub.execute_input": "2025-04-23T16:02:01.495488Z",
     "iopub.status.busy": "2025-04-23T16:02:01.495259Z",
     "iopub.status.idle": "2025-04-23T16:02:01.507759Z",
     "shell.execute_reply": "2025-04-23T16:02:01.507271Z",
     "shell.execute_reply.started": "2025-04-23T16:02:01.495472Z"
    }
   },
   "outputs": [],
   "source": [
    "# TODO: Get all sources that have good dimseeing in the whole catalog\n",
    "object_df = cone_cat_df[cone_cat_df[\"visit_id\"] == visit_min_dimseeing]\n",
    "object_df"
   ]
  },
  {
   "cell_type": "code",
   "execution_count": null,
   "id": "512feeb5-c3f9-4205-b0ad-c872cc88682e",
   "metadata": {
    "execution": {
     "iopub.execute_input": "2025-04-23T16:02:09.435282Z",
     "iopub.status.busy": "2025-04-23T16:02:09.434927Z",
     "iopub.status.idle": "2025-04-23T16:02:14.127435Z",
     "shell.execute_reply": "2025-04-23T16:02:14.126966Z",
     "shell.execute_reply.started": "2025-04-23T16:02:09.435262Z"
    }
   },
   "outputs": [],
   "source": [
    "object_cat = lsdb.from_dataframe(object_df)\n",
    "object_cat.plot_pixels()"
   ]
  },
  {
   "cell_type": "code",
   "execution_count": null,
   "id": "9851c1ce-1d89-49c0-b332-27746ba0ae80",
   "metadata": {
    "execution": {
     "iopub.execute_input": "2025-04-23T16:49:08.495083Z",
     "iopub.status.busy": "2025-04-23T16:49:08.494713Z",
     "iopub.status.idle": "2025-04-23T16:49:10.064460Z",
     "shell.execute_reply": "2025-04-23T16:49:10.064002Z",
     "shell.execute_reply.started": "2025-04-23T16:49:08.495064Z"
    }
   },
   "outputs": [],
   "source": [
    "# Get light curves for this pixel:\n",
    "# TODO: Add radius_arcsec=0.2\n",
    "# TODO: n_neigbors = num_visits\n",
    "result = object_cat.crossmatch_nested(cone_cat, n_neighbors=20).compute()\n",
    "result"
   ]
  },
  {
   "cell_type": "code",
   "execution_count": null,
   "id": "1fb89aa5-8b8d-44f9-a173-c6c29dc5a71a",
   "metadata": {
    "execution": {
     "iopub.execute_input": "2025-04-23T17:10:45.645928Z",
     "iopub.status.busy": "2025-04-23T17:10:45.645233Z",
     "iopub.status.idle": "2025-04-23T17:10:45.656467Z",
     "shell.execute_reply": "2025-04-23T17:10:45.656029Z",
     "shell.execute_reply.started": "2025-04-23T17:10:45.645907Z"
    }
   },
   "outputs": [],
   "source": [
    "lc = result[\"from_lsdb_dataframe\"].iloc[1].sort_values(\"mjd\")\n",
    "lc"
   ]
  },
  {
   "cell_type": "code",
   "execution_count": null,
   "id": "fe9a60e2-4a1e-49dd-b1dc-f5ffe1a49b62",
   "metadata": {
    "execution": {
     "iopub.execute_input": "2025-04-23T16:31:41.680284Z",
     "iopub.status.busy": "2025-04-23T16:31:41.680060Z",
     "iopub.status.idle": "2025-04-23T16:31:41.886621Z",
     "shell.execute_reply": "2025-04-23T16:31:41.886173Z",
     "shell.execute_reply.started": "2025-04-23T16:31:41.680267Z"
    }
   },
   "outputs": [],
   "source": [
    "COLORS = {\n",
    "    \"u\": \"#56b4e9\",\n",
    "    \"g\": \"#009e73\",\n",
    "    \"r\": \"#f0e442\",\n",
    "    \"i\": \"#cc79a7\",\n",
    "    \"z\": \"#d55e00\",\n",
    "    \"y\": \"#0072b2\",\n",
    "}\n",
    "\n",
    "def _plot_rubin_lc(ax, lc, mag_col, magerr_col, x_name, x_label):\n",
    "    mag_values = []\n",
    "    for band, color in COLORS.items():\n",
    "        band_lc = lc.query(f\"band == '{band}'\")\n",
    "        mag, magerr = band_lc[mag_col], band_lc[magerr_col]\n",
    "        ax.errorbar(\n",
    "            band_lc[x_name],\n",
    "            mag,\n",
    "            magerr,\n",
    "            fmt=\"o\",\n",
    "            label=band,\n",
    "            color=color,\n",
    "            alpha=1,\n",
    "            markersize=5,\n",
    "            capsize=3,\n",
    "            elinewidth=1,\n",
    "        )\n",
    "        mag_values.extend(mag.dropna().values)\n",
    "    ax.set_xlabel(x_label)\n",
    "    ax.set_ylabel(\"Magnitude (AB)\")\n",
    "    ax.invert_yaxis()\n",
    "    ax.legend(loc=\"lower right\", fontsize=12)\n",
    "\n",
    "fig, ax = plt.subplots()\n",
    "_plot_rubin_lc(ax, lc, \"psfFlux\", \"psfFluxErr\", \"mjd\", \"mjd\")"
   ]
  },
  {
   "cell_type": "code",
   "execution_count": null,
   "id": "05a51387-3b93-4310-b7c0-2e83fa22991c",
   "metadata": {
    "execution": {
     "iopub.execute_input": "2025-04-23T17:12:45.760883Z",
     "iopub.status.busy": "2025-04-23T17:12:45.760246Z",
     "iopub.status.idle": "2025-04-23T17:12:45.873966Z",
     "shell.execute_reply": "2025-04-23T17:12:45.873491Z",
     "shell.execute_reply.started": "2025-04-23T17:12:45.760864Z"
    }
   },
   "outputs": [],
   "source": [
    "plt.scatter(lc[\"mjd\"], lc[\"psfFlux\"])"
   ]
  }
 ],
 "metadata": {
  "kernelspec": {
   "display_name": "LSST",
   "language": "python",
   "name": "lsst"
  },
  "language_info": {
   "codemirror_mode": {
    "name": "ipython",
    "version": 3
   },
   "file_extension": ".py",
   "mimetype": "text/x-python",
   "name": "python",
   "nbconvert_exporter": "python",
   "pygments_lexer": "ipython3",
   "version": "3.12.10"
  }
 },
 "nbformat": 4,
 "nbformat_minor": 5
}
