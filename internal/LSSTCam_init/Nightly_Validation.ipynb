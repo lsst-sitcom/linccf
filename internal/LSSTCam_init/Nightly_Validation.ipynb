{
 "cells": [
  {
   "cell_type": "markdown",
   "id": "97648c06",
   "metadata": {},
   "source": [
    "# Source clustering\n",
    "\n",
    "This notebook clusters sources from nightly validation to generate object light curves."
   ]
  },
  {
   "cell_type": "code",
   "execution_count": null,
   "id": "9234a23b",
   "metadata": {
    "execution": {
     "iopub.execute_input": "2025-04-23T20:12:57.486831Z",
     "iopub.status.busy": "2025-04-23T20:12:57.486395Z",
     "iopub.status.idle": "2025-04-23T20:13:01.421827Z",
     "shell.execute_reply": "2025-04-23T20:13:01.421319Z",
     "shell.execute_reply.started": "2025-04-23T20:12:57.486814Z"
    }
   },
   "outputs": [],
   "source": [
    "import lsdb\n",
    "import matplotlib.pyplot as plt\n",
    "import os\n",
    "import pandas as pd\n",
    "import tempfile\n",
    "\n",
    "import lsst.daf.butler as dafButler\n",
    "\n",
    "from dask.distributed import Client\n",
    "from pathlib import Path\n",
    "from tqdm import tqdm\n",
    "\n",
    "pd.set_option(\"display.max_rows\", 100)"
   ]
  },
  {
   "cell_type": "code",
   "execution_count": null,
   "id": "08b4effb-3884-46eb-afdd-2097e96cae5f",
   "metadata": {
    "execution": {
     "iopub.execute_input": "2025-04-23T20:13:01.422697Z",
     "iopub.status.busy": "2025-04-23T20:13:01.422546Z",
     "iopub.status.idle": "2025-04-23T20:13:01.425287Z",
     "shell.execute_reply": "2025-04-23T20:13:01.424886Z",
     "shell.execute_reply.started": "2025-04-23T20:13:01.422682Z"
    }
   },
   "outputs": [],
   "source": [
    "%pip install git+https://github.com/astronomy-commons/lsdb.git@sean/nested-crossmatch\n",
    "\n",
    "base_output_dir = Path(f\"/sdf/data/rubin/shared/lsdb_commissioning/tmp\")"
   ]
  },
  {
   "cell_type": "markdown",
   "id": "aabab784",
   "metadata": {},
   "source": [
    "### Querying for recent day_obs\n",
    "\n",
    "First let's get the visit ids as well as the exposures midpoint mjd."
   ]
  },
  {
   "cell_type": "code",
   "execution_count": null,
   "id": "b63231b3",
   "metadata": {
    "execution": {
     "iopub.execute_input": "2025-04-23T19:51:36.846857Z",
     "iopub.status.busy": "2025-04-23T19:51:36.846300Z",
     "iopub.status.idle": "2025-04-23T19:51:36.862019Z",
     "shell.execute_reply": "2025-04-23T19:51:36.861715Z",
     "shell.execute_reply.started": "2025-04-23T19:51:36.846839Z"
    }
   },
   "outputs": [],
   "source": [
    "os.environ[\"no_proxy\"] += \",.consdb\"\n",
    "from lsst.summit.utils import ConsDbClient\n",
    "\n",
    "client = ConsDbClient(\"http://consdb-pq.consdb:8080/consdb\")\n",
    "visits = client.query(\n",
    "    \"SELECT * FROM cdb_lsstcam.visit1 WHERE day_obs >= 20250418 AND day_obs <= 20250419 and science_program = 'BLOCK-365'\"\n",
    ").to_pandas()"
   ]
  },
  {
   "cell_type": "code",
   "execution_count": null,
   "id": "2aeb3dc9-19ac-49a3-beb3-d82093d14487",
   "metadata": {
    "execution": {
     "iopub.execute_input": "2025-04-23T20:09:25.101662Z",
     "iopub.status.busy": "2025-04-23T20:09:25.101447Z",
     "iopub.status.idle": "2025-04-23T20:09:25.104285Z",
     "shell.execute_reply": "2025-04-23T20:09:25.103910Z",
     "shell.execute_reply.started": "2025-04-23T20:09:25.101646Z"
    }
   },
   "outputs": [],
   "source": [
    "# Save number of visits for crossmatch\n",
    "num_visits = len(visits)"
   ]
  },
  {
   "cell_type": "markdown",
   "id": "74df749b",
   "metadata": {},
   "source": [
    "### Initializing the Butler"
   ]
  },
  {
   "cell_type": "code",
   "execution_count": null,
   "id": "e152261e",
   "metadata": {
    "execution": {
     "iopub.execute_input": "2025-04-23T19:51:55.892629Z",
     "iopub.status.busy": "2025-04-23T19:51:55.892289Z",
     "iopub.status.idle": "2025-04-23T19:51:56.232546Z",
     "shell.execute_reply": "2025-04-23T19:51:56.232030Z",
     "shell.execute_reply.started": "2025-04-23T19:51:55.892586Z"
    }
   },
   "outputs": [],
   "source": [
    "repo = \"embargo\"\n",
    "instrument = \"LSSTCam\"\n",
    "collection_all = \"LSSTCam/runs/nightlyValidation\"\n",
    "butler = dafButler.Butler(repo, collections=collection_all, instrument=instrument)"
   ]
  },
  {
   "cell_type": "markdown",
   "id": "41a223f6-4a09-4738-a99c-bb759b8b5a1b",
   "metadata": {},
   "source": [
    "### Create object table"
   ]
  },
  {
   "cell_type": "code",
   "execution_count": null,
   "id": "67b8fbb9-97d0-48b5-8c78-22d6d130dffc",
   "metadata": {
    "execution": {
     "iopub.execute_input": "2025-04-23T19:51:57.609209Z",
     "iopub.status.busy": "2025-04-23T19:51:57.608458Z",
     "iopub.status.idle": "2025-04-23T19:51:57.614338Z",
     "shell.execute_reply": "2025-04-23T19:51:57.613870Z",
     "shell.execute_reply.started": "2025-04-23T19:51:57.609190Z"
    }
   },
   "outputs": [],
   "source": [
    "# Find visit of best dimm_seeing\n",
    "visits = visits.sort_values(\"dimm_seeing\")\n",
    "visits = visits[~visits[\"dimm_seeing\"].isna()]\n",
    "visits.iloc[0]"
   ]
  },
  {
   "cell_type": "code",
   "execution_count": null,
   "id": "c00d6ce9-3ab4-481c-979b-378b9d637cdf",
   "metadata": {
    "execution": {
     "iopub.execute_input": "2025-04-23T19:52:52.228546Z",
     "iopub.status.busy": "2025-04-23T19:52:52.228330Z",
     "iopub.status.idle": "2025-04-23T19:52:52.457181Z",
     "shell.execute_reply": "2025-04-23T19:52:52.456689Z",
     "shell.execute_reply.started": "2025-04-23T19:52:52.228531Z"
    }
   },
   "outputs": [],
   "source": [
    "# Find the name of the collection for the day_obs: 20250418\n",
    "day_collection = butler.registry.queryCollections(\n",
    "    \"LSSTCam/runs/nightlyValidation/20250418*7\"\n",
    ")[0]\n",
    "day_collection"
   ]
  },
  {
   "cell_type": "code",
   "execution_count": null,
   "id": "f4b87684-f9ed-42e4-ba78-6dd0ca54d465",
   "metadata": {
    "execution": {
     "iopub.execute_input": "2025-04-23T19:52:55.684990Z",
     "iopub.status.busy": "2025-04-23T19:52:55.684293Z",
     "iopub.status.idle": "2025-04-23T19:52:57.985126Z",
     "shell.execute_reply": "2025-04-23T19:52:57.984530Z",
     "shell.execute_reply.started": "2025-04-23T19:52:55.684971Z"
    }
   },
   "outputs": [],
   "source": [
    "butler = dafButler.Butler(repo, collections=day_collection, instrument=instrument)\n",
    "object_df = butler.get(\n",
    "    \"single_visit_star\", visit=2025041800655, instrument=instrument\n",
    ").to_pandas()"
   ]
  },
  {
   "cell_type": "code",
   "execution_count": null,
   "id": "b6b94493-3c65-4bfc-b2de-acd4e0e7dc86",
   "metadata": {
    "execution": {
     "iopub.execute_input": "2025-04-23T20:05:41.472721Z",
     "iopub.status.busy": "2025-04-23T20:05:41.472270Z",
     "iopub.status.idle": "2025-04-23T20:05:48.632107Z",
     "shell.execute_reply": "2025-04-23T20:05:48.631535Z",
     "shell.execute_reply.started": "2025-04-23T20:05:41.472702Z"
    }
   },
   "outputs": [],
   "source": [
    "# import with lsdb\n",
    "object_cat = lsdb.from_dataframe(object_df)\n",
    "# object_cat.to_hats(base_output_dir / \"object\")\n",
    "# object_cat = lsdb.read_hats(base_output_dir / \"object\")\n",
    "# object_cat"
   ]
  },
  {
   "cell_type": "code",
   "execution_count": null,
   "id": "5a1c4a6f-7a22-435c-9ab9-b16817965d58",
   "metadata": {},
   "outputs": [],
   "source": [
    "# choose a single day: 2025_04_20\n",
    "# visits = visits[visits[\"day_obs\"] == 20250420]\n",
    "# visits = visits[[\"visit_id\",\"day_obs\",\"exp_midpt_mjd\",\"dimm_seeing\"]]\n",
    "# visits"
   ]
  },
  {
   "cell_type": "markdown",
   "id": "1569dfc3",
   "metadata": {},
   "source": [
    "### Getting sources for the available nightly runs"
   ]
  },
  {
   "cell_type": "code",
   "execution_count": null,
   "id": "d932cd57-19c4-4eba-bfe1-38ee19d91a03",
   "metadata": {
    "execution": {
     "iopub.execute_input": "2025-04-23T19:54:41.247159Z",
     "iopub.status.busy": "2025-04-23T19:54:41.246942Z",
     "iopub.status.idle": "2025-04-23T19:55:31.286432Z",
     "shell.execute_reply": "2025-04-23T19:55:31.285963Z",
     "shell.execute_reply.started": "2025-04-23T19:54:41.247144Z"
    }
   },
   "outputs": [],
   "source": [
    "def get_sources_for_day(day_visits):\n",
    "    day_dfs = []\n",
    "\n",
    "    day_obs = day_visits.name\n",
    "    day_collection = butler.registry.queryCollections(\n",
    "        f\"LSSTCam/runs/nightlyValidation/{day_obs}*7\"\n",
    "    )[0]\n",
    "    print(f\"Day collection: {day_collection}\")\n",
    "    day_butler = dafButler.Butler(\n",
    "        repo, collections=day_collection, instrument=instrument\n",
    "    )\n",
    "\n",
    "    ids = day_visits[\"visit_id\"]\n",
    "    mjds = day_visits[\"exp_midpt_mjd\"]\n",
    "\n",
    "    for visit_id, visit_mjd in tqdm(zip(ids, mjds)):\n",
    "        try:\n",
    "            # Get all sources for visit\n",
    "            df = day_butler.get(\n",
    "                \"single_visit_star\", visit=visit_id, instrument=instrument\n",
    "            ).to_pandas()\n",
    "\n",
    "            # Do some filtering\n",
    "            df = df[df[\"detect_isPrimary\"] == True]\n",
    "            df = df.dropna(subset=[\"coord_ra\"])\n",
    "            df = df[df[\"sky_source\"] == False]\n",
    "\n",
    "            # Skip if DataFrame is now empty\n",
    "            if df.empty:\n",
    "                continue\n",
    "\n",
    "            # Add visit_id and mjd columns\n",
    "            df[\"visit_id\"] = visit_id\n",
    "            df[\"mjd\"] = visit_mjd\n",
    "\n",
    "            # Reduce number of columns (for efficiency)\n",
    "            df = df[\n",
    "                [\n",
    "                    \"ra\",\n",
    "                    \"dec\",\n",
    "                    \"sourceId\",\n",
    "                    \"band\",\n",
    "                    \"mjd\",\n",
    "                    \"psfFlux\",\n",
    "                    \"psfFluxErr\",\n",
    "                    \"visit_id\",\n",
    "                ]\n",
    "            ]\n",
    "\n",
    "            day_dfs.append(df)\n",
    "        except Exception as e:\n",
    "            print(f\"Skipping visit {visit_id} due to error: {e}\")\n",
    "\n",
    "    print(f\"Loaded {len(day_dfs)} dataframes.\")\n",
    "    return day_dfs\n",
    "\n",
    "\n",
    "all_dfs = visits.groupby(\"day_obs\").apply(get_sources_for_day)"
   ]
  },
  {
   "cell_type": "code",
   "execution_count": null,
   "id": "916ab66f-2e01-4a2e-bdb3-e973c4c2e314",
   "metadata": {
    "execution": {
     "iopub.execute_input": "2025-04-23T19:58:55.515006Z",
     "iopub.status.busy": "2025-04-23T19:58:55.514664Z",
     "iopub.status.idle": "2025-04-23T19:58:55.687777Z",
     "shell.execute_reply": "2025-04-23T19:58:55.687367Z",
     "shell.execute_reply.started": "2025-04-23T19:58:55.514977Z"
    }
   },
   "outputs": [],
   "source": [
    "# Aggregate all the visit dfs\n",
    "result = [df for sublist in all_dfs for df in sublist]\n",
    "final_df = pd.concat(result, ignore_index=True)\n",
    "final_df"
   ]
  },
  {
   "cell_type": "code",
   "execution_count": null,
   "id": "266e69ee-a8bc-4a4b-9a49-d3d5c39803bc",
   "metadata": {
    "execution": {
     "iopub.execute_input": "2025-04-23T19:59:52.138048Z",
     "iopub.status.busy": "2025-04-23T19:59:52.137824Z",
     "iopub.status.idle": "2025-04-23T19:59:52.980027Z",
     "shell.execute_reply": "2025-04-23T19:59:52.979611Z",
     "shell.execute_reply.started": "2025-04-23T19:59:52.138033Z"
    }
   },
   "outputs": [],
   "source": [
    "# Cut to get only sources on \"i\" band\n",
    "final_df = final_df[final_df[\"band\"] == \"i\"]\n",
    "final_df"
   ]
  },
  {
   "cell_type": "code",
   "execution_count": null,
   "id": "cdaa5e4c-05c4-4da1-b6ce-e6861dc77464",
   "metadata": {
    "execution": {
     "iopub.execute_input": "2025-04-23T20:01:14.619284Z",
     "iopub.status.busy": "2025-04-23T20:01:14.619068Z",
     "iopub.status.idle": "2025-04-23T20:01:15.545936Z",
     "shell.execute_reply": "2025-04-23T20:01:15.545463Z",
     "shell.execute_reply.started": "2025-04-23T20:01:14.619269Z"
    }
   },
   "outputs": [],
   "source": [
    "# See distribution of ra/dec (make sure there are no distant/outlier visits)\n",
    "plt.figure(figsize=(8, 6))\n",
    "plt.hist2d(final_df[\"ra\"], final_df[\"dec\"], bins=200, cmap=\"viridis\")\n",
    "plt.colorbar(label=\"Counts\")\n",
    "plt.xlabel(\"RA (degrees)\")\n",
    "plt.ylabel(\"Dec (degrees)\")\n",
    "plt.title(\"2D Histogram of RA/Dec\")\n",
    "plt.show()"
   ]
  },
  {
   "cell_type": "code",
   "execution_count": null,
   "id": "96c78f19-3d92-4f7e-afd9-e4f83fc513e5",
   "metadata": {
    "execution": {
     "iopub.execute_input": "2025-04-23T20:03:41.166435Z",
     "iopub.status.busy": "2025-04-23T20:03:41.166224Z",
     "iopub.status.idle": "2025-04-23T20:03:54.181503Z",
     "shell.execute_reply": "2025-04-23T20:03:54.181022Z",
     "shell.execute_reply.started": "2025-04-23T20:03:41.166419Z"
    }
   },
   "outputs": [],
   "source": [
    "# Import with lsdb\n",
    "source_cat = lsdb.from_dataframe(final_df)\n",
    "# source_cat.to_hats(base_output_dir / \"source\")\n",
    "# source_cat = lsdb.read_hats(base_output_dir / \"source\")\n",
    "# source_cat"
   ]
  },
  {
   "cell_type": "markdown",
   "id": "0616f855",
   "metadata": {},
   "source": [
    "### Construct light curves"
   ]
  },
  {
   "cell_type": "code",
   "execution_count": null,
   "id": "9851c1ce-1d89-49c0-b332-27746ba0ae80",
   "metadata": {},
   "outputs": [],
   "source": [
    "tmp_path = tempfile.TemporaryDirectory()\n",
    "tmp_dir = tmp_path.name\n",
    "\n",
    "with Client(n_workers=16, threads_per_worker=1, local_directory=tmp_dir):\n",
    "    lc_cat = object_cat.crossmatch_nested(\n",
    "        source_cat, radius_arcsec=0.2, n_neighbors=num_visits, nested_column_name=\"lc\"\n",
    "    )\n",
    "\n",
    "lc_cat"
   ]
  },
  {
   "cell_type": "code",
   "execution_count": null,
   "id": "1fb89aa5-8b8d-44f9-a173-c6c29dc5a71a",
   "metadata": {},
   "outputs": [],
   "source": [
    "# Get objects with at least 10 observations\n",
    "object_lc = lc_cat.reduce(\n",
    "    lambda mjd: {\"nobs\": mjd.size}, \"lc.mjd\", meta={\"nobs\": int}, append_columns=True\n",
    ")\n",
    "object_lc = object_lc.query(\"nobs > 10\")\n",
    "object_lc = object_lc.compute()"
   ]
  },
  {
   "cell_type": "code",
   "execution_count": null,
   "id": "da078582",
   "metadata": {},
   "outputs": [],
   "source": [
    "# Grab a light curve\n",
    "lc = object_lc.iloc[10][\"lc\"].sort_values(\"mjd\")\n",
    "lc"
   ]
  },
  {
   "cell_type": "code",
   "execution_count": null,
   "id": "fe9a60e2-4a1e-49dd-b1dc-f5ffe1a49b62",
   "metadata": {},
   "outputs": [],
   "source": [
    "# Plot it\n",
    "\n",
    "COLORS = {\n",
    "    \"u\": \"#56b4e9\",\n",
    "    \"g\": \"#009e73\",\n",
    "    \"r\": \"#f0e442\",\n",
    "    \"i\": \"#cc79a7\",\n",
    "    \"z\": \"#d55e00\",\n",
    "    \"y\": \"#0072b2\",\n",
    "}\n",
    "\n",
    "\n",
    "def plot_rubin_lc(lc, flux_col, fluxerr_col):\n",
    "    _, ax = plt.subplots()\n",
    "    for band, color in COLORS.items():\n",
    "        band_lc = lc.query(f\"band == '{band}'\")\n",
    "        flux, fluxerr = band_lc[flux_col], band_lc[fluxerr_col]\n",
    "        ax.errorbar(\n",
    "            band_lc[\"mjd\"],\n",
    "            flux,\n",
    "            fluxerr,\n",
    "            fmt=\"o\",\n",
    "            label=band,\n",
    "            color=color,\n",
    "            alpha=1,\n",
    "            markersize=5,\n",
    "            capsize=3,\n",
    "            elinewidth=1,\n",
    "        )\n",
    "    ax.set_xlabel(\"MJD\")\n",
    "    ax.set_ylabel(\"Flux\")\n",
    "    ax.invert_yaxis()\n",
    "    ax.legend(loc=\"lower right\", fontsize=12)\n",
    "\n",
    "\n",
    "plot_rubin_lc(lc, \"psfFlux\", \"psfFluxErr\")"
   ]
  }
 ],
 "metadata": {
  "kernelspec": {
   "display_name": "Python 3 (ipykernel)",
   "language": "python",
   "name": "python3"
  },
  "language_info": {
   "codemirror_mode": {
    "name": "ipython",
    "version": 3
   },
   "file_extension": ".py",
   "mimetype": "text/x-python",
   "name": "python",
   "nbconvert_exporter": "python",
   "pygments_lexer": "ipython3",
   "version": "3.12.9"
  }
 },
 "nbformat": 4,
 "nbformat_minor": 5
}
