{
 "cells": [
  {
   "cell_type": "code",
   "execution_count": null,
   "id": "cbb0e079",
   "metadata": {},
   "outputs": [],
   "source": [
    "import numpy as np\n",
    "import matplotlib.pyplot as plt\n",
    "import matplotlib\n",
    "import pandas as pd\n",
    "from tqdm import tqdm\n",
    "\n",
    "from scipy.spatial import ConvexHull\n",
    "\n",
    "import lsst.daf.butler as dafButler\n",
    "\n",
    "import lsdb\n",
    "\n",
    "from mpl_toolkits.axes_grid1 import make_axes_locatable\n",
    "from astropy.visualization import ZScaleInterval, SqrtStretch, ImageNormalize, ManualInterval, AsinhStretch, MinMaxInterval, LogStretch\n",
    "\n",
    "\n",
    "import warnings\n",
    "warnings.filterwarnings('ignore')\n",
    "warnings.simplefilter('ignore')\n",
    "\n",
    "from typing import TYPE_CHECKING, cast\n",
    "\n",
    "import astropy.units as u\n",
    "from astropy.coordinates import SkyCoord\n",
    "\n",
    "plt.set_loglevel('WARNING')"
   ]
  },
  {
   "cell_type": "code",
   "execution_count": null,
   "id": "95061f29",
   "metadata": {},
   "outputs": [],
   "source": [
    "# Load collection\n",
    "repo = \"embargo\"\n",
    "instrument = \"LSSTCam\"\n",
    "\n",
    "collection_all = \"LSSTCam/runs/nightlyValidation\"\n",
    "\n",
    "butler = dafButler.Butler(repo, collections=collection_all, instrument=instrument)\n",
    "# Query all matching collections\n",
    "all_collections = list(butler.registry.queryCollections(\"LSSTCam/runs/nightlyValidation/2025*\"))\n",
    "\n",
    "# Filter collections ending with the digit '7'\n",
    "filtered_collections = [c for c in all_collections if c.endswith(\"7\")]\n",
    "\n",
    "# Sort and print\n",
    "for coll in sorted(filtered_collections):\n",
    "    print(coll)"
   ]
  },
  {
   "cell_type": "code",
   "execution_count": null,
   "id": "6f639f91",
   "metadata": {},
   "outputs": [],
   "source": [
    "butler = dafButler.Butler(repo, collections=filtered_collections, instrument=instrument)\n",
    "butler_single_day = dafButler.Butler(repo, collections='LSSTCam/runs/nightlyValidation/20250419/d_2025_04_19/DM-50157', instrument=instrument)\n",
    "\n",
    "dataset_type = \"single_visit_star\"\n",
    "# \n",
    "# datasets = list(butler_single_day.registry.queryDatasets(dataset_type, instrument=\"LSSTCam\", collections='LSSTCam/runs/nightlyValidation/20250419/d_2025_04_19/DM-50157'))\n",
    "datasets = list(butler_single_day.registry.queryDatasets(dataset_type, instrument=\"LSSTCam\", collections='LSSTCam/runs/nightlyValidation/20250418/w_2025_16/DM-50157'))\n",
    "\n",
    "# Extract visit IDs\n",
    "visit_ids = [d.dataId[\"visit\"] for d in datasets]\n",
    "len(visit_ids)"
   ]
  },
  {
   "cell_type": "code",
   "execution_count": null,
   "id": "fca3f674",
   "metadata": {},
   "outputs": [],
   "source": [
    "science_visit_ids = np.array([2025041700758, 2025041700759, 2025041700760, 2025041700761,\n",
    "       2025041800614, 2025041800615, 2025041800616, 2025041800617,\n",
    "       2025041800618, 2025041800619, 2025041800620, 2025041800621,\n",
    "       2025041800655, 2025041800656, 2025041800657, 2025041800658,\n",
    "       2025041800659, 2025041800660, 2025041800661, 2025041800662,\n",
    "       2025041800663, 2025041800664, 2025041900328, 2025041900329,\n",
    "       2025041900330, 2025041900331, 2025041900332, 2025041900333,\n",
    "       2025041900334, 2025041900335, 2025041900336, 2025041900337,\n",
    "       2025041900338, 2025041900339, 2025041900340, 2025041900341,\n",
    "       2025041900342, 2025041900343, 2025041900344, 2025041900345,\n",
    "       2025041900346, 2025041900347, 2025041900348, 2025041900349,\n",
    "       2025041900350, 2025041900351, 2025041900352, 2025041900353,\n",
    "       2025041900354, 2025041900355, 2025041900356, 2025041900357])"
   ]
  },
  {
   "cell_type": "code",
   "execution_count": null,
   "id": "63c1759a",
   "metadata": {},
   "outputs": [],
   "source": [
    "science_visit_mjd = np.array([60783.34339728, 60783.34390062, 60783.34439903, 60783.34490588,\n",
    "       60784.24403167, 60784.24486688, 60784.25079856, 60784.25164119,\n",
    "       60784.25248479, 60784.2533253 , 60784.25417138, 60784.25500849,\n",
    "       60784.30088569, 60784.30172504, 60784.30256876, 60784.30340408,\n",
    "       60784.3042451 , 60784.30508359, 60784.30594175, 60784.30679976,\n",
    "       60784.30772254, 60784.30858717, 60785.19597767, 60785.1968219 ,\n",
    "       60785.19817999, 60785.19902863, 60785.19987024, 60785.20076997,\n",
    "       60785.20171889, 60785.20259361, 60785.20387198, 60785.20488903,\n",
    "       60785.20573064, 60785.20657325, 60785.20747193, 60785.20831916,\n",
    "       60785.20916988, 60785.21009364, 60785.21092441, 60785.21177818,\n",
    "       60785.21263423, 60785.21714858, 60785.21799712, 60785.21884532,\n",
    "       60785.21974823, 60785.22060109, 60785.22150293, 60785.22234958,\n",
    "       60785.22318949, 60785.22403674, 60785.22488073, 60785.22574227])"
   ]
  },
  {
   "cell_type": "code",
   "execution_count": null,
   "id": "bf606a80",
   "metadata": {},
   "outputs": [],
   "source": [
    "dfs = []\n",
    "\n",
    "for i, visit in enumerate(tqdm(science_visit_ids)):\n",
    "    try:\n",
    "        # Get the catalog\n",
    "        cat = butler.get('single_visit_star', visit=visit, instrument=\"LSSTCam\")\n",
    "\n",
    "        # Convert to Pandas DataFrame\n",
    "        df = cat.to_pandas()\n",
    "\n",
    "        # Keep only primary detections\n",
    "        df = df[df['detect_isPrimary'] == True]\n",
    "\n",
    "        # Drop rows where coord_ra is NaN\n",
    "        df = df.dropna(subset=[\"coord_ra\"])\n",
    "\n",
    "        # Remove rows where sky_source is True\n",
    "        df = df[df['sky_source'] == False]\n",
    "\n",
    "        # Skip if DataFrame is now empty\n",
    "        if df.empty:\n",
    "            print(f\"Skipping visit {visit} — no valid rows left.\")\n",
    "            continue\n",
    "\n",
    "        # Add visit_id and mjd columns\n",
    "        df[\"visit_id\"] = visit\n",
    "        df[\"mjd\"] = science_visit_mjd[i]\n",
    "\n",
    "        # Store\n",
    "        dfs.append(df)\n",
    "\n",
    "    except Exception as e:\n",
    "        print(f\"Skipping visit {visit} due to error: {e}\")\n",
    "\n",
    "print(f\"Loaded {len(dfs)} dataframes.\")"
   ]
  },
  {
   "cell_type": "code",
   "execution_count": null,
   "id": "9001dd50",
   "metadata": {},
   "outputs": [],
   "source": [
    "col_selection = [\"coord_ra\", \"coord_dec\", 'psfFlux', 'psfFluxErr', \"mjd\"]\n",
    "df_0 = dfs[0][col_selection]\n",
    "df_1 = dfs[1][col_selection]"
   ]
  },
  {
   "cell_type": "code",
   "execution_count": null,
   "id": "84415402",
   "metadata": {},
   "outputs": [],
   "source": [
    "test = lsdb.crossmatch(df_0, df_1, ra_column=\"coord_ra\", dec_column=\"coord_dec\", suffixes=(\"_0\", \"_1\"))"
   ]
  },
  {
   "cell_type": "code",
   "execution_count": null,
   "id": "fd723812",
   "metadata": {},
   "outputs": [],
   "source": [
    "test_computed = test.compute()"
   ]
  },
  {
   "cell_type": "code",
   "execution_count": null,
   "id": "f13070e7",
   "metadata": {},
   "outputs": [],
   "source": [
    "test_computed"
   ]
  },
  {
   "cell_type": "code",
   "execution_count": null,
   "id": "f0dd51fe",
   "metadata": {},
   "outputs": [],
   "source": []
  }
 ],
 "metadata": {
  "kernelspec": {
   "display_name": "Python 3 (ipykernel)",
   "language": "python",
   "name": "python3"
  },
  "language_info": {
   "codemirror_mode": {
    "name": "ipython",
    "version": 3
   },
   "file_extension": ".py",
   "mimetype": "text/x-python",
   "name": "python",
   "nbconvert_exporter": "python",
   "pygments_lexer": "ipython3",
   "version": "3.12.9"
  }
 },
 "nbformat": 4,
 "nbformat_minor": 5
}
