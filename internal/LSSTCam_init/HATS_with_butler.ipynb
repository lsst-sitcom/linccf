{
 "cells": [
  {
   "cell_type": "markdown",
   "id": "d2cb2e35",
   "metadata": {},
   "source": [
    "## HATS catalogs in Butler"
   ]
  },
  {
   "cell_type": "code",
   "execution_count": null,
   "id": "2f8b582c",
   "metadata": {},
   "outputs": [],
   "source": [
    "import hats\n",
    "import numpy as np\n",
    "import lsst.daf.butler as dafButler\n",
    "import lsdb\n",
    "import pandas as pd\n",
    "from hats.io.paths import pixel_catalog_file"
   ]
  },
  {
   "cell_type": "code",
   "execution_count": null,
   "id": "a32772b9",
   "metadata": {},
   "outputs": [],
   "source": [
    "repo = \"test_butler\"\n",
    "dataset_type = \"dia_object\"\n",
    "collection_name = \"u/stavar/imports\""
   ]
  },
  {
   "cell_type": "markdown",
   "id": "770fb4b5",
   "metadata": {},
   "source": [
    "### Create butler"
   ]
  },
  {
   "cell_type": "code",
   "execution_count": null,
   "id": "bbb22e4c",
   "metadata": {},
   "outputs": [],
   "source": [
    "# butler create REPO\n",
    "!butler create {repo}"
   ]
  },
  {
   "cell_type": "markdown",
   "id": "4a65b5bb",
   "metadata": {},
   "source": [
    "### Register HEALPix dataset type"
   ]
  },
  {
   "cell_type": "code",
   "execution_count": null,
   "id": "f4907b18",
   "metadata": {},
   "outputs": [],
   "source": [
    "# butler register-dataset-type REPO DATASET_TYPE STORAGE_CLASS DIMENSIONS\n",
    "!butler register-dataset-type {repo} {dataset_type} ArrowTable healpix17"
   ]
  },
  {
   "cell_type": "markdown",
   "id": "22b1a2fe",
   "metadata": {},
   "source": [
    "### Upload files to Butler"
   ]
  },
  {
   "cell_type": "code",
   "execution_count": null,
   "id": "48b35e02",
   "metadata": {},
   "outputs": [],
   "source": [
    "catalog = hats.read_hats(dataset_type)\n",
    "pixels = catalog.get_healpix_pixels()\n",
    "pixel_paths = [pixel_catalog_file(dataset_type, pix) for pix in pixels]\n",
    "pixel_paths"
   ]
  },
  {
   "cell_type": "markdown",
   "id": "c6f31286",
   "metadata": {},
   "source": [
    "The Butler ParquetFormatter only accepts parquet files with the \".parq\" extension:"
   ]
  },
  {
   "cell_type": "code",
   "execution_count": null,
   "id": "329c0f80",
   "metadata": {},
   "outputs": [],
   "source": [
    "for i, path in enumerate(pixel_paths):\n",
    "    new_path = path.with_suffix(\".parq\")\n",
    "    path.rename(new_path)\n",
    "    print(f\"Renamed: {path} → {new_path}\")\n",
    "    pixel_paths[i] = new_path"
   ]
  },
  {
   "cell_type": "markdown",
   "id": "1c4daa3b",
   "metadata": {},
   "source": [
    "The Butler accepts HEALPix dimensions of max level 17:"
   ]
  },
  {
   "cell_type": "code",
   "execution_count": null,
   "id": "24d24982",
   "metadata": {},
   "outputs": [],
   "source": [
    "def get_healpix17(order, pixel):\n",
    "    order = np.int64(order)\n",
    "    pixel = np.int64(pixel)\n",
    "    return pixel * (4 ** (17 - order))\n",
    "\n",
    "orders = [pix.order for pix in pixels]\n",
    "pixs = [pix.pixel for pix in pixels]\n",
    "all_healpix17 = [p * (4 ** (17 - o)) for o, p in zip(orders, pixs)]\n",
    "all_healpix17"
   ]
  },
  {
   "cell_type": "code",
   "execution_count": null,
   "id": "d29bff9a",
   "metadata": {},
   "outputs": [],
   "source": [
    "# Create dictionary mapping healpix17 to each pixel file\n",
    "if len(all_healpix17) != len(set(all_healpix17)):\n",
    "    raise ValueError(\"Cannot proceed - level 17 is not enough\")\n",
    "healpix17_path_dict = dict(zip(pixel_paths, all_healpix17))\n",
    "healpix17_path_dict"
   ]
  },
  {
   "cell_type": "markdown",
   "id": "681737b5",
   "metadata": {},
   "source": [
    "### Generate table with files to ingest"
   ]
  },
  {
   "cell_type": "code",
   "execution_count": null,
   "id": "0a5756e4",
   "metadata": {},
   "outputs": [],
   "source": [
    "ingest_df = pd.DataFrame(list(healpix17_path_dict.items()), columns=[\"file URI\", \"healpix17\"])\n",
    "ingest_df.to_csv(f\"ingest_files.csv\", index=False)\n",
    "ingest_df"
   ]
  },
  {
   "cell_type": "markdown",
   "id": "f91306aa",
   "metadata": {},
   "source": [
    "### Upload files"
   ]
  },
  {
   "cell_type": "code",
   "execution_count": null,
   "id": "920646f8",
   "metadata": {},
   "outputs": [],
   "source": [
    "# butler ingest-files REPO DATASET_TYPE RUN FILE_TABLE\n",
    "!butler --log-level VERBOSE ingest-files {repo} {dataset_type} {collection_name} ingest_files.csv"
   ]
  },
  {
   "cell_type": "markdown",
   "id": "38194a37",
   "metadata": {},
   "source": [
    "### Update local directory\n",
    "\n",
    "Let's delete the real files from our local storage and instead have symlinks to the ones on the Butler:"
   ]
  },
  {
   "cell_type": "code",
   "execution_count": null,
   "id": "af13084f",
   "metadata": {},
   "outputs": [],
   "source": [
    "my_butler = dafButler.Butler(repo, collections=collection_name)\n",
    "refs = my_butler.query_datasets(dataset_type)\n",
    "refs"
   ]
  },
  {
   "cell_type": "markdown",
   "id": "ae8c6980",
   "metadata": {},
   "source": [
    "We also need to rename all local paths to have the \".parquet\" extension:"
   ]
  },
  {
   "cell_type": "code",
   "execution_count": null,
   "id": "3b5411c2",
   "metadata": {},
   "outputs": [],
   "source": [
    "for file, healpix17 in healpix17_path_dict.items():\n",
    "    butler_filepath = my_butler.getURI(dataset_type, dataId={\"healpix17\": healpix17}).path\n",
    "    file.unlink()\n",
    "    file.symlink_to(butler_filepath)\n",
    "    print(f\"Created symlink for: {butler_filepath}\")\n",
    "    updated_extension_path = file.with_suffix(\".parquet\")\n",
    "    file.rename(updated_extension_path)\n",
    "    print(f\"Updated extension: {updated_extension_path}\")\n",
    "    "
   ]
  },
  {
   "cell_type": "markdown",
   "id": "1a29621e",
   "metadata": {},
   "source": [
    "### Read with LSDB"
   ]
  },
  {
   "cell_type": "code",
   "execution_count": null,
   "id": "f84348ad",
   "metadata": {},
   "outputs": [],
   "source": [
    "dia_object = lsdb.read_hats(\"dia_object\")\n",
    "dia_object"
   ]
  },
  {
   "cell_type": "code",
   "execution_count": null,
   "id": "186a030e",
   "metadata": {},
   "outputs": [],
   "source": [
    "dia_object.head()"
   ]
  }
 ],
 "metadata": {
  "kernelspec": {
   "display_name": "Python 3 (ipykernel)",
   "language": "python",
   "name": "python3"
  },
  "language_info": {
   "codemirror_mode": {
    "name": "ipython",
    "version": 3
   },
   "file_extension": ".py",
   "mimetype": "text/x-python",
   "name": "python",
   "nbconvert_exporter": "python",
   "pygments_lexer": "ipython3",
   "version": "3.12.9"
  }
 },
 "nbformat": 4,
 "nbformat_minor": 5
}
