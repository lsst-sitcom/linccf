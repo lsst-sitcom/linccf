{
 "cells": [
  {
   "cell_type": "markdown",
   "id": "7bc2bb7e-8f05-4405-bd2b-af2502acb84a",
   "metadata": {},
   "source": [
    "# Tract patch for LSST stuff\n",
    "\n",
    "To start, let's look at some realistic tract patch from LSDB catalogs. This is just one of the commissioning datasets, and I'll just show the coordinates and tract patch, since that's pretty non-controversial."
   ]
  },
  {
   "cell_type": "code",
   "execution_count": 1,
   "id": "91f588bb-5d66-4844-9de7-74e55729d753",
   "metadata": {
    "execution": {
     "iopub.execute_input": "2025-05-07T17:50:29.877822Z",
     "iopub.status.busy": "2025-05-07T17:50:29.877557Z",
     "iopub.status.idle": "2025-05-07T17:50:32.850722Z",
     "shell.execute_reply": "2025-05-07T17:50:32.850200Z",
     "shell.execute_reply.started": "2025-05-07T17:50:29.877804Z"
    }
   },
   "outputs": [],
   "source": [
    "import lsdb"
   ]
  },
  {
   "cell_type": "code",
   "execution_count": 2,
   "id": "4335d141-8cf4-47dc-833c-4e4a5abb330d",
   "metadata": {
    "execution": {
     "iopub.execute_input": "2025-05-07T17:50:33.574464Z",
     "iopub.status.busy": "2025-05-07T17:50:33.574238Z",
     "iopub.status.idle": "2025-05-07T17:50:40.805307Z",
     "shell.execute_reply": "2025-05-07T17:50:40.804739Z",
     "shell.execute_reply.started": "2025-05-07T17:50:33.574448Z"
    }
   },
   "outputs": [],
   "source": [
    "catalog = lsdb.read_hats(\"/sdf/data/rubin/shared/lsdb_commissioning/hats/w_2025_14/dia_object_forced_source\")\n",
    "\n",
    "single_frame = catalog.partitions[0].compute()"
   ]
  },
  {
   "cell_type": "code",
   "execution_count": 3,
   "id": "a87e3e87-0b29-48cd-9866-c32eeeae6ac0",
   "metadata": {
    "execution": {
     "iopub.execute_input": "2025-05-07T17:50:41.644084Z",
     "iopub.status.busy": "2025-05-07T17:50:41.643418Z",
     "iopub.status.idle": "2025-05-07T17:50:41.652387Z",
     "shell.execute_reply": "2025-05-07T17:50:41.651951Z",
     "shell.execute_reply.started": "2025-05-07T17:50:41.644065Z"
    }
   },
   "outputs": [
    {
     "data": {
      "text/html": [
       "<table border=\"1\" class=\"dataframe\">\n",
       "  <thead>\n",
       "    <tr style=\"text-align: right;\">\n",
       "      <th></th>\n",
       "      <th>coord_ra</th>\n",
       "      <th>coord_dec</th>\n",
       "      <th>tract</th>\n",
       "      <th>patch</th>\n",
       "    </tr>\n",
       "    <tr>\n",
       "      <th>_healpix_29</th>\n",
       "      <th></th>\n",
       "      <th></th>\n",
       "      <th></th>\n",
       "      <th></th>\n",
       "    </tr>\n",
       "  </thead>\n",
       "  <tbody>\n",
       "    <tr>\n",
       "      <th>9194470118511706</th>\n",
       "      <td>38.119649</td>\n",
       "      <td>5.96977</td>\n",
       "      <td>10464</td>\n",
       "      <td>9</td>\n",
       "    </tr>\n",
       "    <tr>\n",
       "      <th>9194470480217710</th>\n",
       "      <td>38.11887</td>\n",
       "      <td>5.97114</td>\n",
       "      <td>10464</td>\n",
       "      <td>9</td>\n",
       "    </tr>\n",
       "    <tr>\n",
       "      <th>9194500429915293</th>\n",
       "      <td>38.120496</td>\n",
       "      <td>5.979788</td>\n",
       "      <td>10464</td>\n",
       "      <td>9</td>\n",
       "    </tr>\n",
       "    <tr>\n",
       "      <th>9194506361451775</th>\n",
       "      <td>38.108313</td>\n",
       "      <td>5.981478</td>\n",
       "      <td>10464</td>\n",
       "      <td>9</td>\n",
       "    </tr>\n",
       "    <tr>\n",
       "      <th>9194527184754609</th>\n",
       "      <td>38.117899</td>\n",
       "      <td>5.993882</td>\n",
       "      <td>10464</td>\n",
       "      <td>9</td>\n",
       "    </tr>\n",
       "    <tr>\n",
       "      <th>9194527184754609</th>\n",
       "      <td>38.117899</td>\n",
       "      <td>5.993882</td>\n",
       "      <td>10464</td>\n",
       "      <td>9</td>\n",
       "    </tr>\n",
       "    <tr>\n",
       "      <th>9194652578793572</th>\n",
       "      <td>38.099146</td>\n",
       "      <td>6.00414</td>\n",
       "      <td>10464</td>\n",
       "      <td>9</td>\n",
       "    </tr>\n",
       "    <tr>\n",
       "      <th>9194652578793572</th>\n",
       "      <td>38.099146</td>\n",
       "      <td>6.00414</td>\n",
       "      <td>10464</td>\n",
       "      <td>9</td>\n",
       "    </tr>\n",
       "    <tr>\n",
       "      <th>9195005870293349</th>\n",
       "      <td>38.054808</td>\n",
       "      <td>6.009057</td>\n",
       "      <td>10463</td>\n",
       "      <td>0</td>\n",
       "    </tr>\n",
       "    <tr>\n",
       "      <th>9195009736292464</th>\n",
       "      <td>38.078236</td>\n",
       "      <td>5.998866</td>\n",
       "      <td>10463</td>\n",
       "      <td>0</td>\n",
       "    </tr>\n",
       "  </tbody>\n",
       "</table>\n",
       "<p>10 rows × 4 columns</p>"
      ],
      "text/plain": [
       "                   coord_ra  coord_dec  tract  patch\n",
       "_healpix_29                                         \n",
       "9194470118511706  38.119649    5.96977  10464      9\n",
       "9194470480217710   38.11887    5.97114  10464      9\n",
       "9194500429915293  38.120496   5.979788  10464      9\n",
       "9194506361451775  38.108313   5.981478  10464      9\n",
       "9194527184754609  38.117899   5.993882  10464      9\n",
       "9194527184754609  38.117899   5.993882  10464      9\n",
       "9194652578793572  38.099146    6.00414  10464      9\n",
       "9194652578793572  38.099146    6.00414  10464      9\n",
       "9195005870293349  38.054808   6.009057  10463      0\n",
       "9195009736292464  38.078236   5.998866  10463      0"
      ]
     },
     "execution_count": 3,
     "metadata": {},
     "output_type": "execute_result"
    }
   ],
   "source": [
    "single_frame[[\"coord_ra\", \"coord_dec\", \"tract\", \"patch\"]].head(10)"
   ]
  },
  {
   "cell_type": "markdown",
   "id": "8d976bf3-6587-4868-9676-2979d9d2154f",
   "metadata": {},
   "source": [
    "So I'm pretty sure that \n",
    "\n",
    "```\n",
    "tract = 10464\n",
    "patch = 9\n",
    "```\n",
    "\n",
    "is going to have radec values around (vague estimates here):\n",
    "\n",
    "```\n",
    "ra = 38.1 +/- .02\n",
    "dec = 5.96 +/- .02\n",
    "```\n",
    "\n",
    "Let's get some data from butler's skymap, and see if that's true!!"
   ]
  },
  {
   "cell_type": "code",
   "execution_count": 4,
   "id": "58c566cf-622a-4076-a63c-e2d4530e621a",
   "metadata": {
    "execution": {
     "iopub.execute_input": "2025-05-07T17:50:45.228324Z",
     "iopub.status.busy": "2025-05-07T17:50:45.227996Z",
     "iopub.status.idle": "2025-05-07T17:50:46.046129Z",
     "shell.execute_reply": "2025-05-07T17:50:46.045647Z",
     "shell.execute_reply.started": "2025-05-07T17:50:45.228306Z"
    }
   },
   "outputs": [],
   "source": [
    "import lsst.daf.butler as dafButler"
   ]
  },
  {
   "cell_type": "code",
   "execution_count": 5,
   "id": "7fb017e4-465e-41e6-ba51-d3eff436b523",
   "metadata": {
    "execution": {
     "iopub.execute_input": "2025-05-07T17:50:46.803768Z",
     "iopub.status.busy": "2025-05-07T17:50:46.803425Z",
     "iopub.status.idle": "2025-05-07T17:50:47.456032Z",
     "shell.execute_reply": "2025-05-07T17:50:47.455609Z",
     "shell.execute_reply.started": "2025-05-07T17:50:46.803740Z"
    }
   },
   "outputs": [
    {
     "data": {
      "text/plain": [
       "<lsst.skymap.ringsSkyMap.RingsSkyMap at 0x7fc31a23c470>"
      ]
     },
     "execution_count": 5,
     "metadata": {},
     "output_type": "execute_result"
    }
   ],
   "source": [
    "config = \"/repo/dp1\"\n",
    "butler = dafButler.Butler(config, collections=\"LSSTComCam/runs/DRP/DP1/v29_0_0/DM-50260\")\n",
    "skymap = butler.get(\"skyMap\")\n",
    "skymap"
   ]
  },
  {
   "cell_type": "code",
   "execution_count": 6,
   "id": "1f90fb68-9377-42ab-a56c-43abf9e15396",
   "metadata": {
    "execution": {
     "iopub.execute_input": "2025-05-07T17:50:48.187516Z",
     "iopub.status.busy": "2025-05-07T17:50:48.186684Z",
     "iopub.status.idle": "2025-05-07T17:50:48.191469Z",
     "shell.execute_reply": "2025-05-07T17:50:48.191062Z",
     "shell.execute_reply.started": "2025-05-07T17:50:48.187497Z"
    }
   },
   "outputs": [
    {
     "data": {
      "text/plain": [
       "(Angle(38.091286307053942, degrees),\n",
       " Angle(39.585062240663902, degrees),\n",
       " Angle(5.9504132231404938, degrees),\n",
       " Angle(7.4380165289256199, degrees))"
      ]
     },
     "execution_count": 6,
     "metadata": {},
     "output_type": "execute_result"
    }
   ],
   "source": [
    "skymap.getRaDecRange(10464)"
   ]
  },
  {
   "cell_type": "markdown",
   "id": "2a7871c2-7b4c-41be-beeb-d66340a0f187",
   "metadata": {},
   "source": [
    "NOT TOO BAD."
   ]
  },
  {
   "cell_type": "code",
   "execution_count": 7,
   "id": "6aa64080-279c-44ea-ad79-0a06fd3af0e9",
   "metadata": {
    "collapsed": true,
    "execution": {
     "iopub.execute_input": "2025-05-07T17:50:53.740239Z",
     "iopub.status.busy": "2025-05-07T17:50:53.739377Z",
     "iopub.status.idle": "2025-05-07T17:50:53.745699Z",
     "shell.execute_reply": "2025-05-07T17:50:53.745255Z",
     "shell.execute_reply.started": "2025-05-07T17:50:53.740221Z"
    },
    "jupyter": {
     "outputs_hidden": true
    }
   },
   "outputs": [
    {
     "data": {
      "text/plain": [
       "ConvexPolygon([UnitVector3d(0.7840209092505115, 0.6123114996987662, 0.10191094737391646), UnitVector3d(0.7819876346738198, 0.6149053601306285, 0.10191534379015939), UnitVector3d(0.7817220686637413, 0.614690914494313, 0.10519356920565955), UnitVector3d(0.7837554409506494, 0.6120969502793704, 0.10518903098207144)])"
      ]
     },
     "execution_count": 7,
     "metadata": {},
     "output_type": "execute_result"
    }
   ],
   "source": [
    "tract_info = skymap.generateTract(10464)\n",
    "tract_info.getPatchInfo(9).outer_sky_polygon"
   ]
  },
  {
   "cell_type": "markdown",
   "id": "579ef13d-1435-4b8d-b527-2d791659fbc3",
   "metadata": {},
   "source": [
    "So maybe we can take just the skymap config, and reconstruct everything we need?"
   ]
  },
  {
   "cell_type": "code",
   "execution_count": 8,
   "id": "6a8a420a-4a30-40f2-a20c-1394bdc8d6a8",
   "metadata": {
    "execution": {
     "iopub.execute_input": "2025-05-07T17:51:28.659393Z",
     "iopub.status.busy": "2025-05-07T17:51:28.659179Z",
     "iopub.status.idle": "2025-05-07T17:51:28.663139Z",
     "shell.execute_reply": "2025-05-07T17:51:28.662766Z",
     "shell.execute_reply.started": "2025-05-07T17:51:28.659378Z"
    }
   },
   "outputs": [
    {
     "data": {
      "text/plain": [
       "<lsst.skymap.ringsSkyMap.RingsSkyMap at 0x7fc31a2528a0>"
      ]
     },
     "execution_count": 8,
     "metadata": {},
     "output_type": "execute_result"
    }
   ],
   "source": [
    "from lsst.skymap.ringsSkyMap import RingsSkyMap\n",
    "\n",
    "my_map = RingsSkyMap(skymap.config)\n",
    "my_map"
   ]
  },
  {
   "cell_type": "code",
   "execution_count": 9,
   "id": "f8587741-164f-4a7b-a70a-1e712379436d",
   "metadata": {
    "execution": {
     "iopub.execute_input": "2025-05-07T17:51:29.386022Z",
     "iopub.status.busy": "2025-05-07T17:51:29.385668Z",
     "iopub.status.idle": "2025-05-07T17:51:29.389541Z",
     "shell.execute_reply": "2025-05-07T17:51:29.389168Z",
     "shell.execute_reply.started": "2025-05-07T17:51:29.385994Z"
    }
   },
   "outputs": [
    {
     "data": {
      "text/plain": [
       "(Angle(38.091286307053942, degrees),\n",
       " Angle(39.585062240663902, degrees),\n",
       " Angle(5.9504132231404938, degrees),\n",
       " Angle(7.4380165289256199, degrees))"
      ]
     },
     "execution_count": 9,
     "metadata": {},
     "output_type": "execute_result"
    }
   ],
   "source": [
    "my_map.getRaDecRange(10464)"
   ]
  },
  {
   "cell_type": "markdown",
   "id": "2701e1c8-bfcd-4c50-b039-0a3c91c35c80",
   "metadata": {},
   "source": [
    "NOT TOO BAD EITHER!!"
   ]
  },
  {
   "cell_type": "code",
   "execution_count": null,
   "id": "54cf485d-f05d-4215-a853-934fae00a4ca",
   "metadata": {},
   "outputs": [],
   "source": []
  }
 ],
 "metadata": {
  "kernelspec": {
   "display_name": "LSST",
   "language": "python",
   "name": "lsst"
  },
  "language_info": {
   "codemirror_mode": {
    "name": "ipython",
    "version": 3
   },
   "file_extension": ".py",
   "mimetype": "text/x-python",
   "name": "python",
   "nbconvert_exporter": "python",
   "pygments_lexer": "ipython3",
   "version": "3.12.10"
  }
 },
 "nbformat": 4,
 "nbformat_minor": 5
}
