{
 "cells": [
  {
   "cell_type": "code",
   "execution_count": 15,
   "id": "f4e62116-2ed5-4002-b3b9-2bd424a40367",
   "metadata": {
    "execution": {
     "iopub.execute_input": "2025-04-10T21:12:04.408251Z",
     "iopub.status.busy": "2025-04-10T21:12:04.407846Z",
     "iopub.status.idle": "2025-04-10T21:12:04.411467Z",
     "shell.execute_reply": "2025-04-10T21:12:04.410946Z",
     "shell.execute_reply.started": "2025-04-10T21:12:04.408225Z"
    }
   },
   "outputs": [],
   "source": [
    "# To be used as parameters to `butler.query_datasets`\n",
    "dataset_names = [\"dia_source\",\n",
    "                 \"dia_object\",\n",
    "                 \"dia_object_forced_source\",\n",
    "                 \"object_forced_source\",\n",
    "                 \"source2\",\n",
    "                 \"object\",\n",
    "                ]"
   ]
  },
  {
   "cell_type": "code",
   "execution_count": 16,
   "id": "c36dd9cf-9718-4136-a0d4-b407eaab39f4",
   "metadata": {
    "execution": {
     "iopub.execute_input": "2025-04-10T21:12:05.498692Z",
     "iopub.status.busy": "2025-04-10T21:12:05.498271Z",
     "iopub.status.idle": "2025-04-10T21:12:06.558085Z",
     "shell.execute_reply": "2025-04-10T21:12:06.557613Z",
     "shell.execute_reply.started": "2025-04-10T21:12:05.498663Z"
    }
   },
   "outputs": [],
   "source": [
    "import lsst.daf.butler as dafButler\n",
    "\n",
    "repo = '/repo/main'\n",
    "instrument = \"LSSTComCam\"\n",
    "butler_11 = dafButler.Butler(repo, collections='LSSTComCam/runs/DRP/DP1/w_2025_11/DM-49472', instrument=instrument)\n",
    "# butler_12 = dafButler.Butler(repo, collections='LSSTComCam/runs/DRP/DP1/d_2025_03_25/DM-49693', instrument=instrument)\n",
    "# butler_13 = dafButler.Butler(repo, collections='LSSTComCam/runs/DRP/DP1/w_2025_13/DM-49751', instrument=instrument)\n",
    "butler_14 = dafButler.Butler(repo, collections='LSSTComCam/runs/DRP/DP1/w_2025_14/DM-49864', instrument=instrument)\n",
    "# test_11 = butler_11.getURI('object_forced_source', dataId={'skymap':'lsst_cells_v1', 'tract': 10704, 'patch': 22})\n",
    "# test_12 = butler_11.getURI('object_forced_source', dataId={'skymap':'lsst_cells_v1', 'tract': 10704, 'patch': 22})\n",
    "# test_13 = butler_13.getURI('object_forced_source', dataId={'skymap':'lsst_cells_v1', 'tract': 10704, 'patch': 22})\n",
    "test_14 = butler_14.getURI('object_forced_source', dataId={'skymap':'lsst_cells_v1', 'tract': 10704, 'patch': 22})\n",
    "\n",
    "# Choose one\n",
    "butler = butler_14"
   ]
  },
  {
   "cell_type": "code",
   "execution_count": 17,
   "id": "363ffac2-b8b1-4489-89ac-41e305b09b68",
   "metadata": {
    "execution": {
     "iopub.execute_input": "2025-04-10T21:12:11.609068Z",
     "iopub.status.busy": "2025-04-10T21:12:11.608723Z",
     "iopub.status.idle": "2025-04-10T21:12:11.965230Z",
     "shell.execute_reply": "2025-04-10T21:12:11.964563Z",
     "shell.execute_reply.started": "2025-04-10T21:12:11.609049Z"
    }
   },
   "outputs": [
    {
     "data": {
      "text/plain": [
       "[25, 25, 596, 635, 1786, 29]"
      ]
     },
     "execution_count": 17,
     "metadata": {},
     "output_type": "execute_result"
    }
   ],
   "source": [
    "[len(butler.query_datasets(d)) for d in dataset_names]"
   ]
  },
  {
   "cell_type": "code",
   "execution_count": 43,
   "id": "5b0972db-ae1a-4c51-a961-03fcaa1772ed",
   "metadata": {
    "execution": {
     "iopub.execute_input": "2025-04-10T21:22:38.603815Z",
     "iopub.status.busy": "2025-04-10T21:22:38.603584Z",
     "iopub.status.idle": "2025-04-10T21:23:24.176912Z",
     "shell.execute_reply": "2025-04-10T21:23:24.176380Z",
     "shell.execute_reply.started": "2025-04-10T21:22:38.603797Z"
    }
   },
   "outputs": [
    {
     "name": "stdout",
     "output_type": "stream",
     "text": [
      "object_forced_source\n"
     ]
    },
    {
     "name": "stderr",
     "output_type": "stream",
     "text": [
      "100%|██████████| 635/635 [00:45<00:00, 13.95it/s]"
     ]
    },
    {
     "name": "stdout",
     "output_type": "stream",
     "text": [
      "Retrieved 635 objects out of 635 tracts\n"
     ]
    },
    {
     "name": "stderr",
     "output_type": "stream",
     "text": [
      "\n"
     ]
    }
   ],
   "source": [
    "import numpy as np\n",
    "from tqdm import tqdm\n",
    "\n",
    "# How to work through object refs\n",
    "# List of tract indices to process\n",
    "d_name = dataset_names[3]\n",
    "print(d_name)\n",
    "obj_refs = butler.query_datasets(d_name)\n",
    "tract_indices = np.arange(0, len(obj_refs))\n",
    "\n",
    "# Loop through the specified tracts and fetch the data\n",
    "dia_objs = []\n",
    "for idx in tqdm(tract_indices):\n",
    "    obj_ref = obj_refs[idx]  # Select the corresponding obj_ref\n",
    "    try:\n",
    "        # was: 'dia_object' literal\n",
    "        dia_obj_uri = butler.getURI(d_name, dataId=obj_ref.dataId)\n",
    "        dia_objs.append(str(dia_obj_uri)[7:])\n",
    "    except Exception as ex:\n",
    "        print(f\"Cannot get {obj_ref.dataId} because {ex}\")\n",
    "print(f\"Retrieved {len(dia_objs)} objects out of {len(tract_indices)} tracts\")"
   ]
  },
  {
   "cell_type": "code",
   "execution_count": 44,
   "id": "6b46ae06-0bdf-4da8-8512-f1b005ba7533",
   "metadata": {
    "execution": {
     "iopub.execute_input": "2025-04-10T21:23:26.803649Z",
     "iopub.status.busy": "2025-04-10T21:23:26.803285Z",
     "iopub.status.idle": "2025-04-10T21:23:28.034034Z",
     "shell.execute_reply": "2025-04-10T21:23:28.033441Z",
     "shell.execute_reply.started": "2025-04-10T21:23:26.803631Z"
    }
   },
   "outputs": [
    {
     "data": {
      "text/plain": [
       "Text(0, 0.5, 'Parquet file size (MiB)')"
      ]
     },
     "execution_count": 44,
     "metadata": {},
     "output_type": "execute_result"
    },
    {
     "data": {
      "image/png": "[encoded data removed]",
      "text/plain": [
       "<Figure size 640x480 with 1 Axes>"
      ]
     },
     "metadata": {},
     "output_type": "display_data"
    }
   ],
   "source": [
    "%matplotlib inline\n",
    "import os\n",
    "import pandas as pd\n",
    "import matplotlib.pyplot as plt\n",
    "plt.plot(np.sort([os.path.getsize(d) / 1024**2 for d in dia_objs]))\n",
    "plt.ylabel(\"Parquet file size (MiB)\")"
   ]
  },
  {
   "cell_type": "code",
   "execution_count": 45,
   "id": "9ecc49b6-d74d-42d5-a578-09c62369e088",
   "metadata": {
    "execution": {
     "iopub.execute_input": "2025-04-10T21:23:32.713999Z",
     "iopub.status.busy": "2025-04-10T21:23:32.713646Z",
     "iopub.status.idle": "2025-04-10T21:23:32.719667Z",
     "shell.execute_reply": "2025-04-10T21:23:32.719287Z",
     "shell.execute_reply.started": "2025-04-10T21:23:32.713980Z"
    }
   },
   "outputs": [
    {
     "name": "stdout",
     "output_type": "stream",
     "text": [
      "/sdf/data/rubin/user/dtj1s\n"
     ]
    }
   ],
   "source": [
    "%cd ~/rubin-user"
   ]
  },
  {
   "cell_type": "code",
   "execution_count": 46,
   "id": "aaf62dc9-a216-4147-b0b0-457df0e8f909",
   "metadata": {
    "execution": {
     "iopub.execute_input": "2025-04-10T21:23:33.273982Z",
     "iopub.status.busy": "2025-04-10T21:23:33.273645Z",
     "iopub.status.idle": "2025-04-10T21:23:33.384667Z",
     "shell.execute_reply": "2025-04-10T21:23:33.384167Z",
     "shell.execute_reply.started": "2025-04-10T21:23:33.273964Z"
    }
   },
   "outputs": [
    {
     "data": {
      "text/html": [
       "<div>\n",
       "<style scoped>\n",
       "    .dataframe tbody tr th:only-of-type {\n",
       "        vertical-align: middle;\n",
       "    }\n",
       "\n",
       "    .dataframe tbody tr th {\n",
       "        vertical-align: top;\n",
       "    }\n",
       "\n",
       "    .dataframe thead th {\n",
       "        text-align: right;\n",
       "    }\n",
       "</style>\n",
       "<table border=\"1\" class=\"dataframe\">\n",
       "  <thead>\n",
       "    <tr style=\"text-align: right;\">\n",
       "      <th></th>\n",
       "      <th>Compression</th>\n",
       "      <th>Level</th>\n",
       "      <th>File Size (MiB)</th>\n",
       "      <th>Write Time (s)</th>\n",
       "      <th>Read Time (s)</th>\n",
       "      <th>File</th>\n",
       "      <th>Size Win</th>\n",
       "      <th>Time Win</th>\n",
       "    </tr>\n",
       "  </thead>\n",
       "  <tbody>\n",
       "    <tr>\n",
       "      <th>0</th>\n",
       "      <td>SNAPPY</td>\n",
       "      <td>-</td>\n",
       "      <td>0.1</td>\n",
       "      <td>0.0099</td>\n",
       "      <td>0.0053</td>\n",
       "      <td>./sample_snappy.parquet</td>\n",
       "      <td>0.0</td>\n",
       "      <td>0.000000</td>\n",
       "    </tr>\n",
       "    <tr>\n",
       "      <th>1</th>\n",
       "      <td>ZSTD</td>\n",
       "      <td>1</td>\n",
       "      <td>0.1</td>\n",
       "      <td>0.0068</td>\n",
       "      <td>0.0034</td>\n",
       "      <td>./sample_zstd_ZSTD_lvl1.parquet</td>\n",
       "      <td>0.0</td>\n",
       "      <td>0.558824</td>\n",
       "    </tr>\n",
       "    <tr>\n",
       "      <th>2</th>\n",
       "      <td>ZSTD</td>\n",
       "      <td>3</td>\n",
       "      <td>0.1</td>\n",
       "      <td>0.0067</td>\n",
       "      <td>0.0031</td>\n",
       "      <td>./sample_zstd_ZSTD_lvl3.parquet</td>\n",
       "      <td>0.0</td>\n",
       "      <td>0.709677</td>\n",
       "    </tr>\n",
       "    <tr>\n",
       "      <th>3</th>\n",
       "      <td>ZSTD</td>\n",
       "      <td>6</td>\n",
       "      <td>0.1</td>\n",
       "      <td>0.0077</td>\n",
       "      <td>0.0032</td>\n",
       "      <td>./sample_zstd_ZSTD_lvl6.parquet</td>\n",
       "      <td>0.0</td>\n",
       "      <td>0.656250</td>\n",
       "    </tr>\n",
       "    <tr>\n",
       "      <th>4</th>\n",
       "      <td>ZSTD</td>\n",
       "      <td>9</td>\n",
       "      <td>0.1</td>\n",
       "      <td>0.0073</td>\n",
       "      <td>0.0032</td>\n",
       "      <td>./sample_zstd_ZSTD_lvl9.parquet</td>\n",
       "      <td>0.0</td>\n",
       "      <td>0.656250</td>\n",
       "    </tr>\n",
       "    <tr>\n",
       "      <th>5</th>\n",
       "      <td>ZSTD</td>\n",
       "      <td>15</td>\n",
       "      <td>0.1</td>\n",
       "      <td>0.0116</td>\n",
       "      <td>0.0033</td>\n",
       "      <td>./sample_zstd_ZSTD_lvl15.parquet</td>\n",
       "      <td>0.0</td>\n",
       "      <td>0.606061</td>\n",
       "    </tr>\n",
       "    <tr>\n",
       "      <th>6</th>\n",
       "      <td>ZSTD</td>\n",
       "      <td>22</td>\n",
       "      <td>0.1</td>\n",
       "      <td>0.0159</td>\n",
       "      <td>0.0036</td>\n",
       "      <td>./sample_zstd_ZSTD_lvl22.parquet</td>\n",
       "      <td>0.0</td>\n",
       "      <td>0.472222</td>\n",
       "    </tr>\n",
       "  </tbody>\n",
       "</table>\n",
       "</div>"
      ],
      "text/plain": [
       "  Compression Level  File Size (MiB)  Write Time (s)  Read Time (s)  \\\n",
       "0      SNAPPY     -              0.1          0.0099         0.0053   \n",
       "1        ZSTD     1              0.1          0.0068         0.0034   \n",
       "2        ZSTD     3              0.1          0.0067         0.0031   \n",
       "3        ZSTD     6              0.1          0.0077         0.0032   \n",
       "4        ZSTD     9              0.1          0.0073         0.0032   \n",
       "5        ZSTD    15              0.1          0.0116         0.0033   \n",
       "6        ZSTD    22              0.1          0.0159         0.0036   \n",
       "\n",
       "                               File  Size Win  Time Win  \n",
       "0           ./sample_snappy.parquet       0.0  0.000000  \n",
       "1   ./sample_zstd_ZSTD_lvl1.parquet       0.0  0.558824  \n",
       "2   ./sample_zstd_ZSTD_lvl3.parquet       0.0  0.709677  \n",
       "3   ./sample_zstd_ZSTD_lvl6.parquet       0.0  0.656250  \n",
       "4   ./sample_zstd_ZSTD_lvl9.parquet       0.0  0.656250  \n",
       "5  ./sample_zstd_ZSTD_lvl15.parquet       0.0  0.606061  \n",
       "6  ./sample_zstd_ZSTD_lvl22.parquet       0.0  0.472222  "
      ]
     },
     "execution_count": 46,
     "metadata": {},
     "output_type": "execute_result"
    }
   ],
   "source": [
    "import time\n",
    "import pyarrow\n",
    "import pyarrow.parquet as pq\n",
    "import pandas as pd\n",
    "\n",
    "# I want to have these sorted by largest, but I don't have that data\n",
    "parquet_file_name = dia_objs[-5]\n",
    "# table = pq.read_table(parquet_file_name)\n",
    "compression_settings = [\n",
    "    ('SNAPPY', None),\n",
    "    ('ZSTD', 1),\n",
    "    ('ZSTD', 3),\n",
    "    ('ZSTD', 6),\n",
    "    ('ZSTD', 9),\n",
    "    ('ZSTD', 15),\n",
    "    ('ZSTD', 22),\n",
    "]\n",
    "\n",
    "def find_compression_wins(table: pyarrow.lib.Table, output_dir: str = \".\") -> pd.DataFrame:\n",
    "    results = []\n",
    "    \n",
    "    for codec, level in compression_settings:\n",
    "        filename = f\"{output_dir}/sample_{codec.lower()}\"\n",
    "        if level is not None:\n",
    "            filename += f\"_{codec}_lvl{level}\"\n",
    "        filename += \".parquet\"\n",
    "        \n",
    "        # Write\n",
    "        start_write = time.time()\n",
    "        pq.write_table(\n",
    "            table,\n",
    "            filename,\n",
    "            compression=codec,\n",
    "            compression_level=level\n",
    "        )\n",
    "        write_time = time.time() - start_write\n",
    "        \n",
    "        start_read = time.time()\n",
    "        _ = pq.read_table(filename)\n",
    "        read_time = time.time() - start_read\n",
    "    \n",
    "        file_size = os.path.getsize(filename) / 1024**2  # MiB\n",
    "    \n",
    "        results.append({\n",
    "            'Compression': codec,\n",
    "            'Level': level if level is not None else '-',\n",
    "            'File Size (MiB)': round(file_size, 1),\n",
    "            'Write Time (s)': round(write_time, 4),\n",
    "            'Read Time (s)': round(read_time, 4),\n",
    "            'File': filename\n",
    "        })\n",
    "    \n",
    "    results_df = pd.DataFrame(results)\n",
    "    results_df.sort_values(by='File Size (MiB)', inplace=True)\n",
    "    results_df.reset_index(drop=True, inplace=True)\n",
    "    \n",
    "    snappy = results_df[results_df['Compression'] == 'SNAPPY'].iloc[0]\n",
    "    results_df['Size Win'] = snappy['File Size (MiB)'] / results_df['File Size (MiB)'] - 1\n",
    "    results_df['Time Win'] = snappy['Read Time (s)'] / results_df['Read Time (s)'] - 1\n",
    "    return results_df\n",
    "\n",
    "find_compression_wins(pq.read_table(parquet_file_name))"
   ]
  },
  {
   "cell_type": "code",
   "execution_count": 47,
   "id": "4a279226-4611-419b-b973-4290398fa850",
   "metadata": {
    "execution": {
     "iopub.execute_input": "2025-04-10T21:23:43.676837Z",
     "iopub.status.busy": "2025-04-10T21:23:43.676195Z",
     "iopub.status.idle": "2025-04-10T21:32:10.183204Z",
     "shell.execute_reply": "2025-04-10T21:32:10.182727Z",
     "shell.execute_reply.started": "2025-04-10T21:23:43.676818Z"
    }
   },
   "outputs": [
    {
     "name": "stderr",
     "output_type": "stream",
     "text": [
      "100%|██████████| 635/635 [08:26<00:00,  1.25it/s]\n"
     ]
    },
    {
     "data": {
      "text/html": [
       "<div>\n",
       "<style scoped>\n",
       "    .dataframe tbody tr th:only-of-type {\n",
       "        vertical-align: middle;\n",
       "    }\n",
       "\n",
       "    .dataframe tbody tr th {\n",
       "        vertical-align: top;\n",
       "    }\n",
       "\n",
       "    .dataframe thead th {\n",
       "        text-align: right;\n",
       "    }\n",
       "</style>\n",
       "<table border=\"1\" class=\"dataframe\">\n",
       "  <thead>\n",
       "    <tr style=\"text-align: right;\">\n",
       "      <th></th>\n",
       "      <th>Original Size (MiB)</th>\n",
       "      <th>New Size (MiB)</th>\n",
       "      <th>Original Read Time (s)</th>\n",
       "      <th>Read Time (s)</th>\n",
       "      <th>Size Win</th>\n",
       "      <th>Time Win</th>\n",
       "    </tr>\n",
       "  </thead>\n",
       "  <tbody>\n",
       "    <tr>\n",
       "      <th>0</th>\n",
       "      <td>0.07</td>\n",
       "      <td>0.05</td>\n",
       "      <td>0.00</td>\n",
       "      <td>0.0035</td>\n",
       "      <td>0.28</td>\n",
       "      <td>-0.04</td>\n",
       "    </tr>\n",
       "    <tr>\n",
       "      <th>1</th>\n",
       "      <td>0.03</td>\n",
       "      <td>0.02</td>\n",
       "      <td>0.00</td>\n",
       "      <td>0.0034</td>\n",
       "      <td>0.25</td>\n",
       "      <td>0.00</td>\n",
       "    </tr>\n",
       "    <tr>\n",
       "      <th>2</th>\n",
       "      <td>8.37</td>\n",
       "      <td>6.41</td>\n",
       "      <td>0.02</td>\n",
       "      <td>0.0297</td>\n",
       "      <td>0.31</td>\n",
       "      <td>-0.48</td>\n",
       "    </tr>\n",
       "    <tr>\n",
       "      <th>3</th>\n",
       "      <td>7.97</td>\n",
       "      <td>6.19</td>\n",
       "      <td>0.02</td>\n",
       "      <td>0.0154</td>\n",
       "      <td>0.29</td>\n",
       "      <td>0.03</td>\n",
       "    </tr>\n",
       "    <tr>\n",
       "      <th>4</th>\n",
       "      <td>4.12</td>\n",
       "      <td>3.10</td>\n",
       "      <td>0.01</td>\n",
       "      <td>0.0109</td>\n",
       "      <td>0.33</td>\n",
       "      <td>0.02</td>\n",
       "    </tr>\n",
       "    <tr>\n",
       "      <th>...</th>\n",
       "      <td>...</td>\n",
       "      <td>...</td>\n",
       "      <td>...</td>\n",
       "      <td>...</td>\n",
       "      <td>...</td>\n",
       "      <td>...</td>\n",
       "    </tr>\n",
       "    <tr>\n",
       "      <th>630</th>\n",
       "      <td>0.07</td>\n",
       "      <td>0.06</td>\n",
       "      <td>0.00</td>\n",
       "      <td>0.0035</td>\n",
       "      <td>0.22</td>\n",
       "      <td>-0.10</td>\n",
       "    </tr>\n",
       "    <tr>\n",
       "      <th>631</th>\n",
       "      <td>0.13</td>\n",
       "      <td>0.10</td>\n",
       "      <td>0.00</td>\n",
       "      <td>0.0040</td>\n",
       "      <td>0.24</td>\n",
       "      <td>-0.10</td>\n",
       "    </tr>\n",
       "    <tr>\n",
       "      <th>632</th>\n",
       "      <td>0.39</td>\n",
       "      <td>0.31</td>\n",
       "      <td>0.00</td>\n",
       "      <td>0.0064</td>\n",
       "      <td>0.25</td>\n",
       "      <td>-0.25</td>\n",
       "    </tr>\n",
       "    <tr>\n",
       "      <th>633</th>\n",
       "      <td>0.92</td>\n",
       "      <td>0.74</td>\n",
       "      <td>0.00</td>\n",
       "      <td>0.0082</td>\n",
       "      <td>0.24</td>\n",
       "      <td>-0.42</td>\n",
       "    </tr>\n",
       "    <tr>\n",
       "      <th>634</th>\n",
       "      <td>1.78</td>\n",
       "      <td>1.41</td>\n",
       "      <td>0.01</td>\n",
       "      <td>0.0069</td>\n",
       "      <td>0.26</td>\n",
       "      <td>-0.01</td>\n",
       "    </tr>\n",
       "  </tbody>\n",
       "</table>\n",
       "<p>635 rows × 6 columns</p>\n",
       "</div>"
      ],
      "text/plain": [
       "     Original Size (MiB)  New Size (MiB)  Original Read Time (s)  \\\n",
       "0                   0.07            0.05                    0.00   \n",
       "1                   0.03            0.02                    0.00   \n",
       "2                   8.37            6.41                    0.02   \n",
       "3                   7.97            6.19                    0.02   \n",
       "4                   4.12            3.10                    0.01   \n",
       "..                   ...             ...                     ...   \n",
       "630                 0.07            0.06                    0.00   \n",
       "631                 0.13            0.10                    0.00   \n",
       "632                 0.39            0.31                    0.00   \n",
       "633                 0.92            0.74                    0.00   \n",
       "634                 1.78            1.41                    0.01   \n",
       "\n",
       "     Read Time (s)  Size Win  Time Win  \n",
       "0           0.0035      0.28     -0.04  \n",
       "1           0.0034      0.25      0.00  \n",
       "2           0.0297      0.31     -0.48  \n",
       "3           0.0154      0.29      0.03  \n",
       "4           0.0109      0.33      0.02  \n",
       "..             ...       ...       ...  \n",
       "630         0.0035      0.22     -0.10  \n",
       "631         0.0040      0.24     -0.10  \n",
       "632         0.0064      0.25     -0.25  \n",
       "633         0.0082      0.24     -0.42  \n",
       "634         0.0069      0.26     -0.01  \n",
       "\n",
       "[635 rows x 6 columns]"
      ]
     },
     "execution_count": 47,
     "metadata": {},
     "output_type": "execute_result"
    }
   ],
   "source": [
    "import os\n",
    "import time\n",
    "import pandas as pd\n",
    "import pyarrow.parquet as pq\n",
    "\n",
    "compression_settings = [\n",
    "    # ('SNAPPY', None),\n",
    "    # ('ZSTD', 1),\n",
    "    # ('ZSTD', 3),\n",
    "    # ('ZSTD', 6),\n",
    "    # ('ZSTD', 9),\n",
    "    ('ZSTD', 15),\n",
    "    # ('ZSTD', 22),\n",
    "]\n",
    "\n",
    "def survey_parquet_files(parquet_file_paths, output_dir=\".\"):\n",
    "    survey_results = []\n",
    "\n",
    "    for file_path in tqdm(parquet_file_paths):\n",
    "        # print(f\"Processing: {file_path}\")\n",
    "        table = pq.read_table(file_path)\n",
    "\n",
    "        # Original file stats\n",
    "        original_size = os.path.getsize(file_path) / 1024**2  # MiB\n",
    "        start_read = time.time()\n",
    "        _ = pq.read_table(file_path)\n",
    "        original_read_time = time.time() - start_read\n",
    "\n",
    "        results = []\n",
    "        for codec, level in compression_settings:\n",
    "            filename = os.path.join(output_dir, f\"{os.path.basename(file_path)}_{codec.lower()}\")\n",
    "            if level is not None:\n",
    "                filename += f\"_lvl{level}\"\n",
    "            filename += \".parquet\"\n",
    "\n",
    "            # Write\n",
    "            start_write = time.time()\n",
    "            pq.write_table(table, filename, compression=codec, compression_level=level)\n",
    "            write_time = time.time() - start_write\n",
    "\n",
    "            # Read\n",
    "            start_read = time.time()\n",
    "            _ = pq.read_table(filename)\n",
    "            read_time = time.time() - start_read\n",
    "\n",
    "            # File stats\n",
    "            file_size = os.path.getsize(filename) / 1024**2  # MiB\n",
    "\n",
    "            results.append({\n",
    "                # 'Source File': file_path,\n",
    "                # 'Compression': codec,\n",
    "                # 'Level': level if level is not None else '-',\n",
    "                'Original Size (MiB)': round(original_size, 2),\n",
    "                'New Size (MiB)': round(file_size, 2),\n",
    "                # 'Write Time (s)': round(write_time, 4),\n",
    "                'Original Read Time (s)': round(original_read_time, 2),\n",
    "                'Read Time (s)': round(read_time, 4),\n",
    "                # 'File': filename,\n",
    "                'Size Win': round(original_size / file_size - 1, 2),\n",
    "                'Time Win': round(original_read_time / read_time - 1, 2),\n",
    "            })\n",
    "\n",
    "        df = pd.DataFrame(results)\n",
    "        # TODO: need to sort?\n",
    "        df.sort_values(by='New Size (MiB)', inplace=True)\n",
    "        df.reset_index(drop=True, inplace=True)\n",
    "\n",
    "        survey_results.append(df)\n",
    "\n",
    "    return pd.concat(survey_results, ignore_index=True)\n",
    "survey = survey_parquet_files(dia_objs)\n",
    "survey"
   ]
  },
  {
   "cell_type": "code",
   "execution_count": 48,
   "id": "8475a8b7-2339-47ef-9b0c-94414e970339",
   "metadata": {
    "execution": {
     "iopub.execute_input": "2025-04-10T21:32:20.569720Z",
     "iopub.status.busy": "2025-04-10T21:32:20.569362Z",
     "iopub.status.idle": "2025-04-10T21:32:20.574770Z",
     "shell.execute_reply": "2025-04-10T21:32:20.574370Z",
     "shell.execute_reply.started": "2025-04-10T21:32:20.569700Z"
    }
   },
   "outputs": [
    {
     "data": {
      "text/plain": [
       "Size Win    0.271276\n",
       "Time Win   -0.038268\n",
       "dtype: float64"
      ]
     },
     "execution_count": 48,
     "metadata": {},
     "output_type": "execute_result"
    }
   ],
   "source": [
    "survey[['Size Win', 'Time Win']].mean()"
   ]
  },
  {
   "cell_type": "code",
   "execution_count": 49,
   "id": "0172f230-7d8e-47b7-8d1e-0c4e51832c58",
   "metadata": {
    "execution": {
     "iopub.execute_input": "2025-04-10T21:32:27.526893Z",
     "iopub.status.busy": "2025-04-10T21:32:27.526673Z",
     "iopub.status.idle": "2025-04-10T21:32:27.536821Z",
     "shell.execute_reply": "2025-04-10T21:32:27.536361Z",
     "shell.execute_reply.started": "2025-04-10T21:32:27.526877Z"
    }
   },
   "outputs": [
    {
     "data": {
      "text/html": [
       "<div>\n",
       "<style scoped>\n",
       "    .dataframe tbody tr th:only-of-type {\n",
       "        vertical-align: middle;\n",
       "    }\n",
       "\n",
       "    .dataframe tbody tr th {\n",
       "        vertical-align: top;\n",
       "    }\n",
       "\n",
       "    .dataframe thead th {\n",
       "        text-align: right;\n",
       "    }\n",
       "</style>\n",
       "<table border=\"1\" class=\"dataframe\">\n",
       "  <thead>\n",
       "    <tr style=\"text-align: right;\">\n",
       "      <th></th>\n",
       "      <th>Original Size (MiB)</th>\n",
       "      <th>New Size (MiB)</th>\n",
       "      <th>Original Read Time (s)</th>\n",
       "      <th>Read Time (s)</th>\n",
       "      <th>Size Win</th>\n",
       "      <th>Time Win</th>\n",
       "    </tr>\n",
       "  </thead>\n",
       "  <tbody>\n",
       "    <tr>\n",
       "      <th>614</th>\n",
       "      <td>0.01</td>\n",
       "      <td>0.01</td>\n",
       "      <td>0.00</td>\n",
       "      <td>0.0039</td>\n",
       "      <td>0.13</td>\n",
       "      <td>-0.22</td>\n",
       "    </tr>\n",
       "    <tr>\n",
       "      <th>606</th>\n",
       "      <td>0.01</td>\n",
       "      <td>0.01</td>\n",
       "      <td>0.00</td>\n",
       "      <td>0.0054</td>\n",
       "      <td>0.17</td>\n",
       "      <td>-0.09</td>\n",
       "    </tr>\n",
       "    <tr>\n",
       "      <th>44</th>\n",
       "      <td>0.01</td>\n",
       "      <td>0.01</td>\n",
       "      <td>0.00</td>\n",
       "      <td>0.0028</td>\n",
       "      <td>0.13</td>\n",
       "      <td>-0.07</td>\n",
       "    </tr>\n",
       "    <tr>\n",
       "      <th>375</th>\n",
       "      <td>0.02</td>\n",
       "      <td>0.01</td>\n",
       "      <td>0.00</td>\n",
       "      <td>0.0032</td>\n",
       "      <td>0.18</td>\n",
       "      <td>0.02</td>\n",
       "    </tr>\n",
       "    <tr>\n",
       "      <th>372</th>\n",
       "      <td>0.01</td>\n",
       "      <td>0.01</td>\n",
       "      <td>0.00</td>\n",
       "      <td>0.0040</td>\n",
       "      <td>0.13</td>\n",
       "      <td>-0.06</td>\n",
       "    </tr>\n",
       "    <tr>\n",
       "      <th>...</th>\n",
       "      <td>...</td>\n",
       "      <td>...</td>\n",
       "      <td>...</td>\n",
       "      <td>...</td>\n",
       "      <td>...</td>\n",
       "      <td>...</td>\n",
       "    </tr>\n",
       "    <tr>\n",
       "      <th>265</th>\n",
       "      <td>201.18</td>\n",
       "      <td>148.01</td>\n",
       "      <td>0.55</td>\n",
       "      <td>0.4733</td>\n",
       "      <td>0.36</td>\n",
       "      <td>0.16</td>\n",
       "    </tr>\n",
       "    <tr>\n",
       "      <th>364</th>\n",
       "      <td>209.67</td>\n",
       "      <td>154.10</td>\n",
       "      <td>0.55</td>\n",
       "      <td>0.5323</td>\n",
       "      <td>0.36</td>\n",
       "      <td>0.03</td>\n",
       "    </tr>\n",
       "    <tr>\n",
       "      <th>48</th>\n",
       "      <td>221.58</td>\n",
       "      <td>163.70</td>\n",
       "      <td>0.44</td>\n",
       "      <td>0.4604</td>\n",
       "      <td>0.35</td>\n",
       "      <td>-0.05</td>\n",
       "    </tr>\n",
       "    <tr>\n",
       "      <th>323</th>\n",
       "      <td>226.20</td>\n",
       "      <td>166.68</td>\n",
       "      <td>0.56</td>\n",
       "      <td>0.3409</td>\n",
       "      <td>0.36</td>\n",
       "      <td>0.65</td>\n",
       "    </tr>\n",
       "    <tr>\n",
       "      <th>179</th>\n",
       "      <td>233.02</td>\n",
       "      <td>170.61</td>\n",
       "      <td>0.61</td>\n",
       "      <td>0.3415</td>\n",
       "      <td>0.37</td>\n",
       "      <td>0.79</td>\n",
       "    </tr>\n",
       "  </tbody>\n",
       "</table>\n",
       "<p>635 rows × 6 columns</p>\n",
       "</div>"
      ],
      "text/plain": [
       "     Original Size (MiB)  New Size (MiB)  Original Read Time (s)  \\\n",
       "614                 0.01            0.01                    0.00   \n",
       "606                 0.01            0.01                    0.00   \n",
       "44                  0.01            0.01                    0.00   \n",
       "375                 0.02            0.01                    0.00   \n",
       "372                 0.01            0.01                    0.00   \n",
       "..                   ...             ...                     ...   \n",
       "265               201.18          148.01                    0.55   \n",
       "364               209.67          154.10                    0.55   \n",
       "48                221.58          163.70                    0.44   \n",
       "323               226.20          166.68                    0.56   \n",
       "179               233.02          170.61                    0.61   \n",
       "\n",
       "     Read Time (s)  Size Win  Time Win  \n",
       "614         0.0039      0.13     -0.22  \n",
       "606         0.0054      0.17     -0.09  \n",
       "44          0.0028      0.13     -0.07  \n",
       "375         0.0032      0.18      0.02  \n",
       "372         0.0040      0.13     -0.06  \n",
       "..             ...       ...       ...  \n",
       "265         0.4733      0.36      0.16  \n",
       "364         0.5323      0.36      0.03  \n",
       "48          0.4604      0.35     -0.05  \n",
       "323         0.3409      0.36      0.65  \n",
       "179         0.3415      0.37      0.79  \n",
       "\n",
       "[635 rows x 6 columns]"
      ]
     },
     "execution_count": 49,
     "metadata": {},
     "output_type": "execute_result"
    }
   ],
   "source": [
    "survey.sort_values(by='New Size (MiB)')"
   ]
  },
  {
   "cell_type": "code",
   "execution_count": 50,
   "id": "30c9713f-41a8-4128-9c54-88079a48a405",
   "metadata": {
    "execution": {
     "iopub.execute_input": "2025-04-10T21:32:41.794949Z",
     "iopub.status.busy": "2025-04-10T21:32:41.794614Z",
     "iopub.status.idle": "2025-04-10T21:32:41.798885Z",
     "shell.execute_reply": "2025-04-10T21:32:41.798475Z",
     "shell.execute_reply.started": "2025-04-10T21:32:41.794930Z"
    }
   },
   "outputs": [
    {
     "data": {
      "text/plain": [
       "np.float64(1866.1000000000001)"
      ]
     },
     "execution_count": 50,
     "metadata": {},
     "output_type": "execute_result"
    }
   ],
   "source": [
    "(survey['Original Size (MiB)'] - survey['New Size (MiB)']).sum()"
   ]
  },
  {
   "cell_type": "code",
   "execution_count": 51,
   "id": "c02400db-6efa-4089-bbb2-225f2a02e080",
   "metadata": {
    "execution": {
     "iopub.execute_input": "2025-04-10T21:32:45.311478Z",
     "iopub.status.busy": "2025-04-10T21:32:45.311115Z",
     "iopub.status.idle": "2025-04-10T21:32:45.315253Z",
     "shell.execute_reply": "2025-04-10T21:32:45.314857Z",
     "shell.execute_reply.started": "2025-04-10T21:32:45.311443Z"
    }
   },
   "outputs": [
    {
     "data": {
      "text/plain": [
       "(np.float64(7123.56), np.float64(5257.459999999999))"
      ]
     },
     "execution_count": 51,
     "metadata": {},
     "output_type": "execute_result"
    }
   ],
   "source": [
    "survey['Original Size (MiB)'].sum(), survey['New Size (MiB)'].sum()"
   ]
  },
  {
   "cell_type": "code",
   "execution_count": 52,
   "id": "e7599144-51a3-4280-b91d-95260f6114bb",
   "metadata": {
    "execution": {
     "iopub.execute_input": "2025-04-10T21:32:51.682563Z",
     "iopub.status.busy": "2025-04-10T21:32:51.681835Z",
     "iopub.status.idle": "2025-04-10T21:32:51.686091Z",
     "shell.execute_reply": "2025-04-10T21:32:51.685700Z",
     "shell.execute_reply.started": "2025-04-10T21:32:51.682540Z"
    }
   },
   "outputs": [
    {
     "data": {
      "text/plain": [
       "(np.float64(15.77), np.float64(15.948600000000003))"
      ]
     },
     "execution_count": 52,
     "metadata": {},
     "output_type": "execute_result"
    }
   ],
   "source": [
    "survey['Original Read Time (s)'].sum(), survey['Read Time (s)'].sum()"
   ]
  },
  {
   "cell_type": "code",
   "execution_count": null,
   "id": "8f45588b-dd61-40d2-8ba0-970ca4e19880",
   "metadata": {},
   "outputs": [],
   "source": []
  }
 ],
 "metadata": {
  "kernelspec": {
   "display_name": "LSST",
   "language": "python",
   "name": "lsst"
  },
  "language_info": {
   "codemirror_mode": {
    "name": "ipython",
    "version": 3
   },
   "file_extension": ".py",
   "mimetype": "text/x-python",
   "name": "python",
   "nbconvert_exporter": "python",
   "pygments_lexer": "ipython3",
   "version": "3.12.9"
  }
 },
 "nbformat": 4,
 "nbformat_minor": 5
}
