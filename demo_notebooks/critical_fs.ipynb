{
 "cells": [
  {
   "cell_type": "markdown",
   "id": "3f5d7964",
   "metadata": {},
   "source": [
    "# Test of LSDB critical functions\n",
    "\n",
    "This notebook invokes several critical methods, necessary for the success of most users of LSDB within RSP. This does not rely on any pre-existing outside datasets, and only requires pip installation of the `lsdb` package and its dependencies.\n",
    "\n",
    "Flow is as follows:\n",
    "- generate two small, in-memory catalogs\n",
    "- write the two catalogs to disk\n",
    "- load the two catalogs from disk\n",
    "- crossmatch the catalogs\n",
    "- perform a basic summation operation"
   ]
  },
  {
   "cell_type": "code",
   "execution_count": 1,
   "id": "06db1616",
   "metadata": {},
   "outputs": [],
   "source": [
    "import lsdb\n",
    "import tempfile\n",
    "from pathlib import Path\n",
    "\n",
    "tmp_path = tempfile.TemporaryDirectory()\n",
    "tmp_dir = Path(str(tmp_path))"
   ]
  },
  {
   "cell_type": "code",
   "execution_count": 2,
   "id": "70f5b5b5",
   "metadata": {},
   "outputs": [],
   "source": [
    "region = lsdb.ConeSearch(ra=53.13, dec=-28.10, radius_arcsec=20)\n",
    "expected_pixels = [lsdb.HealpixPixel(7, 143742)]\n",
    "\n",
    "gen_catalog_1 = lsdb.generate_catalog(100, 5, seed=53, search_region=region)\n",
    "assert gen_catalog_1.get_healpix_pixels() == expected_pixels\n",
    "gen_catalog_1.to_hats(tmp_dir / \"catalog_1\", catalog_name=\"catalog_1\")\n",
    "\n",
    "gen_catalog_2 = lsdb.generate_catalog(100, 5, seed=28, search_region=region)\n",
    "assert gen_catalog_2.get_healpix_pixels() == expected_pixels\n",
    "gen_catalog_2.to_hats(tmp_dir / \"catalog_2\", catalog_name=\"catalog_2\")"
   ]
  },
  {
   "cell_type": "code",
   "execution_count": 3,
   "id": "b4bfc136",
   "metadata": {},
   "outputs": [],
   "source": [
    "catalog_1 = lsdb.open_catalog(tmp_dir / \"catalog_1\")\n",
    "catalog_2 = lsdb.open_catalog(tmp_dir / \"catalog_2\")"
   ]
  },
  {
   "cell_type": "code",
   "execution_count": 4,
   "id": "a0130210",
   "metadata": {},
   "outputs": [
    {
     "name": "stderr",
     "output_type": "stream",
     "text": [
      "/home/delucchi/git/rsp/lsdb/src/lsdb/dask/crossmatch_catalog_data.py:147: RuntimeWarning: Right catalog does not have a margin cache. Results may be incomplete and/or inaccurate.\n",
      "  warnings.warn(\n"
     ]
    }
   ],
   "source": [
    "crossmatch_result = lsdb.crossmatch(catalog_1, catalog_2)\n",
    "assert len(crossmatch_result.compute()) > 0"
   ]
  },
  {
   "cell_type": "code",
   "execution_count": 5,
   "id": "cfab35f6",
   "metadata": {},
   "outputs": [],
   "source": [
    "def sum_id(df):\n",
    "    import pandas as pd\n",
    "\n",
    "    return pd.DataFrame([{\"sum\": df[\"id\"].sum()}])\n",
    "\n",
    "\n",
    "unrealized = catalog_1.map_partitions(sum_id)\n",
    "assert unrealized.compute()[\"sum\"][0] == 52752\n",
    "\n",
    "unrealized = catalog_2.map_partitions(sum_id)\n",
    "assert unrealized.compute()[\"sum\"][0] == 56349"
   ]
  },
  {
   "cell_type": "code",
   "execution_count": 6,
   "id": "e07e9bbe",
   "metadata": {},
   "outputs": [],
   "source": [
    "tmp_path.cleanup()"
   ]
  },
  {
   "cell_type": "code",
   "execution_count": null,
   "id": "3fb8ba5b",
   "metadata": {},
   "outputs": [],
   "source": []
  }
 ],
 "metadata": {
  "kernelspec": {
   "display_name": "may",
   "language": "python",
   "name": "python3"
  },
  "language_info": {
   "codemirror_mode": {
    "name": "ipython",
    "version": 3
   },
   "file_extension": ".py",
   "mimetype": "text/x-python",
   "name": "python",
   "nbconvert_exporter": "python",
   "pygments_lexer": "ipython3",
   "version": "3.12.3"
  }
 },
 "nbformat": 4,
 "nbformat_minor": 5
}
