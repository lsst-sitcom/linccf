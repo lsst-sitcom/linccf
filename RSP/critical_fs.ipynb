{
 "cells": [
  {
   "cell_type": "markdown",
   "id": "3f5d7964",
   "metadata": {},
   "source": [
    "# Test of LSDB critical functions\n",
    "\n",
    "This notebook invokes several critical methods, necessary for the success of most users of LSDB within RSP. This does not rely on any pre-existing outside datasets, and only requires pip installation of the `lsdb` package and its dependencies.\n",
    "\n",
    "Flow is as follows:\n",
    "- generate two small, in-memory catalogs\n",
    "- write the two catalogs to disk\n",
    "- load the two catalogs from disk\n",
    "- crossmatch the catalogs\n",
    "- perform a basic summation operation"
   ]
  },
  {
   "cell_type": "code",
   "execution_count": null,
   "id": "ac8e5064-3171-4a28-b737-61522f1dd3f8",
   "metadata": {},
   "outputs": [],
   "source": [
    "# if not previously installed\n",
    "# %pip install lsdb --quiet"
   ]
  },
  {
   "cell_type": "code",
   "execution_count": 19,
   "id": "06db1616",
   "metadata": {
    "execution": {
     "iopub.execute_input": "2025-06-24T00:00:44.563280Z",
     "iopub.status.busy": "2025-06-24T00:00:44.563067Z",
     "iopub.status.idle": "2025-06-24T00:00:48.017695Z",
     "shell.execute_reply": "2025-06-24T00:00:48.017014Z",
     "shell.execute_reply.started": "2025-06-24T00:00:44.563261Z"
    }
   },
   "outputs": [],
   "source": [
    "import lsdb\n",
    "import tempfile\n",
    "from pathlib import Path\n",
    "\n",
    "tmp_path = tempfile.TemporaryDirectory()\n",
    "tmp_dir = Path(str(tmp_path))"
   ]
  },
  {
   "cell_type": "code",
   "execution_count": 20,
   "id": "70f5b5b5",
   "metadata": {
    "execution": {
     "iopub.execute_input": "2025-06-24T00:01:00.691407Z",
     "iopub.status.busy": "2025-06-24T00:01:00.691073Z",
     "iopub.status.idle": "2025-06-24T00:01:08.558968Z",
     "shell.execute_reply": "2025-06-24T00:01:08.558207Z",
     "shell.execute_reply.started": "2025-06-24T00:01:00.691359Z"
    }
   },
   "outputs": [],
   "source": [
    "region = lsdb.ConeSearch(ra=53.13, dec=-28.10, radius_arcsec=20)\n",
    "expected_pixels = [lsdb.HealpixPixel(7, 143742)]\n",
    "\n",
    "gen_catalog_1 = lsdb.generate_catalog(100, 5, seed=53, search_region=region)\n",
    "assert gen_catalog_1.get_healpix_pixels() == expected_pixels\n",
    "gen_catalog_1.to_hats(tmp_dir / \"catalog_1\", catalog_name=\"catalog_1\", overwrite=True)\n",
    "\n",
    "gen_catalog_2 = lsdb.generate_catalog(100, 5, seed=28, search_region=region)\n",
    "assert gen_catalog_2.get_healpix_pixels() == expected_pixels\n",
    "gen_catalog_2_computed = gen_catalog_2.compute()\n"
   ]
  },
  {
   "cell_type": "code",
   "execution_count": 21,
   "id": "b4bfc136",
   "metadata": {
    "execution": {
     "iopub.execute_input": "2025-06-24T00:01:08.560290Z",
     "iopub.status.busy": "2025-06-24T00:01:08.559980Z",
     "iopub.status.idle": "2025-06-24T00:01:08.676000Z",
     "shell.execute_reply": "2025-06-24T00:01:08.675359Z",
     "shell.execute_reply.started": "2025-06-24T00:01:08.560270Z"
    }
   },
   "outputs": [],
   "source": [
    "catalog_1 = lsdb.open_catalog(tmp_dir / \"catalog_1\")\n",
    "catalog_2 = lsdb.from_dataframe(gen_catalog_2_computed)"
   ]
  },
  {
   "cell_type": "code",
   "execution_count": 22,
   "id": "a0130210",
   "metadata": {
    "execution": {
     "iopub.execute_input": "2025-06-24T00:01:08.676935Z",
     "iopub.status.busy": "2025-06-24T00:01:08.676710Z",
     "iopub.status.idle": "2025-06-24T00:01:11.470205Z",
     "shell.execute_reply": "2025-06-24T00:01:11.469616Z",
     "shell.execute_reply.started": "2025-06-24T00:01:08.676917Z"
    }
   },
   "outputs": [],
   "source": [
    "crossmatch_result = lsdb.crossmatch(catalog_1, gen_catalog_2)\n",
    "assert len(crossmatch_result.compute()) > 0"
   ]
  },
  {
   "cell_type": "code",
   "execution_count": 23,
   "id": "cfab35f6",
   "metadata": {
    "execution": {
     "iopub.execute_input": "2025-06-24T00:01:11.471697Z",
     "iopub.status.busy": "2025-06-24T00:01:11.471401Z",
     "iopub.status.idle": "2025-06-24T00:01:11.502341Z",
     "shell.execute_reply": "2025-06-24T00:01:11.501782Z",
     "shell.execute_reply.started": "2025-06-24T00:01:11.471678Z"
    }
   },
   "outputs": [],
   "source": [
    "def sum_id(df):\n",
    "    import pandas as pd\n",
    "\n",
    "    return pd.DataFrame([{\"sum\": df[\"id\"].sum()}])\n",
    "\n",
    "\n",
    "unrealized = catalog_1.map_partitions(sum_id)\n",
    "assert unrealized.compute()[\"sum\"][0] == 52752\n",
    "\n",
    "unrealized = catalog_2.map_partitions(sum_id)\n",
    "assert unrealized.compute()[\"sum\"][0] == 56349"
   ]
  },
  {
   "cell_type": "code",
   "execution_count": 24,
   "id": "e07e9bbe",
   "metadata": {
    "execution": {
     "iopub.execute_input": "2025-06-24T00:01:11.503170Z",
     "iopub.status.busy": "2025-06-24T00:01:11.502951Z",
     "iopub.status.idle": "2025-06-24T00:01:11.505847Z",
     "shell.execute_reply": "2025-06-24T00:01:11.505398Z",
     "shell.execute_reply.started": "2025-06-24T00:01:11.503154Z"
    }
   },
   "outputs": [],
   "source": [
    "tmp_path.cleanup()"
   ]
  },
  {
   "cell_type": "code",
   "execution_count": null,
   "id": "3fb8ba5b",
   "metadata": {},
   "outputs": [],
   "source": []
  }
 ],
 "metadata": {
  "kernelspec": {
   "display_name": "Python 3 (ipykernel)",
   "language": "python",
   "name": "python3"
  },
  "language_info": {
   "codemirror_mode": {
    "name": "ipython",
    "version": 3
   },
   "file_extension": ".py",
   "mimetype": "text/x-python",
   "name": "python",
   "nbconvert_exporter": "python",
   "pygments_lexer": "ipython3",
   "version": "3.12.9"
  }
 },
 "nbformat": 4,
 "nbformat_minor": 5
}
