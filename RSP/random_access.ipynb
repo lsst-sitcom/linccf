{
 "cells": [
  {
   "cell_type": "markdown",
   "id": "2b5646ad-7832-44be-a307-641c631ad49b",
   "metadata": {},
   "source": [
    "### HATS Data Preview 1 on RSP\n",
    "\n",
    "This notebook loads a randomized sample of the data for scale testing within the RSP."
   ]
  },
  {
   "cell_type": "code",
   "execution_count": null,
   "id": "d636d32c-dd77-476e-984b-d1fa3600f9fc",
   "metadata": {},
   "outputs": [],
   "source": [
    "%pip install lsdb --quiet"
   ]
  },
  {
   "cell_type": "code",
   "execution_count": null,
   "id": "cef354da-24fa-4d1f-b43e-86acdde2a65d",
   "metadata": {
    "execution": {
     "iopub.execute_input": "2025-05-30T18:12:07.794532Z",
     "iopub.status.busy": "2025-05-30T18:12:07.794211Z",
     "iopub.status.idle": "2025-05-30T18:12:07.797552Z",
     "shell.execute_reply": "2025-05-30T18:12:07.797103Z",
     "shell.execute_reply.started": "2025-05-30T18:12:07.794508Z"
    }
   },
   "outputs": [],
   "source": [
    "import lsdb\n",
    "import numpy as np\n",
    "from upath import UPath"
   ]
  },
  {
   "cell_type": "code",
   "execution_count": null,
   "id": "2cf5ea3a-6bb0-41e7-b589-3ae5ca207aee",
   "metadata": {
    "execution": {
     "iopub.execute_input": "2025-05-30T18:12:09.701254Z",
     "iopub.status.busy": "2025-05-30T18:12:09.701044Z",
     "iopub.status.idle": "2025-05-30T18:12:09.704250Z",
     "shell.execute_reply": "2025-05-30T18:12:09.703825Z",
     "shell.execute_reply.started": "2025-05-30T18:12:09.701238Z"
    }
   },
   "outputs": [],
   "source": [
    "base_path = UPath(\"/sdf/data/rubin/shared/lsdb_commissioning/hats/v29_0_0\")"
   ]
  },
  {
   "cell_type": "code",
   "execution_count": null,
   "id": "e5959a91-daff-465c-a3d3-17ce9a12160b",
   "metadata": {
    "execution": {
     "iopub.execute_input": "2025-05-30T18:22:41.489894Z",
     "iopub.status.busy": "2025-05-30T18:22:41.489682Z",
     "iopub.status.idle": "2025-05-30T18:22:42.330565Z",
     "shell.execute_reply": "2025-05-30T18:22:42.330025Z",
     "shell.execute_reply.started": "2025-05-30T18:22:41.489878Z"
    }
   },
   "outputs": [],
   "source": [
    "object_collection = lsdb.read_hats(base_path / \"object_collection_lite\")"
   ]
  },
  {
   "cell_type": "code",
   "execution_count": null,
   "id": "146020a4-a6a7-4b66-82bd-73be656bf04b",
   "metadata": {
    "execution": {
     "iopub.execute_input": "2025-05-30T18:22:42.350865Z",
     "iopub.status.busy": "2025-05-30T18:22:42.350706Z",
     "iopub.status.idle": "2025-05-30T18:22:42.634622Z",
     "shell.execute_reply": "2025-05-30T18:22:42.634152Z",
     "shell.execute_reply.started": "2025-05-30T18:22:42.350849Z"
    }
   },
   "outputs": [],
   "source": [
    "# Plot the HEALPix pixel map\n",
    "object_collection.plot_pixels()"
   ]
  },
  {
   "cell_type": "code",
   "execution_count": null,
   "id": "7a63cc4c-b4d1-4051-a2ba-b1cd529b22e4",
   "metadata": {
    "execution": {
     "iopub.execute_input": "2025-05-30T18:25:18.797993Z",
     "iopub.status.busy": "2025-05-30T18:25:18.797657Z",
     "iopub.status.idle": "2025-05-30T18:25:18.801318Z",
     "shell.execute_reply": "2025-05-30T18:25:18.800934Z",
     "shell.execute_reply.started": "2025-05-30T18:25:18.797977Z"
    }
   },
   "outputs": [],
   "source": [
    "# Select a random partition\n",
    "num_pixels = len(object_collection.get_healpix_pixels())\n",
    "partition_index = np.random.randint(0, num_pixels)\n",
    "print(f\"Selected partition of index {partition_index} out of {num_pixels}\")"
   ]
  },
  {
   "cell_type": "code",
   "execution_count": null,
   "id": "326761fd-648d-4588-a989-1717962ef2f6",
   "metadata": {
    "execution": {
     "iopub.execute_input": "2025-05-30T18:25:19.892383Z",
     "iopub.status.busy": "2025-05-30T18:25:19.892004Z",
     "iopub.status.idle": "2025-05-30T18:25:20.303003Z",
     "shell.execute_reply": "2025-05-30T18:25:20.302423Z",
     "shell.execute_reply.started": "2025-05-30T18:25:19.892364Z"
    }
   },
   "outputs": [],
   "source": [
    "# Preview 5 rows from the partition\n",
    "partition = object_collection.partitions[partition_index]\n",
    "partition.head()"
   ]
  },
  {
   "cell_type": "code",
   "execution_count": null,
   "id": "25f981b2-5ea6-4483-8724-eb9c7802bb0f",
   "metadata": {
    "execution": {
     "iopub.execute_input": "2025-05-30T18:27:13.322524Z",
     "iopub.status.busy": "2025-05-30T18:27:13.322299Z",
     "iopub.status.idle": "2025-05-30T18:27:16.572936Z",
     "shell.execute_reply": "2025-05-30T18:27:16.572423Z",
     "shell.execute_reply.started": "2025-05-30T18:27:13.322502Z"
    }
   },
   "outputs": [],
   "source": [
    "%%timeit\n",
    "# Time sampling up to 100 rows from the partition\n",
    "object_collection.sample(partition_index, n=100)"
   ]
  }
 ],
 "metadata": {
  "kernelspec": {
   "display_name": "LSST",
   "language": "python",
   "name": "lsst"
  },
  "language_info": {
   "codemirror_mode": {
    "name": "ipython",
    "version": 3
   },
   "file_extension": ".py",
   "mimetype": "text/x-python",
   "name": "python",
   "nbconvert_exporter": "python",
   "pygments_lexer": "ipython3",
   "version": "3.12.10"
  }
 },
 "nbformat": 4,
 "nbformat_minor": 5
}
