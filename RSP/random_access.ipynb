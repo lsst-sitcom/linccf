{
 "cells": [
  {
   "cell_type": "markdown",
   "id": "2b5646ad-7832-44be-a307-641c631ad49b",
   "metadata": {},
   "source": [
    "## HATS Data Preview 1 on RSP\n",
    "\n",
    "This notebook tests access to Data Preview 1 (DP1) data in the HATS format. \n",
    "\n",
    "**Goal:** To load a randomized sample of the data, to be used for scale testing within the RSP."
   ]
  },
  {
   "cell_type": "code",
   "execution_count": 13,
   "id": "d636d32c-dd77-476e-984b-d1fa3600f9fc",
   "metadata": {
    "execution": {
     "iopub.execute_input": "2025-06-25T22:25:01.966149Z",
     "iopub.status.busy": "2025-06-25T22:25:01.965817Z",
     "iopub.status.idle": "2025-06-25T22:25:01.969519Z",
     "shell.execute_reply": "2025-06-25T22:25:01.968756Z",
     "shell.execute_reply.started": "2025-06-25T22:25:01.966123Z"
    }
   },
   "outputs": [],
   "source": [
    "# if not previously installed\n",
    "# %pip install lsdb --quiet"
   ]
  },
  {
   "cell_type": "code",
   "execution_count": 2,
   "id": "cef354da-24fa-4d1f-b43e-86acdde2a65d",
   "metadata": {
    "execution": {
     "iopub.execute_input": "2025-07-09T21:18:35.637695Z",
     "iopub.status.busy": "2025-07-09T21:18:35.637174Z",
     "iopub.status.idle": "2025-07-09T21:18:39.004144Z",
     "shell.execute_reply": "2025-07-09T21:18:39.003576Z",
     "shell.execute_reply.started": "2025-07-09T21:18:35.637672Z"
    }
   },
   "outputs": [],
   "source": [
    "import lsdb\n",
    "import numpy as np\n",
    "import pandas as pd\n",
    "from upath import UPath"
   ]
  },
  {
   "cell_type": "code",
   "execution_count": 3,
   "id": "2cf5ea3a-6bb0-41e7-b589-3ae5ca207aee",
   "metadata": {
    "execution": {
     "iopub.execute_input": "2025-07-09T21:18:39.006066Z",
     "iopub.status.busy": "2025-07-09T21:18:39.005037Z",
     "iopub.status.idle": "2025-07-09T21:18:41.508824Z",
     "shell.execute_reply": "2025-07-09T21:18:41.508300Z",
     "shell.execute_reply.started": "2025-07-09T21:18:39.006042Z"
    }
   },
   "outputs": [],
   "source": [
    "base_path = UPath(\"/rubin/lsdb_data\")\n",
    "object_collection = lsdb.open_catalog(base_path / \"object_collection_lite\")"
   ]
  },
  {
   "cell_type": "code",
   "execution_count": 4,
   "id": "6a1390fd-fac0-4b2c-88e6-371db670cd76",
   "metadata": {
    "execution": {
     "iopub.execute_input": "2025-07-09T21:18:41.509636Z",
     "iopub.status.busy": "2025-07-09T21:18:41.509439Z",
     "iopub.status.idle": "2025-07-09T21:18:42.819615Z",
     "shell.execute_reply": "2025-07-09T21:18:42.819050Z",
     "shell.execute_reply.started": "2025-07-09T21:18:41.509619Z"
    }
   },
   "outputs": [],
   "source": [
    "pixel_statistics = object_collection.per_pixel_statistics()\n",
    "counts = pd.to_numeric(pixel_statistics[\"objectId: row_count\"], errors=\"coerce\")\n",
    "pixel_counts = counts.groupby(level=0).sum()"
   ]
  },
  {
   "cell_type": "code",
   "execution_count": 5,
   "id": "dfa0d739",
   "metadata": {
    "execution": {
     "iopub.execute_input": "2025-07-09T21:18:42.820827Z",
     "iopub.status.busy": "2025-07-09T21:18:42.820605Z",
     "iopub.status.idle": "2025-07-09T21:18:42.827119Z",
     "shell.execute_reply": "2025-07-09T21:18:42.826642Z",
     "shell.execute_reply.started": "2025-07-09T21:18:42.820808Z"
    }
   },
   "outputs": [
    {
     "name": "stdout",
     "output_type": "stream",
     "text": [
      "Percentile: 10, Quartile: 1786.0\n",
      "Closest value: 1789, partition index: 138\n",
      "Percentile: 50, Quartile: 5240.0\n",
      "Closest value: 5240, partition index: 255\n",
      "Percentile: 90, Quartile: 11744.6\n",
      "Closest value: 11738, partition index: 21\n"
     ]
    }
   ],
   "source": [
    "partition_indices = []\n",
    "for percentile in [10, 50, 90]:\n",
    "    q = np.percentile(pixel_counts, percentile)\n",
    "    print(f\"Percentile: {percentile}, Quartile: {q}\")\n",
    "    index = int(np.argmin(np.abs(pixel_counts - q)))\n",
    "    closest_value = pixel_counts.iloc[index]\n",
    "    print(f\"Closest value: {closest_value}, partition index: {index}\")\n",
    "    partition_indices.append(index)"
   ]
  },
  {
   "cell_type": "code",
   "execution_count": 6,
   "id": "25f981b2-5ea6-4483-8724-eb9c7802bb0f",
   "metadata": {
    "execution": {
     "iopub.execute_input": "2025-07-09T21:18:42.827940Z",
     "iopub.status.busy": "2025-07-09T21:18:42.827725Z",
     "iopub.status.idle": "2025-07-09T21:19:05.344705Z",
     "shell.execute_reply": "2025-07-09T21:19:05.344136Z",
     "shell.execute_reply.started": "2025-07-09T21:18:42.827922Z"
    }
   },
   "outputs": [
    {
     "name": "stdout",
     "output_type": "stream",
     "text": [
      "Sampling partition 138 of size 1789\n",
      "663 ms ± 8.08 ms per loop (mean ± std. dev. of 7 runs, 1 loop each)\n",
      "Sampling partition 255 of size 5240\n",
      "1.35 s ± 38.1 ms per loop (mean ± std. dev. of 7 runs, 1 loop each)\n",
      "Sampling partition 21 of size 11738\n",
      "722 ms ± 11.7 ms per loop (mean ± std. dev. of 7 runs, 1 loop each)\n"
     ]
    }
   ],
   "source": [
    "for index in partition_indices:\n",
    "    print(f\"Sampling partition {index} of size {pixel_counts.iloc[index]}\")\n",
    "    %timeit object_collection.sample(index, n=100, seed=10)"
   ]
  },
  {
   "cell_type": "code",
   "execution_count": null,
   "id": "120f0b66-276d-403e-be9b-dac136b7d580",
   "metadata": {},
   "outputs": [],
   "source": []
  }
 ],
 "metadata": {
  "kernelspec": {
   "display_name": "LSST",
   "language": "python",
   "name": "lsst"
  },
  "language_info": {
   "codemirror_mode": {
    "name": "ipython",
    "version": 3
   },
   "file_extension": ".py",
   "mimetype": "text/x-python",
   "name": "python",
   "nbconvert_exporter": "python",
   "pygments_lexer": "ipython3",
   "version": "3.12.11"
  }
 },
 "nbformat": 4,
 "nbformat_minor": 5
}
