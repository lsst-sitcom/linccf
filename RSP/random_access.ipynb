{
 "cells": [
  {
   "cell_type": "markdown",
   "id": "2b5646ad-7832-44be-a307-641c631ad49b",
   "metadata": {},
   "source": [
    "## HATS Data Preview 1 on RSP\n",
    "\n",
    "This notebook tests access to Data Preview 1 (DP1) data in the HATS format. \n",
    "\n",
    "**Goal:** To load a randomized sample of the data, to be used for scale testing within the RSP."
   ]
  },
  {
   "cell_type": "code",
   "execution_count": null,
   "id": "d636d32c-dd77-476e-984b-d1fa3600f9fc",
   "metadata": {},
   "outputs": [],
   "source": [
    "# if not previously installed\n",
    "# %pip install lsdb --quiet"
   ]
  },
  {
   "cell_type": "code",
   "execution_count": 1,
   "id": "cef354da-24fa-4d1f-b43e-86acdde2a65d",
   "metadata": {
    "execution": {
     "iopub.execute_input": "2025-06-24T00:05:34.544393Z",
     "iopub.status.busy": "2025-06-24T00:05:34.543790Z",
     "iopub.status.idle": "2025-06-24T00:05:37.885056Z",
     "shell.execute_reply": "2025-06-24T00:05:37.884361Z",
     "shell.execute_reply.started": "2025-06-24T00:05:34.544346Z"
    }
   },
   "outputs": [],
   "source": [
    "import lsdb\n",
    "import numpy as np\n",
    "from upath import UPath"
   ]
  },
  {
   "cell_type": "code",
   "execution_count": 6,
   "id": "2cf5ea3a-6bb0-41e7-b589-3ae5ca207aee",
   "metadata": {
    "execution": {
     "iopub.execute_input": "2025-06-24T00:17:54.277127Z",
     "iopub.status.busy": "2025-06-24T00:17:54.276308Z",
     "iopub.status.idle": "2025-06-24T00:17:55.239475Z",
     "shell.execute_reply": "2025-06-24T00:17:55.238778Z",
     "shell.execute_reply.started": "2025-06-24T00:17:54.277099Z"
    }
   },
   "outputs": [],
   "source": [
    "base_path = UPath(\"/rubin/lincc_lsb_data\")\n",
    "object_collection = lsdb.read_hats(base_path / \"object_collection_lite\")"
   ]
  },
  {
   "cell_type": "code",
   "execution_count": 7,
   "id": "6a1390fd-fac0-4b2c-88e6-371db670cd76",
   "metadata": {
    "execution": {
     "iopub.execute_input": "2025-06-24T00:17:56.105789Z",
     "iopub.status.busy": "2025-06-24T00:17:56.105231Z",
     "iopub.status.idle": "2025-06-24T00:17:56.201976Z",
     "shell.execute_reply": "2025-06-24T00:17:56.201417Z",
     "shell.execute_reply.started": "2025-06-24T00:17:56.105759Z"
    }
   },
   "outputs": [],
   "source": [
    "pixel_statistics = object_collection.per_pixel_statistics()\n",
    "pixel_counts = pixel_statistics[\"objectId: row_count\"].astype(np.int64) "
   ]
  },
  {
   "cell_type": "code",
   "execution_count": 8,
   "id": "dfa0d739",
   "metadata": {
    "execution": {
     "iopub.execute_input": "2025-06-24T00:17:57.723033Z",
     "iopub.status.busy": "2025-06-24T00:17:57.722283Z",
     "iopub.status.idle": "2025-06-24T00:17:57.728659Z",
     "shell.execute_reply": "2025-06-24T00:17:57.728159Z",
     "shell.execute_reply.started": "2025-06-24T00:17:57.723007Z"
    }
   },
   "outputs": [
    {
     "name": "stdout",
     "output_type": "stream",
     "text": [
      "Percentile: 10, Quartile: 833.0000000000001\n",
      "Closest value: 926, partition index: 15\n",
      "Percentile: 50, Quartile: 24624.0\n",
      "Closest value: 24624, partition index: 35\n",
      "Percentile: 90, Quartile: 138144.0000000001\n",
      "Closest value: 132427, partition index: 3\n"
     ]
    }
   ],
   "source": [
    "partition_indices = []\n",
    "for percentile in [10, 50, 90]:\n",
    "    q = np.percentile(pixel_counts, percentile)\n",
    "    print(f\"Percentile: {percentile}, Quartile: {q}\")\n",
    "    index = int(np.argmin(np.abs(pixel_counts - q)))\n",
    "    closest_value = pixel_counts.iloc[index]\n",
    "    print(f\"Closest value: {closest_value}, partition index: {index}\")\n",
    "    partition_indices.append(index)"
   ]
  },
  {
   "cell_type": "code",
   "execution_count": 11,
   "id": "25f981b2-5ea6-4483-8724-eb9c7802bb0f",
   "metadata": {
    "execution": {
     "iopub.execute_input": "2025-06-24T00:28:07.454141Z",
     "iopub.status.busy": "2025-06-24T00:28:07.453782Z",
     "iopub.status.idle": "2025-06-24T00:30:37.260083Z",
     "shell.execute_reply": "2025-06-24T00:30:37.259500Z",
     "shell.execute_reply.started": "2025-06-24T00:28:07.454116Z"
    }
   },
   "outputs": [
    {
     "name": "stdout",
     "output_type": "stream",
     "text": [
      "Sampling partition 15 of size 926\n",
      "82.4 ms ± 1.43 ms per loop (mean ± std. dev. of 7 runs, 10 loops each)\n",
      "Sampling partition 35 of size 24624\n",
      "13.2 s ± 71.7 ms per loop (mean ± std. dev. of 7 runs, 1 loop each)\n",
      "Sampling partition 3 of size 132427\n",
      "3.97 s ± 86.2 ms per loop (mean ± std. dev. of 7 runs, 1 loop each)\n"
     ]
    }
   ],
   "source": [
    "for index in partition_indices:\n",
    "    print(f\"Sampling partition {index} of size {pixel_counts.iloc[index]}\")\n",
    "    %timeit object_collection.sample(index, n=100, seed=10)"
   ]
  },
  {
   "cell_type": "code",
   "execution_count": null,
   "id": "2d40c744-d2b7-4dc9-9b22-254e5005419c",
   "metadata": {},
   "outputs": [],
   "source": []
  }
 ],
 "metadata": {
  "kernelspec": {
   "display_name": "LSST",
   "language": "python",
   "name": "lsst"
  },
  "language_info": {
   "codemirror_mode": {
    "name": "ipython",
    "version": 3
   },
   "file_extension": ".py",
   "mimetype": "text/x-python",
   "name": "python",
   "nbconvert_exporter": "python",
   "pygments_lexer": "ipython3",
   "version": "3.12.11"
  }
 },
 "nbformat": 4,
 "nbformat_minor": 5
}
