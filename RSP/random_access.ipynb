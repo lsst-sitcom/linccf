{
 "cells": [
  {
   "cell_type": "markdown",
   "id": "2b5646ad-7832-44be-a307-641c631ad49b",
   "metadata": {},
   "source": [
    "## HATS Data Preview 1 on RSP\n",
    "\n",
    "This notebook tests access to Data Preview 1 (DP1) data in the HATS format. \n",
    "\n",
    "**Goal:** To load a randomized sample of the data, to be used for scale testing within the RSP."
   ]
  },
  {
   "cell_type": "code",
   "execution_count": 13,
   "id": "d636d32c-dd77-476e-984b-d1fa3600f9fc",
   "metadata": {
    "execution": {
     "iopub.execute_input": "2025-06-25T22:25:01.966149Z",
     "iopub.status.busy": "2025-06-25T22:25:01.965817Z",
     "iopub.status.idle": "2025-06-25T22:25:01.969519Z",
     "shell.execute_reply": "2025-06-25T22:25:01.968756Z",
     "shell.execute_reply.started": "2025-06-25T22:25:01.966123Z"
    }
   },
   "outputs": [],
   "source": [
    "# if not previously installed\n",
    "# %pip install lsdb --quiet"
   ]
  },
  {
   "cell_type": "code",
   "execution_count": 76,
   "id": "cef354da-24fa-4d1f-b43e-86acdde2a65d",
   "metadata": {
    "execution": {
     "iopub.execute_input": "2025-06-25T23:03:56.384540Z",
     "iopub.status.busy": "2025-06-25T23:03:56.383733Z",
     "iopub.status.idle": "2025-06-25T23:03:56.387426Z",
     "shell.execute_reply": "2025-06-25T23:03:56.386921Z",
     "shell.execute_reply.started": "2025-06-25T23:03:56.384510Z"
    }
   },
   "outputs": [],
   "source": [
    "import lsdb\n",
    "import numpy as np\n",
    "import pandas as pd\n",
    "from upath import UPath"
   ]
  },
  {
   "cell_type": "code",
   "execution_count": 77,
   "id": "2cf5ea3a-6bb0-41e7-b589-3ae5ca207aee",
   "metadata": {
    "execution": {
     "iopub.execute_input": "2025-06-25T23:04:14.331967Z",
     "iopub.status.busy": "2025-06-25T23:04:14.331181Z",
     "iopub.status.idle": "2025-06-25T23:04:15.523241Z",
     "shell.execute_reply": "2025-06-25T23:04:15.522632Z",
     "shell.execute_reply.started": "2025-06-25T23:04:14.331936Z"
    }
   },
   "outputs": [],
   "source": [
    "base_path = UPath(\"/rubin/lincc_lsb_data\")\n",
    "object_collection = lsdb.open_catalog(base_path / \"object_collection_lite\")"
   ]
  },
  {
   "cell_type": "code",
   "execution_count": 78,
   "id": "6a1390fd-fac0-4b2c-88e6-371db670cd76",
   "metadata": {
    "execution": {
     "iopub.execute_input": "2025-06-25T23:04:15.524431Z",
     "iopub.status.busy": "2025-06-25T23:04:15.524187Z",
     "iopub.status.idle": "2025-06-25T23:04:16.631886Z",
     "shell.execute_reply": "2025-06-25T23:04:16.631225Z",
     "shell.execute_reply.started": "2025-06-25T23:04:15.524412Z"
    }
   },
   "outputs": [],
   "source": [
    "pixel_statistics = object_collection.per_pixel_statistics()\n",
    "counts = pd.to_numeric(pixel_statistics[\"objectId: row_count\"], errors=\"coerce\")\n",
    "pixel_counts = counts.groupby(level=0).sum()"
   ]
  },
  {
   "cell_type": "code",
   "execution_count": 81,
   "id": "dfa0d739",
   "metadata": {
    "execution": {
     "iopub.execute_input": "2025-06-25T23:04:29.781133Z",
     "iopub.status.busy": "2025-06-25T23:04:29.780267Z",
     "iopub.status.idle": "2025-06-25T23:04:29.788206Z",
     "shell.execute_reply": "2025-06-25T23:04:29.787606Z",
     "shell.execute_reply.started": "2025-06-25T23:04:29.781087Z"
    }
   },
   "outputs": [
    {
     "name": "stdout",
     "output_type": "stream",
     "text": [
      "Percentile: 10, Quartile: 1786.0\n",
      "Closest value: 1789, partition index: 138\n",
      "Percentile: 50, Quartile: 5240.0\n",
      "Closest value: 5240, partition index: 255\n",
      "Percentile: 90, Quartile: 11744.6\n",
      "Closest value: 11738, partition index: 21\n"
     ]
    }
   ],
   "source": [
    "partition_indices = []\n",
    "for percentile in [10, 50, 90]:\n",
    "    q = np.percentile(pixel_counts, percentile)\n",
    "    print(f\"Percentile: {percentile}, Quartile: {q}\")\n",
    "    index = int(np.argmin(np.abs(pixel_counts - q)))\n",
    "    closest_value = pixel_counts.iloc[index]\n",
    "    print(f\"Closest value: {closest_value}, partition index: {index}\")\n",
    "    partition_indices.append(index)"
   ]
  },
  {
   "cell_type": "code",
   "execution_count": 82,
   "id": "25f981b2-5ea6-4483-8724-eb9c7802bb0f",
   "metadata": {
    "execution": {
     "iopub.execute_input": "2025-06-25T23:04:30.357362Z",
     "iopub.status.busy": "2025-06-25T23:04:30.356600Z",
     "iopub.status.idle": "2025-06-25T23:04:52.461554Z",
     "shell.execute_reply": "2025-06-25T23:04:52.460894Z",
     "shell.execute_reply.started": "2025-06-25T23:04:30.357332Z"
    }
   },
   "outputs": [
    {
     "name": "stdout",
     "output_type": "stream",
     "text": [
      "Sampling partition 138 of size 1789\n",
      "665 ms ± 2.86 ms per loop (mean ± std. dev. of 7 runs, 1 loop each)\n",
      "Sampling partition 255 of size 5240\n",
      "1.33 s ± 19.6 ms per loop (mean ± std. dev. of 7 runs, 1 loop each)\n",
      "Sampling partition 21 of size 11738\n",
      "722 ms ± 6.71 ms per loop (mean ± std. dev. of 7 runs, 1 loop each)\n"
     ]
    }
   ],
   "source": [
    "for index in partition_indices:\n",
    "    print(f\"Sampling partition {index} of size {pixel_counts.iloc[index]}\")\n",
    "    %timeit object_collection.sample(index, n=100, seed=10)"
   ]
  }
 ],
 "metadata": {
  "kernelspec": {
   "display_name": "LSST",
   "language": "python",
   "name": "lsst"
  },
  "language_info": {
   "codemirror_mode": {
    "name": "ipython",
    "version": 3
   },
   "file_extension": ".py",
   "mimetype": "text/x-python",
   "name": "python",
   "nbconvert_exporter": "python",
   "pygments_lexer": "ipython3",
   "version": "3.12.11"
  }
 },
 "nbformat": 4,
 "nbformat_minor": 5
}
