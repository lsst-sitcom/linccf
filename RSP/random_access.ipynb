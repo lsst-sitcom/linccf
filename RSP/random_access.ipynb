{
 "cells": [
  {
   "cell_type": "markdown",
   "id": "2b5646ad-7832-44be-a307-641c631ad49b",
   "metadata": {},
   "source": [
    "## HATS Data Preview 1 on RSP\n",
    "\n",
    "This notebook tests access to Data Preview 1 (DP1) data in the HATS format. \n",
    "\n",
    "**Goal:** To load a randomized sample of the data, to be used for scale testing within the RSP."
   ]
  },
  {
   "cell_type": "code",
   "execution_count": null,
   "id": "d636d32c-dd77-476e-984b-d1fa3600f9fc",
   "metadata": {},
   "outputs": [],
   "source": [
    "%pip install lsdb --quiet"
   ]
  },
  {
   "cell_type": "code",
   "execution_count": null,
   "id": "cef354da-24fa-4d1f-b43e-86acdde2a65d",
   "metadata": {
    "execution": {
     "iopub.execute_input": "2025-05-30T19:00:35.089247Z",
     "iopub.status.busy": "2025-05-30T19:00:35.089107Z",
     "iopub.status.idle": "2025-05-30T19:00:39.876111Z",
     "shell.execute_reply": "2025-05-30T19:00:39.875641Z",
     "shell.execute_reply.started": "2025-05-30T19:00:35.089232Z"
    }
   },
   "outputs": [],
   "source": [
    "import lsdb\n",
    "import numpy as np\n",
    "from upath import UPath"
   ]
  },
  {
   "cell_type": "code",
   "execution_count": null,
   "id": "2cf5ea3a-6bb0-41e7-b589-3ae5ca207aee",
   "metadata": {
    "execution": {
     "iopub.execute_input": "2025-05-30T19:00:39.877343Z",
     "iopub.status.busy": "2025-05-30T19:00:39.877015Z",
     "iopub.status.idle": "2025-05-30T19:00:39.881880Z",
     "shell.execute_reply": "2025-05-30T19:00:39.881500Z",
     "shell.execute_reply.started": "2025-05-30T19:00:39.877328Z"
    }
   },
   "outputs": [],
   "source": [
    "base_path = UPath(\"/sdf/data/rubin/shared/lsdb_commissioning/hats/v29_0_0\")\n",
    "object_collection = lsdb.read_hats(base_path / \"object_collection_lite\")"
   ]
  },
  {
   "cell_type": "code",
   "execution_count": null,
   "id": "6a1390fd-fac0-4b2c-88e6-371db670cd76",
   "metadata": {},
   "outputs": [],
   "source": [
    "pixel_statistics = object_collection.per_pixel_statistics()\n",
    "pixel_counts = pixel_statistics[\"objectId: row_count\"].astype(np.int64) "
   ]
  },
  {
   "cell_type": "code",
   "execution_count": null,
   "id": "dfa0d739",
   "metadata": {},
   "outputs": [],
   "source": [
    "partition_indices = []\n",
    "for percentile in [10, 50, 90]:\n",
    "    q = np.percentile(pixel_counts, percentile)\n",
    "    print(f\"Percentile: {percentile}, Quartile: {q}\")\n",
    "    index = int(np.argmin(np.abs(pixel_counts - q)))\n",
    "    closest_value = pixel_counts.iloc[index]\n",
    "    print(f\"Closest value: {closest_value}, partition index: {index}\")\n",
    "    partition_indices.append(index)"
   ]
  },
  {
   "cell_type": "code",
   "execution_count": null,
   "id": "25f981b2-5ea6-4483-8724-eb9c7802bb0f",
   "metadata": {
    "execution": {
     "iopub.execute_input": "2025-05-30T18:31:46.461908Z",
     "iopub.status.busy": "2025-05-30T18:31:46.461569Z",
     "iopub.status.idle": "2025-05-30T18:31:46.999337Z",
     "shell.execute_reply": "2025-05-30T18:31:46.998890Z",
     "shell.execute_reply.started": "2025-05-30T18:31:46.461891Z"
    }
   },
   "outputs": [],
   "source": [
    "for index in partition_indices:\n",
    "    print(f\"Sampling partition {index} of size {pixel_counts.iloc[index]}\")\n",
    "    %timeit object_collection.sample(index, n=100, seed=10)"
   ]
  }
 ],
 "metadata": {
  "kernelspec": {
   "display_name": "Python 3 (ipykernel)",
   "language": "python",
   "name": "python3"
  },
  "language_info": {
   "codemirror_mode": {
    "name": "ipython",
    "version": 3
   },
   "file_extension": ".py",
   "mimetype": "text/x-python",
   "name": "python",
   "nbconvert_exporter": "python",
   "pygments_lexer": "ipython3",
   "version": "3.12.9"
  }
 },
 "nbformat": 4,
 "nbformat_minor": 5
}
