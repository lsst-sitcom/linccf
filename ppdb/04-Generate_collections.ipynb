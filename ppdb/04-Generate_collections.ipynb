{
 "cells": [
  {
   "cell_type": "markdown",
   "id": "c615744b",
   "metadata": {},
   "source": [
    "## Generate collections\n",
    "\n",
    "Create DIA Object collection with margin and index on `diaObjectId`."
   ]
  },
  {
   "cell_type": "code",
   "execution_count": null,
   "id": "5a067f4e",
   "metadata": {},
   "outputs": [],
   "source": [
    "import tempfile\n",
    "\n",
    "from dask.distributed import Client\n",
    "from hats_import import pipeline_with_client\n",
    "from hats_import.collection.arguments import CollectionArguments\n",
    "from pathlib import Path"
   ]
  },
  {
   "cell_type": "code",
   "execution_count": null,
   "id": "04d36d42",
   "metadata": {},
   "outputs": [],
   "source": [
    "ppdb_dir = Path(\"/sdf/scratch/rubin/ppdb/data/lsstcam\")\n",
    "hats_dir = Path(\"/sdf/data/rubin/shared/lsdb_commissioning/hats/PPDB_v1\")"
   ]
  },
  {
   "cell_type": "code",
   "execution_count": null,
   "id": "cde65bae",
   "metadata": {},
   "outputs": [],
   "source": [
    "tmp_path = tempfile.TemporaryDirectory()\n",
    "tmp_dir = tmp_path.name\n",
    "client = Client(n_workers=16, threads_per_worker=1, local_directory=tmp_dir)"
   ]
  },
  {
   "cell_type": "code",
   "execution_count": null,
   "id": "1c88dd62",
   "metadata": {},
   "outputs": [],
   "source": [
    "%mkdir $hats_dir/dia_object_collection\n",
    "%mv $hats_dir/dia_object_lc $hats_dir/dia_object_collection"
   ]
  },
  {
   "cell_type": "code",
   "execution_count": null,
   "id": "cc9fc75e",
   "metadata": {},
   "outputs": [],
   "source": [
    "args = (\n",
    "    CollectionArguments(\n",
    "        output_artifact_name=\"dia_object_collection\",\n",
    "        new_catalog_name=\"dia_object_lc\",\n",
    "        output_path=hats_dir,\n",
    "        simple_progress_bar=True,\n",
    "    )\n",
    "    .catalog(\n",
    "        catalog_path=hats_dir / \"dia_object_collection\" / \"dia_object_lc\",\n",
    "    )\n",
    "    .add_margin(margin_threshold=5.0, is_default=True)\n",
    "    .add_index(indexing_column=\"diaObjectId\")\n",
    ")\n",
    "pipeline_with_client(args, client)"
   ]
  },
  {
   "cell_type": "code",
   "execution_count": null,
   "id": "ca8564a9",
   "metadata": {},
   "outputs": [],
   "source": [
    "client.close()"
   ]
  }
 ],
 "metadata": {
  "kernelspec": {
   "display_name": "Python 3 (ipykernel)",
   "language": "python",
   "name": "python3"
  },
  "language_info": {
   "codemirror_mode": {
    "name": "ipython",
    "version": 3
   },
   "file_extension": ".py",
   "mimetype": "text/x-python",
   "name": "python",
   "nbconvert_exporter": "python",
   "pygments_lexer": "ipython3",
   "version": "3.12.11"
  }
 },
 "nbformat": 4,
 "nbformat_minor": 5
}
