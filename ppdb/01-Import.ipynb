{
 "cells": [
  {
   "cell_type": "markdown",
   "id": "be00b793",
   "metadata": {},
   "source": [
    "## Import base catalogs\n",
    "\n",
    "Hatsify DIA object, source and forced source data from PPDB."
   ]
  },
  {
   "cell_type": "code",
   "execution_count": 1,
   "id": "c30815f5",
   "metadata": {},
   "outputs": [],
   "source": [
    "import os\n",
    "import pyarrow as pa\n",
    "import pyarrow.parquet as pq\n",
    "\n",
    "from dask.distributed import Client\n",
    "from hats_import import pipeline_with_client\n",
    "from hats_import.collection.arguments import ImportArguments\n",
    "from pathlib import Path"
   ]
  },
  {
   "cell_type": "code",
   "execution_count": 2,
   "id": "75b0f2e2",
   "metadata": {},
   "outputs": [
    {
     "name": "stdout",
     "output_type": "stream",
     "text": [
      "Writing intermediate files to /sdf/home/s/stavar/linccf/ppdb/tmp\n"
     ]
    }
   ],
   "source": [
    "# Path to the RAW parquet data\n",
    "PPDB_DIR = Path(\"/sdf/scratch/rubin/ppdb/data/lsstcam\")\n",
    "\n",
    "# Paths to the target OUTPUT directories\n",
    "TMP_DIR = Path(os.environ[\"OUTPUT_DIR\"]) / \"tmp\"\n",
    "TMP_DIR.mkdir(parents=True, exist_ok=True)\n",
    "print(f\"Writing intermediate files to {TMP_DIR}\")"
   ]
  },
  {
   "cell_type": "code",
   "execution_count": 3,
   "id": "f1c240e9",
   "metadata": {},
   "outputs": [
    {
     "name": "stdout",
     "output_type": "stream",
     "text": [
      "START_INDEX: 5, BATCH_SIZE: 5\n"
     ]
    }
   ],
   "source": [
    "# Other arguments to test continuous import\n",
    "START_INDEX = int(os.environ[\"START_INDEX\"])\n",
    "BATCH_SIZE = int(os.environ[\"BATCH_SIZE\"])\n",
    "print(f\"START_INDEX: {START_INDEX}, BATCH_SIZE: {BATCH_SIZE}\")"
   ]
  },
  {
   "cell_type": "code",
   "execution_count": 4,
   "id": "5073bae5",
   "metadata": {},
   "outputs": [],
   "source": [
    "# Initialize Dask client\n",
    "client = Client(n_workers=16, threads_per_worker=1, local_directory=TMP_DIR)"
   ]
  },
  {
   "cell_type": "code",
   "execution_count": 5,
   "id": "eae194ab",
   "metadata": {},
   "outputs": [],
   "source": [
    "def get_paths(dataset_type):\n",
    "    \"\"\"Return all parquet files for a given dataset type.\"\"\"\n",
    "    dataset_name = \"\".join(word.capitalize() for word in dataset_type.split(\"_\"))\n",
    "    files = sorted(PPDB_DIR.rglob(f\"{dataset_name}.parquet\"))\n",
    "    print(f\"Found {len(files)} {dataset_type} parquet files\")\n",
    "    return files\n",
    "\n",
    "\n",
    "def download_schema(dataset_type, parquet_filepath):\n",
    "    \"\"\"Obtain the final schema for a dataset type.\"\"\"\n",
    "    with open(parquet_filepath, \"rb\") as file:\n",
    "        schema = pq.read_schema(file).remove_metadata()\n",
    "    schema_table = pa.table(\n",
    "        {field.name: pa.array([], type=field.type) for field in schema}\n",
    "    )\n",
    "    schema_filepath = TMP_DIR / f\"{dataset_type}_schema.parquet\"\n",
    "    pq.write_table(schema_table, schema_filepath)\n",
    "    print(f\"Wrote {dataset_type} schema to {schema_filepath}\")\n",
    "    return schema_filepath\n",
    "\n",
    "\n",
    "def get_paths_and_schema(dataset_type):\n",
    "    paths = get_paths(dataset_type)\n",
    "    # Use the first parquet schema as the final schema\n",
    "    schema_path = download_schema(dataset_type, paths[0])\n",
    "    return paths, schema_path"
   ]
  },
  {
   "cell_type": "markdown",
   "id": "26903c6a",
   "metadata": {},
   "source": [
    "### dia_object"
   ]
  },
  {
   "cell_type": "code",
   "execution_count": 6,
   "id": "706c14b8",
   "metadata": {},
   "outputs": [
    {
     "name": "stdout",
     "output_type": "stream",
     "text": [
      "Found 175 dia_object parquet files\n",
      "Wrote dia_object schema to /sdf/home/s/stavar/linccf/ppdb/tmp/dia_object_schema.parquet\n"
     ]
    }
   ],
   "source": [
    "paths, schema_path = get_paths_and_schema(\"dia_object\")"
   ]
  },
  {
   "cell_type": "code",
   "execution_count": 7,
   "id": "202693d5",
   "metadata": {},
   "outputs": [
    {
     "name": "stderr",
     "output_type": "stream",
     "text": [
      "Planning  : 100%|███████████████████████████████████████████████████████████████████████████████████████████████████████████████████████████████████████████████████████████████████████████████████████████████████████████████████████████████████████████████████████████████████████████████████████████████████████████████| 4/4 [00:00<00:00, 344.94it/s]\n",
      "Mapping   : 100%|████████████████████████████████████████████████████████████████████████████████████████████████████████████████████████████████████████████████████████████████████████████████████████████████████████████████████████████████████████████████████████████████████████████████████████████████████████████████| 5/5 [00:07<00:00,  1.49s/it]\n",
      "Binning   : 100%|████████████████████████████████████████████████████████████████████████████████████████████████████████████████████████████████████████████████████████████████████████████████████████████████████████████████████████████████████████████████████████████████████████████████████████████████████████████████| 2/2 [00:42<00:00, 21.01s/it]\n",
      "Splitting : 100%|████████████████████████████████████████████████████████████████████████████████████████████████████████████████████████████████████████████████████████████████████████████████████████████████████████████████████████████████████████████████████████████████████████████████████████████████████████████████| 5/5 [00:09<00:00,  1.95s/it]\n",
      "Reducing  : 100%|████████████████████████████████████████████████████████████████████████████████████████████████████████████████████████████████████████████████████████████████████████████████████████████████████████████████████████████████████████████████████████████████████████████████████████████████████████████████| 1/1 [00:21<00:00, 21.70s/it]\n",
      "Finishing : 100%|████████████████████████████████████████████████████████████████████████████████████████████████████████████████████████████████████████████████████████████████████████████████████████████████████████████████████████████████████████████████████████████████████████████████████████████████████████████████| 5/5 [00:00<00:00,  5.70it/s]\n"
     ]
    }
   ],
   "source": [
    "args = ImportArguments(\n",
    "    output_path=TMP_DIR,\n",
    "    output_artifact_name=\"dia_object\",\n",
    "    input_file_list=paths[START_INDEX : START_INDEX + BATCH_SIZE],\n",
    "    file_reader=\"parquet\",\n",
    "    ra_column=\"ra\",\n",
    "    dec_column=\"dec\",\n",
    "    catalog_type=\"object\",\n",
    "    pixel_threshold=5_000_000,\n",
    "    # use_schema_file=schema_path,\n",
    "    simple_progress_bar=True,\n",
    "    resume=False,\n",
    ")\n",
    "pipeline_with_client(args, client)"
   ]
  },
  {
   "cell_type": "markdown",
   "id": "01eaa595",
   "metadata": {},
   "source": [
    "### dia_source"
   ]
  },
  {
   "cell_type": "code",
   "execution_count": 8,
   "id": "39bd6fb7",
   "metadata": {},
   "outputs": [
    {
     "name": "stdout",
     "output_type": "stream",
     "text": [
      "Found 175 dia_source parquet files\n",
      "Wrote dia_source schema to /sdf/home/s/stavar/linccf/ppdb/tmp/dia_source_schema.parquet\n"
     ]
    }
   ],
   "source": [
    "paths, schema_path = get_paths_and_schema(\"dia_source\")"
   ]
  },
  {
   "cell_type": "code",
   "execution_count": 9,
   "id": "8cd1fa9e",
   "metadata": {},
   "outputs": [
    {
     "name": "stderr",
     "output_type": "stream",
     "text": [
      "Planning  : 100%|███████████████████████████████████████████████████████████████████████████████████████████████████████████████████████████████████████████████████████████████████████████████████████████████████████████████████████████████████████████████████████████████████████████████████████████████████████████████| 4/4 [00:00<00:00, 150.51it/s]\n",
      "Mapping   : 100%|████████████████████████████████████████████████████████████████████████████████████████████████████████████████████████████████████████████████████████████████████████████████████████████████████████████████████████████████████████████████████████████████████████████████████████████████████████████████| 5/5 [00:09<00:00,  1.92s/it]\n",
      "Binning   : 100%|████████████████████████████████████████████████████████████████████████████████████████████████████████████████████████████████████████████████████████████████████████████████████████████████████████████████████████████████████████████████████████████████████████████████████████████████████████████████| 2/2 [00:41<00:00, 20.97s/it]\n",
      "Splitting : 100%|████████████████████████████████████████████████████████████████████████████████████████████████████████████████████████████████████████████████████████████████████████████████████████████████████████████████████████████████████████████████████████████████████████████████████████████████████████████████| 5/5 [00:10<00:00,  2.18s/it]\n",
      "Reducing  : 100%|████████████████████████████████████████████████████████████████████████████████████████████████████████████████████████████████████████████████████████████████████████████████████████████████████████████████████████████████████████████████████████████████████████████████████████████████████████████████| 1/1 [00:18<00:00, 18.81s/it]\n",
      "Finishing : 100%|████████████████████████████████████████████████████████████████████████████████████████████████████████████████████████████████████████████████████████████████████████████████████████████████████████████████████████████████████████████████████████████████████████████████████████████████████████████████| 5/5 [00:00<00:00,  5.37it/s]\n"
     ]
    }
   ],
   "source": [
    "args = ImportArguments(\n",
    "    output_path=TMP_DIR,\n",
    "    output_artifact_name=\"dia_source\",\n",
    "    input_file_list=paths[START_INDEX : START_INDEX + BATCH_SIZE],\n",
    "    file_reader=\"parquet\",\n",
    "    ra_column=\"ra\",\n",
    "    dec_column=\"dec\",\n",
    "    catalog_type=\"source\",\n",
    "    pixel_threshold=4_000_000,\n",
    "    # use_schema_file=schema_path,\n",
    "    simple_progress_bar=True,\n",
    "    resume=False,\n",
    ")\n",
    "pipeline_with_client(args, client)"
   ]
  },
  {
   "cell_type": "markdown",
   "id": "7c3ff896",
   "metadata": {},
   "source": [
    "### dia_forced_source"
   ]
  },
  {
   "cell_type": "code",
   "execution_count": 10,
   "id": "85e0986b",
   "metadata": {},
   "outputs": [
    {
     "name": "stdout",
     "output_type": "stream",
     "text": [
      "Found 90 dia_forced_source parquet files\n",
      "Wrote dia_forced_source schema to /sdf/home/s/stavar/linccf/ppdb/tmp/dia_forced_source_schema.parquet\n"
     ]
    }
   ],
   "source": [
    "paths, schema_path = get_paths_and_schema(\"dia_forced_source\")"
   ]
  },
  {
   "cell_type": "code",
   "execution_count": 11,
   "id": "8c09eee1",
   "metadata": {},
   "outputs": [
    {
     "name": "stderr",
     "output_type": "stream",
     "text": [
      "Planning  : 100%|███████████████████████████████████████████████████████████████████████████████████████████████████████████████████████████████████████████████████████████████████████████████████████████████████████████████████████████████████████████████████████████████████████████████████████████████████████████████| 4/4 [00:00<00:00, 505.61it/s]\n",
      "Mapping   : 100%|████████████████████████████████████████████████████████████████████████████████████████████████████████████████████████████████████████████████████████████████████████████████████████████████████████████████████████████████████████████████████████████████████████████████████████████████████████████████| 5/5 [00:00<00:00, 21.82it/s]\n",
      "Binning   : 100%|████████████████████████████████████████████████████████████████████████████████████████████████████████████████████████████████████████████████████████████████████████████████████████████████████████████████████████████████████████████████████████████████████████████████████████████████████████████████| 2/2 [00:40<00:00, 20.47s/it]\n",
      "Splitting : 100%|████████████████████████████████████████████████████████████████████████████████████████████████████████████████████████████████████████████████████████████████████████████████████████████████████████████████████████████████████████████████████████████████████████████████████████████████████████████████| 5/5 [00:09<00:00,  1.85s/it]\n",
      "Reducing  : 100%|████████████████████████████████████████████████████████████████████████████████████████████████████████████████████████████████████████████████████████████████████████████████████████████████████████████████████████████████████████████████████████████████████████████████████████████████████████████████| 1/1 [00:06<00:00,  6.65s/it]\n",
      "Finishing : 100%|████████████████████████████████████████████████████████████████████████████████████████████████████████████████████████████████████████████████████████████████████████████████████████████████████████████████████████████████████████████████████████████████████████████████████████████████████████████████| 5/5 [00:00<00:00,  8.08it/s]\n"
     ]
    }
   ],
   "source": [
    "args = ImportArguments(\n",
    "    output_path=TMP_DIR,\n",
    "    output_artifact_name=\"dia_forced_source\",\n",
    "    input_file_list=paths[START_INDEX : START_INDEX + BATCH_SIZE],\n",
    "    file_reader=\"parquet\",\n",
    "    ra_column=\"ra\",\n",
    "    dec_column=\"dec\",\n",
    "    catalog_type=\"source\",\n",
    "    pixel_threshold=25_000_000,\n",
    "    # use_schema_file=schema_path,\n",
    "    simple_progress_bar=True,\n",
    "    resume=False,\n",
    ")\n",
    "pipeline_with_client(args, client)"
   ]
  },
  {
   "cell_type": "code",
   "execution_count": 12,
   "id": "2d9093b9",
   "metadata": {},
   "outputs": [],
   "source": [
    "client.close()"
   ]
  }
 ],
 "metadata": {
  "kernelspec": {
   "display_name": "Python 3 (ipykernel)",
   "language": "python",
   "name": "python3"
  }
 },
 "nbformat": 4,
 "nbformat_minor": 5
}
