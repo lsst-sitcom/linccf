{
 "cells": [
  {
   "cell_type": "markdown",
   "id": "7ddc3b3d",
   "metadata": {},
   "source": [
    "## Nesting\n",
    "\n",
    "Nest source and forced source in the DIA object catalog."
   ]
  },
  {
   "cell_type": "code",
   "execution_count": null,
   "id": "0159e040",
   "metadata": {},
   "outputs": [],
   "source": [
    "import tempfile\n",
    "\n",
    "from dask.distributed import Client\n",
    "from hats_import import pipeline_with_client\n",
    "from hats_import.catalog import ImportArguments\n",
    "from hats_import.margin_cache.margin_cache_arguments import MarginCacheArguments\n",
    "from pathlib import Path"
   ]
  },
  {
   "cell_type": "code",
   "execution_count": null,
   "id": "71a7df84",
   "metadata": {},
   "outputs": [],
   "source": [
    "ppdb_dir = Path(\"/sdf/scratch/rubin/ppdb/data/lsstcam\")\n",
    "hats_dir = Path(\"/sdf/data/rubin/shared/lsdb_commissioning/hats/PPDB_v1\")"
   ]
  },
  {
   "cell_type": "code",
   "execution_count": null,
   "id": "ff7d7995",
   "metadata": {},
   "outputs": [],
   "source": [
    "tmp_path = tempfile.TemporaryDirectory()\n",
    "tmp_dir = Path(tmp_path.name)\n",
    "client = Client(n_workers=16, threads_per_worker=1, local_directory=tmp_dir)"
   ]
  },
  {
   "cell_type": "markdown",
   "id": "5cbeadb7",
   "metadata": {},
   "source": [
    "Prepare a margin cache for the source catalogs so that we can nest without losing data: "
   ]
  },
  {
   "cell_type": "code",
   "execution_count": null,
   "id": "df015cc8",
   "metadata": {},
   "outputs": [],
   "source": [
    "margin_radius_arcsec = 2"
   ]
  },
  {
   "cell_type": "code",
   "execution_count": null,
   "metadata": {},
   "outputs": [],
   "source": [
    "args = MarginCacheArguments(\n",
    "    input_catalog_path=hats_dir / \"dia_source\",\n",
    "    output_path=tmp_dir,\n",
    "    margin_threshold=margin_radius_arcsec,\n",
    "    output_artifact_name=f\"dia_source_{margin_radius_arcsec}arcs\",\n",
    "    simple_progress_bar=True,\n",
    "    resume=False,\n",
    ")\n",
    "pipeline_with_client(args, client)"
   ]
  },
  {
   "cell_type": "code",
   "execution_count": null,
   "metadata": {},
   "outputs": [],
   "source": [
    "args = MarginCacheArguments(\n",
    "    input_catalog_path=hats_dir / \"dia_forced_source\",\n",
    "    output_path=tmp_dir,\n",
    "    margin_threshold=margin_radius_arcsec,\n",
    "    output_artifact_name=f\"dia_forced_source_{margin_radius_arcsec}arcs\",\n",
    "    simple_progress_bar=True,\n",
    "    resume=False,\n",
    ")\n",
    "pipeline_with_client(args, client)"
   ]
  },
  {
   "cell_type": "markdown",
   "id": "026c7c8b",
   "metadata": {},
   "source": [
    "Load the base catalogs, nest, and then use `map_partitions` to sort the sources chronologically:"
   ]
  },
  {
   "cell_type": "code",
   "execution_count": null,
   "metadata": {},
   "outputs": [],
   "source": [
    "dia_object_cat = lsdb.read_hats(hats_dir / \"dia_object\")\n",
    "\n",
    "dia_source_cat = lsdb.read_hats(\n",
    "    hats_dir / \"dia_source\",\n",
    "    margin_cache=Path(tmp_dir) / f\"dia_source_{margin_radius_arcsec}arcs\",\n",
    ")\n",
    "\n",
    "dia_forced_source_cat = lsdb.read_hats(\n",
    "    hats_dir / \"dia_forced_source\",\n",
    "    margin_cache=Path(tmp_dir) / f\"dia_forced_source_{margin_radius_arcsec}arcs\",\n",
    ")"
   ]
  },
  {
   "cell_type": "code",
   "execution_count": null,
   "id": "97f28f77",
   "metadata": {},
   "outputs": [],
   "source": [
    "def sort_nested_sources(df, source_cols):\n",
    "    mjd_col = \"midpointMjdTai\"\n",
    "    for source_col in source_cols:\n",
    "        flat_sources = df[source_col].nest.to_flat()\n",
    "        df = df.drop(columns=[source_col])\n",
    "        df = df.add_nested(\n",
    "            flat_sources.sort_values([flat_sources.index.name, mjd_col]), source_col\n",
    "        )\n",
    "    return df"
   ]
  },
  {
   "cell_type": "code",
   "execution_count": null,
   "metadata": {},
   "outputs": [],
   "source": [
    "dia_object_cat_nested = dia_object_cat.join_nested(\n",
    "    dia_source_cat,\n",
    "    left_on=\"diaObjectId\",\n",
    "    right_on=\"diaObjectId\",\n",
    "    nested_column_name=\"diaSource\",\n",
    ").join_nested(\n",
    "    dia_forced_source_cat,\n",
    "    left_on=\"diaObjectId\",\n",
    "    right_on=\"diaObjectId\",\n",
    "    nested_column_name=\"diaForcedSource\",\n",
    ").map_partitions(\n",
    "    lambda x: sort_nested_sources(x, source_cols=[\"diaSource\", \"diaForcedSource\"])\n",
    ")\n",
    "dia_object_cat_nested"
   ]
  },
  {
   "cell_type": "markdown",
   "id": "89538b83",
   "metadata": {},
   "source": [
    "Save the result to disk, setting our desired default columns:"
   ]
  },
  {
   "cell_type": "code",
   "execution_count": null,
   "id": "4a8127d5",
   "metadata": {},
   "outputs": [],
   "source": [
    "hats_cols_default = \",\".join(\"\"\"dec\n",
    "decErr\n",
    "diaObjectId\n",
    "ra\n",
    "raErr\n",
    "u_psfFluxMean\n",
    "g_psfFluxMean\n",
    "r_psfFluxMean\n",
    "i_psfFluxMean\n",
    "z_psfFluxMean\n",
    "y_psfFluxMean\n",
    "u_psfFluxMeanErr\n",
    "g_psfFluxMeanErr\n",
    "r_psfFluxMeanErr\n",
    "i_psfFluxMeanErr\n",
    "z_psfFluxMeanErr\n",
    "y_psfFluxMeanErr\n",
    "nDiaSources\n",
    "validityStart\n",
    "diaSource.apFlux\n",
    "diaSource.apFluxErr\n",
    "diaSource.band\n",
    "diaSource.dec\n",
    "diaSource.decErr\n",
    "diaSource.detector\n",
    "diaSource.diaSourceId\n",
    "diaSource.isDipole\n",
    "diaSource.ixx\n",
    "diaSource.ixxPSF\n",
    "diaSource.iyy\n",
    "diaSource.iyyPSF\n",
    "diaSource.ixy\n",
    "diaSource.ixyPSF\n",
    "diaSource.midpointMjdTai\n",
    "diaSource.psfFlux\n",
    "diaSource.psfFluxErr\n",
    "diaSource.scienceFlux\n",
    "diaSource.scienceFluxErr\n",
    "diaSource.ra\n",
    "diaSource.raErr\n",
    "diaSource.visit\n",
    "diaSource.x\n",
    "diaSource.xErr\n",
    "diaSource.y\n",
    "diaSource.yErr\n",
    "diaSource.scienceMag\n",
    "diaSource.scienceMagErr\n",
    "diaForcedSource\n",
    "\"\"\".splitlines())"
   ]
  },
  {
   "cell_type": "code",
   "execution_count": null,
   "metadata": {},
   "outputs": [],
   "source": [
    "dia_object_cat_nested.to_hats(hats_dir / \"dia_object_lc_intermediate\", catalog_name=\"dia_object_lc\")"
   ]
  },
  {
   "cell_type": "markdown",
   "id": "e1b7f4a7",
   "metadata": {},
   "source": [
    "Finally, reimport with better row group strategy:"
   ]
  },
  {
   "cell_type": "code",
   "execution_count": null,
   "id": "c62d9213",
   "metadata": {},
   "outputs": [],
   "source": [
    "args = ImportArguments.reimport_from_hats(\n",
    "    hats_dir / \"dia_object_lc_intermediate\",\n",
    "    output_dir=hats_dir,\n",
    "    highest_healpix_order=11,\n",
    "    pixel_threshold=15_000,\n",
    "    skymap_alt_orders=[2, 4, 6],\n",
    "    row_group_kwargs={\"subtile_order_delta\": 1},\n",
    "    simple_progress_bar=True,\n",
    "    resume=False,\n",
    ")\n",
    "pipeline_with_client(args, client)"
   ]
  },
  {
   "cell_type": "code",
   "execution_count": null,
   "id": "99643b90",
   "metadata": {},
   "outputs": [],
   "source": [
    "%rm -rf $hats_dir/dia_object\n",
    "%rm -rf $hats_dir/dia_source\n",
    "%rm -rf $hats_dir/dia_forced_source\n",
    "%rm -rf $hats_dir/dia_object_lc_intermediate"
   ]
  },
  {
   "cell_type": "code",
   "execution_count": null,
   "id": "f3ddafcb",
   "metadata": {},
   "outputs": [],
   "source": [
    "client.close()"
   ]
  }
 ],
 "metadata": {
  "kernelspec": {
   "display_name": "Python 3 (ipykernel)",
   "language": "python",
   "name": "python3"
  },
  "language_info": {
   "codemirror_mode": {
    "name": "ipython",
    "version": 3
   },
   "file_extension": ".py",
   "mimetype": "text/x-python",
   "name": "python",
   "nbconvert_exporter": "python",
   "pygments_lexer": "ipython3",
   "version": "3.12.11"
  }
 },
 "nbformat": 4,
 "nbformat_minor": 5
}
